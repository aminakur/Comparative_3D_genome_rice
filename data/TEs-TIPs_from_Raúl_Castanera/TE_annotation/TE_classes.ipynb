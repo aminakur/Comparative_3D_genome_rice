{
 "cells": [
  {
   "cell_type": "markdown",
   "metadata": {},
   "source": [
    "# Different classes of TEs<br>\n",
    "### NPB genome"
   ]
  },
  {
   "cell_type": "code",
   "execution_count": 5,
   "metadata": {},
   "outputs": [
    {
     "name": "stdout",
     "output_type": "stream",
     "text": [
      "411455 npb_TEs.bed\n"
     ]
    }
   ],
   "source": [
    "wc -l npb_TEs.bed"
   ]
  },
  {
   "cell_type": "markdown",
   "metadata": {},
   "source": [
    "Creating .bed files with different classes of TEs<br>\n",
    "1. DNA (including MITEs)<br>\n",
    "2. LTR retrotransposons: gypsy<br>\n",
    "3.                       copia\n",
    "4. Non-LTR retrotransposons: LINE<br>\n",
    "5.                           SINE<br>\n",
    "6. Rest retrotransposons: LTR, Evirus, Centro/tandem, Satellite/rice"
   ]
  },
  {
   "cell_type": "code",
   "execution_count": 6,
   "metadata": {},
   "outputs": [],
   "source": [
    "grep -iE 'DNA|MITE' npb_TEs.bed > npb_dna.bed\n",
    "grep -iE 'gypsy' npb_TEs.bed > npb_gypsy.bed\n",
    "grep -iE 'copia' npb_TEs.bed > npb_copia.bed\n",
    "grep -iE 'LINE' npb_TEs.bed > npb_line.bed\n",
    "grep -iE 'SINE' npb_TEs.bed > npb_sine.bed\n",
    "grep -viE 'DNA|MITE|gypsy|copia|LINE|SINE' npb_TEs.bed > npb_rest_te.bed"
   ]
  },
  {
   "cell_type": "code",
   "execution_count": 7,
   "metadata": {},
   "outputs": [
    {
     "name": "stdout",
     "output_type": "stream",
     "text": [
      "305270 npb_dna.bed\n",
      "53810 npb_gypsy.bed\n",
      "15823 npb_copia.bed\n",
      "19575 npb_line.bed\n",
      "10438 npb_sine.bed\n",
      "6539 npb_rest_retro_te.bed\n"
     ]
    }
   ],
   "source": [
    "wc -l npb_dna.bed\n",
    "wc -l npb_gypsy.bed\n",
    "wc -l npb_copia.bed\n",
    "wc -l npb_line.bed\n",
    "wc -l npb_sine.bed\n",
    "wc -l npb_rest_retro_te.bed"
   ]
  },
  {
   "cell_type": "code",
   "execution_count": 8,
   "metadata": {},
   "outputs": [],
   "source": [
    "#calculating how many tes of each class per 500bp > .bedgraph"
   ]
  },
  {
   "cell_type": "code",
   "execution_count": 9,
   "metadata": {},
   "outputs": [],
   "source": [
    "module load bedtools/intel/2.29.2"
   ]
  },
  {
   "cell_type": "code",
   "execution_count": 10,
   "metadata": {},
   "outputs": [],
   "source": [
    "bedtools makewindows -b /scratch/ak8725/NPB_new/NPB_chr_coords.genome -w 500 > NPB_500bp_windows.bed"
   ]
  },
  {
   "cell_type": "code",
   "execution_count": 12,
   "metadata": {
    "collapsed": true,
    "jupyter": {
     "outputs_hidden": true
    }
   },
   "outputs": [
    {
     "name": "stdout",
     "output_type": "stream",
     "text": [
      "***** WARNING: File npb_dna.bed has a record where naming convention (leading zero) is inconsistent with other files:\n",
      "chr10\t3687\t4511\tOs0294;DNAauto/CACTG\t4715\t-\n",
      "\n",
      "***** WARNING: File npb_dna.bed has a record where naming convention (leading zero) is inconsistent with other files:\n",
      "chr10\t3687\t4511\tOs0294;DNAauto/CACTG\t4715\t-\n",
      "\n",
      "***** WARNING: File npb_gypsy.bed has a record where naming convention (leading zero) is inconsistent with other files:\n",
      "chr10\t4596\t5091\tOs0119_LTR;LTR/Gypsy\t836\t+\n",
      "\n",
      "***** WARNING: File npb_gypsy.bed has a record where naming convention (leading zero) is inconsistent with other files:\n",
      "chr10\t4596\t5091\tOs0119_LTR;LTR/Gypsy\t836\t+\n",
      "\n",
      "***** WARNING: File npb_copia.bed has a record where naming convention (leading zero) is inconsistent with other files:\n",
      "chr10\t18496\t20056\tOs0458_LTR;LTR/Copia\t11963\t+\n",
      "\n",
      "***** WARNING: File npb_copia.bed has a record where naming convention (leading zero) is inconsistent with other files:\n",
      "chr10\t18496\t20056\tOs0458_LTR;LTR/Copia\t11963\t+\n",
      "\n",
      "***** WARNING: File npb_line.bed has a record where naming convention (leading zero) is inconsistent with other files:\n",
      "chr10\t5750\t5823\tOs1926;LINE/unknown\t370\t+\n",
      "\n",
      "***** WARNING: File npb_line.bed has a record where naming convention (leading zero) is inconsistent with other files:\n",
      "chr10\t5750\t5823\tOs1926;LINE/unknown\t370\t+\n",
      "\n",
      "***** WARNING: File npb_sine.bed has a record where naming convention (leading zero) is inconsistent with other files:\n",
      "chr10\t112918\t113038\tOs1815;SINE/unknown\t281\t+\n",
      "\n",
      "***** WARNING: File npb_sine.bed has a record where naming convention (leading zero) is inconsistent with other files:\n",
      "chr10\t112918\t113038\tOs1815;SINE/unknown\t281\t+\n",
      "\n",
      "***** WARNING: File npb_rest_retro_te.bed has a record where naming convention (leading zero) is inconsistent with other files:\n",
      "chr10\t107847\t108048\tOs0281_LTR;LTR/TRIM\t935\t-\n",
      "\n",
      "***** WARNING: File npb_rest_retro_te.bed has a record where naming convention (leading zero) is inconsistent with other files:\n",
      "chr10\t107847\t108048\tOs0281_LTR;LTR/TRIM\t935\t-\n",
      "\n"
     ]
    }
   ],
   "source": [
    "bedtools intersect -a NPB_500bp_windows.bed -b npb_dna.bed -wao > npb_dna_in_windows.bed\n",
    "bedtools intersect -a NPB_500bp_windows.bed -b npb_gypsy.bed -wao > npb_gypsy_in_windows.bed\n",
    "bedtools intersect -a NPB_500bp_windows.bed -b npb_copia.bed -wao > npb_copia_in_windows.bed\n",
    "bedtools intersect -a NPB_500bp_windows.bed -b npb_line.bed -wao > npb_line_in_windows.bed\n",
    "bedtools intersect -a NPB_500bp_windows.bed -b npb_sine.bed -wao > npb_sine_in_windows.bed\n",
    "bedtools intersect -a NPB_500bp_windows.bed -b npb_rest_retro_te.bed -wao > npb_rest_retro_te_in_windows.bed"
   ]
  },
  {
   "cell_type": "code",
   "execution_count": 33,
   "metadata": {},
   "outputs": [],
   "source": [
    "cut -f 1-3,10 npb_rest_retro_te_in_windows.bed >  npb_rest_retro_te_in_windows1.bed\n",
    "bedtools groupby -g 1,2,3 -c 4 -o sum -i npb_rest_retro_te_in_windows1.bed > npb_rest_retro_te_in_windows_grouped.bed\n",
    "awk '{ $4 = $4 / 500; print }' npb_rest_retro_te_in_windows_grouped.bed > npb_rest_retro_te_per_500bp.bedgraph\n",
    "mv npb_rest_retro_te_per_500bp.bedgraph /scratch/ak8725/npb_feature_tracks"
   ]
  },
  {
   "cell_type": "code",
   "execution_count": 36,
   "metadata": {},
   "outputs": [
    {
     "name": "stdout",
     "output_type": "stream",
     "text": [
      "npb_GC_content_per_500bp.bedgraph  npb_line_per_500bp.bedgraph\n",
      "npb_copia_per_500bp.bedgraph\t   npb_rest_retro_te_per_500bp.bedgraph\n",
      "npb_dna_te_per_500bp.bedgraph\t   npb_sine_per_500bp.bedgraph\n",
      "npb_genes_per_500bp.bedgraph\t   npb_te_per_500bp.bedgraph\n",
      "npb_gypsy_per_500bp.bedgraph\n"
     ]
    }
   ],
   "source": [
    "ls /scratch/ak8725/npb_feature_tracks"
   ]
  },
  {
   "cell_type": "code",
   "execution_count": null,
   "metadata": {},
   "outputs": [],
   "source": []
  }
 ],
 "metadata": {
  "kernelspec": {
   "display_name": "Bash",
   "language": "bash",
   "name": "bash"
  },
  "language_info": {
   "codemirror_mode": "shell",
   "file_extension": ".sh",
   "mimetype": "text/x-sh",
   "name": "bash"
  }
 },
 "nbformat": 4,
 "nbformat_minor": 4
}
