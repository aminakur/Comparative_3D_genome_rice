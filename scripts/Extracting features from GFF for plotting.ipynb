{
 "cells": [
  {
   "cell_type": "markdown",
   "metadata": {},
   "source": [
    "# 5'-UTR"
   ]
  },
  {
   "cell_type": "code",
   "execution_count": 22,
   "metadata": {
    "collapsed": true,
    "jupyter": {
     "outputs_hidden": true
    }
   },
   "outputs": [
    {
     "name": "stdout",
     "output_type": "stream",
     "text": [
      "Chr08\tNAM\tgene\t5387535\t5392729\t.\t-\t.\tID=gene:OsAzu_08g0005870;biotype=protein_coding;logic_name=cshl_gene;Tag=NAM\n",
      "Chr08\tNAM\tmRNA\t5388142\t5392670\t.\t-\t.\tID=transcript:OsAzu_08g0005870.01;Parent=gene:OsAzu_08g0005870;biotype=protein_coding;transcript_id=OsAzu_08g0005870.01;canonical_transcript=1;Tag=NAM\n",
      "Chr08\tNAM\texon\t5388142\t5390830\t.\t-\t.\tParent=transcript:OsAzu_08g0005870.01;Name=OsAzu_08g0005870.01.exon.1;ensembl_end_phase=-1;ensembl_phase=-1;exon_id=OsAzu_08g0005870.01.exon.1;rank=2;Tag=NAM\n",
      "Chr08\tNAM\texon\t5392180\t5392670\t.\t-\t.\tParent=transcript:OsAzu_08g0005870.01;Name=OsAzu_08g0005870.01.exon.2;ensembl_end_phase=2;ensembl_phase=2;exon_id=OsAzu_08g0005870.01.exon.2;rank=1;Tag=NAM\n",
      "Chr08\tNAM\tCDS\t5388247\t5390830\t.\t-\t1\tID=CDS:OsAzu_08g0005870.01;Parent=transcript:OsAzu_08g0005870.01;protein_id=OsAzu_08g0005870.01;Tag=NAM\n",
      "Chr08\tNAM\tCDS\t5392180\t5392670\t.\t-\t0\tID=CDS:OsAzu_08g0005870.01;Parent=transcript:OsAzu_08g0005870.01;protein_id=OsAzu_08g0005870.01;Tag=NAM\n",
      "Chr08\tNAM\tthree_prime_UTR\t5388142\t5388246\t.\t-\t.\tParent=transcript:OsAzu_08g0005870.01;Tag=NAM\n",
      "Chr08\tTAMA\tmRNA\t5387535\t5392729\t.\t-\t.\tID=transcript:OsAzu_08g0005870.02;Parent=gene:OsAzu_08g0005870;transcript_id=OsAzu_08g0005870.02;Tag=IsoSeq:G13167.1;TagType=novel_not_in_catalog;Source=Azucena.leaf_G8473.1\n",
      "Chr08\tTAMA\texon\t5392168\t5392729\t.\t-\t.\tParent=transcript:OsAzu_08g0005870.02;Name=OsAzu_08g0005870.02;exon_id=OsAzu_08g0005870.02.exon.1;rank=1;Tag=IsoSeq:G13167.1;TagType=novel_not_in_catalog;Source=Azucena.leaf_G8473.1;prot_id \"UniRef90_A0A0P0XCM1\";degrade_flag \"full_length\";match_flag \"bad_match\"\n",
      "Chr08\tTAMA\texon\t5387535\t5390830\t.\t-\t.\tParent=transcript:OsAzu_08g0005870.02;Name=OsAzu_08g0005870.02;exon_id=OsAzu_08g0005870.02.exon.2;rank=2;Tag=IsoSeq:G13167.1;TagType=novel_not_in_catalog;Source=Azucena.leaf_G8473.1;prot_id \"UniRef90_A0A0P0XCM1\";degrade_flag \"full_length\";match_flag \"bad_match\"\n"
     ]
    }
   ],
   "source": [
    "head Azucena.gff"
   ]
  },
  {
   "cell_type": "code",
   "execution_count": 131,
   "metadata": {},
   "outputs": [],
   "source": [
    "#extract all five_prime_UTR\n",
    "awk -F'\\t' '$3 ~ /five_prime_UTR/' Azucena.gff > azucena_5UTR.gff"
   ]
  },
  {
   "cell_type": "code",
   "execution_count": 136,
   "metadata": {},
   "outputs": [
    {
     "name": "stdout",
     "output_type": "stream",
     "text": [
      "47861 azucena_5UTR.bed\n"
     ]
    }
   ],
   "source": [
    "wc -l azucena_5UTR.bed"
   ]
  },
  {
   "cell_type": "code",
   "execution_count": 135,
   "metadata": {},
   "outputs": [],
   "source": [
    "awk '{print $1, $4-1, $5}' azucena_5UTR.gff > azucena_5UTR.bed"
   ]
  },
  {
   "cell_type": "code",
   "execution_count": 138,
   "metadata": {},
   "outputs": [],
   "source": [
    "sort -k1,1 -k2,2n -k3,3n azucena_5UTR.bed -o azucena_5UTR.bed"
   ]
  },
  {
   "cell_type": "code",
   "execution_count": 139,
   "metadata": {
    "collapsed": true,
    "jupyter": {
     "outputs_hidden": true
    }
   },
   "outputs": [
    {
     "name": "stdout",
     "output_type": "stream",
     "text": [
      "Chr01 2325 2327\n",
      "Chr01 2759 2814\n",
      "Chr01 10736 11163\n",
      "Chr01 12076 12139\n",
      "Chr01 15657 15964\n",
      "Chr01 15765 15766\n",
      "Chr01 22199 22623\n",
      "Chr01 22206 22597\n",
      "Chr01 26494 26594\n",
      "Chr01 26494 26594\n"
     ]
    }
   ],
   "source": [
    "head azucena_5UTR.bed"
   ]
  },
  {
   "cell_type": "code",
   "execution_count": 143,
   "metadata": {
    "collapsed": true,
    "jupyter": {
     "outputs_hidden": true
    }
   },
   "outputs": [
    {
     "name": "stdout",
     "output_type": "stream",
     "text": [
      "chr12\t27463344\t27463386\n",
      "chr12\t27464694\t27464769\n",
      "chr12\t27464694\t27464915\n",
      "chr12\t27464694\t27464915\n",
      "chr12\t27475702\t27475706\n",
      "chr12\t27475802\t27476357\n",
      "chr12\t27476261\t27476386\n",
      "chr12\t27476261\t27476386\n",
      "chr12\t27476261\t27476386\n",
      "chrUN-Ctg41\t25208\t25418\n"
     ]
    }
   ],
   "source": [
    "tail azucena_5UTR.bed"
   ]
  },
  {
   "cell_type": "code",
   "execution_count": 147,
   "metadata": {},
   "outputs": [],
   "source": [
    "mv azucena_5UTR1.bed azucena_5UTR.bed"
   ]
  },
  {
   "cell_type": "code",
   "execution_count": 10,
   "metadata": {},
   "outputs": [
    {
     "name": "stdout",
     "output_type": "stream",
     "text": [
      "head: cannot open 'azucena_5UTR.bed' for reading: No such file or directory\n"
     ]
    }
   ],
   "source": [
    "!head azucena_5UTR.bed"
   ]
  },
  {
   "cell_type": "code",
   "execution_count": 1,
   "metadata": {},
   "outputs": [],
   "source": [
    "#statistics on the genomic intervals under study\n",
    "import numpy as np\n",
    "\n",
    "def bed_stats(bed_file):\n",
    "    # Initialize variables\n",
    "    sizes = []\n",
    "    total_size = 0\n",
    "\n",
    "    # Read in bed file and calculate sizes\n",
    "    with open(bed_file, 'r') as f:\n",
    "        for line in f:\n",
    "            fields = line.strip().split('\\t')\n",
    "            start, end = int(fields[1]), int(fields[2])\n",
    "            size = end - start\n",
    "            sizes.append(size)\n",
    "            total_size += size\n",
    "\n",
    "    # Calculate median, minimum, maximum, and quartile values\n",
    "    n = len(sizes)\n",
    "    median = sorted(sizes)[n // 2] if n % 2 == 1 else sum(sorted(sizes)[n // 2 - 1:n // 2 + 1]) / 2\n",
    "    minimum = min(sizes)\n",
    "    maximum = max(sizes)\n",
    "    q1 = np.percentile(sizes, 25)\n",
    "    q3 = np.percentile(sizes, 75)\n",
    "\n",
    "    # Print results\n",
    "    print(\"Median size: {}\".format(median))\n",
    "    print(\"Minimum size: {}\".format(minimum))\n",
    "    print(\"Maximum size: {}\".format(maximum))\n",
    "    print(\"First quartile: {}\".format(q1))\n",
    "    print(\"Third quartile: {}\".format(q3))"
   ]
  },
  {
   "cell_type": "code",
   "execution_count": 15,
   "metadata": {},
   "outputs": [
    {
     "name": "stdout",
     "output_type": "stream",
     "text": [
      "Median size: 114.0\n",
      "Minimum size: 1\n",
      "Maximum size: 4545\n",
      "First quartile: 59.0\n",
      "Third quartile: 209.0\n"
     ]
    }
   ],
   "source": [
    "bed_stats('/scratch/ak8725/az_mrg/azucena_5UTR.bed')"
   ]
  },
  {
   "cell_type": "code",
   "execution_count": 9,
   "metadata": {},
   "outputs": [],
   "source": [
    "cd /scratch/ak8725/az_mrg"
   ]
  },
  {
   "cell_type": "code",
   "execution_count": 16,
   "metadata": {},
   "outputs": [],
   "source": [
    "!bedtools makewindows -b ../ipynb\\ scripts\\ and\\ plots/az_chr_coord.bed -w 1000 > azucena_1kb_windows.bed"
   ]
  },
  {
   "cell_type": "code",
   "execution_count": 7,
   "metadata": {
    "collapsed": true,
    "jupyter": {
     "outputs_hidden": true
    }
   },
   "outputs": [
    {
     "name": "stdout",
     "output_type": "stream",
     "text": [
      "***** WARNING: File azucena_5UTR.bed has a record where naming convention (leading zero) is inconsistent with other files:\n",
      "chr10\t49325\t49350\n",
      "\n",
      "***** WARNING: File azucena_5UTR.bed has a record where naming convention (leading zero) is inconsistent with other files:\n",
      "chr10\t49325\t49350\n",
      "\n"
     ]
    }
   ],
   "source": [
    "bedtools intersect -a azucena_200bp_windows.bed -b azucena_5UTR.bed -wao > azucena_5UTR_in_windows.bed"
   ]
  },
  {
   "cell_type": "code",
   "execution_count": 10,
   "metadata": {},
   "outputs": [],
   "source": [
    "rm azucena_5UTR_in_windows.bed"
   ]
  },
  {
   "cell_type": "code",
   "execution_count": 11,
   "metadata": {},
   "outputs": [],
   "source": [
    "mv azucena_5UTR_in_windows1.bed azucena_5UTR_in_windows.bed"
   ]
  },
  {
   "cell_type": "code",
   "execution_count": 9,
   "metadata": {},
   "outputs": [],
   "source": [
    "cut -f 1-3,7 azucena_5UTR_in_windows.bed >  azucena_5UTR_in_windows1.bed"
   ]
  },
  {
   "cell_type": "code",
   "execution_count": 12,
   "metadata": {
    "collapsed": true,
    "jupyter": {
     "outputs_hidden": true
    }
   },
   "outputs": [
    {
     "name": "stdout",
     "output_type": "stream",
     "text": [
      "chr01\t0\t200\t0\n",
      "chr01\t200\t400\t0\n",
      "chr01\t400\t600\t0\n",
      "chr01\t600\t800\t0\n",
      "chr01\t800\t1000\t0\n",
      "chr01\t1000\t1200\t0\n",
      "chr01\t1200\t1400\t0\n",
      "chr01\t1400\t1600\t0\n",
      "chr01\t1600\t1800\t0\n",
      "chr01\t1800\t2000\t0\n"
     ]
    }
   ],
   "source": [
    "head azucena_5UTR_in_windows.bed"
   ]
  },
  {
   "cell_type": "code",
   "execution_count": 13,
   "metadata": {},
   "outputs": [],
   "source": [
    "bedtools groupby -g 1,2,3 -c 4 -o sum -i azucena_5UTR_in_windows.bed > azucena_5UTR_in_windows_grouped.bed"
   ]
  },
  {
   "cell_type": "code",
   "execution_count": 14,
   "metadata": {},
   "outputs": [],
   "source": [
    "awk '{ $4 = $4 / 1000; print }' azucena_5UTR_in_windows_grouped.bed > azucena_5UTR_in_windows_fr.bed"
   ]
  },
  {
   "cell_type": "code",
   "execution_count": 20,
   "metadata": {},
   "outputs": [],
   "source": [
    "mv azucena_5UTR_in_windows_fr.bed azucena_5UTR_in_windows.bedgraph"
   ]
  },
  {
   "cell_type": "code",
   "execution_count": 21,
   "metadata": {},
   "outputs": [],
   "source": [
    "/share/apps/kent/385/bedGraphToBigWig azucena_5UTR_in_windows.bedgraph azucena.chrom.sizes_TRUE /scratch/ak8725/az_mrg/fitcons/azucena_5UTR_per_200bp.bw"
   ]
  },
  {
   "cell_type": "markdown",
   "metadata": {},
   "source": [
    "# promoter = 1kb upstream of 'gene' feature\n"
   ]
  },
  {
   "cell_type": "code",
   "execution_count": 5,
   "metadata": {},
   "outputs": [],
   "source": [
    "module load bedops/intel/2.4.39"
   ]
  },
  {
   "cell_type": "code",
   "execution_count": 25,
   "metadata": {},
   "outputs": [],
   "source": [
    "gff2bed < azucena_genes.gff > azucena_genes.bed"
   ]
  },
  {
   "cell_type": "code",
   "execution_count": 31,
   "metadata": {},
   "outputs": [],
   "source": [
    "sed -i 's/^Chr/chr/' azucena_genes.bed"
   ]
  },
  {
   "cell_type": "code",
   "execution_count": 35,
   "metadata": {},
   "outputs": [],
   "source": [
    "grep -v \"chrUN\" azucena_genes.bed > temp.bed && mv temp.bed azucena_genes.bed"
   ]
  },
  {
   "cell_type": "code",
   "execution_count": 39,
   "metadata": {
    "collapsed": true,
    "jupyter": {
     "outputs_hidden": true
    }
   },
   "outputs": [
    {
     "name": "stdout",
     "output_type": "stream",
     "text": [
      "chr01\t2325\t10183\tgene:OsAzu_01g0000010\t.\t+\tNAM\tgene\t.\tID=gene:OsAzu_01g0000010;biotype=protein_coding;logic_name=cshl_gene;Tag=NAM\n",
      "chr01\t10736\t11801\tgene:OsAzu_01g0000020\t.\t+\tNAM\tgene\t.\tID=gene:OsAzu_01g0000020;biotype=protein_coding;logic_name=cshl_gene;Tag=NAM\n",
      "chr01\t10737\t11793\tgene:OsAzu_01g0000030\t.\t-\tNAM\tgene\t.\tID=gene:OsAzu_01g0000030;biotype=protein_coding;logic_name=cshl_gene;Tag=NAM\n",
      "chr01\t12076\t15281\tgene:OsAzu_01g0000040\t.\t+\tNAM\tgene\t.\tID=gene:OsAzu_01g0000040;biotype=protein_coding;logic_name=cshl_gene;Tag=NAM\n",
      "chr01\t15657\t19273\tgene:OsAzu_01g0000050\t.\t+\tNAM\tgene\t.\tID=gene:OsAzu_01g0000050;biotype=protein_coding;logic_name=cshl_gene;Tag=NAM\n",
      "chr01\t22199\t26348\tgene:OsAzu_01g0000060\t.\t+\tNAM\tgene\t.\tID=gene:OsAzu_01g0000060;biotype=protein_coding;logic_name=cshl_gene;Tag=NAM\n",
      "chr01\t26494\t28061\tgene:OsAzu_01g0000070\t.\t+\tNAM\tgene\t.\tID=gene:OsAzu_01g0000070;biotype=protein_coding;logic_name=cshl_gene;Tag=NAM\n",
      "chr01\t29224\t33894\tgene:OsAzu_01g0000080\t.\t+\tNAM\tgene\t.\tID=gene:OsAzu_01g0000080;biotype=protein_coding;logic_name=cshl_gene;Tag=NAM\n",
      "chr01\t35014\t40593\tgene:OsAzu_01g0000090\t.\t+\tNAM\tgene\t.\tID=gene:OsAzu_01g0000090;biotype=protein_coding;logic_name=cshl_gene;Tag=NAM\n",
      "chr01\t56572\t57695\tgene:OsAzu_01g0000100\t.\t+\tNAM\tgene\t.\tID=gene:OsAzu_01g0000100;biotype=protein_coding;logic_name=cshl_gene;Tag=NAM\n"
     ]
    }
   ],
   "source": [
    "head azucena_genes.bed"
   ]
  },
  {
   "cell_type": "code",
   "execution_count": 63,
   "metadata": {},
   "outputs": [],
   "source": [
    "awk '{if ($6 == \"+\") print $1, $2-1000, $2; else if ($6 == \"-\") print $1, $3, $3+1000;}' azucena_genes.bed > azucena_1kb_promoter.bed"
   ]
  },
  {
   "cell_type": "code",
   "execution_count": 64,
   "metadata": {},
   "outputs": [],
   "source": [
    "sort -k1,1 -k2,2n -k3,3n azucena_1kb_promoter.bed > temp.bed && mv temp.bed azucena_1kb_promoter.bed"
   ]
  },
  {
   "cell_type": "code",
   "execution_count": 8,
   "metadata": {
    "collapsed": true,
    "jupyter": {
     "outputs_hidden": true
    }
   },
   "outputs": [
    {
     "name": "stdout",
     "output_type": "stream",
     "text": [
      "chr01\t1325\t2325\n",
      "chr01\t9736\t10736\n",
      "chr01\t11076\t12076\n",
      "chr01\t11793\t12793\n",
      "chr01\t14657\t15657\n",
      "chr01\t21199\t22199\n",
      "chr01\t25494\t26494\n",
      "chr01\t28224\t29224\n",
      "chr01\t34014\t35014\n",
      "chr01\t55572\t56572\n"
     ]
    }
   ],
   "source": [
    "head azucena_1kb_promoter.bed"
   ]
  },
  {
   "cell_type": "code",
   "execution_count": 10,
   "metadata": {},
   "outputs": [],
   "source": [
    "mv azucena_1kb_promoterT.bed azucena_1kb_promoter.bed "
   ]
  },
  {
   "cell_type": "code",
   "execution_count": 3,
   "metadata": {},
   "outputs": [
    {
     "name": "stdout",
     "output_type": "stream",
     "text": [
      "Median size: 1000\n",
      "Minimum size: 1000\n",
      "Maximum size: 1000\n"
     ]
    }
   ],
   "source": [
    "bed_stats('/scratch/ak8725/az_mrg/azucena_1kb_promoter.bed')"
   ]
  },
  {
   "cell_type": "code",
   "execution_count": 6,
   "metadata": {},
   "outputs": [],
   "source": [
    "cd /scratch/ak8725/az_mrg"
   ]
  },
  {
   "cell_type": "code",
   "execution_count": null,
   "metadata": {},
   "outputs": [],
   "source": [
    "#sliding window 10kb, step size 1kb"
   ]
  },
  {
   "cell_type": "code",
   "execution_count": 30,
   "metadata": {},
   "outputs": [],
   "source": [
    "bedtools makewindows -b ../ipynb\\ scripts\\ and\\ plots/az_chr_coord.bed -w 2000 > azucena_2kb_windows.bed"
   ]
  },
  {
   "cell_type": "code",
   "execution_count": 10,
   "metadata": {},
   "outputs": [],
   "source": [
    "module load bedtools/intel/2.29.2"
   ]
  },
  {
   "cell_type": "code",
   "execution_count": 31,
   "metadata": {
    "collapsed": true,
    "jupyter": {
     "outputs_hidden": true
    }
   },
   "outputs": [
    {
     "name": "stdout",
     "output_type": "stream",
     "text": [
      "***** WARNING: File azucena_1kb_promoter.bed has a record where naming convention (leading zero) is inconsistent with other files:\n",
      "chr10\t50143\t51143\n",
      "\n",
      "***** WARNING: File azucena_1kb_promoter.bed has a record where naming convention (leading zero) is inconsistent with other files:\n",
      "chr10\t50143\t51143\n",
      "\n"
     ]
    }
   ],
   "source": [
    "bedtools intersect -a azucena_2kb_windows.bed -b azucena_1kb_promoter.bed -wao > azucena_promoter_in_windows.bed"
   ]
  },
  {
   "cell_type": "code",
   "execution_count": 32,
   "metadata": {},
   "outputs": [],
   "source": [
    "cut -f 1-3,7 azucena_promoter_in_windows.bed >  azucena_prom_in_windows1.bed"
   ]
  },
  {
   "cell_type": "code",
   "execution_count": 36,
   "metadata": {
    "collapsed": true,
    "jupyter": {
     "outputs_hidden": true
    }
   },
   "outputs": [
    {
     "name": "stdout",
     "output_type": "stream",
     "text": [
      "chr01 0 2000 0.3375\n",
      "chr01 2000 4000 0.1625\n",
      "chr01 4000 6000 0\n",
      "chr01 6000 8000 0\n",
      "chr01 8000 10000 0.132\n",
      "chr01 10000 12000 0.9335\n",
      "chr01 12000 14000 0.4345\n",
      "chr01 14000 16000 0.5\n",
      "chr01 16000 18000 0\n",
      "chr01 18000 20000 0\n"
     ]
    }
   ],
   "source": [
    "head azucena_prom_in_windows.bedgraph"
   ]
  },
  {
   "cell_type": "code",
   "execution_count": 33,
   "metadata": {},
   "outputs": [],
   "source": [
    "bedtools groupby -g 1,2,3 -c 4 -o sum -i azucena_prom_in_windows1.bed > azucena_prom_in_windows_grouped.bed"
   ]
  },
  {
   "cell_type": "code",
   "execution_count": 34,
   "metadata": {},
   "outputs": [],
   "source": [
    "awk '{ $4 = $4 / 2000; print }' azucena_prom_in_windows_grouped.bed > azucena_prom_in_windows_fr.bed"
   ]
  },
  {
   "cell_type": "code",
   "execution_count": 35,
   "metadata": {},
   "outputs": [],
   "source": [
    "mv azucena_prom_in_windows_fr.bed azucena_prom_in_windows.bedgraph"
   ]
  },
  {
   "cell_type": "code",
   "execution_count": 37,
   "metadata": {},
   "outputs": [],
   "source": [
    "/share/apps/kent/385/bedGraphToBigWig azucena_prom_in_windows.bedgraph azucena.chrom.sizes_TRUE /scratch/ak8725/az_mrg/fitcons/azucena_1kb_promoter_per_2kb.bw"
   ]
  },
  {
   "cell_type": "code",
   "execution_count": 24,
   "metadata": {},
   "outputs": [],
   "source": [
    "#make tab-delimited\n",
    "tr ' ' '\\t' < azucena_prom_in_windows.bedgraph > azucena_prom_in_windows.bedgraphT"
   ]
  },
  {
   "cell_type": "markdown",
   "metadata": {},
   "source": [
    "# TE all from Raul Castaneda"
   ]
  },
  {
   "cell_type": "code",
   "execution_count": 39,
   "metadata": {},
   "outputs": [],
   "source": [
    "sed -i 's/CM020633.1/chr01/g; s/CM020634.1/chr02/g; s/CM020635.1/chr03/g; s/CM020636.1/chr04/g; s/CM020637.1/chr05/g; s/CM020638.1/chr06/g; s/CM020639.1/chr07/g; s/CM020640.1/chr08/g; s/CM020641.1/chr09/g; s/CM020642.1/chr10/g; s/CM020643.1/chr11/g; s/CM020644.1/chr12/g' /scratch/ak8725/SV-TIPs\\ from\\ Raúl\\ Castanera/TE\\ annotation/GCA_009830595.1_AzucenaRS1.fasta.out.bed"
   ]
  },
  {
   "cell_type": "code",
   "execution_count": 41,
   "metadata": {},
   "outputs": [],
   "source": [
    "mv /scratch/ak8725/SV-TIPs\\ from\\ Raúl\\ Castanera/TE\\ annotation/GCA_009830595.1_AzucenaRS1.fasta.out.bed /scratch/ak8725/SV-TIPs\\ from\\ Raúl\\ Castanera/TE\\ annotation/azucena_TEs.bed"
   ]
  },
  {
   "cell_type": "code",
   "execution_count": 16,
   "metadata": {},
   "outputs": [
    {
     "name": "stdout",
     "output_type": "stream",
     "text": [
      "Median size: 188\n",
      "Minimum size: 11\n",
      "Maximum size: 146429\n",
      "First quartile: 106.0\n",
      "Third quartile: 332.0\n"
     ]
    }
   ],
   "source": [
    "bed_stats('/scratch/ak8725/SV-TIPs_from_Raúl_Castanera/TE_annotation/azucena_TEs.bed')"
   ]
  },
  {
   "cell_type": "code",
   "execution_count": 5,
   "metadata": {
    "collapsed": true,
    "jupyter": {
     "outputs_hidden": true
    }
   },
   "outputs": [
    {
     "name": "stdout",
     "output_type": "stream",
     "text": [
      "chr01\t498\t655\tOs1968;DNAnona/Helitron\t412\t+\n",
      "chr01\t722\t787\tOs1968;DNAnona/Helitron\t260\t+\n",
      "chr01\t1594\t1662\tOs1072;DNAnona/Helitron\t268\t+\n",
      "chr01\t1662\t1838\tOs0073;DNAnona/unknown\t1332\t-\n",
      "chr01\t1901\t2290\tOs1667;MITE/Tourist\t3263\t+\n",
      "chr01\t5052\t5252\tOs2924;MITE/Stow\t911\t-\n",
      "chr01\t6313\t6363\tOs3295;DNAauto/MULE\t258\t-\n",
      "chr01\t8245\t8506\tOs0231;MITE/Stow\t441\t-\n",
      "chr01\t10384\t10473\tOs2076;DNAnona/MULE\t461\t-\n",
      "chr01\t10477\t10638\tOs0974;DNAnona/MULE\t329\t+\n"
     ]
    }
   ],
   "source": [
    "#find fraction of 500bp windows covered by TEs "
   ]
  },
  {
   "cell_type": "code",
   "execution_count": 2,
   "metadata": {},
   "outputs": [],
   "source": [
    "bedtools makewindows -b ../ipynb\\ scripts\\ and\\ plots/az_chr_coord.bed -w 500 > azucena_500bp_windows.bed"
   ]
  },
  {
   "cell_type": "code",
   "execution_count": 5,
   "metadata": {},
   "outputs": [],
   "source": [
    "module load bedtools/intel/2.29.2"
   ]
  },
  {
   "cell_type": "code",
   "execution_count": 3,
   "metadata": {
    "collapsed": true,
    "jupyter": {
     "outputs_hidden": true
    }
   },
   "outputs": [
    {
     "name": "stdout",
     "output_type": "stream",
     "text": [
      "***** WARNING: File /scratch/ak8725/SV-TIPs_from_Raúl_Castanera/TE_annotation/azucena_TEs.bed has a record where naming convention (leading zero) is inconsistent with other files:\n",
      "chr10\t19422\t22274\tOs0850_LTR;LTR/Gypsy\t12869\t+\n",
      "\n",
      "***** WARNING: File /scratch/ak8725/SV-TIPs_from_Raúl_Castanera/TE_annotation/azucena_TEs.bed has a record where naming convention (leading zero) is inconsistent with other files:\n",
      "chr10\t19422\t22274\tOs0850_LTR;LTR/Gypsy\t12869\t+\n",
      "\n"
     ]
    }
   ],
   "source": [
    "bedtools intersect -a azucena_500bp_windows.bed -b /scratch/ak8725/SV-TIPs_from_Raúl_Castanera/TE_annotation/azucena_TEs.bed -wao > azucena_te_in_windows.bed"
   ]
  },
  {
   "cell_type": "code",
   "execution_count": 2,
   "metadata": {},
   "outputs": [],
   "source": [
    "cut -f 1-3,10 azucena_te_in_windows.bed >  azucena_te_in_windows1.bed"
   ]
  },
  {
   "cell_type": "code",
   "execution_count": 3,
   "metadata": {
    "collapsed": true,
    "jupyter": {
     "outputs_hidden": true
    }
   },
   "outputs": [
    {
     "name": "stdout",
     "output_type": "stream",
     "text": [
      "chr01\t0\t500\t2\n",
      "chr01\t500\t1000\t155\n",
      "chr01\t500\t1000\t65\n",
      "chr01\t1000\t1500\t0\n",
      "chr01\t1500\t2000\t68\n",
      "chr01\t1500\t2000\t176\n",
      "chr01\t1500\t2000\t99\n",
      "chr01\t2000\t2500\t290\n",
      "chr01\t2500\t3000\t0\n",
      "chr01\t3000\t3500\t0\n"
     ]
    }
   ],
   "source": [
    "head azucena_te_in_windows1.bed"
   ]
  },
  {
   "cell_type": "code",
   "execution_count": 6,
   "metadata": {},
   "outputs": [],
   "source": [
    "bedtools groupby -g 1,2,3 -c 4 -o sum -i azucena_te_in_windows1.bed > azucena_te_in_windows_grouped.bed"
   ]
  },
  {
   "cell_type": "code",
   "execution_count": 7,
   "metadata": {},
   "outputs": [],
   "source": [
    "awk '{ $4 = $4 / 500; print }' azucena_te_in_windows_grouped.bed > azucena_te_in_windows_fr.bed"
   ]
  },
  {
   "cell_type": "code",
   "execution_count": 13,
   "metadata": {},
   "outputs": [
    {
     "name": "stdout",
     "output_type": "stream",
     "text": [
      "mv: cannot stat 'azucena_te_in_windows_fr.bed': No such file or directory\n"
     ]
    },
    {
     "ename": "",
     "evalue": "1",
     "output_type": "error",
     "traceback": []
    }
   ],
   "source": [
    "mv azucena_te_in_windows_fr.bed azucena_te_per_500bp.bedgraph"
   ]
  },
  {
   "cell_type": "code",
   "execution_count": 14,
   "metadata": {},
   "outputs": [],
   "source": [
    "/share/apps/kent/385/bedGraphToBigWig azucena_te_per_500bp.bedgraph azucena.chrom.sizes_TRUE /scratch/ak8725/az_mrg/fitcons/azucena_TE_per_500bp.bw\n"
   ]
  },
  {
   "cell_type": "markdown",
   "metadata": {},
   "source": [
    "# SV breakpoint density\n",
    "from SNP-Seek 3K RG Large Structural Variants release 1.0"
   ]
  },
  {
   "cell_type": "code",
   "execution_count": 22,
   "metadata": {},
   "outputs": [
    {
     "name": "stdout",
     "output_type": "stream",
     "text": [
      "--2023-04-21 13:04:55--  https://s3.amazonaws.com/3kricegenome/reduced/CNVnator_Q10_goodRD_noCN1-3.vcf.gz\n",
      "Resolving s3.amazonaws.com (s3.amazonaws.com)... 52.217.109.78, 52.217.201.240, 52.217.193.24, ...\n",
      "Connecting to s3.amazonaws.com (s3.amazonaws.com)|52.217.109.78|:443... connected.\n",
      "HTTP request sent, awaiting response... 200 OK\n",
      "Length: 1096525917 (1.0G) [application/octet-stream]\n",
      "Saving to: ‘CNVnator_Q10_goodRD_noCN1-3.vcf.gz’\n",
      "\n",
      "CNVnator_Q10_goodRD 100%[===================>]   1.02G  25.5MB/s    in 32s     \n",
      "\n",
      "2023-04-21 13:05:28 (32.4 MB/s) - ‘CNVnator_Q10_goodRD_noCN1-3.vcf.gz’ saved [1096525917/1096525917]\n",
      "\n"
     ]
    }
   ],
   "source": [
    "wget https://s3.amazonaws.com/3kricegenome/reduced/CNVnator_Q10_goodRD_noCN1-3.vcf.gz"
   ]
  },
  {
   "cell_type": "code",
   "execution_count": 19,
   "metadata": {},
   "outputs": [
    {
     "name": "stdout",
     "output_type": "stream",
     "text": [
      "NB_INV_mergesam_clustered.txt\n"
     ]
    }
   ],
   "source": [
    "tar -xvf NB_INV_mergesam_clustered.tar"
   ]
  },
  {
   "cell_type": "code",
   "execution_count": 1,
   "metadata": {},
   "outputs": [],
   "source": [
    "cd /scratch/ak8725/az_mrg/SV_from_SNP_Seek"
   ]
  },
  {
   "cell_type": "code",
   "execution_count": 4,
   "metadata": {},
   "outputs": [
    {
     "name": "stdout",
     "output_type": "stream",
     "text": [
      "chr01\t1276\t1329\tINV;53\tIRIS_313-11671\t1\n",
      "chr01\t1707\t1993\tINV;286\tCX328\t2\n",
      "chr01\t27067\t27125\tINV;58\tIRIS_313-11797\t3\n",
      "chr01\t36347\t36399\tINV;52\tB121\t4\n",
      "chr01\t38257\t38345\tINV;94\tIRIS_313-9970\t5\n",
      "chr01\t43444\t43541\tINV;97\tB015\t6\n",
      "chr01\t43444\t43541\tINV;97\tIRIS_313-11665\t6\n",
      "chr01\t44410\t44468\tINV;58\tIRIS_313-11039\t7\n",
      "chr01\t46928\t47065\tINV;137\tIRIS_313-11252\t8\n",
      "chr01\t72445\t72544\tINV;99\tIRIS_313-11371\t9\n"
     ]
    }
   ],
   "source": [
    "head NB_INV_mergesam_clustered.txt"
   ]
  },
  {
   "cell_type": "code",
   "execution_count": 19,
   "metadata": {},
   "outputs": [],
   "source": [
    "#extract breakpoints\n",
    "#for deletions only\n",
    "#awk 'BEGIN {OFS=\"\\t\"} {print $1, $2, $2+1; print $1, $3-1, $3}' NB_INV_mergesam_clustered.txt > npb_del.bed"
   ]
  },
  {
   "cell_type": "code",
   "execution_count": 18,
   "metadata": {},
   "outputs": [],
   "source": [
    "#awk 'BEGIN {OFS=\"\\t\"} {print $1, $2, $2+1}' NB_DUP_mergesam_clustered.txt > npb_dup.bed"
   ]
  },
  {
   "cell_type": "code",
   "execution_count": 6,
   "metadata": {
    "collapsed": true,
    "jupyter": {
     "outputs_hidden": true
    }
   },
   "outputs": [
    {
     "name": "stdout",
     "output_type": "stream",
     "text": [
      "chr01\t295\t296\n",
      "chr01\t307\t308\n",
      "chr01\t295\t296\n",
      "chr01\t307\t308\n",
      "chr01\t295\t296\n",
      "chr01\t307\t308\n",
      "chr01\t424\t425\n",
      "chr01\t443\t444\n",
      "chr01\t424\t425\n",
      "chr01\t457\t458\n"
     ]
    }
   ],
   "source": [
    "#lifted the coordinates of breakpoints using liftOver from npb_x.bed to az_x.bed\n",
    "head az_del.bed"
   ]
  },
  {
   "cell_type": "code",
   "execution_count": 2,
   "metadata": {},
   "outputs": [],
   "source": [
    "cd /scratch/ak8725/az_mrg/SV_from_SNP_Seek"
   ]
  },
  {
   "cell_type": "code",
   "execution_count": 2,
   "metadata": {},
   "outputs": [
    {
     "name": "stdout",
     "output_type": "stream",
     "text": [
      "76180332 az_del.bed\n"
     ]
    }
   ],
   "source": [
    "wc -l az_del.bed"
   ]
  },
  {
   "cell_type": "code",
   "execution_count": 4,
   "metadata": {},
   "outputs": [],
   "source": [
    "#bedtools intersect -a ../azucena_200bp_windows.bed -b ins.bed -wao > azucena_ins_in_windows.bed"
   ]
  },
  {
   "cell_type": "code",
   "execution_count": 3,
   "metadata": {},
   "outputs": [],
   "source": [
    "module load bedtools/intel/2.29.2"
   ]
  },
  {
   "cell_type": "code",
   "execution_count": 2,
   "metadata": {
    "collapsed": true,
    "jupyter": {
     "outputs_hidden": true
    }
   },
   "outputs": [
    {
     "name": "stdout",
     "output_type": "stream",
     "text": [
      "sbatch: error: Unable to open file intersect.sh\n"
     ]
    },
    {
     "ename": "",
     "evalue": "1",
     "output_type": "error",
     "traceback": []
    }
   ],
   "source": [
    "sbatch intersect.sh"
   ]
  },
  {
   "cell_type": "code",
   "execution_count": 6,
   "metadata": {},
   "outputs": [
    {
     "name": "stdout",
     "output_type": "stream",
     "text": [
      "chr01\t0\t200\t.\t-1\t-1\t0\n",
      "chr01\t200\t400\t.\t-1\t-1\t0\n",
      "chr01\t400\t600\t.\t-1\t-1\t0\n",
      "chr01\t600\t800\tchr01\t642\t643\t1\n",
      "chr01\t800\t1000\t.\t-1\t-1\t0\n",
      "chr01\t1000\t1200\tchr01\t1073\t1074\t1\n",
      "chr01\t1200\t1400\t.\t-1\t-1\t0\n",
      "chr01\t1400\t1600\t.\t-1\t-1\t0\n",
      "chr01\t1600\t1800\t.\t-1\t-1\t0\n",
      "chr01\t1800\t2000\t.\t-1\t-1\t0\n"
     ]
    }
   ],
   "source": [
    "head azucena_inv_in_windows.bed"
   ]
  },
  {
   "cell_type": "code",
   "execution_count": 7,
   "metadata": {},
   "outputs": [],
   "source": [
    "#save only the number of features in window\n",
    "cut -f 1-3,7 azucena_del_in_windows.bed >  azucena_del_in_windows1.bed\n",
    "cut -f 1-3,7 azucena_ins_in_windows.bed >  azucena_ins_in_windows1.bed\n",
    "cut -f 1-3,7 azucena_dup_in_windows.bed >  azucena_dup_in_windows1.bed\n",
    "cut -f 1-3,7 azucena_inv_in_windows.bed >  azucena_inv_in_windows1.bed"
   ]
  },
  {
   "cell_type": "code",
   "execution_count": 8,
   "metadata": {},
   "outputs": [
    {
     "name": "stdout",
     "output_type": "stream",
     "text": [
      "chr01\t0\t200\t0\n",
      "chr01\t200\t400\t1\n",
      "chr01\t200\t400\t1\n",
      "chr01\t200\t400\t1\n",
      "chr01\t200\t400\t1\n",
      "chr01\t200\t400\t1\n",
      "chr01\t200\t400\t1\n",
      "chr01\t400\t600\t1\n",
      "chr01\t400\t600\t1\n",
      "chr01\t400\t600\t1\n"
     ]
    }
   ],
   "source": [
    "head azucena_del_in_windows1.bed"
   ]
  },
  {
   "cell_type": "code",
   "execution_count": 9,
   "metadata": {},
   "outputs": [],
   "source": [
    "#find total number of features per window\n",
    "bedtools groupby -g 1,2,3 -c 4 -o sum -i azucena_del_in_windows1.bed > azucena_del.bedgraph\n",
    "bedtools groupby -g 1,2,3 -c 4 -o sum -i azucena_ins_in_windows1.bed > azucena_ins.bedgraph\n",
    "bedtools groupby -g 1,2,3 -c 4 -o sum -i azucena_dup_in_windows1.bed > azucena_dup.bedgraph\n",
    "bedtools groupby -g 1,2,3 -c 4 -o sum -i azucena_inv_in_windows1.bed > azucena_inv.bedgraph"
   ]
  },
  {
   "cell_type": "code",
   "execution_count": 10,
   "metadata": {},
   "outputs": [
    {
     "name": "stdout",
     "output_type": "stream",
     "text": [
      "chr01\t0\t200\t0\n",
      "chr01\t200\t400\t6\n",
      "chr01\t400\t600\t76\n",
      "chr01\t600\t800\t0\n",
      "chr01\t800\t1000\t0\n",
      "chr01\t1000\t1200\t0\n",
      "chr01\t1200\t1400\t0\n",
      "chr01\t1400\t1600\t0\n",
      "chr01\t1600\t1800\t0\n",
      "chr01\t1800\t2000\t2\n"
     ]
    }
   ],
   "source": [
    "head azucena_del.bedgraph"
   ]
  },
  {
   "cell_type": "code",
   "execution_count": 11,
   "metadata": {},
   "outputs": [],
   "source": [
    "#convert to bw\n",
    "/share/apps/kent/385/bedGraphToBigWig azucena_del.bedgraph ../azucena.chrom.sizes_TRUE /scratch/ak8725/az_mrg/fitcons/azucena_del_per_200bp.bw\n",
    "/share/apps/kent/385/bedGraphToBigWig azucena_ins.bedgraph ../azucena.chrom.sizes_TRUE /scratch/ak8725/az_mrg/fitcons/azucena_ins_per_200bp.bw\n",
    "/share/apps/kent/385/bedGraphToBigWig azucena_dup.bedgraph ../azucena.chrom.sizes_TRUE /scratch/ak8725/az_mrg/fitcons/azucena_dup_per_200bp.bw\n",
    "/share/apps/kent/385/bedGraphToBigWig azucena_inv.bedgraph ../azucena.chrom.sizes_TRUE /scratch/ak8725/az_mrg/fitcons/azucena_inv_per_200bp.bw\n"
   ]
  },
  {
   "cell_type": "code",
   "execution_count": 2,
   "metadata": {},
   "outputs": [
    {
     "name": "stdout",
     "output_type": "stream",
     "text": [
      "Median size: 274.0\n",
      "Minimum size: 10\n",
      "Maximum size: 499524\n",
      "First quartile: 22.0\n",
      "Third quartile: 1894.0\n"
     ]
    }
   ],
   "source": [
    "bed_stats('/scratch/ak8725/az_mrg/SV_from_SNP_Seek/NB_DEL_mergesam_clustered.txt')"
   ]
  },
  {
   "cell_type": "code",
   "execution_count": 3,
   "metadata": {},
   "outputs": [
    {
     "name": "stdout",
     "output_type": "stream",
     "text": [
      "Median size: 1\n",
      "Minimum size: 1\n",
      "Maximum size: 1\n",
      "First quartile: 1.0\n",
      "Third quartile: 1.0\n"
     ]
    }
   ],
   "source": [
    "bed_stats('/scratch/ak8725/az_mrg/SV_from_SNP_Seek/NB_INS_mergesam_clustered.txt')"
   ]
  },
  {
   "cell_type": "code",
   "execution_count": 4,
   "metadata": {},
   "outputs": [
    {
     "name": "stdout",
     "output_type": "stream",
     "text": [
      "Median size: 5576.0\n",
      "Minimum size: 18\n",
      "Maximum size: 499511\n",
      "First quartile: 137.0\n",
      "Third quartile: 17767.0\n"
     ]
    }
   ],
   "source": [
    "bed_stats('/scratch/ak8725/az_mrg/SV_from_SNP_Seek/NB_DUP_mergesam_clustered.txt')"
   ]
  },
  {
   "cell_type": "code",
   "execution_count": 5,
   "metadata": {},
   "outputs": [
    {
     "name": "stdout",
     "output_type": "stream",
     "text": [
      "Median size: 3881\n",
      "Minimum size: 3\n",
      "Maximum size: 499827\n",
      "First quartile: 254.0\n",
      "Third quartile: 44680.0\n"
     ]
    }
   ],
   "source": [
    "bed_stats('/scratch/ak8725/az_mrg/SV_from_SNP_Seek/NB_INV_mergesam_clustered.txt')"
   ]
  },
  {
   "cell_type": "code",
   "execution_count": 4,
   "metadata": {},
   "outputs": [],
   "source": [
    "#group all SV breakpoints\n",
    "bedtools unionbedg -i azucena_del.bedgraph azucena_ins.bedgraph azucena_inv.bedgraph azucena_dup.bedgraph -filler 0 -scores sum > azucena_SV.bedgraph"
   ]
  },
  {
   "cell_type": "code",
   "execution_count": 9,
   "metadata": {},
   "outputs": [
    {
     "name": "stdout",
     "output_type": "stream",
     "text": [
      "1898143 azucena_SV.bedgraph\n"
     ]
    }
   ],
   "source": [
    "mv azucena_SVs.bedgraph azucena_SV.bedgraph"
   ]
  },
  {
   "cell_type": "code",
   "execution_count": 6,
   "metadata": {},
   "outputs": [],
   "source": [
    "awk '{sum = $4 + $5 + $6 + $7; print $1\"\\t\"$2\"\\t\"$3\"\\t\"sum}' azucena_SV.bedgraph > azucena_SVs.bedgraph"
   ]
  },
  {
   "cell_type": "code",
   "execution_count": 10,
   "metadata": {},
   "outputs": [],
   "source": [
    "/share/apps/kent/385/bedGraphToBigWig azucena_SV.bedgraph ../azucena.chrom.sizes_TRUE /scratch/ak8725/az_mrg/fitcons/azucena_SV_per_200bp.bw\n"
   ]
  },
  {
   "cell_type": "code",
   "execution_count": null,
   "metadata": {},
   "outputs": [],
   "source": [
    "if grep -q \"Osaj.11\" /scratch/ak8725/az_mrg/fitcons/PhastCons8wayChrAll.1.bdg; then\n",
    "  echo \"String found in file.\"\n",
    "else\n",
    "  echo \"String not found in file.\"\n",
    "f"
   ]
  }
 ],
 "metadata": {
  "kernelspec": {
   "display_name": "Bash",
   "language": "bash",
   "name": "bash"
  },
  "language_info": {
   "codemirror_mode": "shell",
   "file_extension": ".sh",
   "mimetype": "text/x-sh",
   "name": "bash"
  }
 },
 "nbformat": 4,
 "nbformat_minor": 4
}
