{
 "cells": [
  {
   "cell_type": "markdown",
   "metadata": {},
   "source": [
    "# GO terms combined S2"
   ]
  },
  {
   "cell_type": "code",
   "execution_count": 8,
   "metadata": {},
   "outputs": [],
   "source": [
    "from PIL import Image\n",
    "\n",
    "# List of image file paths\n",
    "image_files = ['/scratch/ak8725/figs/GO_5CC.jpeg', '/scratch/ak8725/figs/GO_5BP.jpeg', '/scratch/ak8725/figs/GO_5MF.jpeg']\n",
    "\n",
    "# Load one of the images to get its dimensions\n",
    "first_image = Image.open(image_files[0])\n",
    "actual_width, actual_height = first_image.size\n",
    "\n",
    "# Calculate the desired height of the combined image (3 times the actual height of one image)\n",
    "desired_height = actual_height * 3\n",
    "\n",
    "# Calculate the desired width based on the aspect ratio of the original image\n",
    "desired_width = int(actual_width * (desired_height / actual_height))\n",
    "\n",
    "# Create a list to store resized images\n",
    "images_resized = []\n",
    "\n",
    "# Load images and resize them\n",
    "for image_file in image_files:\n",
    "    img = Image.open(image_file)\n",
    "    # Resize each image to maintain aspect ratio\n",
    "    img_resized = img.resize((desired_width, desired_height))\n",
    "    images_resized.append(img_resized)\n",
    "\n",
    "# Determine the size of the combined image\n",
    "combined_width = desired_width\n",
    "combined_height = desired_height * len(images_resized)\n",
    "\n",
    "# Create a new image with enough space for all images in the specified grid\n",
    "combined_image = Image.new('RGB', (combined_width, combined_height))\n",
    "\n",
    "# Paste each image into the combined image\n",
    "for i, img in enumerate(images_resized):\n",
    "    y = i * desired_height\n",
    "    combined_image.paste(img, (0, y))\n",
    "\n",
    "# Save the combined image\n",
    "combined_image.save('/scratch/ak8725/figs/figS3.png')"
   ]
  },
  {
   "cell_type": "code",
   "execution_count": 10,
   "metadata": {},
   "outputs": [
    {
     "ename": "UnidentifiedImageError",
     "evalue": "cannot identify image file '/scratch/ak8725/figs/figS5/figS5-1.png'",
     "output_type": "error",
     "traceback": [
      "\u001b[0;31m---------------------------------------------------------------------------\u001b[0m",
      "\u001b[0;31mUnidentifiedImageError\u001b[0m                    Traceback (most recent call last)",
      "Cell \u001b[0;32mIn[10], line 7\u001b[0m\n\u001b[1;32m      4\u001b[0m image_files \u001b[38;5;241m=\u001b[39m [\u001b[38;5;124m'\u001b[39m\u001b[38;5;124m/scratch/ak8725/figs/figS5/figS5-1.png\u001b[39m\u001b[38;5;124m'\u001b[39m, \u001b[38;5;124m'\u001b[39m\u001b[38;5;124m/scratch/ak8725/figs/GO_5BP.jpeg\u001b[39m\u001b[38;5;124m'\u001b[39m, \u001b[38;5;124m'\u001b[39m\u001b[38;5;124m/scratch/ak8725/figs/GO_5MF.jpeg\u001b[39m\u001b[38;5;124m'\u001b[39m]\n\u001b[1;32m      6\u001b[0m \u001b[38;5;66;03m# Load one of the images to get its dimensions\u001b[39;00m\n\u001b[0;32m----> 7\u001b[0m first_image \u001b[38;5;241m=\u001b[39m \u001b[43mImage\u001b[49m\u001b[38;5;241;43m.\u001b[39;49m\u001b[43mopen\u001b[49m\u001b[43m(\u001b[49m\u001b[43mimage_files\u001b[49m\u001b[43m[\u001b[49m\u001b[38;5;241;43m0\u001b[39;49m\u001b[43m]\u001b[49m\u001b[43m)\u001b[49m\n\u001b[1;32m      8\u001b[0m actual_width, actual_height \u001b[38;5;241m=\u001b[39m first_image\u001b[38;5;241m.\u001b[39msize\n\u001b[1;32m     10\u001b[0m \u001b[38;5;66;03m# Calculate the desired height of the combined image (3 times the actual height of one image)\u001b[39;00m\n",
      "File \u001b[0;32m/ext3/miniconda3/lib/python3.11/site-packages/PIL/Image.py:3305\u001b[0m, in \u001b[0;36mopen\u001b[0;34m(fp, mode, formats)\u001b[0m\n\u001b[1;32m   3303\u001b[0m     warnings\u001b[38;5;241m.\u001b[39mwarn(message)\n\u001b[1;32m   3304\u001b[0m msg \u001b[38;5;241m=\u001b[39m \u001b[38;5;124m\"\u001b[39m\u001b[38;5;124mcannot identify image file \u001b[39m\u001b[38;5;132;01m%r\u001b[39;00m\u001b[38;5;124m\"\u001b[39m \u001b[38;5;241m%\u001b[39m (filename \u001b[38;5;28;01mif\u001b[39;00m filename \u001b[38;5;28;01melse\u001b[39;00m fp)\n\u001b[0;32m-> 3305\u001b[0m \u001b[38;5;28;01mraise\u001b[39;00m UnidentifiedImageError(msg)\n",
      "\u001b[0;31mUnidentifiedImageError\u001b[0m: cannot identify image file '/scratch/ak8725/figs/figS5/figS5-1.png'"
     ]
    }
   ],
   "source": [
    "from PIL import Image\n",
    "\n",
    "# List of image file paths\n",
    "image_files = ['/scratch/ak8725/figs/GO_5CC.jpeg', '/scratch/ak8725/figs/GO_5BP.jpeg', '/scratch/ak8725/figs/GO_5MF.jpeg']\n",
    "\n",
    "# Load one of the images to get its dimensions\n",
    "first_image = Image.open(image_files[0])\n",
    "actual_width, actual_height = first_image.size\n",
    "\n",
    "# Calculate the desired height of the combined image (3 times the actual height of one image)\n",
    "desired_height = actual_height * 3\n",
    "\n",
    "# Calculate the desired width based on the aspect ratio of the original image\n",
    "desired_width = int(actual_width * (desired_height / actual_height))\n",
    "\n",
    "# Create a list to store resized images\n",
    "images_resized = []\n",
    "\n",
    "# Load images and resize them\n",
    "for image_file in image_files:\n",
    "    img = Image.open(image_file)\n",
    "    # Resize each image to maintain aspect ratio\n",
    "    img_resized = img.resize((desired_width, desired_height))\n",
    "    images_resized.append(img_resized)\n",
    "\n",
    "# Determine the size of the combined image\n",
    "combined_width = desired_width\n",
    "combined_height = desired_height * len(images_resized)\n",
    "\n",
    "# Create a new image with enough space for all images in the specified grid\n",
    "combined_image = Image.new('RGB', (combined_width, combined_height))\n",
    "\n",
    "# Paste each image into the combined image\n",
    "for i, img in enumerate(images_resized):\n",
    "    y = i * desired_height\n",
    "    combined_image.paste(img, (0, y))\n",
    "\n",
    "# Save the combined image\n",
    "combined_image.save('/scratch/ak8725/figs/figS3.png')"
   ]
  },
  {
   "cell_type": "code",
   "execution_count": null,
   "metadata": {},
   "outputs": [],
   "source": []
  }
 ],
 "metadata": {
  "kernelspec": {
   "display_name": "coolbox",
   "language": "python",
   "name": "coolbox"
  },
  "language_info": {
   "codemirror_mode": {
    "name": "ipython",
    "version": 3
   },
   "file_extension": ".py",
   "mimetype": "text/x-python",
   "name": "python",
   "nbconvert_exporter": "python",
   "pygments_lexer": "ipython3",
   "version": "3.11.5"
  }
 },
 "nbformat": 4,
 "nbformat_minor": 4
}
