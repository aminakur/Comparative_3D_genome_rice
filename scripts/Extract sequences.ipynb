{
 "cells": [
  {
   "cell_type": "markdown",
   "id": "158d576f-6f65-4d72-8e2f-c67c25fa9e33",
   "metadata": {},
   "source": [
    "## Extract sequences from .fna files based on .bed coordinates"
   ]
  },
  {
   "cell_type": "code",
   "execution_count": 9,
   "id": "d944bc79-0369-4955-8155-38366e00b293",
   "metadata": {},
   "outputs": [
    {
     "name": "stdout",
     "output_type": "stream",
     "text": [
      "FASTA sequences extracted and saved to output file.\n"
     ]
    }
   ],
   "source": [
    "#use coolbox kernel\n",
    "#create fasta files with the mode sequences from npb and omer to compare them\n",
    "from Bio import SeqIO\n",
    "from Bio.SeqRecord import SeqRecord\n",
    "from Bio.Seq import Seq\n",
    "\n",
    "# Paths to genome FASTA file\n",
    "npb_genome_file = \"/scratch/ak8725/NPB_new/NPB.fna\"\n",
    "\n",
    "# Path to bed file\n",
    "g_bed_file = \"./non45Bounds.bed\"\n",
    "\n",
    "# Output FASTA file\n",
    "output_g_file = \"non45Bounds.fasta\"\n",
    "\n",
    "# Create dictionaries to store genome sequences\n",
    "npb_sequences = SeqIO.to_dict(SeqIO.parse(npb_genome_file, \"fasta\"))\n",
    "\n",
    "# Open the bed file for reading\n",
    "with open(g_bed_file, \"r\") as bed_fh:\n",
    "\n",
    "    # Open output files for writing\n",
    "    with open(output_g_file, \"w\") as npb_fh:\n",
    "\n",
    "        # Initialize a counter for sequence headers\n",
    "        seq_counter = 1\n",
    "\n",
    "        for line in bed_fh:\n",
    "            fields = line.strip().split(\"\\t\")\n",
    "            chr, start, end = fields[:3]\n",
    "\n",
    "            # Extract sequences from the dictionaries\n",
    "            npb_seq = npb_sequences[chr][int(start):int(end)].seq\n",
    "\n",
    "            # Create SeqRecord objects with headers\n",
    "            npb_record = SeqRecord(npb_seq, id=f\"seq{seq_counter}\", description=f\"Coordinates: {chr}:{start}-{end}\")\n",
    "\n",
    "            # Write SeqRecord objects to the output files\n",
    "            SeqIO.write(npb_record, npb_fh, \"fasta\")\n",
    "\n",
    "            # Increment the sequence counter\n",
    "            seq_counter += 1\n",
    "\n",
    "print(\"FASTA sequences extracted and saved to output file.\")"
   ]
  },
  {
   "cell_type": "code",
   "execution_count": null,
   "id": "f29a6c08-512a-4287-9830-c249e0b27169",
   "metadata": {},
   "outputs": [],
   "source": []
  }
 ],
 "metadata": {
  "kernelspec": {
   "display_name": "coolbox",
   "language": "python",
   "name": "coolbox"
  },
  "language_info": {
   "codemirror_mode": {
    "name": "ipython",
    "version": 3
   },
   "file_extension": ".py",
   "mimetype": "text/x-python",
   "name": "python",
   "nbconvert_exporter": "python",
   "pygments_lexer": "ipython3",
   "version": "3.11.5"
  }
 },
 "nbformat": 4,
 "nbformat_minor": 5
}
