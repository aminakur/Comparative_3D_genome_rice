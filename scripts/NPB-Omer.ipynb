{
 "cells": [
  {
   "cell_type": "markdown",
   "metadata": {},
   "source": [
    "# NPB-Omer Whole genome lifted over analysis at 5/10/25 kb resolution\n",
    "Red - at 5kb resolution<br>\n",
    "Magenta - at 25kb resolution\n",
    "### 1. Generating .bedpe file\n",
    "#### Dividing the NPB genome into 500kb windows (250 kb step size)\n",
    "Excluding the inversions on chr04/06/08, deletion on chr03"
   ]
  },
  {
   "cell_type": "code",
   "execution_count": 6,
   "metadata": {
    "collapsed": true,
    "jupyter": {
     "outputs_hidden": true
    }
   },
   "outputs": [
    {
     "name": "stdout",
     "output_type": "stream",
     "text": [
      "chr01\t43270923\n",
      "chr02\t35937250\n",
      "chr03\t36413819\n",
      "chr04\t35502694\n",
      "chr05\t29958434\n",
      "chr06\t31248787\n",
      "chr07\t29697621\n",
      "chr08\t28443022\n",
      "chr09\t23012720\n",
      "chr10\t23207287\n",
      "chr11\t29021106\n",
      "chr12\t27531856\n"
     ]
    }
   ],
   "source": [
    "cat /scratch/ak8725/NPB_new/NPB.genome"
   ]
  },
  {
   "cell_type": "code",
   "execution_count": 57,
   "metadata": {
    "collapsed": true,
    "jupyter": {
     "outputs_hidden": true
    }
   },
   "outputs": [
    {
     "name": "stdout",
     "output_type": "stream",
     "text": [
      "chr01\t42804815\n",
      "chr02\t37283348\n",
      "chr03\t40595595\n",
      "chr04\t34272791\n",
      "chr05\t30045131\n",
      "chr06\t31576741\n",
      "chr07\t30507914\n",
      "chr08\t29018812\n",
      "chr09\t23643651\n",
      "chr10\t24084775\n",
      "chr11\t29168041\n",
      "chr12\t26254206\n"
     ]
    }
   ],
   "source": [
    "cat /scratch/ak8725/omer_mrg/omer.genome"
   ]
  },
  {
   "cell_type": "code",
   "execution_count": 2,
   "metadata": {},
   "outputs": [],
   "source": [
    "#generating bed file with window coordinates from NPB excluding the large inv on chr06\n",
    "# Define excluded regions\n",
    "\n",
    "excluded_regions = {\n",
    "    'chr03': (14412722, 19546404),\n",
    "    'chr04': (8308641, 11571420),\n",
    "    'chr06': (13165645, 17609896),\n",
    "    'chr08': (14330528, 16788836)\n",
    "}\n",
    "\n",
    "# Define window size and step size\n",
    "window_size = 500000  # 500 kb\n",
    "step_size = 250000    # 250 kb\n",
    "\n",
    "# Read genome sizes from file\n",
    "genome_sizes = {}\n",
    "with open('/scratch/ak8725/NPB_new/NPB.genome', 'r') as genome_file:\n",
    "    for line in genome_file:\n",
    "        chromosome, size = line.strip().split('\\t')\n",
    "        genome_sizes[chromosome] = int(size)\n",
    "\n",
    "# Generate BED coordinates\n",
    "bed_coordinates = []\n",
    "for chromosome, size in genome_sizes.items():\n",
    "    if chromosome in excluded_regions:\n",
    "        start, end = excluded_regions[chromosome]\n",
    "        if end - start >= window_size:\n",
    "            for window_start in range(0, start, step_size):\n",
    "                window_end = window_start + window_size\n",
    "                if window_end <= start:\n",
    "                    bed_coordinates.append((chromosome, window_start, window_end))\n",
    "        \n",
    "        # Continue generating windows after excluded region\n",
    "        for window_start in range(end, size - window_size + 1, step_size):\n",
    "            window_end = window_start + window_size\n",
    "            bed_coordinates.append((chromosome, window_start, window_end))\n",
    "        continue\n",
    "    \n",
    "    for window_start in range(0, size - window_size + 1, step_size):\n",
    "        window_end = window_start + window_size\n",
    "        bed_coordinates.append((chromosome, window_start, window_end))\n",
    "\n",
    "# Write coordinates to BED file\n",
    "with open('NPB-Omer.bed', 'w') as bed_file:\n",
    "    for chromosome, start, end in bed_coordinates:\n",
    "        bed_file.write(f'{chromosome}\\t{start}\\t{end}\\n')"
   ]
  },
  {
   "cell_type": "code",
   "execution_count": 1,
   "metadata": {},
   "outputs": [
    {
     "name": "stdout",
     "output_type": "stream",
     "text": [
      "Total length of excluded regions: 15299020\n"
     ]
    }
   ],
   "source": [
    "excluded_regions = {\n",
    "    'chr03': (14412722, 19546404),\n",
    "    'chr04': (8308641, 11571420),\n",
    "    'chr06': (13165645, 17609896),\n",
    "    'chr08': (14330528, 16788836)\n",
    "}\n",
    "\n",
    "total_length = 0\n",
    "\n",
    "# Iterate through the excluded regions and calculate the total length\n",
    "for start, end in excluded_regions.values():\n",
    "    total_length += end - start\n",
    "\n",
    "print(\"Total length of excluded regions:\", total_length)"
   ]
  },
  {
   "cell_type": "code",
   "execution_count": 4,
   "metadata": {},
   "outputs": [
    {
     "name": "stdout",
     "output_type": "stream",
     "text": [
      "Can't find file: ./NPB-Omer/NPB-Omer.bed\n",
      "\n"
     ]
    }
   ],
   "source": [
    "#lifting over coordinates from NPB to Omer\n",
    "#could've tried -minMatch=0.2 option to lift over more windows\n",
    "!/share/apps/kent/385/liftOver -ends=1 ./NPB-Omer/NPB-Omer.bed  ../../../liftOver/chain_files/NPB_omer.over.chain NPB-Omer_conv.bed unMapped"
   ]
  },
  {
   "cell_type": "markdown",
   "metadata": {},
   "source": [
    "Out of 1408 intervals, 1059 are not converted which is 2118/2/1408 = 75%"
   ]
  },
  {
   "cell_type": "code",
   "execution_count": 6,
   "metadata": {},
   "outputs": [],
   "source": [
    "#deleting windows from NPB that were not lifted over to IR64\n",
    "# Read the unMapped_starts file and store the coordinates to remove\n",
    "coordinates_to_remove = set()\n",
    "with open(\"unMapped\", \"r\") as unMapped_file:\n",
    "    for line in unMapped_file:\n",
    "        if not line.startswith(\"#\"):\n",
    "            chromosome, start, end = line.strip().split(\"\\t\")\n",
    "            coordinates_to_remove.add((chromosome, start, end))\n",
    "\n",
    "# Read the NPB-Az.bed file and write the filtered coordinates to a new file\n",
    "with open(\"NPB-Omer.bed\", \"r\") as bed_file, open(\"NPB-Omer_filtered.bed\", \"w\") as filtered_file:\n",
    "    for line in bed_file:\n",
    "        chromosome, start, end = line.strip().split()\n",
    "        if (chromosome, start, end) not in coordinates_to_remove:\n",
    "            filtered_file.write(f\"{chromosome}\\t{start}\\t{end}\\n\")"
   ]
  },
  {
   "cell_type": "code",
   "execution_count": 7,
   "metadata": {},
   "outputs": [
    {
     "name": "stdout",
     "output_type": "stream",
     "text": [
      "1408 NPB-Omer.bed\n",
      "349 NPB-Omer_conv.bed\n",
      "349 NPB-Omer_filtered.bed\n",
      "2118 unMapped\n"
     ]
    }
   ],
   "source": [
    "!wc -l NPB-Omer.bed #number of windows in NPB\n",
    "!wc -l NPB-Omer_conv.bed #number of windows that were lifted over to Azucena, should be equal to:\n",
    "!wc -l NPB-Omer_filtered.bed #number of windows in NPB after filtering out those that were not lifted over\n",
    "!wc -l unMapped #windows not lifted over (divide by 2)"
   ]
  },
  {
   "cell_type": "markdown",
   "metadata": {},
   "source": [
    "### Generating .bedpe file with only 25% of windows"
   ]
  },
  {
   "cell_type": "code",
   "execution_count": 8,
   "metadata": {},
   "outputs": [],
   "source": [
    "#Generating .bedpe file with NPB and Az pairs\n",
    "#col1,2,3 - coordinates in NPB\n",
    "#col4,5,6 - coordinates in Omer\n",
    "with open(\"NPB-Omer_filtered.bed\", \"r\") as filtered_file, \\\n",
    "     open(\"NPB-Omer_conv.bed\", \"r\") as conv_file, \\\n",
    "     open(\"NPB-Omer_pairs.bedpe\", \"w\") as pairs_file:\n",
    "    for row_num, (filtered_line, conv_line) in enumerate(zip(filtered_file, conv_file), start=1):\n",
    "        filtered_parts = filtered_line.strip().split(\"\\t\")\n",
    "        conv_parts = conv_line.strip().split(\"\\t\")\n",
    "        \n",
    "        if len(filtered_parts) >= 3 and len(conv_parts) >= 3:\n",
    "            col1, col2, col3 = filtered_parts\n",
    "            col4, col5, col6 = conv_parts[:3]\n",
    "            \n",
    "            pairs_file.write(f\"{col1}\\t{col2}\\t{col3}\\t{col4}\\t{col5}\\t{col6}\\t{row_num}\\t.\\t+\\t+\\n\")"
   ]
  },
  {
   "cell_type": "markdown",
   "metadata": {},
   "source": [
    "# Generate random pairs"
   ]
  },
  {
   "cell_type": "code",
   "execution_count": 1,
   "metadata": {},
   "outputs": [],
   "source": [
    "import os\n",
    "import pandas as pd\n",
    "from pathlib import Path \n",
    "\n",
    "original_pair_file_path = '/scratch/ak8725/chess/whole_lifted/500kb_250kb_25/NPB-Omer.bedpe'\n",
    "random_pair_files_folder_path = '/scratch/ak8725/chess/whole_lifted/500kb_250kb_25/NPB-Omer/random_pairs'\n",
    "\n",
    "df = pd.read_csv(original_pair_file_path, sep='\\t', header=None)\n",
    "for index in range(1, 101):\n",
    "  df_permute = pd.DataFrame({0:df[3], 1:df[4], 2:df[5]})\n",
    "  df_permute = df_permute.sample(frac = 1)\n",
    "  df_permute.reset_index(inplace=True)\n",
    "\n",
    "  df_random = pd.DataFrame({'chromosomes1': df[0],\n",
    "                          'region_start1': df[1],\n",
    "                          'region_end1': df[2],\n",
    "                          'chromosomes2': df_permute[0],\n",
    "                          'random_start2': df_permute[1],\n",
    "                          'random_end2': df_permute[2],\n",
    "                          'pair_id': df[6],\n",
    "                          'dot': df[7],\n",
    "                          'strand1': df[8],\n",
    "                          'strand2': df[9]})\n",
    "\n",
    "  df_random.to_csv(f'{random_pair_files_folder_path}/{Path(original_pair_file_path).stem}_random_gen_{index}.bedpe', sep='\\t', index=False, header=False)\n"
   ]
  },
  {
   "cell_type": "markdown",
   "metadata": {},
   "source": [
    "### 3. CHESS at 25kb, SN >= 0.5 plotted"
   ]
  },
  {
   "cell_type": "code",
   "execution_count": 3,
   "metadata": {},
   "outputs": [
    {
     "name": "stderr",
     "output_type": "stream",
     "text": [
      "/share/apps/anaconda3/2024.02/lib/python3.11/site-packages/seaborn/_oldcore.py:1119: FutureWarning: use_inf_as_na option is deprecated and will be removed in a future version. Convert inf values to NaN before operating instead.\n",
      "  with pd.option_context('mode.use_inf_as_na', True):\n"
     ]
    },
    {
     "name": "stdout",
     "output_type": "stream",
     "text": [
      "Total number of ssim values: 349\n",
      "Number of rows with SN >= 0.5: 253\n"
     ]
    },
    {
     "data": {
      "image/png": "[encoded data removed]",
      "text/plain": [
       "<Figure size 1000x600 with 1 Axes>"
      ]
     },
     "metadata": {},
     "output_type": "display_data"
    }
   ],
   "source": [
    "import os\n",
    "import glob\n",
    "import pandas as pd\n",
    "import seaborn as sns\n",
    "import matplotlib.pyplot as plt\n",
    "import numpy as np\n",
    "import scipy.stats as stats\n",
    "\n",
    "results_folder_path = '/scratch/ak8725/chess/whole_lifted/500kb_250kb_25_NPB_ref/NPB-Omer/results'\n",
    "result_files = glob.glob(f'{results_folder_path}/*.tsv')\n",
    "\n",
    "df_list = []\n",
    "for index, result_file in enumerate(result_files):\n",
    "    file_type = 'experiment' if os.path.basename(result_file) == 'NPB-Omer-25%.tsv' else f'random_{index}'\n",
    "    df = pd.read_csv(result_file, sep='\\t')\n",
    "    df['type'] = file_type\n",
    "    df_list.append(df)\n",
    "\n",
    "final_df = pd.concat(df_list).reset_index(drop=True)\n",
    "\n",
    "# Apply filters\n",
    "final_df_filtered = final_df[(final_df['SN'] >= 0.5)].copy()\n",
    "final_df_filtered = final_df_filtered[final_df_filtered['type'] == 'experiment'].copy()\n",
    "\n",
    "palette = {key: 'magenta' if key == 'experiment' else 'gray' for key in final_df_filtered['type'].unique()}\n",
    "\n",
    "sns.set(style=\"whitegrid\")\n",
    "plt.figure(figsize=(10, 6))\n",
    "plot = sns.kdeplot(data=final_df_filtered, x='ssim', hue='type', palette=palette, common_norm=False)\n",
    "handles, labels = plot.get_legend_handles_labels()\n",
    "plt.xlabel('ssim')\n",
    "plt.ylabel('Density')\n",
    "plt.title('Nipponbare - O.meridionalis')\n",
    "\n",
    "#shade the modes\n",
    "kde_x, kde_y = plot.get_lines()[0].get_data()\n",
    "plt.fill_between(kde_x, kde_y, where=(kde_x >= 0.10805272) & (kde_x <= 0.14618896), alpha=0.3,  color='lightblue')\n",
    "plt.fill_between(kde_x, kde_y, where=(kde_x >= 0.27201077) & (kde_x <= 0.36801459), alpha=0.3, color='lightpink')\n",
    "\n",
    "# Add a legend specifying that 'Mode1' is shaded with lavenderblush\n",
    "custom_handles = [\n",
    "    plt.Rectangle((0, 0), 1, 1, color='lightblue', alpha=0.3, label='Mode1'),\n",
    "    plt.Rectangle((0, 0), 1, 1, color='lightpink', alpha=0.3, label='Mode2')\n",
    "]\n",
    "\n",
    "plt.legend(handles=custom_handles, labels=labels + ['Mode1', 'Mode2'])\n",
    "\n",
    "output_file_path = '/scratch/ak8725/figs/fig7A.pdf'\n",
    "plt.savefig(output_file_path)\n",
    "\n",
    "# Count rows with type 'experiment'\n",
    "total = final_df[final_df['type'] == 'experiment'].shape[0]\n",
    "print(\"Total number of ssim values:\", total)\n",
    "experiment_rows_count = final_df_filtered[final_df_filtered['type'] == 'experiment'].shape[0]\n",
    "print(\"Number of rows with SN >= 0.5:\", experiment_rows_count)"
   ]
  },
  {
   "cell_type": "markdown",
   "metadata": {},
   "source": [
    "#### Finding the modes of the experimental values and average random values mode"
   ]
  },
  {
   "cell_type": "code",
   "execution_count": 43,
   "metadata": {},
   "outputs": [
    {
     "name": "stdout",
     "output_type": "stream",
     "text": [
      "Average Mode of the density plots for 'random_{index}': -0.13651724507759616\n",
      "Mode of the density plot for 'experiment': 0.32424412636901545\n"
     ]
    }
   ],
   "source": [
    "import numpy as np\n",
    "import scipy.stats as stats\n",
    "import pandas as pd\n",
    "\n",
    "# Assuming 'final_df_filtered' is your DataFrame\n",
    "\n",
    "# Create a list to collect mode values for random_{index}\n",
    "random_modes = []\n",
    "\n",
    "# Variables to store mode for 'experiment'\n",
    "experiment_mode = None\n",
    "\n",
    "# Find mode for each density plot\n",
    "for key in final_df_filtered['type'].unique():\n",
    "    subset = final_df_filtered[final_df_filtered['type'] == key]\n",
    "    x_values = subset['z_ssim']\n",
    "    \n",
    "    # Remove infs and NaNs\n",
    "    x_values = x_values.dropna()\n",
    "    x_values = x_values[~np.isinf(x_values)]\n",
    "    \n",
    "    if len(x_values) == 0:\n",
    "        print(f\"No valid data for {key}\")\n",
    "        continue\n",
    "    \n",
    "    kde = stats.gaussian_kde(x_values)\n",
    "    x_range = np.linspace(x_values.min(), x_values.max(), 1000)\n",
    "    y_values = kde(x_range)\n",
    "    mode_index = np.argmax(y_values)\n",
    "    mode_value = x_range[mode_index]\n",
    "    \n",
    "    # Check if 'key' is a 'random_{index}' type\n",
    "    if key.startswith('random_'):\n",
    "        random_modes.append(mode_value)\n",
    "    elif key == 'experiment':\n",
    "        experiment_mode = mode_value\n",
    "\n",
    "# Calculate the average mode for 'random_{index}'\n",
    "if random_modes:\n",
    "    average_random_mode = np.mean(random_modes)\n",
    "    print(f\"Average Mode of the density plots for 'random_{{index}}': {average_random_mode}\")\n",
    "else:\n",
    "    print(\"No valid data found for 'random_{index}'\")\n",
    "\n",
    "# Print the mode for 'experiment'\n",
    "if experiment_mode is not None:\n",
    "    print(f\"Mode of the density plot for 'experiment': {experiment_mode}\")\n",
    "else:\n",
    "    print(\"No valid data found for 'experiment'\")"
   ]
  },
  {
   "cell_type": "markdown",
   "metadata": {},
   "source": [
    "### Finding the two modes. All SSIM values plotted"
   ]
  },
  {
   "cell_type": "code",
   "execution_count": 2,
   "metadata": {
    "collapsed": true,
    "jupyter": {
     "outputs_hidden": true
    }
   },
   "outputs": [
    {
     "name": "stdout",
     "output_type": "stream",
     "text": [
      "Modes: [0.12603106 0.32001268 0.85400704]\n"
     ]
    },
    {
     "data": {
      "image/png": "[encoded data removed]",
      "text/plain": [
       "<Figure size 576x432 with 1 Axes>"
      ]
     },
     "metadata": {
      "needs_background": "light"
     },
     "output_type": "display_data"
    }
   ],
   "source": [
    "import pandas as pd\n",
    "import numpy as np\n",
    "import scipy.stats as stats\n",
    "import matplotlib.pyplot as plt\n",
    "\n",
    "# Load data from the TSV file\n",
    "file_path = '/scratch/ak8725/chess/whole_lifted/500kb_250kb_25/NPB-Omer/results/NPB-Omer-25%.tsv'\n",
    "df = pd.read_csv(file_path, sep='\\t')\n",
    "\n",
    "# Extract the 'ssim' column and remove NaN values\n",
    "ssim_data = df['ssim'].dropna()\n",
    "\n",
    "# Create the KDE plot\n",
    "kde = stats.gaussian_kde(ssim_data)\n",
    "\n",
    "# Define a range of values to evaluate the KDE\n",
    "x_values = np.linspace(ssim_data.min(), ssim_data.max(), 1000)\n",
    "\n",
    "# Evaluate the KDE at the specified values\n",
    "kde_values = kde(x_values)\n",
    "\n",
    "# Find local maxima in the KDE values\n",
    "local_maxima_indices = np.where((kde_values[:-2] < kde_values[1:-1]) & (kde_values[2:] < kde_values[1:-1]))[0] + 1\n",
    "\n",
    "# Retrieve the values corresponding to the modes\n",
    "modes = x_values[local_maxima_indices]\n",
    "\n",
    "# Create the KDE plot\n",
    "plt.figure(figsize=(8, 6))\n",
    "plt.plot(x_values, kde_values, label='KDE')\n",
    "plt.xlabel('ssim Values')\n",
    "plt.ylabel('Kernel Density Estimate')\n",
    "plt.title('KDE Plot of ssim Values')\n",
    "plt.legend()\n",
    "plt.grid(True)\n",
    "\n",
    "# Print the modes\n",
    "print(\"Modes:\", modes)\n",
    "\n",
    "# Show the KDE plot\n",
    "plt.show()\n"
   ]
  },
  {
   "cell_type": "markdown",
   "metadata": {},
   "source": [
    "### Finding the two modes. SSIM with SN >= 0.5 values plotted"
   ]
  },
  {
   "cell_type": "code",
   "execution_count": 5,
   "metadata": {},
   "outputs": [
    {
     "name": "stdout",
     "output_type": "stream",
     "text": [
      "Modes: [0.12712084 0.32001268 0.85400704]\n"
     ]
    },
    {
     "data": {
      "image/png": "[encoded data removed]",
      "text/plain": [
       "<Figure size 576x432 with 1 Axes>"
      ]
     },
     "metadata": {},
     "output_type": "display_data"
    }
   ],
   "source": [
    "import pandas as pd\n",
    "import numpy as np\n",
    "import scipy.stats as stats\n",
    "import matplotlib.pyplot as plt\n",
    "\n",
    "# Load data from the TSV file\n",
    "file_path = '/scratch/ak8725/chess/whole_lifted/500kb_250kb_25/NPB-Omer/results/NPB-Omer-25%.tsv'\n",
    "df = pd.read_csv(file_path, sep='\\t')\n",
    "\n",
    "# Filter the DataFrame to include only rows where 'SN' >= 0.5 and extract 'ssim' column\n",
    "filtered_df = df[df['SN'] >= 0.5]\n",
    "ssim_data = filtered_df['ssim'].dropna()\n",
    "\n",
    "# Create the KDE plot\n",
    "kde = stats.gaussian_kde(ssim_data)\n",
    "\n",
    "# Define a range of values to evaluate the KDE\n",
    "x_values = np.linspace(ssim_data.min(), ssim_data.max(), 1000)\n",
    "\n",
    "# Evaluate the KDE at the specified values\n",
    "kde_values = kde(x_values)\n",
    "\n",
    "# Find local maxima in the KDE values\n",
    "local_maxima_indices = np.where((kde_values[:-2] < kde_values[1:-1]) & (kde_values[2:] < kde_values[1:-1]))[0] + 1\n",
    "\n",
    "# Retrieve the values corresponding to the modes\n",
    "modes = x_values[local_maxima_indices]\n",
    "\n",
    "# Create the KDE plot\n",
    "plt.figure(figsize=(8, 6))\n",
    "plt.plot(x_values, kde_values, label='KDE')\n",
    "plt.xlabel('ssim Values')\n",
    "plt.ylabel('Kernel Density Estimate')\n",
    "plt.title('KDE Plot of ssim Values (SN >= 0.5)')\n",
    "plt.legend()\n",
    "plt.grid(True)\n",
    "\n",
    "# Print the modes\n",
    "print(\"Modes:\", modes)\n",
    "\n",
    "# Show the KDE plot\n",
    "plt.show()"
   ]
  },
  {
   "cell_type": "code",
   "execution_count": 4,
   "metadata": {
    "collapsed": true,
    "jupyter": {
     "outputs_hidden": true
    }
   },
   "outputs": [
    {
     "data": {
      "image/png": "[encoded data removed]",
      "text/plain": [
       "<Figure size 1000x600 with 1 Axes>"
      ]
     },
     "metadata": {},
     "output_type": "display_data"
    },
    {
     "name": "stdout",
     "output_type": "stream",
     "text": [
      "Total number of ssim values: 349\n",
      "Number of rows with SN >= 0.5: 253\n",
      "Mode of the density plot: 0.13\n"
     ]
    }
   ],
   "source": [
    "import os\n",
    "import glob\n",
    "import pandas as pd\n",
    "import seaborn as sns\n",
    "import matplotlib.pyplot as plt\n",
    "import numpy as np\n",
    "import scipy.stats as stats\n",
    "\n",
    "results_folder_path = '/scratch/ak8725/chess/whole_lifted/500kb_250kb_25/NPB-Omer/results'\n",
    "result_files = glob.glob(f'{results_folder_path}/*.tsv')\n",
    "\n",
    "df_list = []\n",
    "for index, result_file in enumerate(result_files):\n",
    "    file_type = 'experiment' if os.path.basename(result_file) == 'NPB-Omer-25%.tsv' else f'random_{index}'\n",
    "    df = pd.read_csv(result_file, sep='\\t')\n",
    "    df['type'] = file_type\n",
    "    df_list.append(df)\n",
    "\n",
    "final_df = pd.concat(df_list).reset_index(drop=True)\n",
    "\n",
    "# Apply filters\n",
    "final_df_filtered = final_df[(final_df['SN'] >= 0.5)].copy()\n",
    "\n",
    "final_df_filtered['plot_order'] = final_df_filtered['type'].apply(lambda x: 0 if x == 'experiment' else 1)\n",
    "final_df_filtered = final_df_filtered.sort_values(by='plot_order')\n",
    "\n",
    "palette = {key: 'limegreen' if key == 'experiment' else 'gray' for key in final_df_filtered['type'].unique()}\n",
    "\n",
    "sns.set(style=\"whitegrid\")\n",
    "plt.figure(figsize=(10, 6))\n",
    "plot = sns.kdeplot(data=final_df_filtered, x='ssim', hue='type', palette=palette, common_norm=False)\n",
    "handles, labels = plot.get_legend_handles_labels()\n",
    "\n",
    "custom_handles = [plt.Line2D([0], [0], color='magenta'), plt.Line2D([0], [0], color='gray')]\n",
    "custom_labels = ['Syntenic', 'Random']\n",
    "\n",
    "plt.legend(custom_handles, custom_labels, title='Type')\n",
    "\n",
    "plt.xlabel('ssim')\n",
    "plt.ylabel('Density')\n",
    "plt.title('Nipponbare - O.meridionalis')\n",
    "plt.show()\n",
    "\n",
    "# Count rows with type 'experiment'\n",
    "total = final_df[final_df['type'] == 'experiment'].shape[0]\n",
    "print(\"Total number of ssim values:\", total)\n",
    "experiment_rows_count = final_df_filtered[final_df_filtered['type'] == 'experiment'].shape[0]\n",
    "print(\"Number of rows with SN >= 0.5:\", experiment_rows_count)\n",
    "\n",
    "#calculate mode of experiment\n",
    "# Create a list to collect mode values for random_{index}\n",
    "random_modes = []\n",
    "\n",
    "# Variables to store mode for 'experiment'\n",
    "experiment_mode = None\n",
    "\n",
    "# Find mode for each density plot\n",
    "for key in final_df_filtered['type'].unique():\n",
    "    subset = final_df_filtered[final_df_filtered['type'] == key]\n",
    "    x_values = subset['ssim']\n",
    "    \n",
    "    # Remove infs and NaNs\n",
    "    x_values = x_values.dropna()\n",
    "    x_values = x_values[~np.isinf(x_values)]\n",
    "    \n",
    "    if len(x_values) == 0:\n",
    "        print(f\"No valid data for {key}\")\n",
    "        continue\n",
    "    \n",
    "    kde = stats.gaussian_kde(x_values)\n",
    "    x_range = np.linspace(x_values.min(), x_values.max(), 1000)\n",
    "    y_values = kde(x_range)\n",
    "    mode_index = np.argmax(y_values)\n",
    "    mode_value = x_range[mode_index]\n",
    "    \n",
    "    # Check if 'key' is a 'random_{index}' type\n",
    "    if key.startswith('random_'):\n",
    "        random_modes.append(mode_value)\n",
    "    elif key == 'experiment':\n",
    "        experiment_mode = mode_value\n",
    "formatted_mode = f\"{experiment_mode:.2f}\"\n",
    "\n",
    "# Print the mode for 'experiment'\n",
    "print(f\"Mode of the density plot: {formatted_mode}\")"
   ]
  },
  {
   "cell_type": "markdown",
   "metadata": {},
   "source": [
    "# Extracting windows with SSIM around the two modes (+- 15%)"
   ]
  },
  {
   "cell_type": "code",
   "execution_count": 41,
   "metadata": {},
   "outputs": [],
   "source": [
    "#mode1  [0.10805272, 0.14618896]\n",
    "\n",
    "import pandas as pd\n",
    "\n",
    "# Define the file paths\n",
    "input_file_path = '/scratch/ak8725/chess/whole_lifted/500kb_250kb_25/NPB-Omer/results/NPB-Omer-25%.tsv'\n",
    "output_file_path = '/scratch/ak8725/chess/whole_lifted/500kb_250kb_25/NPB-Omer/mode1.tsv'\n",
    "\n",
    "# Read the data from the input file into a DataFrame\n",
    "df = pd.read_csv(input_file_path, sep='\\t')\n",
    "\n",
    "# Define the lower and upper bounds for the 'ssim' range\n",
    "lower_bound = 0.10805272\n",
    "upper_bound = 0.14618896\n",
    "\n",
    "# Filter rows based on conditions\n",
    "filtered_df = df[(df['SN'] >= 0.5) & (df['ssim'] >= lower_bound) & (df['ssim'] <= upper_bound)]\n",
    "\n",
    "# Save the filtered data to a new file\n",
    "filtered_df.to_csv(output_file_path, sep='\\t', index=False)"
   ]
  },
  {
   "cell_type": "code",
   "execution_count": 42,
   "metadata": {},
   "outputs": [],
   "source": [
    "#mode2 [0.27201077, 0.36801459]\n",
    "\n",
    "import pandas as pd\n",
    "\n",
    "# Define the file paths\n",
    "input_file_path = '/scratch/ak8725/chess/whole_lifted/500kb_250kb_25/NPB-Omer/results/NPB-Omer-25%.tsv'\n",
    "output_file_path = '/scratch/ak8725/chess/whole_lifted/500kb_250kb_25/NPB-Omer/mode2.tsv'\n",
    "\n",
    "# Read the data from the input file into a DataFrame\n",
    "df = pd.read_csv(input_file_path, sep='\\t')\n",
    "\n",
    "# Define the lower and upper bounds for the 'ssim' range\n",
    "lower_bound = 0.27201077\n",
    "upper_bound = 0.36801459\n",
    "\n",
    "# Filter rows based on conditions\n",
    "filtered_df = df[(df['SN'] >= 0.5) & (df['ssim'] >= lower_bound) & (df['ssim'] <= upper_bound)]\n",
    "\n",
    "# Save the filtered data to a new file\n",
    "filtered_df.to_csv(output_file_path, sep='\\t', index=False)"
   ]
  },
  {
   "cell_type": "code",
   "execution_count": 12,
   "metadata": {},
   "outputs": [
    {
     "name": "stdout",
     "output_type": "stream",
     "text": [
      "/scratch/ak8725/chess/whole_lifted/500kb_250kb_25/NPB-Omer/mode1.bed created successfully.\n"
     ]
    }
   ],
   "source": [
    "#creating .bed files with coordinates of NPB windows corresponding to windows from mode1.tsv\n",
    "# Define the file paths\n",
    "bedpe_file = '/scratch/ak8725/chess/whole_lifted/500kb_250kb_25/NPB-Omer.bedpe'\n",
    "tsv_file = '/scratch/ak8725/chess/whole_lifted/500kb_250kb_25/NPB-Omer/mode1.tsv'\n",
    "output_bed_file = '/scratch/ak8725/chess/whole_lifted/500kb_250kb_25/NPB-Omer/mode1.bed'\n",
    "\n",
    "# Create a set to store the ID numbers from mode2.tsv\n",
    "tsv_ids = set()\n",
    "with open(tsv_file, 'r') as tsv:\n",
    "    next(tsv)  # Skip the header\n",
    "    for line in tsv:\n",
    "        parts = line.strip().split('\\t')\n",
    "        tsv_ids.add(int(parts[0]))\n",
    "\n",
    "# Create the mode2.bed file\n",
    "with open(output_bed_file, 'w') as output_bed:\n",
    "    with open(bedpe_file, 'r') as bedpe:\n",
    "        for line in bedpe:\n",
    "            parts = line.strip().split('\\t')\n",
    "            bedpe_id = int(parts[6])\n",
    "            if bedpe_id in tsv_ids:\n",
    "                output_bed.write('\\t'.join(parts[:3]) + '\\n')\n",
    "\n",
    "print(f'{output_bed_file} created successfully.')"
   ]
  },
  {
   "cell_type": "code",
   "execution_count": 44,
   "metadata": {},
   "outputs": [
    {
     "name": "stdout",
     "output_type": "stream",
     "text": [
      "/scratch/ak8725/chess/whole_lifted/500kb_250kb_25/NPB-Omer/mode1.bed created successfully.\n"
     ]
    }
   ],
   "source": [
    "#creating .bed files with coordinates of NPB windows corresponding to windows from mode2.tsv\n",
    "# Define the file paths\n",
    "bedpe_file = '/scratch/ak8725/chess/whole_lifted/500kb_250kb_25/NPB-Omer.bedpe'\n",
    "tsv_file = '/scratch/ak8725/chess/whole_lifted/500kb_250kb_25/NPB-Omer/mode1.tsv'\n",
    "output_bed_file = '/scratch/ak8725/chess/whole_lifted/500kb_250kb_25/NPB-Omer/mode1.bed'\n",
    "\n",
    "# Create a set to store the ID numbers from mode2.tsv\n",
    "tsv_ids = set()\n",
    "with open(tsv_file, 'r') as tsv:\n",
    "    next(tsv)  # Skip the header\n",
    "    for line in tsv:\n",
    "        parts = line.strip().split('\\t')\n",
    "        tsv_ids.add(int(parts[0]))\n",
    "\n",
    "# Create the mode2.bed file\n",
    "with open(output_bed_file, 'w') as output_bed:\n",
    "    with open(bedpe_file, 'r') as bedpe:\n",
    "        for line in bedpe:\n",
    "            parts = line.strip().split('\\t')\n",
    "            bedpe_id = int(parts[6])\n",
    "            if bedpe_id in tsv_ids:\n",
    "                output_bed.write('\\t'.join(parts[:3]) + '\\n')\n",
    "\n",
    "print(f'{output_bed_file} created successfully.')"
   ]
  },
  {
   "cell_type": "markdown",
   "metadata": {},
   "source": [
    "# Analyzing distribution of different features between mode1 and mode2 windows"
   ]
  },
  {
   "cell_type": "code",
   "execution_count": 136,
   "metadata": {},
   "outputs": [],
   "source": [
    "#deleting the non-chr\n",
    "!sed -i '/^GU592207\\.1/d' /scratch/ak8725/az_mrg/fitcons/from_zoe/H3K4me3.bedgraph"
   ]
  },
  {
   "cell_type": "code",
   "execution_count": 4,
   "metadata": {},
   "outputs": [
    {
     "name": "stdout",
     "output_type": "stream",
     "text": [
      "npb_GC_content_per_500bp.bedgraph  npb_inv_per_500bp.bedgraph\n",
      "npb_copia_per_500bp.bedgraph       npb_line_per_500bp.bedgraph\n",
      "npb_del_per_500bp.bedgraph         npb_rest_retro_te_per_500bp.bedgraph\n",
      "npb_dna_te_per_500bp.bedgraph      npb_sine_per_500bp.bedgraph\n",
      "npb_dup_per_500bp.bedgraph         npb_snp_per_500bp.bedgraph\n",
      "npb_genes_per_500bp.bedgraph       npb_sv_per_500bp.bedgraph\n",
      "npb_gypsy_per_500bp.bedgraph       npb_te_per_500bp.bedgraph\n",
      "npb_ins_per_500bp.bedgraph\n"
     ]
    }
   ],
   "source": [
    "ls /scratch/ak8725/npb_feature_tracks/"
   ]
  },
  {
   "cell_type": "code",
   "execution_count": 3,
   "metadata": {},
   "outputs": [
    {
     "name": "stdout",
     "output_type": "stream",
     "text": [
      "H3K18ac.bedgraph   H3K27me3.bw        \u001b[0m\u001b[01;32mPhastCons8wayChrAll.bedgraph\u001b[0m*\n",
      "H3K18ac.bw         H3K4me3.bedgraph   \u001b[01;32mmethylation_from_zoe.bedgraph\u001b[0m*\n",
      "H3K27ac.bedgraph   H3K4me3.bw         methylation_from_zoe.bw\n",
      "H3K27ac.bw         \u001b[01;32mPRO-seq.bedgraph\u001b[0m*  rho.bedgraph\n",
      "H3K27me3.bedgraph  PRO-seq.bw         rho.bw\n"
     ]
    }
   ],
   "source": [
    "ls /scratch/ak8725/az_mrg/fitcons/from_zoe/"
   ]
  },
  {
   "cell_type": "code",
   "execution_count": 24,
   "metadata": {},
   "outputs": [],
   "source": [
    "#making file tab-delimited\n",
    "!sed -i -e 's/\\s/\\t/g' /scratch/ak8725/npb_feature_tracks/npb_rest_retro_te_per_500bp.bedgraph"
   ]
  },
  {
   "cell_type": "code",
   "execution_count": 46,
   "metadata": {
    "collapsed": true,
    "jupyter": {
     "outputs_hidden": true
    }
   },
   "outputs": [
    {
     "name": "stderr",
     "output_type": "stream",
     "text": [
      "***** WARNING: File /scratch/ak8725/chess/whole_lifted/500kb_250kb_25/NPB-Omer/mode1_filtered.bed has a record where naming convention (leading zero) is inconsistent with other files:\n",
      "chr10\t13000000\t13500000\n",
      "\n",
      "***** WARNING: File /scratch/ak8725/chess/whole_lifted/500kb_250kb_25/NPB-Omer/mode1_filtered.bed has a record where naming convention (leading zero) is inconsistent with other files:\n",
      "chr10\t13000000\t13500000\n",
      "\n",
      "***** WARNING: File /scratch/ak8725/chess/whole_lifted/500kb_250kb_25/NPB-Omer/mode2_filtered.bed has a record where naming convention (leading zero) is inconsistent with other files:\n",
      "chr10\t15500000\t16000000\n",
      "\n",
      "***** WARNING: File /scratch/ak8725/chess/whole_lifted/500kb_250kb_25/NPB-Omer/mode2_filtered.bed has a record where naming convention (leading zero) is inconsistent with other files:\n",
      "chr10\t15500000\t16000000\n",
      "\n"
     ]
    },
    {
     "name": "stdout",
     "output_type": "stream",
     "text": [
      "Mean pro per window calculated, output saved as pro_mode1.txt\n",
      "Mean pro per window calculated, output saved as pro_mode2.txt\n"
     ]
    },
    {
     "name": "stderr",
     "output_type": "stream",
     "text": [
      "***** WARNING: File /scratch/ak8725/chess/whole_lifted/500kb_250kb_25/NPB-Omer/mode1_filtered.bed has a record where naming convention (leading zero) is inconsistent with other files:\n",
      "chr10\t13000000\t13500000\n",
      "\n",
      "***** WARNING: File /scratch/ak8725/chess/whole_lifted/500kb_250kb_25/NPB-Omer/mode1_filtered.bed has a record where naming convention (leading zero) is inconsistent with other files:\n",
      "chr10\t13000000\t13500000\n",
      "\n"
     ]
    },
    {
     "name": "stdout",
     "output_type": "stream",
     "text": [
      "Mean meth per window calculated, output saved as meth_mode1.txt\n"
     ]
    },
    {
     "name": "stderr",
     "output_type": "stream",
     "text": [
      "***** WARNING: File /scratch/ak8725/chess/whole_lifted/500kb_250kb_25/NPB-Omer/mode2_filtered.bed has a record where naming convention (leading zero) is inconsistent with other files:\n",
      "chr10\t15500000\t16000000\n",
      "\n",
      "***** WARNING: File /scratch/ak8725/chess/whole_lifted/500kb_250kb_25/NPB-Omer/mode2_filtered.bed has a record where naming convention (leading zero) is inconsistent with other files:\n",
      "chr10\t15500000\t16000000\n",
      "\n"
     ]
    },
    {
     "name": "stdout",
     "output_type": "stream",
     "text": [
      "Mean meth per window calculated, output saved as meth_mode2.txt\n"
     ]
    },
    {
     "name": "stderr",
     "output_type": "stream",
     "text": [
      "***** WARNING: File /scratch/ak8725/chess/whole_lifted/500kb_250kb_25/NPB-Omer/mode1_filtered.bed has a record where naming convention (leading zero) is inconsistent with other files:\n",
      "chr10\t13000000\t13500000\n",
      "\n",
      "***** WARNING: File /scratch/ak8725/chess/whole_lifted/500kb_250kb_25/NPB-Omer/mode1_filtered.bed has a record where naming convention (leading zero) is inconsistent with other files:\n",
      "chr10\t13000000\t13500000\n",
      "\n"
     ]
    },
    {
     "name": "stdout",
     "output_type": "stream",
     "text": [
      "Mean H3K18ac per window calculated, output saved as H3K18ac_mode1.txt\n"
     ]
    },
    {
     "name": "stderr",
     "output_type": "stream",
     "text": [
      "***** WARNING: File /scratch/ak8725/chess/whole_lifted/500kb_250kb_25/NPB-Omer/mode2_filtered.bed has a record where naming convention (leading zero) is inconsistent with other files:\n",
      "chr10\t15500000\t16000000\n",
      "\n",
      "***** WARNING: File /scratch/ak8725/chess/whole_lifted/500kb_250kb_25/NPB-Omer/mode2_filtered.bed has a record where naming convention (leading zero) is inconsistent with other files:\n",
      "chr10\t15500000\t16000000\n",
      "\n"
     ]
    },
    {
     "name": "stdout",
     "output_type": "stream",
     "text": [
      "Mean H3K18ac per window calculated, output saved as H3K18ac_mode2.txt\n"
     ]
    },
    {
     "name": "stderr",
     "output_type": "stream",
     "text": [
      "***** WARNING: File /scratch/ak8725/chess/whole_lifted/500kb_250kb_25/NPB-Omer/mode1_filtered.bed has a record where naming convention (leading zero) is inconsistent with other files:\n",
      "chr10\t13000000\t13500000\n",
      "\n",
      "***** WARNING: File /scratch/ak8725/chess/whole_lifted/500kb_250kb_25/NPB-Omer/mode1_filtered.bed has a record where naming convention (leading zero) is inconsistent with other files:\n",
      "chr10\t13000000\t13500000\n",
      "\n"
     ]
    },
    {
     "name": "stdout",
     "output_type": "stream",
     "text": [
      "Mean H3K27ac per window calculated, output saved as H3K27ac_mode1.txt\n"
     ]
    },
    {
     "name": "stderr",
     "output_type": "stream",
     "text": [
      "***** WARNING: File /scratch/ak8725/chess/whole_lifted/500kb_250kb_25/NPB-Omer/mode2_filtered.bed has a record where naming convention (leading zero) is inconsistent with other files:\n",
      "chr10\t15500000\t16000000\n",
      "\n",
      "***** WARNING: File /scratch/ak8725/chess/whole_lifted/500kb_250kb_25/NPB-Omer/mode2_filtered.bed has a record where naming convention (leading zero) is inconsistent with other files:\n",
      "chr10\t15500000\t16000000\n",
      "\n"
     ]
    },
    {
     "name": "stdout",
     "output_type": "stream",
     "text": [
      "Mean H3K27ac per window calculated, output saved as H3K27ac_mode2.txt\n"
     ]
    },
    {
     "name": "stderr",
     "output_type": "stream",
     "text": [
      "***** WARNING: File /scratch/ak8725/chess/whole_lifted/500kb_250kb_25/NPB-Omer/mode1_filtered.bed has a record where naming convention (leading zero) is inconsistent with other files:\n",
      "chr10\t13000000\t13500000\n",
      "\n",
      "***** WARNING: File /scratch/ak8725/chess/whole_lifted/500kb_250kb_25/NPB-Omer/mode1_filtered.bed has a record where naming convention (leading zero) is inconsistent with other files:\n",
      "chr10\t13000000\t13500000\n",
      "\n"
     ]
    },
    {
     "name": "stdout",
     "output_type": "stream",
     "text": [
      "Mean H3K27me3 per window calculated, output saved as H3K27me3_mode1.txt\n"
     ]
    },
    {
     "name": "stderr",
     "output_type": "stream",
     "text": [
      "***** WARNING: File /scratch/ak8725/chess/whole_lifted/500kb_250kb_25/NPB-Omer/mode2_filtered.bed has a record where naming convention (leading zero) is inconsistent with other files:\n",
      "chr10\t15500000\t16000000\n",
      "\n",
      "***** WARNING: File /scratch/ak8725/chess/whole_lifted/500kb_250kb_25/NPB-Omer/mode2_filtered.bed has a record where naming convention (leading zero) is inconsistent with other files:\n",
      "chr10\t15500000\t16000000\n",
      "\n"
     ]
    },
    {
     "name": "stdout",
     "output_type": "stream",
     "text": [
      "Mean H3K27me3 per window calculated, output saved as H3K27me3_mode2.txt\n"
     ]
    },
    {
     "name": "stderr",
     "output_type": "stream",
     "text": [
      "***** WARNING: File /scratch/ak8725/chess/whole_lifted/500kb_250kb_25/NPB-Omer/mode1_filtered.bed has a record where naming convention (leading zero) is inconsistent with other files:\n",
      "chr10\t13000000\t13500000\n",
      "\n",
      "***** WARNING: File /scratch/ak8725/chess/whole_lifted/500kb_250kb_25/NPB-Omer/mode1_filtered.bed has a record where naming convention (leading zero) is inconsistent with other files:\n",
      "chr10\t13000000\t13500000\n",
      "\n"
     ]
    },
    {
     "name": "stdout",
     "output_type": "stream",
     "text": [
      "Mean H3K4me3 per window calculated, output saved as H3K4me3_mode1.txt\n"
     ]
    },
    {
     "name": "stderr",
     "output_type": "stream",
     "text": [
      "***** WARNING: File /scratch/ak8725/chess/whole_lifted/500kb_250kb_25/NPB-Omer/mode2_filtered.bed has a record where naming convention (leading zero) is inconsistent with other files:\n",
      "chr10\t15500000\t16000000\n",
      "\n",
      "***** WARNING: File /scratch/ak8725/chess/whole_lifted/500kb_250kb_25/NPB-Omer/mode2_filtered.bed has a record where naming convention (leading zero) is inconsistent with other files:\n",
      "chr10\t15500000\t16000000\n",
      "\n"
     ]
    },
    {
     "name": "stdout",
     "output_type": "stream",
     "text": [
      "Mean H3K4me3 per window calculated, output saved as H3K4me3_mode2.txt\n"
     ]
    },
    {
     "name": "stderr",
     "output_type": "stream",
     "text": [
      "***** WARNING: File /scratch/ak8725/chess/whole_lifted/500kb_250kb_25/NPB-Omer/mode1_filtered.bed has a record where naming convention (leading zero) is inconsistent with other files:\n",
      "chr10\t13000000\t13500000\n",
      "\n",
      "***** WARNING: File /scratch/ak8725/chess/whole_lifted/500kb_250kb_25/NPB-Omer/mode1_filtered.bed has a record where naming convention (leading zero) is inconsistent with other files:\n",
      "chr10\t13000000\t13500000\n",
      "\n"
     ]
    },
    {
     "name": "stdout",
     "output_type": "stream",
     "text": [
      "Mean rho per window calculated, output saved as rho_mode1.txt\n"
     ]
    },
    {
     "name": "stderr",
     "output_type": "stream",
     "text": [
      "***** WARNING: File /scratch/ak8725/chess/whole_lifted/500kb_250kb_25/NPB-Omer/mode2_filtered.bed has a record where naming convention (leading zero) is inconsistent with other files:\n",
      "chr10\t15500000\t16000000\n",
      "\n",
      "***** WARNING: File /scratch/ak8725/chess/whole_lifted/500kb_250kb_25/NPB-Omer/mode2_filtered.bed has a record where naming convention (leading zero) is inconsistent with other files:\n",
      "chr10\t15500000\t16000000\n",
      "\n"
     ]
    },
    {
     "name": "stdout",
     "output_type": "stream",
     "text": [
      "Mean rho per window calculated, output saved as rho_mode2.txt\n"
     ]
    },
    {
     "name": "stderr",
     "output_type": "stream",
     "text": [
      "***** WARNING: File /scratch/ak8725/chess/whole_lifted/500kb_250kb_25/NPB-Omer/mode1_filtered.bed has a record where naming convention (leading zero) is inconsistent with other files:\n",
      "chr10\t13000000\t13500000\n",
      "\n",
      "***** WARNING: File /scratch/ak8725/chess/whole_lifted/500kb_250kb_25/NPB-Omer/mode1_filtered.bed has a record where naming convention (leading zero) is inconsistent with other files:\n",
      "chr10\t13000000\t13500000\n",
      "\n"
     ]
    },
    {
     "name": "stdout",
     "output_type": "stream",
     "text": [
      "Mean phast per window calculated, output saved as phast_mode1.txt\n"
     ]
    },
    {
     "name": "stderr",
     "output_type": "stream",
     "text": [
      "***** WARNING: File /scratch/ak8725/chess/whole_lifted/500kb_250kb_25/NPB-Omer/mode2_filtered.bed has a record where naming convention (leading zero) is inconsistent with other files:\n",
      "chr10\t15500000\t16000000\n",
      "\n",
      "***** WARNING: File /scratch/ak8725/chess/whole_lifted/500kb_250kb_25/NPB-Omer/mode2_filtered.bed has a record where naming convention (leading zero) is inconsistent with other files:\n",
      "chr10\t15500000\t16000000\n",
      "\n"
     ]
    },
    {
     "name": "stdout",
     "output_type": "stream",
     "text": [
      "Mean phast per window calculated, output saved as phast_mode2.txt\n"
     ]
    },
    {
     "name": "stderr",
     "output_type": "stream",
     "text": [
      "***** WARNING: File /scratch/ak8725/chess/whole_lifted/500kb_250kb_25/NPB-Omer/mode1_filtered.bed has a record where naming convention (leading zero) is inconsistent with other files:\n",
      "chr10\t13000000\t13500000\n",
      "\n",
      "***** WARNING: File /scratch/ak8725/chess/whole_lifted/500kb_250kb_25/NPB-Omer/mode1_filtered.bed has a record where naming convention (leading zero) is inconsistent with other files:\n",
      "chr10\t13000000\t13500000\n",
      "\n",
      "***** WARNING: File /scratch/ak8725/chess/whole_lifted/500kb_250kb_25/NPB-Omer/mode2_filtered.bed has a record where naming convention (leading zero) is inconsistent with other files:\n",
      "chr10\t15500000\t16000000\n",
      "\n",
      "***** WARNING: File /scratch/ak8725/chess/whole_lifted/500kb_250kb_25/NPB-Omer/mode2_filtered.bed has a record where naming convention (leading zero) is inconsistent with other files:\n",
      "chr10\t15500000\t16000000\n",
      "\n"
     ]
    },
    {
     "name": "stdout",
     "output_type": "stream",
     "text": [
      "Mean genes per window calculated, output saved as genes_mode1.txt\n",
      "Mean genes per window calculated, output saved as genes_mode2.txt\n"
     ]
    },
    {
     "name": "stderr",
     "output_type": "stream",
     "text": [
      "***** WARNING: File /scratch/ak8725/chess/whole_lifted/500kb_250kb_25/NPB-Omer/mode1_filtered.bed has a record where naming convention (leading zero) is inconsistent with other files:\n",
      "chr10\t13000000\t13500000\n",
      "\n",
      "***** WARNING: File /scratch/ak8725/chess/whole_lifted/500kb_250kb_25/NPB-Omer/mode1_filtered.bed has a record where naming convention (leading zero) is inconsistent with other files:\n",
      "chr10\t13000000\t13500000\n",
      "\n",
      "***** WARNING: File /scratch/ak8725/chess/whole_lifted/500kb_250kb_25/NPB-Omer/mode2_filtered.bed has a record where naming convention (leading zero) is inconsistent with other files:\n",
      "chr10\t15500000\t16000000\n",
      "\n",
      "***** WARNING: File /scratch/ak8725/chess/whole_lifted/500kb_250kb_25/NPB-Omer/mode2_filtered.bed has a record where naming convention (leading zero) is inconsistent with other files:\n",
      "chr10\t15500000\t16000000\n",
      "\n"
     ]
    },
    {
     "name": "stdout",
     "output_type": "stream",
     "text": [
      "Mean gc per window calculated, output saved as gc_mode1.txt\n",
      "Mean gc per window calculated, output saved as gc_mode2.txt\n"
     ]
    },
    {
     "name": "stderr",
     "output_type": "stream",
     "text": [
      "***** WARNING: File /scratch/ak8725/chess/whole_lifted/500kb_250kb_25/NPB-Omer/mode1_filtered.bed has a record where naming convention (leading zero) is inconsistent with other files:\n",
      "chr10\t13000000\t13500000\n",
      "\n",
      "***** WARNING: File /scratch/ak8725/chess/whole_lifted/500kb_250kb_25/NPB-Omer/mode1_filtered.bed has a record where naming convention (leading zero) is inconsistent with other files:\n",
      "chr10\t13000000\t13500000\n",
      "\n",
      "***** WARNING: File /scratch/ak8725/chess/whole_lifted/500kb_250kb_25/NPB-Omer/mode2_filtered.bed has a record where naming convention (leading zero) is inconsistent with other files:\n",
      "chr10\t15500000\t16000000\n",
      "\n",
      "***** WARNING: File /scratch/ak8725/chess/whole_lifted/500kb_250kb_25/NPB-Omer/mode2_filtered.bed has a record where naming convention (leading zero) is inconsistent with other files:\n",
      "chr10\t15500000\t16000000\n",
      "\n"
     ]
    },
    {
     "name": "stdout",
     "output_type": "stream",
     "text": [
      "Mean sv per window calculated, output saved as sv_mode1.txt\n",
      "Mean sv per window calculated, output saved as sv_mode2.txt\n"
     ]
    },
    {
     "name": "stderr",
     "output_type": "stream",
     "text": [
      "***** WARNING: File /scratch/ak8725/chess/whole_lifted/500kb_250kb_25/NPB-Omer/mode1_filtered.bed has a record where naming convention (leading zero) is inconsistent with other files:\n",
      "chr10\t13000000\t13500000\n",
      "\n",
      "***** WARNING: File /scratch/ak8725/chess/whole_lifted/500kb_250kb_25/NPB-Omer/mode1_filtered.bed has a record where naming convention (leading zero) is inconsistent with other files:\n",
      "chr10\t13000000\t13500000\n",
      "\n",
      "***** WARNING: File /scratch/ak8725/chess/whole_lifted/500kb_250kb_25/NPB-Omer/mode2_filtered.bed has a record where naming convention (leading zero) is inconsistent with other files:\n",
      "chr10\t15500000\t16000000\n",
      "\n",
      "***** WARNING: File /scratch/ak8725/chess/whole_lifted/500kb_250kb_25/NPB-Omer/mode2_filtered.bed has a record where naming convention (leading zero) is inconsistent with other files:\n",
      "chr10\t15500000\t16000000\n",
      "\n"
     ]
    },
    {
     "name": "stdout",
     "output_type": "stream",
     "text": [
      "Mean snp per window calculated, output saved as snp_mode1.txt\n",
      "Mean snp per window calculated, output saved as snp_mode2.txt\n"
     ]
    },
    {
     "name": "stderr",
     "output_type": "stream",
     "text": [
      "***** WARNING: File /scratch/ak8725/chess/whole_lifted/500kb_250kb_25/NPB-Omer/mode1_filtered.bed has a record where naming convention (leading zero) is inconsistent with other files:\n",
      "chr10\t13000000\t13500000\n",
      "\n",
      "***** WARNING: File /scratch/ak8725/chess/whole_lifted/500kb_250kb_25/NPB-Omer/mode1_filtered.bed has a record where naming convention (leading zero) is inconsistent with other files:\n",
      "chr10\t13000000\t13500000\n",
      "\n",
      "***** WARNING: File /scratch/ak8725/chess/whole_lifted/500kb_250kb_25/NPB-Omer/mode2_filtered.bed has a record where naming convention (leading zero) is inconsistent with other files:\n",
      "chr10\t15500000\t16000000\n",
      "\n",
      "***** WARNING: File /scratch/ak8725/chess/whole_lifted/500kb_250kb_25/NPB-Omer/mode2_filtered.bed has a record where naming convention (leading zero) is inconsistent with other files:\n",
      "chr10\t15500000\t16000000\n",
      "\n"
     ]
    },
    {
     "name": "stdout",
     "output_type": "stream",
     "text": [
      "Mean te per window calculated, output saved as te_mode1.txt\n",
      "Mean te per window calculated, output saved as te_mode2.txt\n"
     ]
    },
    {
     "name": "stderr",
     "output_type": "stream",
     "text": [
      "***** WARNING: File /scratch/ak8725/chess/whole_lifted/500kb_250kb_25/NPB-Omer/mode1_filtered.bed has a record where naming convention (leading zero) is inconsistent with other files:\n",
      "chr10\t13000000\t13500000\n",
      "\n",
      "***** WARNING: File /scratch/ak8725/chess/whole_lifted/500kb_250kb_25/NPB-Omer/mode1_filtered.bed has a record where naming convention (leading zero) is inconsistent with other files:\n",
      "chr10\t13000000\t13500000\n",
      "\n",
      "***** WARNING: File /scratch/ak8725/chess/whole_lifted/500kb_250kb_25/NPB-Omer/mode2_filtered.bed has a record where naming convention (leading zero) is inconsistent with other files:\n",
      "chr10\t15500000\t16000000\n",
      "\n",
      "***** WARNING: File /scratch/ak8725/chess/whole_lifted/500kb_250kb_25/NPB-Omer/mode2_filtered.bed has a record where naming convention (leading zero) is inconsistent with other files:\n",
      "chr10\t15500000\t16000000\n",
      "\n"
     ]
    },
    {
     "name": "stdout",
     "output_type": "stream",
     "text": [
      "Mean dna_te per window calculated, output saved as dna_te_mode1.txt\n",
      "Mean dna_te per window calculated, output saved as dna_te_mode2.txt\n"
     ]
    },
    {
     "name": "stderr",
     "output_type": "stream",
     "text": [
      "***** WARNING: File /scratch/ak8725/chess/whole_lifted/500kb_250kb_25/NPB-Omer/mode1_filtered.bed has a record where naming convention (leading zero) is inconsistent with other files:\n",
      "chr10\t13000000\t13500000\n",
      "\n",
      "***** WARNING: File /scratch/ak8725/chess/whole_lifted/500kb_250kb_25/NPB-Omer/mode1_filtered.bed has a record where naming convention (leading zero) is inconsistent with other files:\n",
      "chr10\t13000000\t13500000\n",
      "\n",
      "***** WARNING: File /scratch/ak8725/chess/whole_lifted/500kb_250kb_25/NPB-Omer/mode2_filtered.bed has a record where naming convention (leading zero) is inconsistent with other files:\n",
      "chr10\t15500000\t16000000\n",
      "\n",
      "***** WARNING: File /scratch/ak8725/chess/whole_lifted/500kb_250kb_25/NPB-Omer/mode2_filtered.bed has a record where naming convention (leading zero) is inconsistent with other files:\n",
      "chr10\t15500000\t16000000\n",
      "\n"
     ]
    },
    {
     "name": "stdout",
     "output_type": "stream",
     "text": [
      "Mean gypsy per window calculated, output saved as gypsy_mode1.txt\n",
      "Mean gypsy per window calculated, output saved as gypsy_mode2.txt\n"
     ]
    },
    {
     "name": "stderr",
     "output_type": "stream",
     "text": [
      "***** WARNING: File /scratch/ak8725/chess/whole_lifted/500kb_250kb_25/NPB-Omer/mode1_filtered.bed has a record where naming convention (leading zero) is inconsistent with other files:\n",
      "chr10\t13000000\t13500000\n",
      "\n",
      "***** WARNING: File /scratch/ak8725/chess/whole_lifted/500kb_250kb_25/NPB-Omer/mode1_filtered.bed has a record where naming convention (leading zero) is inconsistent with other files:\n",
      "chr10\t13000000\t13500000\n",
      "\n",
      "***** WARNING: File /scratch/ak8725/chess/whole_lifted/500kb_250kb_25/NPB-Omer/mode2_filtered.bed has a record where naming convention (leading zero) is inconsistent with other files:\n",
      "chr10\t15500000\t16000000\n",
      "\n",
      "***** WARNING: File /scratch/ak8725/chess/whole_lifted/500kb_250kb_25/NPB-Omer/mode2_filtered.bed has a record where naming convention (leading zero) is inconsistent with other files:\n",
      "chr10\t15500000\t16000000\n",
      "\n"
     ]
    },
    {
     "name": "stdout",
     "output_type": "stream",
     "text": [
      "Mean copia per window calculated, output saved as copia_mode1.txt\n",
      "Mean copia per window calculated, output saved as copia_mode2.txt\n"
     ]
    },
    {
     "name": "stderr",
     "output_type": "stream",
     "text": [
      "***** WARNING: File /scratch/ak8725/chess/whole_lifted/500kb_250kb_25/NPB-Omer/mode1_filtered.bed has a record where naming convention (leading zero) is inconsistent with other files:\n",
      "chr10\t13000000\t13500000\n",
      "\n",
      "***** WARNING: File /scratch/ak8725/chess/whole_lifted/500kb_250kb_25/NPB-Omer/mode1_filtered.bed has a record where naming convention (leading zero) is inconsistent with other files:\n",
      "chr10\t13000000\t13500000\n",
      "\n",
      "***** WARNING: File /scratch/ak8725/chess/whole_lifted/500kb_250kb_25/NPB-Omer/mode2_filtered.bed has a record where naming convention (leading zero) is inconsistent with other files:\n",
      "chr10\t15500000\t16000000\n",
      "\n",
      "***** WARNING: File /scratch/ak8725/chess/whole_lifted/500kb_250kb_25/NPB-Omer/mode2_filtered.bed has a record where naming convention (leading zero) is inconsistent with other files:\n",
      "chr10\t15500000\t16000000\n",
      "\n"
     ]
    },
    {
     "name": "stdout",
     "output_type": "stream",
     "text": [
      "Mean line per window calculated, output saved as line_mode1.txt\n",
      "Mean line per window calculated, output saved as line_mode2.txt\n"
     ]
    },
    {
     "name": "stderr",
     "output_type": "stream",
     "text": [
      "***** WARNING: File /scratch/ak8725/chess/whole_lifted/500kb_250kb_25/NPB-Omer/mode1_filtered.bed has a record where naming convention (leading zero) is inconsistent with other files:\n",
      "chr10\t13000000\t13500000\n",
      "\n",
      "***** WARNING: File /scratch/ak8725/chess/whole_lifted/500kb_250kb_25/NPB-Omer/mode1_filtered.bed has a record where naming convention (leading zero) is inconsistent with other files:\n",
      "chr10\t13000000\t13500000\n",
      "\n",
      "***** WARNING: File /scratch/ak8725/chess/whole_lifted/500kb_250kb_25/NPB-Omer/mode2_filtered.bed has a record where naming convention (leading zero) is inconsistent with other files:\n",
      "chr10\t15500000\t16000000\n",
      "\n",
      "***** WARNING: File /scratch/ak8725/chess/whole_lifted/500kb_250kb_25/NPB-Omer/mode2_filtered.bed has a record where naming convention (leading zero) is inconsistent with other files:\n",
      "chr10\t15500000\t16000000\n",
      "\n"
     ]
    },
    {
     "name": "stdout",
     "output_type": "stream",
     "text": [
      "Mean sine per window calculated, output saved as sine_mode1.txt\n",
      "Mean sine per window calculated, output saved as sine_mode2.txt\n"
     ]
    },
    {
     "name": "stderr",
     "output_type": "stream",
     "text": [
      "***** WARNING: File /scratch/ak8725/chess/whole_lifted/500kb_250kb_25/NPB-Omer/mode1_filtered.bed has a record where naming convention (leading zero) is inconsistent with other files:\n",
      "chr10\t13000000\t13500000\n",
      "\n",
      "***** WARNING: File /scratch/ak8725/chess/whole_lifted/500kb_250kb_25/NPB-Omer/mode1_filtered.bed has a record where naming convention (leading zero) is inconsistent with other files:\n",
      "chr10\t13000000\t13500000\n",
      "\n",
      "***** WARNING: File /scratch/ak8725/chess/whole_lifted/500kb_250kb_25/NPB-Omer/mode2_filtered.bed has a record where naming convention (leading zero) is inconsistent with other files:\n",
      "chr10\t15500000\t16000000\n",
      "\n",
      "***** WARNING: File /scratch/ak8725/chess/whole_lifted/500kb_250kb_25/NPB-Omer/mode2_filtered.bed has a record where naming convention (leading zero) is inconsistent with other files:\n",
      "chr10\t15500000\t16000000\n",
      "\n"
     ]
    },
    {
     "name": "stdout",
     "output_type": "stream",
     "text": [
      "Mean rest_retro_te per window calculated, output saved as rest_retro_te_mode1.txt\n",
      "Mean rest_retro_te per window calculated, output saved as rest_retro_te_mode2.txt\n"
     ]
    },
    {
     "name": "stderr",
     "output_type": "stream",
     "text": [
      "***** WARNING: File /scratch/ak8725/chess/whole_lifted/500kb_250kb_25/NPB-Omer/mode1_filtered.bed has a record where naming convention (leading zero) is inconsistent with other files:\n",
      "chr10\t13000000\t13500000\n",
      "\n",
      "***** WARNING: File /scratch/ak8725/chess/whole_lifted/500kb_250kb_25/NPB-Omer/mode1_filtered.bed has a record where naming convention (leading zero) is inconsistent with other files:\n",
      "chr10\t13000000\t13500000\n",
      "\n",
      "***** WARNING: File /scratch/ak8725/chess/whole_lifted/500kb_250kb_25/NPB-Omer/mode2_filtered.bed has a record where naming convention (leading zero) is inconsistent with other files:\n",
      "chr10\t15500000\t16000000\n",
      "\n",
      "***** WARNING: File /scratch/ak8725/chess/whole_lifted/500kb_250kb_25/NPB-Omer/mode2_filtered.bed has a record where naming convention (leading zero) is inconsistent with other files:\n",
      "chr10\t15500000\t16000000\n",
      "\n"
     ]
    },
    {
     "name": "stdout",
     "output_type": "stream",
     "text": [
      "Mean ssd per window calculated, output saved as ssd_mode1.txt\n",
      "Mean ssd per window calculated, output saved as ssd_mode2.txt\n"
     ]
    },
    {
     "name": "stderr",
     "output_type": "stream",
     "text": [
      "***** WARNING: File /scratch/ak8725/chess/whole_lifted/500kb_250kb_25/NPB-Omer/mode1_filtered.bed has a record where naming convention (leading zero) is inconsistent with other files:\n",
      "chr10\t13000000\t13500000\n",
      "\n",
      "***** WARNING: File /scratch/ak8725/chess/whole_lifted/500kb_250kb_25/NPB-Omer/mode1_filtered.bed has a record where naming convention (leading zero) is inconsistent with other files:\n",
      "chr10\t13000000\t13500000\n",
      "\n"
     ]
    },
    {
     "name": "stdout",
     "output_type": "stream",
     "text": [
      "Mean wgd per window calculated, output saved as wgd_mode1.txt\n"
     ]
    },
    {
     "name": "stderr",
     "output_type": "stream",
     "text": [
      "***** WARNING: File /scratch/ak8725/chess/whole_lifted/500kb_250kb_25/NPB-Omer/mode2_filtered.bed has a record where naming convention (leading zero) is inconsistent with other files:\n",
      "chr10\t15500000\t16000000\n",
      "\n",
      "***** WARNING: File /scratch/ak8725/chess/whole_lifted/500kb_250kb_25/NPB-Omer/mode2_filtered.bed has a record where naming convention (leading zero) is inconsistent with other files:\n",
      "chr10\t15500000\t16000000\n",
      "\n"
     ]
    },
    {
     "name": "stdout",
     "output_type": "stream",
     "text": [
      "Mean wgd per window calculated, output saved as wgd_mode2.txt\n"
     ]
    },
    {
     "name": "stderr",
     "output_type": "stream",
     "text": [
      "***** WARNING: File /scratch/ak8725/chess/whole_lifted/500kb_250kb_25/NPB-Omer/mode1_filtered.bed has a record where naming convention (leading zero) is inconsistent with other files:\n",
      "chr10\t13000000\t13500000\n",
      "\n",
      "***** WARNING: File /scratch/ak8725/chess/whole_lifted/500kb_250kb_25/NPB-Omer/mode1_filtered.bed has a record where naming convention (leading zero) is inconsistent with other files:\n",
      "chr10\t13000000\t13500000\n",
      "\n",
      "***** WARNING: File /scratch/ak8725/chess/whole_lifted/500kb_250kb_25/NPB-Omer/mode2_filtered.bed has a record where naming convention (leading zero) is inconsistent with other files:\n",
      "chr10\t15500000\t16000000\n",
      "\n",
      "***** WARNING: File /scratch/ak8725/chess/whole_lifted/500kb_250kb_25/NPB-Omer/mode2_filtered.bed has a record where naming convention (leading zero) is inconsistent with other files:\n",
      "chr10\t15500000\t16000000\n",
      "\n"
     ]
    },
    {
     "name": "stdout",
     "output_type": "stream",
     "text": [
      "Mean tips per window calculated, output saved as tips_mode1.txt\n",
      "Mean tips per window calculated, output saved as tips_mode2.txt\n"
     ]
    },
    {
     "name": "stderr",
     "output_type": "stream",
     "text": [
      "***** WARNING: File /scratch/ak8725/chess/whole_lifted/500kb_250kb_25/NPB-Omer/mode1_filtered.bed has a record where naming convention (leading zero) is inconsistent with other files:\n",
      "chr10\t13000000\t13500000\n",
      "\n",
      "***** WARNING: File /scratch/ak8725/chess/whole_lifted/500kb_250kb_25/NPB-Omer/mode1_filtered.bed has a record where naming convention (leading zero) is inconsistent with other files:\n",
      "chr10\t13000000\t13500000\n",
      "\n",
      "***** WARNING: File /scratch/ak8725/chess/whole_lifted/500kb_250kb_25/NPB-Omer/mode2_filtered.bed has a record where naming convention (leading zero) is inconsistent with other files:\n",
      "chr10\t15500000\t16000000\n",
      "\n",
      "***** WARNING: File /scratch/ak8725/chess/whole_lifted/500kb_250kb_25/NPB-Omer/mode2_filtered.bed has a record where naming convention (leading zero) is inconsistent with other files:\n",
      "chr10\t15500000\t16000000\n",
      "\n"
     ]
    },
    {
     "name": "stdout",
     "output_type": "stream",
     "text": [
      "Mean tips_del per window calculated, output saved as tips_del_mode1.txt\n",
      "Mean tips_del per window calculated, output saved as tips_del_mode2.txt\n"
     ]
    },
    {
     "name": "stderr",
     "output_type": "stream",
     "text": [
      "***** WARNING: File /scratch/ak8725/chess/whole_lifted/500kb_250kb_25/NPB-Omer/mode1_filtered.bed has a record where naming convention (leading zero) is inconsistent with other files:\n",
      "chr10\t13000000\t13500000\n",
      "\n",
      "***** WARNING: File /scratch/ak8725/chess/whole_lifted/500kb_250kb_25/NPB-Omer/mode1_filtered.bed has a record where naming convention (leading zero) is inconsistent with other files:\n",
      "chr10\t13000000\t13500000\n",
      "\n",
      "***** WARNING: File /scratch/ak8725/chess/whole_lifted/500kb_250kb_25/NPB-Omer/mode2_filtered.bed has a record where naming convention (leading zero) is inconsistent with other files:\n",
      "chr10\t15500000\t16000000\n",
      "\n",
      "***** WARNING: File /scratch/ak8725/chess/whole_lifted/500kb_250kb_25/NPB-Omer/mode2_filtered.bed has a record where naming convention (leading zero) is inconsistent with other files:\n",
      "chr10\t15500000\t16000000\n",
      "\n"
     ]
    },
    {
     "name": "stdout",
     "output_type": "stream",
     "text": [
      "Mean tips_ins per window calculated, output saved as tips_ins_mode1.txt\n",
      "Mean tips_ins per window calculated, output saved as tips_ins_mode2.txt\n",
      "Mean exp per window calculated, output saved as exp_mode1.txt\n",
      "Mean exp per window calculated, output saved as exp_mode2.txt\n"
     ]
    },
    {
     "name": "stderr",
     "output_type": "stream",
     "text": [
      "***** WARNING: File /scratch/ak8725/chess/whole_lifted/500kb_250kb_25/NPB-Omer/mode1_filtered.bed has a record where naming convention (leading zero) is inconsistent with other files:\n",
      "chr10\t13000000\t13500000\n",
      "\n",
      "***** WARNING: File /scratch/ak8725/chess/whole_lifted/500kb_250kb_25/NPB-Omer/mode1_filtered.bed has a record where naming convention (leading zero) is inconsistent with other files:\n",
      "chr10\t13000000\t13500000\n",
      "\n",
      "***** WARNING: File /scratch/ak8725/chess/whole_lifted/500kb_250kb_25/NPB-Omer/mode2_filtered.bed has a record where naming convention (leading zero) is inconsistent with other files:\n",
      "chr10\t15500000\t16000000\n",
      "\n",
      "***** WARNING: File /scratch/ak8725/chess/whole_lifted/500kb_250kb_25/NPB-Omer/mode2_filtered.bed has a record where naming convention (leading zero) is inconsistent with other files:\n",
      "chr10\t15500000\t16000000\n",
      "\n"
     ]
    }
   ],
   "source": [
    "from pybedtools import BedTool\n",
    "import os\n",
    "os.chdir('/scratch/ak8725/chess/whole_lifted/500kb_250kb_25/NPB-Omer/')\n",
    "\n",
    "# Create a dictionary to store BedTool objects with their names as keys\n",
    "bedtools_dict = {\n",
    "    'pro': BedTool('/scratch/ak8725/az_mrg/fitcons/from_zoe/PRO-seq.bedgraph'),\n",
    "    'meth': BedTool('/scratch/ak8725/az_mrg/fitcons/from_zoe/methylation_from_zoe.bedgraph'),\n",
    "    'H3K18ac': BedTool('/scratch/ak8725/az_mrg/fitcons/from_zoe/H3K18ac.bedgraph'),\n",
    "    'H3K27ac': BedTool('/scratch/ak8725/az_mrg/fitcons/from_zoe/H3K27ac.bedgraph'),\n",
    "    'H3K27me3': BedTool('/scratch/ak8725/az_mrg/fitcons/from_zoe/H3K27me3.bedgraph'),\n",
    "    'H3K4me3': BedTool('/scratch/ak8725/az_mrg/fitcons/from_zoe/H3K4me3.bedgraph'),\n",
    "    'rho': BedTool('/scratch/ak8725/az_mrg/fitcons/from_zoe/rho.bedgraph'),\n",
    "    'phast': BedTool('/scratch/ak8725/az_mrg/fitcons/from_zoe/PhastCons8wayChrAll.bedgraph'),\n",
    "    'genes': BedTool('/scratch/ak8725/npb_feature_tracks/npb_genes_per_500bp.bedgraph'),\n",
    "    'gc': BedTool('/scratch/ak8725/npb_feature_tracks/npb_GC_content_per_500bp.bedgraph'),\n",
    "    'sv': BedTool('/scratch/ak8725/npb_feature_tracks/npb_sv_per_500bp.bedgraph'),\n",
    "    'snp': BedTool('/scratch/ak8725/npb_feature_tracks/npb_snp_per_500bp.bedgraph'),\n",
    "    'te': BedTool('/scratch/ak8725/npb_feature_tracks/npb_te_per_500bp.bedgraph'),\n",
    "    'dna_te': BedTool('/scratch/ak8725/npb_feature_tracks/npb_dna_te_per_500bp.bedgraph'),\n",
    "    'gypsy': BedTool('/scratch/ak8725/npb_feature_tracks/npb_gypsy_per_500bp.bedgraph'),\n",
    "    'copia': BedTool('/scratch/ak8725/npb_feature_tracks/npb_copia_per_500bp.bedgraph'),\n",
    "    'line': BedTool('/scratch/ak8725/npb_feature_tracks/npb_line_per_500bp.bedgraph'),\n",
    "    'sine': BedTool('/scratch/ak8725/npb_feature_tracks/npb_sine_per_500bp.bedgraph'),\n",
    "    'rest_retro_te': BedTool('/scratch/ak8725/npb_feature_tracks/npb_rest_retro_te_per_500bp.bedgraph'),\n",
    "    'ssd': BedTool('/scratch/ak8725/az_mrg/fitcons/from_zoe/PRO-seq.bedgraph'),\n",
    "    'wgd': BedTool('/scratch/ak8725/az_mrg/fitcons/from_zoe/methylation_from_zoe.bedgraph'),\n",
    "    'tips': BedTool('/scratch/ak8725/npb_feature_tracks/omer_tips_per_500bp.bedgraph'),\n",
    "    'tips_del': BedTool('/scratch/ak8725/npb_feature_tracks/omer_tips_del_per_500bp.bedgraph'),\n",
    "    'tips_ins': BedTool('/scratch/ak8725/npb_feature_tracks/omer_tips_ins_per_500bp.bedgraph'),\n",
    "    'exp': BedTool('/scratch/ak8725/expression/Nip_field2017_Normal.bed')\n",
    "}\n",
    "\n",
    "mode1 = BedTool('/scratch/ak8725/chess/whole_lifted/500kb_250kb_25/NPB-Omer/mode1_filtered.bed')\n",
    "mode2 = BedTool('/scratch/ak8725/chess/whole_lifted/500kb_250kb_25/NPB-Omer/mode2_filtered.bed')\n",
    "\n",
    "# Define the list of output file names\n",
    "output_files = [\n",
    "    'mode1.txt',\n",
    "    'mode2.txt'\n",
    "]\n",
    "\n",
    "#calculating mean feature value per mode\n",
    "for obj_name, obj in bedtools_dict.items():\n",
    "    for output_file in output_files:\n",
    "        output_name = f'{obj_name}_{output_file}'  # Generate output file name based on object name and output file type\n",
    "        \n",
    "        # Use mode1 and mode2 BedTool objects instead of obj\n",
    "        if \"mode1\" in output_name:\n",
    "            result = mode1.map(obj, c=4, o='mean', output=output_name)\n",
    "        elif \"mode2\" in output_name:\n",
    "            result = mode2.map(obj, c=4, o='mean', output=output_name)\n",
    "        \n",
    "        print(f'Mean {obj_name} per window calculated, output saved as {output_name}')"
   ]
  },
  {
   "cell_type": "code",
   "execution_count": 47,
   "metadata": {},
   "outputs": [
    {
     "name": "stdout",
     "output_type": "stream",
     "text": [
      "P-value for pro: 0.14287718749271516\n",
      "P-value for meth: 0.01340056939842946\n",
      "P-value for H3K18ac: 0.681171485081693\n",
      "P-value for H3K27ac: 0.008988753145705816\n",
      "P-value for H3K27me3: 0.041467900653299965\n",
      "P-value for H3K4me3: 0.026089761564300925\n",
      "P-value for rho: 0.0059820005884024105\n",
      "P-value for phast: 0.005448899931937312\n",
      "P-value for genes: 0.0020437763341079394\n",
      "P-value for gc: 0.36488131404191804\n",
      "P-value for sv: 0.13360939655116397\n",
      "P-value for snp: 0.0017511483454436913\n",
      "P-value for te: 0.0008764344581730682\n",
      "P-value for dna_te: 0.2202347585707377\n",
      "P-value for gypsy: 0.0010887060029517927\n",
      "P-value for copia: 0.004959064587705295\n",
      "P-value for line: 0.6753717177441612\n",
      "P-value for sine: 0.031169880393762426\n",
      "P-value for rest_retro_te: 0.06315840886471374\n",
      "P-value for ssd: 0.14287718749271516\n",
      "P-value for wgd: 0.01340056939842946\n",
      "P-value for tips: 0.6423089071828507\n",
      "P-value for tips_del: 0.6423089071828507\n",
      "P-value for tips_ins: 0.0002705810703740029\n",
      "P-value for exp: 0.798088563417038\n"
     ]
    }
   ],
   "source": [
    "#compare the values in col4 between two groups without assuming that they have the same means\n",
    "#using a two-sample non-parametric test, such as the Mann-Whitney U test (also known as the Wilcoxon rank-sum test)\n",
    "#This test compares whether there is a significant difference in the distributions of the values between the two groups\n",
    "import pandas as pd\n",
    "from scipy import stats\n",
    "\n",
    "# Initialize an empty list to store p-values\n",
    "p_values = []\n",
    "\n",
    "# Iterate through the BedTool objects in bedtools_dict\n",
    "for key, obj in bedtools_dict.items():\n",
    "    # Generate the output file names for mode1 and mode2 based on the key\n",
    "    mode1_file = f'{key}_mode1.txt'\n",
    "    mode2_file = f'{key}_mode2.txt'\n",
    "        \n",
    "    # Perform the Mann-Whitney U test for mode1 and mode2\n",
    "    mode1_data = pd.read_csv(mode1_file, sep='\\t', header=None, names=['chr', 'start', 'end', 'value'])\n",
    "    mode2_data = pd.read_csv(mode2_file, sep='\\t', header=None, names=['chr', 'start', 'end', 'value'])\n",
    "    \n",
    "    # Convert 'value' column to numeric, handling errors with 'coerce' to replace non-numeric values with NaN\n",
    "    mode1_data['value'] = pd.to_numeric(mode1_data['value'], errors='coerce')\n",
    "    mode2_data['value'] = pd.to_numeric(mode2_data['value'], errors='coerce')\n",
    "    \n",
    "    # Drop rows with NaN values in 'value' column\n",
    "    mode1_data = mode1_data.dropna(subset=['value'])\n",
    "    mode2_data = mode2_data.dropna(subset=['value'])\n",
    "    \n",
    "    u_statistic, p_value = stats.mannwhitneyu(mode1_data['value'], mode2_data['value'], alternative='two-sided')\n",
    "    \n",
    "    # Append the p-value to the p_values list\n",
    "    p_values.append((key, p_value))\n",
    "\n",
    "# Print the list of p-values\n",
    "for key, p_value in p_values:\n",
    "    print(f'P-value for {key}: {p_value}')"
   ]
  },
  {
   "cell_type": "code",
   "execution_count": 49,
   "metadata": {},
   "outputs": [
    {
     "name": "stdout",
     "output_type": "stream",
     "text": [
      "P-value for sequence similarity: 0.0003549923913137395\n",
      "Effect size (rank-biserial correlation coefficient): 0.2002551020408163\n"
     ]
    }
   ],
   "source": [
    "#compare the similarity scores between mode1 and mode2\n",
    "\n",
    "import os\n",
    "os.chdir('/scratch/ak8725/chess/whole_lifted/500kb_250kb_25/NPB-Omer/')\n",
    "\n",
    "import pandas as pd\n",
    "from scipy import stats\n",
    "\n",
    "# Load the data from similarity_mode1.txt and similarity_mode2.txt into DataFrames\n",
    "mode1_data = pd.read_csv('similarity_mode1.txt', sep='\\t', header=None, names=['seq1', 'seq2', 'value'])\n",
    "mode2_data = pd.read_csv('similarity_mode2.txt', sep='\\t', header=None, names=['seq1', 'seq2', 'value'])\n",
    "\n",
    "# Extract the values from the 'value' column of each group\n",
    "group1_values = mode1_data['value']\n",
    "group2_values = mode2_data['value']\n",
    "\n",
    "# Perform the Mann-Whitney U test\n",
    "u_statistic, p_value = stats.mannwhitneyu(group1_values, group2_values, alternative='two-sided')\n",
    "\n",
    "# Calculate the sample sizes\n",
    "n1 = len(group1_values)\n",
    "n2 = len(group2_values)\n",
    "\n",
    "# Calculate the effect size (rank-biserial correlation coefficient)\n",
    "effect_size = u_statistic / (n1 * n2)\n",
    "# Print the results\n",
    "print(f'P-value for sequence similarity: {p_value}')\n",
    "print(f'Effect size (rank-biserial correlation coefficient): {effect_size}')"
   ]
  },
  {
   "cell_type": "code",
   "execution_count": 2,
   "metadata": {},
   "outputs": [
    {
     "ename": "FileNotFoundError",
     "evalue": "[Errno 2] No such file or directory: '/scratch/ak8725/chess/whole_lifted/500kb_250kb_25/NPB-Omer/ss_mode1.txt'",
     "output_type": "error",
     "traceback": [
      "\u001b[0;31m---------------------------------------------------------------------------\u001b[0m",
      "\u001b[0;31mFileNotFoundError\u001b[0m                         Traceback (most recent call last)",
      "Cell \u001b[0;32mIn[2], line 49\u001b[0m\n\u001b[1;32m     46\u001b[0m mode2_file \u001b[38;5;241m=\u001b[39m os\u001b[38;5;241m.\u001b[39mpath\u001b[38;5;241m.\u001b[39mjoin(data_dir, \u001b[38;5;124mf\u001b[39m\u001b[38;5;124m'\u001b[39m\u001b[38;5;132;01m{\u001b[39;00mkey\u001b[38;5;132;01m}\u001b[39;00m\u001b[38;5;124m_mode2.txt\u001b[39m\u001b[38;5;124m'\u001b[39m)\n\u001b[1;32m     48\u001b[0m \u001b[38;5;66;03m# Check the number of columns in the file and read accordingly\u001b[39;00m\n\u001b[0;32m---> 49\u001b[0m \u001b[38;5;28;01mif\u001b[39;00m \u001b[38;5;28mlen\u001b[39m(pd\u001b[38;5;241m.\u001b[39mread_csv(mode1_file, sep\u001b[38;5;241m=\u001b[39m\u001b[38;5;124m'\u001b[39m\u001b[38;5;130;01m\\t\u001b[39;00m\u001b[38;5;124m'\u001b[39m, header\u001b[38;5;241m=\u001b[39m\u001b[38;5;28;01mNone\u001b[39;00m)\u001b[38;5;241m.\u001b[39mcolumns) \u001b[38;5;241m==\u001b[39m \u001b[38;5;241m2\u001b[39m:\n\u001b[1;32m     50\u001b[0m     mode1_data \u001b[38;5;241m=\u001b[39m pd\u001b[38;5;241m.\u001b[39mread_csv(mode1_file, sep\u001b[38;5;241m=\u001b[39m\u001b[38;5;124m'\u001b[39m\u001b[38;5;130;01m\\t\u001b[39;00m\u001b[38;5;124m'\u001b[39m, header\u001b[38;5;241m=\u001b[39m\u001b[38;5;28;01mNone\u001b[39;00m, names\u001b[38;5;241m=\u001b[39m[\u001b[38;5;124m'\u001b[39m\u001b[38;5;124mstart\u001b[39m\u001b[38;5;124m'\u001b[39m, \u001b[38;5;124m'\u001b[39m\u001b[38;5;124mcol4\u001b[39m\u001b[38;5;124m'\u001b[39m])\n\u001b[1;32m     51\u001b[0m \u001b[38;5;28;01melse\u001b[39;00m:\n",
      "File \u001b[0;32m/share/apps/anaconda3/2024.02/lib/python3.11/site-packages/pandas/io/parsers/readers.py:948\u001b[0m, in \u001b[0;36mread_csv\u001b[0;34m(filepath_or_buffer, sep, delimiter, header, names, index_col, usecols, dtype, engine, converters, true_values, false_values, skipinitialspace, skiprows, skipfooter, nrows, na_values, keep_default_na, na_filter, verbose, skip_blank_lines, parse_dates, infer_datetime_format, keep_date_col, date_parser, date_format, dayfirst, cache_dates, iterator, chunksize, compression, thousands, decimal, lineterminator, quotechar, quoting, doublequote, escapechar, comment, encoding, encoding_errors, dialect, on_bad_lines, delim_whitespace, low_memory, memory_map, float_precision, storage_options, dtype_backend)\u001b[0m\n\u001b[1;32m    935\u001b[0m kwds_defaults \u001b[38;5;241m=\u001b[39m _refine_defaults_read(\n\u001b[1;32m    936\u001b[0m     dialect,\n\u001b[1;32m    937\u001b[0m     delimiter,\n\u001b[0;32m   (...)\u001b[0m\n\u001b[1;32m    944\u001b[0m     dtype_backend\u001b[38;5;241m=\u001b[39mdtype_backend,\n\u001b[1;32m    945\u001b[0m )\n\u001b[1;32m    946\u001b[0m kwds\u001b[38;5;241m.\u001b[39mupdate(kwds_defaults)\n\u001b[0;32m--> 948\u001b[0m \u001b[38;5;28;01mreturn\u001b[39;00m _read(filepath_or_buffer, kwds)\n",
      "File \u001b[0;32m/share/apps/anaconda3/2024.02/lib/python3.11/site-packages/pandas/io/parsers/readers.py:611\u001b[0m, in \u001b[0;36m_read\u001b[0;34m(filepath_or_buffer, kwds)\u001b[0m\n\u001b[1;32m    608\u001b[0m _validate_names(kwds\u001b[38;5;241m.\u001b[39mget(\u001b[38;5;124m\"\u001b[39m\u001b[38;5;124mnames\u001b[39m\u001b[38;5;124m\"\u001b[39m, \u001b[38;5;28;01mNone\u001b[39;00m))\n\u001b[1;32m    610\u001b[0m \u001b[38;5;66;03m# Create the parser.\u001b[39;00m\n\u001b[0;32m--> 611\u001b[0m parser \u001b[38;5;241m=\u001b[39m TextFileReader(filepath_or_buffer, \u001b[38;5;241m*\u001b[39m\u001b[38;5;241m*\u001b[39mkwds)\n\u001b[1;32m    613\u001b[0m \u001b[38;5;28;01mif\u001b[39;00m chunksize \u001b[38;5;129;01mor\u001b[39;00m iterator:\n\u001b[1;32m    614\u001b[0m     \u001b[38;5;28;01mreturn\u001b[39;00m parser\n",
      "File \u001b[0;32m/share/apps/anaconda3/2024.02/lib/python3.11/site-packages/pandas/io/parsers/readers.py:1448\u001b[0m, in \u001b[0;36mTextFileReader.__init__\u001b[0;34m(self, f, engine, **kwds)\u001b[0m\n\u001b[1;32m   1445\u001b[0m     \u001b[38;5;28mself\u001b[39m\u001b[38;5;241m.\u001b[39moptions[\u001b[38;5;124m\"\u001b[39m\u001b[38;5;124mhas_index_names\u001b[39m\u001b[38;5;124m\"\u001b[39m] \u001b[38;5;241m=\u001b[39m kwds[\u001b[38;5;124m\"\u001b[39m\u001b[38;5;124mhas_index_names\u001b[39m\u001b[38;5;124m\"\u001b[39m]\n\u001b[1;32m   1447\u001b[0m \u001b[38;5;28mself\u001b[39m\u001b[38;5;241m.\u001b[39mhandles: IOHandles \u001b[38;5;241m|\u001b[39m \u001b[38;5;28;01mNone\u001b[39;00m \u001b[38;5;241m=\u001b[39m \u001b[38;5;28;01mNone\u001b[39;00m\n\u001b[0;32m-> 1448\u001b[0m \u001b[38;5;28mself\u001b[39m\u001b[38;5;241m.\u001b[39m_engine \u001b[38;5;241m=\u001b[39m \u001b[38;5;28mself\u001b[39m\u001b[38;5;241m.\u001b[39m_make_engine(f, \u001b[38;5;28mself\u001b[39m\u001b[38;5;241m.\u001b[39mengine)\n",
      "File \u001b[0;32m/share/apps/anaconda3/2024.02/lib/python3.11/site-packages/pandas/io/parsers/readers.py:1705\u001b[0m, in \u001b[0;36mTextFileReader._make_engine\u001b[0;34m(self, f, engine)\u001b[0m\n\u001b[1;32m   1703\u001b[0m     \u001b[38;5;28;01mif\u001b[39;00m \u001b[38;5;124m\"\u001b[39m\u001b[38;5;124mb\u001b[39m\u001b[38;5;124m\"\u001b[39m \u001b[38;5;129;01mnot\u001b[39;00m \u001b[38;5;129;01min\u001b[39;00m mode:\n\u001b[1;32m   1704\u001b[0m         mode \u001b[38;5;241m+\u001b[39m\u001b[38;5;241m=\u001b[39m \u001b[38;5;124m\"\u001b[39m\u001b[38;5;124mb\u001b[39m\u001b[38;5;124m\"\u001b[39m\n\u001b[0;32m-> 1705\u001b[0m \u001b[38;5;28mself\u001b[39m\u001b[38;5;241m.\u001b[39mhandles \u001b[38;5;241m=\u001b[39m get_handle(\n\u001b[1;32m   1706\u001b[0m     f,\n\u001b[1;32m   1707\u001b[0m     mode,\n\u001b[1;32m   1708\u001b[0m     encoding\u001b[38;5;241m=\u001b[39m\u001b[38;5;28mself\u001b[39m\u001b[38;5;241m.\u001b[39moptions\u001b[38;5;241m.\u001b[39mget(\u001b[38;5;124m\"\u001b[39m\u001b[38;5;124mencoding\u001b[39m\u001b[38;5;124m\"\u001b[39m, \u001b[38;5;28;01mNone\u001b[39;00m),\n\u001b[1;32m   1709\u001b[0m     compression\u001b[38;5;241m=\u001b[39m\u001b[38;5;28mself\u001b[39m\u001b[38;5;241m.\u001b[39moptions\u001b[38;5;241m.\u001b[39mget(\u001b[38;5;124m\"\u001b[39m\u001b[38;5;124mcompression\u001b[39m\u001b[38;5;124m\"\u001b[39m, \u001b[38;5;28;01mNone\u001b[39;00m),\n\u001b[1;32m   1710\u001b[0m     memory_map\u001b[38;5;241m=\u001b[39m\u001b[38;5;28mself\u001b[39m\u001b[38;5;241m.\u001b[39moptions\u001b[38;5;241m.\u001b[39mget(\u001b[38;5;124m\"\u001b[39m\u001b[38;5;124mmemory_map\u001b[39m\u001b[38;5;124m\"\u001b[39m, \u001b[38;5;28;01mFalse\u001b[39;00m),\n\u001b[1;32m   1711\u001b[0m     is_text\u001b[38;5;241m=\u001b[39mis_text,\n\u001b[1;32m   1712\u001b[0m     errors\u001b[38;5;241m=\u001b[39m\u001b[38;5;28mself\u001b[39m\u001b[38;5;241m.\u001b[39moptions\u001b[38;5;241m.\u001b[39mget(\u001b[38;5;124m\"\u001b[39m\u001b[38;5;124mencoding_errors\u001b[39m\u001b[38;5;124m\"\u001b[39m, \u001b[38;5;124m\"\u001b[39m\u001b[38;5;124mstrict\u001b[39m\u001b[38;5;124m\"\u001b[39m),\n\u001b[1;32m   1713\u001b[0m     storage_options\u001b[38;5;241m=\u001b[39m\u001b[38;5;28mself\u001b[39m\u001b[38;5;241m.\u001b[39moptions\u001b[38;5;241m.\u001b[39mget(\u001b[38;5;124m\"\u001b[39m\u001b[38;5;124mstorage_options\u001b[39m\u001b[38;5;124m\"\u001b[39m, \u001b[38;5;28;01mNone\u001b[39;00m),\n\u001b[1;32m   1714\u001b[0m )\n\u001b[1;32m   1715\u001b[0m \u001b[38;5;28;01massert\u001b[39;00m \u001b[38;5;28mself\u001b[39m\u001b[38;5;241m.\u001b[39mhandles \u001b[38;5;129;01mis\u001b[39;00m \u001b[38;5;129;01mnot\u001b[39;00m \u001b[38;5;28;01mNone\u001b[39;00m\n\u001b[1;32m   1716\u001b[0m f \u001b[38;5;241m=\u001b[39m \u001b[38;5;28mself\u001b[39m\u001b[38;5;241m.\u001b[39mhandles\u001b[38;5;241m.\u001b[39mhandle\n",
      "File \u001b[0;32m/share/apps/anaconda3/2024.02/lib/python3.11/site-packages/pandas/io/common.py:863\u001b[0m, in \u001b[0;36mget_handle\u001b[0;34m(path_or_buf, mode, encoding, compression, memory_map, is_text, errors, storage_options)\u001b[0m\n\u001b[1;32m    858\u001b[0m \u001b[38;5;28;01melif\u001b[39;00m \u001b[38;5;28misinstance\u001b[39m(handle, \u001b[38;5;28mstr\u001b[39m):\n\u001b[1;32m    859\u001b[0m     \u001b[38;5;66;03m# Check whether the filename is to be opened in binary mode.\u001b[39;00m\n\u001b[1;32m    860\u001b[0m     \u001b[38;5;66;03m# Binary mode does not support 'encoding' and 'newline'.\u001b[39;00m\n\u001b[1;32m    861\u001b[0m     \u001b[38;5;28;01mif\u001b[39;00m ioargs\u001b[38;5;241m.\u001b[39mencoding \u001b[38;5;129;01mand\u001b[39;00m \u001b[38;5;124m\"\u001b[39m\u001b[38;5;124mb\u001b[39m\u001b[38;5;124m\"\u001b[39m \u001b[38;5;129;01mnot\u001b[39;00m \u001b[38;5;129;01min\u001b[39;00m ioargs\u001b[38;5;241m.\u001b[39mmode:\n\u001b[1;32m    862\u001b[0m         \u001b[38;5;66;03m# Encoding\u001b[39;00m\n\u001b[0;32m--> 863\u001b[0m         handle \u001b[38;5;241m=\u001b[39m \u001b[38;5;28mopen\u001b[39m(\n\u001b[1;32m    864\u001b[0m             handle,\n\u001b[1;32m    865\u001b[0m             ioargs\u001b[38;5;241m.\u001b[39mmode,\n\u001b[1;32m    866\u001b[0m             encoding\u001b[38;5;241m=\u001b[39mioargs\u001b[38;5;241m.\u001b[39mencoding,\n\u001b[1;32m    867\u001b[0m             errors\u001b[38;5;241m=\u001b[39merrors,\n\u001b[1;32m    868\u001b[0m             newline\u001b[38;5;241m=\u001b[39m\u001b[38;5;124m\"\u001b[39m\u001b[38;5;124m\"\u001b[39m,\n\u001b[1;32m    869\u001b[0m         )\n\u001b[1;32m    870\u001b[0m     \u001b[38;5;28;01melse\u001b[39;00m:\n\u001b[1;32m    871\u001b[0m         \u001b[38;5;66;03m# Binary mode\u001b[39;00m\n\u001b[1;32m    872\u001b[0m         handle \u001b[38;5;241m=\u001b[39m \u001b[38;5;28mopen\u001b[39m(handle, ioargs\u001b[38;5;241m.\u001b[39mmode)\n",
      "\u001b[0;31mFileNotFoundError\u001b[0m: [Errno 2] No such file or directory: '/scratch/ak8725/chess/whole_lifted/500kb_250kb_25/NPB-Omer/ss_mode1.txt'"
     ]
    }
   ],
   "source": [
    "import os\n",
    "import pandas as pd\n",
    "import matplotlib.pyplot as plt\n",
    "import seaborn as sns\n",
    "\n",
    "# List of file pairs and their corresponding p-values\n",
    "file_pairs = [\n",
    "    {'key': 'ss', 'p-value': 0.0003},\n",
    "    {'key': 'pro', 'p-value': 0.143},\n",
    "    {'key': 'meth', 'p-value': 0.0134}, \n",
    "    {'key': 'H3K18ac', 'p-value': 0.681},\n",
    "    {'key': 'H3K27ac', 'p-value': 0.009},\n",
    "    {'key': 'H3K27me3', 'p-value': 0.041},\n",
    "    {'key': 'H3K4me3', 'p-value': 0.026},\n",
    "    {'key': 'rho', 'p-value': 0.006},\n",
    "    {'key': 'phast', 'p-value': 0.005},\n",
    "    {'key': 'genes', 'p-value': 0.002},\n",
    "    {'key': 'gc', 'p-value': 0.345},\n",
    "    {'key': 'sv', 'p-value': 0.134},\n",
    "    {'key': 'snp', 'p-value': 0.002},\n",
    "    {'key': 'te', 'p-value': 0.0009},\n",
    "    {'key': 'dna_te', 'p-value': 0.22},\n",
    "    {'key': 'gypsy', 'p-value': 0.001},\n",
    "    {'key': 'copia', 'p-value': 0.005},\n",
    "    {'key': 'line', 'p-value': 0.675},\n",
    "    {'key': 'sine', 'p-value': 0.031},\n",
    "    {'key': 'rest_retro_te', 'p-value': 0.063},\n",
    "    {'key': 'ssd', 'p-value': 0.143},\n",
    "    {'key': 'wgd', 'p-value': 0.013},\n",
    "    {'key': 'tips', 'p-value': 0.642},\n",
    "    {'key': 'tips_del', 'p-value': 0.642},\n",
    "    {'key': 'tips_ins', 'p-value': 0.0003},\n",
    "    {'key': 'exp', 'p-value': 0.798}\n",
    "]\n",
    "\n",
    "# Set the directory where your files are located\n",
    "data_dir = '/scratch/ak8725/chess/whole_lifted/500kb_250kb_25/NPB-Omer/'\n",
    "\n",
    "# Loop through each file pair and create a box plot\n",
    "for pair in file_pairs:\n",
    "    key = pair['key']\n",
    "    p_value = pair['p-value']\n",
    "\n",
    "    # Load data from files into DataFrames\n",
    "    mode1_file = os.path.join(data_dir, f'{key}_mode1.txt')\n",
    "    mode2_file = os.path.join(data_dir, f'{key}_mode2.txt')\n",
    "    \n",
    "    # Check the number of columns in the file and read accordingly\n",
    "    if len(pd.read_csv(mode1_file, sep='\\t', header=None).columns) == 2:\n",
    "        mode1_data = pd.read_csv(mode1_file, sep='\\t', header=None, names=['start', 'col4'])\n",
    "    else:\n",
    "        mode1_data = pd.read_csv(mode1_file, sep='\\t', header=None, names=['chr', 'start', 'end', 'col4'])\n",
    "\n",
    "    if len(pd.read_csv(mode2_file, sep='\\t', header=None).columns) == 2:\n",
    "        mode2_data = pd.read_csv(mode2_file, sep='\\t', header=None, names=['start', 'col4'])\n",
    "    else:\n",
    "        mode2_data = pd.read_csv(mode2_file, sep='\\t', header=None, names=['chr', 'start', 'end', 'col4'])\n",
    "\n",
    "    # Convert 'col4' to numeric, handling errors with 'coerce' to replace non-numeric values with NaN\n",
    "    mode1_data['col4'] = pd.to_numeric(mode1_data['col4'], errors='coerce')\n",
    "    mode2_data['col4'] = pd.to_numeric(mode2_data['col4'], errors='coerce')\n",
    "\n",
    "    # Remove rows with NaN values in 'col4'\n",
    "    mode1_data = mode1_data.dropna(subset=['col4'])\n",
    "    mode2_data = mode2_data.dropna(subset=['col4'])\n",
    "\n",
    "    # Create a combined DataFrame for both groups\n",
    "    combined_data = pd.concat([mode1_data, mode2_data], keys=['1', '2'])\n",
    "\n",
    "    # Create transparent box plots with customized colors\n",
    "    plt.figure(figsize=(10, 6))\n",
    "\n",
    "    # Define custom colors for the box plots and points\n",
    "    boxplot_colors = ['lightblue', 'lightpink']\n",
    "    point_colors = 'black'\n",
    "\n",
    "    # Create box plots with custom colors\n",
    "    b = sns.boxplot(data=combined_data, x=combined_data.index.get_level_values(0), y='col4', width=0.4, fliersize=0,\n",
    "                palette=boxplot_colors)\n",
    "\n",
    "    # Customize the plot\n",
    "    plt.xlabel('Mode')\n",
    "    plt.ylabel('')\n",
    "    \n",
    "    sns.despine(offset=5, trim=True)\n",
    "    b.set_title(f\"p-value = {p_value:.4f}\", fontsize=16)  # Use the p-value from the file_pairs list\n",
    "\n",
    "    # Manually add labels to box plots\n",
    "    ax = plt.gca()\n",
    "\n",
    "    plt.tight_layout\n",
    "    plt.savefig(f'{key}.png', dpi = 400, bbox_inches='tight')\n",
    "    plt.close()"
   ]
  },
  {
   "cell_type": "code",
   "execution_count": 1,
   "metadata": {
    "collapsed": true,
    "jupyter": {
     "outputs_hidden": true,
     "source_hidden": true
    }
   },
   "outputs": [
    {
     "data": {
      "image/png": "[encoded data removed]",
      "text/plain": [
       "<Figure size 1200x1000 with 24 Axes>"
      ]
     },
     "metadata": {},
     "output_type": "display_data"
    }
   ],
   "source": [
    "#combining png, plotting without tips_del and tips_ins\n",
    "import os\n",
    "import matplotlib.pyplot as plt\n",
    "import math\n",
    "\n",
    "# Directory containing your .png files\n",
    "png_dir = '/scratch/ak8725/chess/whole_lifted/500kb_250kb_25/NPB-Omer/'\n",
    "\n",
    "# Define the order and titles for each image\n",
    "image_order = [\n",
    "    {'filename': 'ss.png', 'title': 'Sequence similarity'},\n",
    "    {'filename': 'pro.png', 'title': 'PRO-seq'},\n",
    "    {'filename': 'meth.png', 'title': 'DNA Methylation'},\n",
    "    {'filename': 'H3K18ac.png', 'title': 'H3K18ac'},\n",
    "    {'filename': 'H3K27ac.png', 'title': 'H3K27ac'},\n",
    "    {'filename': 'H3K27me3.png', 'title': 'H3K27me3'},\n",
    "    {'filename': 'H3K4me3.png', 'title': 'H3K4me3'},\n",
    "    {'filename': 'rho.png', 'title': 'Fitcons scores'},\n",
    "    {'filename': 'phast.png', 'title': 'PhastCons scores'},\n",
    "    {'filename': 'genes.png', 'title': 'Gene coverage'},\n",
    "    {'filename': 'gc.png', 'title': 'GC content'},\n",
    "    {'filename': 'sv.png', 'title': 'SV breakpoint density'},\n",
    "    {'filename': 'snp.png', 'title': 'SNP density'},\n",
    "    {'filename': 'te.png', 'title': 'TE coverage'},\n",
    "    {'filename': 'dna_te.png', 'title': 'DNA transposons coverage'},\n",
    "    {'filename': 'gypsy.png', 'title': 'gypsy coverage'},\n",
    "    {'filename': 'copia.png', 'title': 'copia coverage'},\n",
    "    {'filename': 'line.png', 'title': 'LINE coverage'},\n",
    "    {'filename': 'sine.png', 'title': 'SINE coverage'},\n",
    "    {'filename': 'rest_retro_te.png', 'title': 'Other retrotransposons'},\n",
    "    {'filename': 'ssd.png', 'title': 'SSD genes'},\n",
    "    {'filename': 'wgd.png', 'title': 'WGD genes'},\n",
    "    {'filename': 'tips.png', 'title': 'TIPs coverage'},\n",
    "    {'filename': 'exp.png', 'title': 'RNA-seq'},\n",
    "]\n",
    "\n",
    "# Specify the filenames where you want to add an asterisk\n",
    "filenames_with_asterisk = ['ss.png', 'snp.png', 'sine.png', 'rho.png', 'phast.png', 'genes.png', 'gypsy.png', 'copia.png', 'te.png', 'ss.png', 'meth.png', 'H3K27ac.png', 'H3K4me3.png', 'H3K27me3.png']\n",
    "\n",
    "# Create a dictionary to map filenames to image_info dictionaries\n",
    "image_info_dict = {entry['filename']: entry for entry in image_order}\n",
    "\n",
    "# List of filenames sorted in the desired order\n",
    "sorted_filenames = [\n",
    "    'ss.png', 'pro.png', 'meth.png', 'H3K18ac.png', 'H3K27ac.png', 'H3K27me3.png',\n",
    "    'H3K4me3.png', 'rho.png', 'phast.png', 'genes.png', 'gc.png',\n",
    "    'sv.png', 'snp.png', 'te.png', 'dna_te.png', 'gypsy.png', 'copia.png',\n",
    "    'line.png', 'sine.png', 'rest_retro_te.png', 'ssd.png', 'wgd.png', \n",
    "    'tips.png', 'exp.png'\n",
    "]\n",
    "\n",
    "# Calculate the number of rows and columns in the grid based on the number of images\n",
    "num_images = len(sorted_filenames)\n",
    "num_cols = 6\n",
    "num_rows = math.ceil(num_images / num_cols)\n",
    "\n",
    "# Create a new figure for the combined image\n",
    "fig, axes = plt.subplots(num_rows, num_cols, figsize=(12, 10), facecolor='white')\n",
    "\n",
    "# Iterate through the list of filenames and plot images in the specified order\n",
    "for i, filename in enumerate(sorted_filenames):\n",
    "    row = i // num_cols\n",
    "    col = i % num_cols\n",
    "    img = plt.imread(os.path.join(png_dir, filename))\n",
    "    \n",
    "    # Plot the image on the corresponding subplot\n",
    "    axes[row, col].imshow(img)\n",
    "    axes[row, col].axis('off')  # Turn off axis labels and ticks\n",
    "    \n",
    "    # Add an asterisk to the title if the filename is in filenames_with_asterisk\n",
    "    image_info = image_info_dict.get(filename, {})\n",
    "    title = image_info.get(\"title\", \"\")\n",
    "    if filename in filenames_with_asterisk:\n",
    "        title = f\"{title} *\"\n",
    "    \n",
    "    # Add the title with the optional asterisk\n",
    "    axes[row, col].set_title(title)\n",
    "\n",
    "# Adjust spacing between subplots\n",
    "plt.tight_layout()\n",
    "\n",
    "# Save the combined image\n",
    "output_filename = '/scratch/ak8725/chess/whole_lifted/500kb_250kb_25/NPB-Omer/NPB-Omer_modes.png'\n",
    "plt.savefig(output_filename, dpi=300)\n",
    "\n",
    "# Show the combined image (optional)\n",
    "plt.show()\n",
    "plt.close()"
   ]
  },
  {
   "cell_type": "markdown",
   "metadata": {},
   "source": [
    "# Number of SSD and WGD derived genes per window"
   ]
  },
  {
   "cell_type": "code",
   "execution_count": null,
   "metadata": {},
   "outputs": [],
   "source": [
    "#SSD/WGD gene enrichment could be due to overall gene enrichment of mode2\n",
    "#need to control for gene enrichment and compare duplicatred gene enrichment\n",
    "#also need to control for sequence similarity and compare all the features"
   ]
  },
  {
   "cell_type": "markdown",
   "metadata": {},
   "source": [
    "# Number of TIPs (insertion/deletion) per window\n",
    "TIPs data from Raul Castanera<br>\n",
    "NPB and Omer genomes were aligned and ins/del of TEs in the Omer genome were mapped to NPB genome<br>\n",
    "TE insertions are present in Nipponbare, but the coordinates are also Nipponbare"
   ]
  },
  {
   "cell_type": "code",
   "execution_count": 30,
   "metadata": {
    "collapsed": true,
    "jupyter": {
     "outputs_hidden": true
    }
   },
   "outputs": [
    {
     "name": "stdout",
     "output_type": "stream",
     "text": [
      "chr01\t28721\t28993\tOs0018_Wanderer;MITE/Tourist\tDeletion\t+\n",
      "chr01\t29279\t29541\tOs0297;DNAnona/MULE\tDeletion\t-\n",
      "chr01\t30291\t30685\tOs0348;DNAnona/MULE\tDeletion\t-\n",
      "chr01\t34521\t34753\tOs3327;MITE/Stow\tDeletion\t+\n",
      "chr01\t36249\t36255\tOs0086;DNAnona/MULE\tInsertion\t+\n",
      "chr01\t41392\t42226\tRufipogonTE_00004098;DNA/DTM\tDeletion\t+\n",
      "chr01\t43170\t58357\tOs0030_INT_RIRE2-int;LTR/Gypsy\tDeletion\t-\n",
      "chr01\t135647\t137462\tOs0310_LTR;LTR/Gypsy\tDeletion\t-\n",
      "chr01\t149128\t149133\tOs2066_LTR;LTR/TRIM\tInsertion\t-\n",
      "chr01\t156633\t164481\tOs0988_INT-int;LTR/Copia\tDeletion\t-\n"
     ]
    }
   ],
   "source": [
    "!head /scratch/ak8725/SV-TIPs_from_Raúl_Castanera/SV_TIPs/Omer_TIPs.bed"
   ]
  },
  {
   "cell_type": "code",
   "execution_count": 19,
   "metadata": {
    "collapsed": true,
    "jupyter": {
     "outputs_hidden": true
    }
   },
   "outputs": [
    {
     "name": "stdout",
     "output_type": "stream",
     "text": [
      "***** WARNING: File /scratch/ak8725/SV-TIPs_from_Raúl_Castanera/SV_TIPs/Omer_TIPs.bed has a record where naming convention (leading zero) is inconsistent with other files:\n",
      "chr10\t23315\t38327\tOs0253_INT-int;LTR/Copia\tDeletion\t-\n",
      "\n",
      "***** WARNING: File /scratch/ak8725/SV-TIPs_from_Raúl_Castanera/SV_TIPs/Omer_TIPs.bed has a record where naming convention (leading zero) is inconsistent with other files:\n",
      "chr10\t23315\t38327\tOs0253_INT-int;LTR/Copia\tDeletion\t-\n",
      "\n",
      "***** WARNING: File /scratch/ak8725/SV-TIPs_from_Raúl_Castanera/SV_TIPs/Omer_TIPs.bed has a record where naming convention (leading zero) is inconsistent with other files:\n",
      "chr10\t23315\t38327\tOs0253_INT-int;LTR/Copia\tDeletion\t-\n",
      "\n",
      "***** WARNING: File /scratch/ak8725/SV-TIPs_from_Raúl_Castanera/SV_TIPs/Omer_TIPs.bed has a record where naming convention (leading zero) is inconsistent with other files:\n",
      "chr10\t23315\t38327\tOs0253_INT-int;LTR/Copia\tDeletion\t-\n",
      "\n"
     ]
    }
   ],
   "source": [
    "!bedtools intersect -a /scratch/ak8725/chess/whole_lifted/500kb_250kb_25/NPB-Omer/mode1_filtered.bed -b /scratch/ak8725/SV-TIPs_from_Raúl_Castanera/SV_TIPs/Omer_TIPs.bed -c > tips_mode1.txt\n",
    "!bedtools intersect -a /scratch/ak8725/chess/whole_lifted/500kb_250kb_25/NPB-Omer/mode2_filtered.bed -b /scratch/ak8725/SV-TIPs_from_Raúl_Castanera/SV_TIPs/Omer_TIPs.bed -c > tips_mode2.txt"
   ]
  },
  {
   "cell_type": "markdown",
   "metadata": {},
   "source": [
    "# TIPs coverage (all,ins,del) per 500bp"
   ]
  },
  {
   "cell_type": "code",
   "execution_count": 80,
   "metadata": {},
   "outputs": [],
   "source": [
    "!sed -i -e 's/\\s/\\t/g' /scratch/ak8725/npb_feature_tracks/omer_tips_per_500bp.bedgraph\n",
    "!sed -i -e 's/\\s/\\t/g' /scratch/ak8725/npb_feature_tracks/omer_tips_del_per_500bp.bedgraph\n",
    "!sed -i -e 's/\\s/\\t/g' /scratch/ak8725/npb_feature_tracks/omer_tips_ins_per_500bp.bedgraph"
   ]
  },
  {
   "cell_type": "markdown",
   "metadata": {},
   "source": [
    "# Calculating sequence similarity"
   ]
  },
  {
   "cell_type": "code",
   "execution_count": 50,
   "metadata": {},
   "outputs": [
    {
     "name": "stdout",
     "output_type": "stream",
     "text": [
      "16 /scratch/ak8725/chess/whole_lifted/500kb_250kb_25/NPB-Omer/mode1_filtered.bedpe\n",
      "49 /scratch/ak8725/chess/whole_lifted/500kb_250kb_25/NPB-Omer/mode2_filtered.bedpe\n"
     ]
    }
   ],
   "source": [
    "#filtered out regions >=1Mb, see Filtering regions.ipynb\n",
    "!wc -l /scratch/ak8725/chess/whole_lifted/500kb_250kb_25/NPB-Omer/mode1_filtered.bedpe\n",
    "!wc -l /scratch/ak8725/chess/whole_lifted/500kb_250kb_25/NPB-Omer/mode2_filtered.bedpe"
   ]
  },
  {
   "cell_type": "code",
   "execution_count": 3,
   "metadata": {},
   "outputs": [
    {
     "name": "stdout",
     "output_type": "stream",
     "text": [
      "FASTA sequences extracted and saved to output files.\n"
     ]
    }
   ],
   "source": [
    "#create fasta files with the mode sequences from npb and omer to compare them\n",
    "from Bio import SeqIO\n",
    "from Bio.SeqRecord import SeqRecord\n",
    "from Bio.Seq import Seq\n",
    "\n",
    "# Paths to genome FASTA files\n",
    "npb_genome_file = \"/scratch/ak8725/NPB_new/NPB.fna\"\n",
    "omer_genome_file = \"/scratch/ak8725/genomes/omer.fna\"\n",
    "\n",
    "# Path to bedpe file\n",
    "bedpe_file = \"/scratch/ak8725/chess/whole_lifted/500kb_250kb_25/NPB-Omer/mode2_filtered.bedpe\"\n",
    "\n",
    "# Output FASTA files\n",
    "output_npb_file = \"/scratch/ak8725/chess/whole_lifted/500kb_250kb_25/NPB-Omer/mode2_npb.fasta\"\n",
    "output_omer_file = \"/scratch/ak8725/chess/whole_lifted/500kb_250kb_25/NPB-Omer/mode2_omer.fasta\"\n",
    "\n",
    "# Create dictionaries to store genome sequences\n",
    "npb_sequences = SeqIO.to_dict(SeqIO.parse(npb_genome_file, \"fasta\"))\n",
    "omer_sequences = SeqIO.to_dict(SeqIO.parse(omer_genome_file, \"fasta\"))\n",
    "\n",
    "# Open the bedpe file for reading\n",
    "with open(bedpe_file, \"r\") as bedpe_fh:\n",
    "\n",
    "    # Open output files for writing\n",
    "    with open(output_npb_file, \"w\") as npb_fh, open(output_omer_file, \"w\") as omer_fh:\n",
    "\n",
    "        # Initialize a counter for sequence headers\n",
    "        seq_counter = 1\n",
    "\n",
    "        for line in bedpe_fh:\n",
    "            fields = line.strip().split(\"\\t\")\n",
    "            chr_npb, start_npb, end_npb, chr_omer, start_omer, end_omer = fields[:6]\n",
    "\n",
    "            # Extract sequences from the dictionaries\n",
    "            npb_seq = npb_sequences[chr_npb][int(start_npb):int(end_npb)].seq\n",
    "            omer_seq = omer_sequences[chr_omer][int(start_omer):int(end_omer)].seq\n",
    "\n",
    "            # Create SeqRecord objects with headers\n",
    "            npb_record = SeqRecord(npb_seq, id=f\"seq{seq_counter}\", description=f\"Coordinates: {chr_npb}:{start_npb}-{end_npb}\")\n",
    "            omer_record = SeqRecord(omer_seq, id=f\"seq{seq_counter}\", description=f\"Coordinates: {chr_omer}:{start_omer}-{end_omer}\")\n",
    "\n",
    "            # Write SeqRecord objects to the output files\n",
    "            SeqIO.write(npb_record, npb_fh, \"fasta\")\n",
    "            SeqIO.write(omer_record, omer_fh, \"fasta\")\n",
    "\n",
    "            # Increment the sequence counter\n",
    "            seq_counter += 1\n",
    "\n",
    "print(\"FASTA sequences extracted and saved to output files.\")"
   ]
  },
  {
   "cell_type": "code",
   "execution_count": null,
   "metadata": {},
   "outputs": [],
   "source": [
    "# Paiwise alignments of windows with emboss stretcher (global alignment)\n",
    "# using stretcher.sh\n",
    "# Output:\n",
    "# /ss_mode1.txt\n",
    "# /ss_mode2.txt"
   ]
  },
  {
   "cell_type": "markdown",
   "metadata": {},
   "source": [
    "## NPB TAD coverage comparison between modes "
   ]
  },
  {
   "cell_type": "code",
   "execution_count": 2,
   "metadata": {
    "collapsed": true,
    "jupyter": {
     "outputs_hidden": true
    }
   },
   "outputs": [
    {
     "name": "stdout",
     "output_type": "stream",
     "text": [
      "Mean tads per window calculated, output saved as tads_mode1.txt\n",
      "Mean tads per window calculated, output saved as tads_mode2.txt\n"
     ]
    },
    {
     "name": "stderr",
     "output_type": "stream",
     "text": [
      "***** WARNING: File /scratch/ak8725/chess/whole_lifted/500kb_250kb_25/NPB-Omer/mode1_filtered.bed has a record where naming convention (leading zero) is inconsistent with other files:\n",
      "chr10\t13000000\t13500000\n",
      "\n",
      "***** WARNING: File /scratch/ak8725/chess/whole_lifted/500kb_250kb_25/NPB-Omer/mode1_filtered.bed has a record where naming convention (leading zero) is inconsistent with other files:\n",
      "chr10\t13000000\t13500000\n",
      "\n",
      "***** WARNING: File /scratch/ak8725/chess/whole_lifted/500kb_250kb_25/NPB-Omer/mode2_filtered.bed has a record where naming convention (leading zero) is inconsistent with other files:\n",
      "chr10\t15500000\t16000000\n",
      "\n",
      "***** WARNING: File /scratch/ak8725/chess/whole_lifted/500kb_250kb_25/NPB-Omer/mode2_filtered.bed has a record where naming convention (leading zero) is inconsistent with other files:\n",
      "chr10\t15500000\t16000000\n",
      "\n"
     ]
    }
   ],
   "source": [
    "from pybedtools import BedTool\n",
    "import os\n",
    "os.chdir('/scratch/ak8725/chess/whole_lifted/500kb_250kb_25/NPB-Omer/')\n",
    "\n",
    "# Create a dictionary to store BedTool objects with their names as keys\n",
    "bedtools_dict = {\n",
    "    'tads': BedTool('/scratch/ak8725/npb_feature_tracks/tads_per_500bp.bedgraph'),\n",
    "}\n",
    "\n",
    "mode1 = BedTool('/scratch/ak8725/chess/whole_lifted/500kb_250kb_25/NPB-Omer/mode1_filtered.bed')\n",
    "mode2 = BedTool('/scratch/ak8725/chess/whole_lifted/500kb_250kb_25/NPB-Omer/mode2_filtered.bed')\n",
    "\n",
    "# Define the list of output file names\n",
    "output_files = [\n",
    "    'mode1.txt',\n",
    "    'mode2.txt'\n",
    "]\n",
    "\n",
    "#calculating mean feature value per mode\n",
    "for obj_name, obj in bedtools_dict.items():\n",
    "    for output_file in output_files:\n",
    "        output_name = f'{obj_name}_{output_file}'  # Generate output file name based on object name and output file type\n",
    "        \n",
    "        # Use mode1 and mode2 BedTool objects instead of obj\n",
    "        if \"mode1\" in output_name:\n",
    "            result = mode1.map(obj, c=4, o='mean', output=output_name)\n",
    "        elif \"mode2\" in output_name:\n",
    "            result = mode2.map(obj, c=4, o='mean', output=output_name)\n",
    "        \n",
    "        print(f'Mean {obj_name} per window calculated, output saved as {output_name}')"
   ]
  },
  {
   "cell_type": "code",
   "execution_count": 3,
   "metadata": {},
   "outputs": [
    {
     "name": "stdout",
     "output_type": "stream",
     "text": [
      "P-value for tads: 0.8967372568167593\n"
     ]
    }
   ],
   "source": [
    "#compare the values in col4 between two groups without assuming that they have the same means\n",
    "#using a two-sample non-parametric test, such as the Mann-Whitney U test (also known as the Wilcoxon rank-sum test)\n",
    "#This test compares whether there is a significant difference in the distributions of the values between the two groups\n",
    "import pandas as pd\n",
    "from scipy import stats\n",
    "\n",
    "# Initialize an empty list to store p-values\n",
    "p_values = []\n",
    "\n",
    "# Iterate through the BedTool objects in bedtools_dict\n",
    "for key, obj in bedtools_dict.items():\n",
    "    # Generate the output file names for mode1 and mode2 based on the key\n",
    "    mode1_file = f'{key}_mode1.txt'\n",
    "    mode2_file = f'{key}_mode2.txt'\n",
    "        \n",
    "    # Perform the Mann-Whitney U test for mode1 and mode2\n",
    "    mode1_data = pd.read_csv(mode1_file, sep='\\t', header=None, names=['chr', 'start', 'end', 'value'])\n",
    "    mode2_data = pd.read_csv(mode2_file, sep='\\t', header=None, names=['chr', 'start', 'end', 'value'])\n",
    "    \n",
    "    # Convert 'value' column to numeric, handling errors with 'coerce' to replace non-numeric values with NaN\n",
    "    mode1_data['value'] = pd.to_numeric(mode1_data['value'], errors='coerce')\n",
    "    mode2_data['value'] = pd.to_numeric(mode2_data['value'], errors='coerce')\n",
    "    \n",
    "    # Drop rows with NaN values in 'value' column\n",
    "    mode1_data = mode1_data.dropna(subset=['value'])\n",
    "    mode2_data = mode2_data.dropna(subset=['value'])\n",
    "    \n",
    "    u_statistic, p_value = stats.mannwhitneyu(mode1_data['value'], mode2_data['value'], alternative='two-sided')\n",
    "    \n",
    "    # Append the p-value to the p_values list\n",
    "    p_values.append((key, p_value))\n",
    "\n",
    "# Print the list of p-values\n",
    "for key, p_value in p_values:\n",
    "    print(f'P-value for {key}: {p_value}')"
   ]
  },
  {
   "cell_type": "markdown",
   "metadata": {},
   "source": [
    "# Mappability of windows\n",
    "Calculated in /scratch/ak8725/genmap/npb_mappability2.bedgraph<br>\n",
    "Is not different between modes"
   ]
  },
  {
   "cell_type": "code",
   "execution_count": 1,
   "metadata": {},
   "outputs": [
    {
     "name": "stderr",
     "output_type": "stream",
     "text": [
      "***** WARNING: File /scratch/ak8725/chess/whole_lifted/500kb_250kb_25/NPB-Omer/mode1_filtered.bed has a record where naming convention (leading zero) is inconsistent with other files:\n",
      "chr10\t13000000\t13500000\n",
      "\n",
      "***** WARNING: File /scratch/ak8725/chess/whole_lifted/500kb_250kb_25/NPB-Omer/mode1_filtered.bed has a record where naming convention (leading zero) is inconsistent with other files:\n",
      "chr10\t13000000\t13500000\n",
      "\n"
     ]
    },
    {
     "name": "stdout",
     "output_type": "stream",
     "text": [
      "Mean ms per window calculated, output saved as ms_mode1.txt\n",
      "Mean ms per window calculated, output saved as ms_mode2.txt\n"
     ]
    },
    {
     "name": "stderr",
     "output_type": "stream",
     "text": [
      "***** WARNING: File /scratch/ak8725/chess/whole_lifted/500kb_250kb_25/NPB-Omer/mode2_filtered.bed has a record where naming convention (leading zero) is inconsistent with other files:\n",
      "chr10\t15500000\t16000000\n",
      "\n",
      "***** WARNING: File /scratch/ak8725/chess/whole_lifted/500kb_250kb_25/NPB-Omer/mode2_filtered.bed has a record where naming convention (leading zero) is inconsistent with other files:\n",
      "chr10\t15500000\t16000000\n",
      "\n"
     ]
    }
   ],
   "source": [
    "from pybedtools import BedTool\n",
    "import os\n",
    "os.chdir('/scratch/ak8725/chess/whole_lifted/500kb_250kb_25/NPB-Omer/')\n",
    "\n",
    "# Create a dictionary to store BedTool objects with their names as keys\n",
    "bedtools_dict = {\n",
    "    'ms': BedTool('/scratch/ak8725/genmap/npb_mappability2.bedgraph'),\n",
    "}\n",
    "\n",
    "mode1 = BedTool('/scratch/ak8725/chess/whole_lifted/500kb_250kb_25/NPB-Omer/mode1_filtered.bed')\n",
    "mode2 = BedTool('/scratch/ak8725/chess/whole_lifted/500kb_250kb_25/NPB-Omer/mode2_filtered.bed')\n",
    "\n",
    "# Define the list of output file names\n",
    "output_files = [\n",
    "    'mode1.txt',\n",
    "    'mode2.txt'\n",
    "]\n",
    "\n",
    "#calculating mean feature value per mode\n",
    "for obj_name, obj in bedtools_dict.items():\n",
    "    for output_file in output_files:\n",
    "        output_name = f'{obj_name}_{output_file}'  # Generate output file name based on object name and output file type\n",
    "        \n",
    "        # Use mode1 and mode2 BedTool objects instead of obj\n",
    "        if \"mode1\" in output_name:\n",
    "            result = mode1.map(obj, c=4, o='mean', output=output_name)\n",
    "        elif \"mode2\" in output_name:\n",
    "            result = mode2.map(obj, c=4, o='mean', output=output_name)\n",
    "        \n",
    "        print(f'Mean {obj_name} per window calculated, output saved as {output_name}')"
   ]
  },
  {
   "cell_type": "code",
   "execution_count": 2,
   "metadata": {},
   "outputs": [
    {
     "name": "stdout",
     "output_type": "stream",
     "text": [
      "P-value for ms: 0.09540823491459394\n"
     ]
    }
   ],
   "source": [
    "#compare the values in col4 between two groups without assuming that they have the same means\n",
    "#using a two-sample non-parametric test, such as the Mann-Whitney U test (also known as the Wilcoxon rank-sum test)\n",
    "#This test compares whether there is a significant difference in the distributions of the values between the two groups\n",
    "import pandas as pd\n",
    "from scipy import stats\n",
    "\n",
    "# Initialize an empty list to store p-values\n",
    "p_values = []\n",
    "\n",
    "# Iterate through the BedTool objects in bedtools_dict\n",
    "for key, obj in bedtools_dict.items():\n",
    "    # Generate the output file names for mode1 and mode2 based on the key\n",
    "    mode1_file = f'{key}_mode1.txt'\n",
    "    mode2_file = f'{key}_mode2.txt'\n",
    "        \n",
    "    # Perform the Mann-Whitney U test for mode1 and mode2\n",
    "    mode1_data = pd.read_csv(mode1_file, sep='\\t', header=None, names=['chr', 'start', 'end', 'value'])\n",
    "    mode2_data = pd.read_csv(mode2_file, sep='\\t', header=None, names=['chr', 'start', 'end', 'value'])\n",
    "    \n",
    "    # Convert 'value' column to numeric, handling errors with 'coerce' to replace non-numeric values with NaN\n",
    "    mode1_data['value'] = pd.to_numeric(mode1_data['value'], errors='coerce')\n",
    "    mode2_data['value'] = pd.to_numeric(mode2_data['value'], errors='coerce')\n",
    "    \n",
    "    # Drop rows with NaN values in 'value' column\n",
    "    mode1_data = mode1_data.dropna(subset=['value'])\n",
    "    mode2_data = mode2_data.dropna(subset=['value'])\n",
    "    \n",
    "    u_statistic, p_value = stats.mannwhitneyu(mode1_data['value'], mode2_data['value'], alternative='two-sided')\n",
    "    \n",
    "    # Append the p-value to the p_values list\n",
    "    p_values.append((key, p_value))\n",
    "\n",
    "# Print the list of p-values\n",
    "for key, p_value in p_values:\n",
    "    print(f'P-value for {key}: {p_value}')"
   ]
  },
  {
   "cell_type": "code",
   "execution_count": 1,
   "metadata": {},
   "outputs": [
    {
     "ename": "FileNotFoundError",
     "evalue": "[Errno 2] No such file or directory: '/scratch/ak8725/chess/whole_lifted/500kb_250kb_25/NPB-Omer/ms_mode1.txt'",
     "output_type": "error",
     "traceback": [
      "\u001b[0;31m---------------------------------------------------------------------------\u001b[0m",
      "\u001b[0;31mFileNotFoundError\u001b[0m                         Traceback (most recent call last)",
      "Cell \u001b[0;32mIn[1], line 24\u001b[0m\n\u001b[1;32m     21\u001b[0m mode2_file \u001b[38;5;241m=\u001b[39m os\u001b[38;5;241m.\u001b[39mpath\u001b[38;5;241m.\u001b[39mjoin(data_dir, \u001b[38;5;124mf\u001b[39m\u001b[38;5;124m'\u001b[39m\u001b[38;5;132;01m{\u001b[39;00mkey\u001b[38;5;132;01m}\u001b[39;00m\u001b[38;5;124m_mode2.txt\u001b[39m\u001b[38;5;124m'\u001b[39m)\n\u001b[1;32m     23\u001b[0m \u001b[38;5;66;03m# Check the number of columns in the file and read accordingly\u001b[39;00m\n\u001b[0;32m---> 24\u001b[0m \u001b[38;5;28;01mif\u001b[39;00m \u001b[38;5;28mlen\u001b[39m(pd\u001b[38;5;241m.\u001b[39mread_csv(mode1_file, sep\u001b[38;5;241m=\u001b[39m\u001b[38;5;124m'\u001b[39m\u001b[38;5;130;01m\\t\u001b[39;00m\u001b[38;5;124m'\u001b[39m, header\u001b[38;5;241m=\u001b[39m\u001b[38;5;28;01mNone\u001b[39;00m)\u001b[38;5;241m.\u001b[39mcolumns) \u001b[38;5;241m==\u001b[39m \u001b[38;5;241m2\u001b[39m:\n\u001b[1;32m     25\u001b[0m     mode1_data \u001b[38;5;241m=\u001b[39m pd\u001b[38;5;241m.\u001b[39mread_csv(mode1_file, sep\u001b[38;5;241m=\u001b[39m\u001b[38;5;124m'\u001b[39m\u001b[38;5;130;01m\\t\u001b[39;00m\u001b[38;5;124m'\u001b[39m, header\u001b[38;5;241m=\u001b[39m\u001b[38;5;28;01mNone\u001b[39;00m, names\u001b[38;5;241m=\u001b[39m[\u001b[38;5;124m'\u001b[39m\u001b[38;5;124mstart\u001b[39m\u001b[38;5;124m'\u001b[39m, \u001b[38;5;124m'\u001b[39m\u001b[38;5;124mcol4\u001b[39m\u001b[38;5;124m'\u001b[39m])\n\u001b[1;32m     26\u001b[0m \u001b[38;5;28;01melse\u001b[39;00m:\n",
      "File \u001b[0;32m/share/apps/anaconda3/2024.02/lib/python3.11/site-packages/pandas/io/parsers/readers.py:948\u001b[0m, in \u001b[0;36mread_csv\u001b[0;34m(filepath_or_buffer, sep, delimiter, header, names, index_col, usecols, dtype, engine, converters, true_values, false_values, skipinitialspace, skiprows, skipfooter, nrows, na_values, keep_default_na, na_filter, verbose, skip_blank_lines, parse_dates, infer_datetime_format, keep_date_col, date_parser, date_format, dayfirst, cache_dates, iterator, chunksize, compression, thousands, decimal, lineterminator, quotechar, quoting, doublequote, escapechar, comment, encoding, encoding_errors, dialect, on_bad_lines, delim_whitespace, low_memory, memory_map, float_precision, storage_options, dtype_backend)\u001b[0m\n\u001b[1;32m    935\u001b[0m kwds_defaults \u001b[38;5;241m=\u001b[39m _refine_defaults_read(\n\u001b[1;32m    936\u001b[0m     dialect,\n\u001b[1;32m    937\u001b[0m     delimiter,\n\u001b[0;32m   (...)\u001b[0m\n\u001b[1;32m    944\u001b[0m     dtype_backend\u001b[38;5;241m=\u001b[39mdtype_backend,\n\u001b[1;32m    945\u001b[0m )\n\u001b[1;32m    946\u001b[0m kwds\u001b[38;5;241m.\u001b[39mupdate(kwds_defaults)\n\u001b[0;32m--> 948\u001b[0m \u001b[38;5;28;01mreturn\u001b[39;00m _read(filepath_or_buffer, kwds)\n",
      "File \u001b[0;32m/share/apps/anaconda3/2024.02/lib/python3.11/site-packages/pandas/io/parsers/readers.py:611\u001b[0m, in \u001b[0;36m_read\u001b[0;34m(filepath_or_buffer, kwds)\u001b[0m\n\u001b[1;32m    608\u001b[0m _validate_names(kwds\u001b[38;5;241m.\u001b[39mget(\u001b[38;5;124m\"\u001b[39m\u001b[38;5;124mnames\u001b[39m\u001b[38;5;124m\"\u001b[39m, \u001b[38;5;28;01mNone\u001b[39;00m))\n\u001b[1;32m    610\u001b[0m \u001b[38;5;66;03m# Create the parser.\u001b[39;00m\n\u001b[0;32m--> 611\u001b[0m parser \u001b[38;5;241m=\u001b[39m TextFileReader(filepath_or_buffer, \u001b[38;5;241m*\u001b[39m\u001b[38;5;241m*\u001b[39mkwds)\n\u001b[1;32m    613\u001b[0m \u001b[38;5;28;01mif\u001b[39;00m chunksize \u001b[38;5;129;01mor\u001b[39;00m iterator:\n\u001b[1;32m    614\u001b[0m     \u001b[38;5;28;01mreturn\u001b[39;00m parser\n",
      "File \u001b[0;32m/share/apps/anaconda3/2024.02/lib/python3.11/site-packages/pandas/io/parsers/readers.py:1448\u001b[0m, in \u001b[0;36mTextFileReader.__init__\u001b[0;34m(self, f, engine, **kwds)\u001b[0m\n\u001b[1;32m   1445\u001b[0m     \u001b[38;5;28mself\u001b[39m\u001b[38;5;241m.\u001b[39moptions[\u001b[38;5;124m\"\u001b[39m\u001b[38;5;124mhas_index_names\u001b[39m\u001b[38;5;124m\"\u001b[39m] \u001b[38;5;241m=\u001b[39m kwds[\u001b[38;5;124m\"\u001b[39m\u001b[38;5;124mhas_index_names\u001b[39m\u001b[38;5;124m\"\u001b[39m]\n\u001b[1;32m   1447\u001b[0m \u001b[38;5;28mself\u001b[39m\u001b[38;5;241m.\u001b[39mhandles: IOHandles \u001b[38;5;241m|\u001b[39m \u001b[38;5;28;01mNone\u001b[39;00m \u001b[38;5;241m=\u001b[39m \u001b[38;5;28;01mNone\u001b[39;00m\n\u001b[0;32m-> 1448\u001b[0m \u001b[38;5;28mself\u001b[39m\u001b[38;5;241m.\u001b[39m_engine \u001b[38;5;241m=\u001b[39m \u001b[38;5;28mself\u001b[39m\u001b[38;5;241m.\u001b[39m_make_engine(f, \u001b[38;5;28mself\u001b[39m\u001b[38;5;241m.\u001b[39mengine)\n",
      "File \u001b[0;32m/share/apps/anaconda3/2024.02/lib/python3.11/site-packages/pandas/io/parsers/readers.py:1705\u001b[0m, in \u001b[0;36mTextFileReader._make_engine\u001b[0;34m(self, f, engine)\u001b[0m\n\u001b[1;32m   1703\u001b[0m     \u001b[38;5;28;01mif\u001b[39;00m \u001b[38;5;124m\"\u001b[39m\u001b[38;5;124mb\u001b[39m\u001b[38;5;124m\"\u001b[39m \u001b[38;5;129;01mnot\u001b[39;00m \u001b[38;5;129;01min\u001b[39;00m mode:\n\u001b[1;32m   1704\u001b[0m         mode \u001b[38;5;241m+\u001b[39m\u001b[38;5;241m=\u001b[39m \u001b[38;5;124m\"\u001b[39m\u001b[38;5;124mb\u001b[39m\u001b[38;5;124m\"\u001b[39m\n\u001b[0;32m-> 1705\u001b[0m \u001b[38;5;28mself\u001b[39m\u001b[38;5;241m.\u001b[39mhandles \u001b[38;5;241m=\u001b[39m get_handle(\n\u001b[1;32m   1706\u001b[0m     f,\n\u001b[1;32m   1707\u001b[0m     mode,\n\u001b[1;32m   1708\u001b[0m     encoding\u001b[38;5;241m=\u001b[39m\u001b[38;5;28mself\u001b[39m\u001b[38;5;241m.\u001b[39moptions\u001b[38;5;241m.\u001b[39mget(\u001b[38;5;124m\"\u001b[39m\u001b[38;5;124mencoding\u001b[39m\u001b[38;5;124m\"\u001b[39m, \u001b[38;5;28;01mNone\u001b[39;00m),\n\u001b[1;32m   1709\u001b[0m     compression\u001b[38;5;241m=\u001b[39m\u001b[38;5;28mself\u001b[39m\u001b[38;5;241m.\u001b[39moptions\u001b[38;5;241m.\u001b[39mget(\u001b[38;5;124m\"\u001b[39m\u001b[38;5;124mcompression\u001b[39m\u001b[38;5;124m\"\u001b[39m, \u001b[38;5;28;01mNone\u001b[39;00m),\n\u001b[1;32m   1710\u001b[0m     memory_map\u001b[38;5;241m=\u001b[39m\u001b[38;5;28mself\u001b[39m\u001b[38;5;241m.\u001b[39moptions\u001b[38;5;241m.\u001b[39mget(\u001b[38;5;124m\"\u001b[39m\u001b[38;5;124mmemory_map\u001b[39m\u001b[38;5;124m\"\u001b[39m, \u001b[38;5;28;01mFalse\u001b[39;00m),\n\u001b[1;32m   1711\u001b[0m     is_text\u001b[38;5;241m=\u001b[39mis_text,\n\u001b[1;32m   1712\u001b[0m     errors\u001b[38;5;241m=\u001b[39m\u001b[38;5;28mself\u001b[39m\u001b[38;5;241m.\u001b[39moptions\u001b[38;5;241m.\u001b[39mget(\u001b[38;5;124m\"\u001b[39m\u001b[38;5;124mencoding_errors\u001b[39m\u001b[38;5;124m\"\u001b[39m, \u001b[38;5;124m\"\u001b[39m\u001b[38;5;124mstrict\u001b[39m\u001b[38;5;124m\"\u001b[39m),\n\u001b[1;32m   1713\u001b[0m     storage_options\u001b[38;5;241m=\u001b[39m\u001b[38;5;28mself\u001b[39m\u001b[38;5;241m.\u001b[39moptions\u001b[38;5;241m.\u001b[39mget(\u001b[38;5;124m\"\u001b[39m\u001b[38;5;124mstorage_options\u001b[39m\u001b[38;5;124m\"\u001b[39m, \u001b[38;5;28;01mNone\u001b[39;00m),\n\u001b[1;32m   1714\u001b[0m )\n\u001b[1;32m   1715\u001b[0m \u001b[38;5;28;01massert\u001b[39;00m \u001b[38;5;28mself\u001b[39m\u001b[38;5;241m.\u001b[39mhandles \u001b[38;5;129;01mis\u001b[39;00m \u001b[38;5;129;01mnot\u001b[39;00m \u001b[38;5;28;01mNone\u001b[39;00m\n\u001b[1;32m   1716\u001b[0m f \u001b[38;5;241m=\u001b[39m \u001b[38;5;28mself\u001b[39m\u001b[38;5;241m.\u001b[39mhandles\u001b[38;5;241m.\u001b[39mhandle\n",
      "File \u001b[0;32m/share/apps/anaconda3/2024.02/lib/python3.11/site-packages/pandas/io/common.py:863\u001b[0m, in \u001b[0;36mget_handle\u001b[0;34m(path_or_buf, mode, encoding, compression, memory_map, is_text, errors, storage_options)\u001b[0m\n\u001b[1;32m    858\u001b[0m \u001b[38;5;28;01melif\u001b[39;00m \u001b[38;5;28misinstance\u001b[39m(handle, \u001b[38;5;28mstr\u001b[39m):\n\u001b[1;32m    859\u001b[0m     \u001b[38;5;66;03m# Check whether the filename is to be opened in binary mode.\u001b[39;00m\n\u001b[1;32m    860\u001b[0m     \u001b[38;5;66;03m# Binary mode does not support 'encoding' and 'newline'.\u001b[39;00m\n\u001b[1;32m    861\u001b[0m     \u001b[38;5;28;01mif\u001b[39;00m ioargs\u001b[38;5;241m.\u001b[39mencoding \u001b[38;5;129;01mand\u001b[39;00m \u001b[38;5;124m\"\u001b[39m\u001b[38;5;124mb\u001b[39m\u001b[38;5;124m\"\u001b[39m \u001b[38;5;129;01mnot\u001b[39;00m \u001b[38;5;129;01min\u001b[39;00m ioargs\u001b[38;5;241m.\u001b[39mmode:\n\u001b[1;32m    862\u001b[0m         \u001b[38;5;66;03m# Encoding\u001b[39;00m\n\u001b[0;32m--> 863\u001b[0m         handle \u001b[38;5;241m=\u001b[39m \u001b[38;5;28mopen\u001b[39m(\n\u001b[1;32m    864\u001b[0m             handle,\n\u001b[1;32m    865\u001b[0m             ioargs\u001b[38;5;241m.\u001b[39mmode,\n\u001b[1;32m    866\u001b[0m             encoding\u001b[38;5;241m=\u001b[39mioargs\u001b[38;5;241m.\u001b[39mencoding,\n\u001b[1;32m    867\u001b[0m             errors\u001b[38;5;241m=\u001b[39merrors,\n\u001b[1;32m    868\u001b[0m             newline\u001b[38;5;241m=\u001b[39m\u001b[38;5;124m\"\u001b[39m\u001b[38;5;124m\"\u001b[39m,\n\u001b[1;32m    869\u001b[0m         )\n\u001b[1;32m    870\u001b[0m     \u001b[38;5;28;01melse\u001b[39;00m:\n\u001b[1;32m    871\u001b[0m         \u001b[38;5;66;03m# Binary mode\u001b[39;00m\n\u001b[1;32m    872\u001b[0m         handle \u001b[38;5;241m=\u001b[39m \u001b[38;5;28mopen\u001b[39m(handle, ioargs\u001b[38;5;241m.\u001b[39mmode)\n",
      "\u001b[0;31mFileNotFoundError\u001b[0m: [Errno 2] No such file or directory: '/scratch/ak8725/chess/whole_lifted/500kb_250kb_25/NPB-Omer/ms_mode1.txt'"
     ]
    }
   ],
   "source": [
    "import os\n",
    "import pandas as pd\n",
    "import matplotlib.pyplot as plt\n",
    "import seaborn as sns\n",
    "\n",
    "# List of file pairs and their corresponding p-values\n",
    "file_pairs = [\n",
    "    {'key': 'ms', 'p-value': 0.095}\n",
    "]\n",
    "\n",
    "# Set the directory where your files are located\n",
    "data_dir = '/scratch/ak8725/chess/whole_lifted/500kb_250kb_25/NPB-Omer/'\n",
    "\n",
    "# Loop through each file pair and create a box plot\n",
    "for pair in file_pairs:\n",
    "    key = pair['key']\n",
    "    p_value = pair['p-value']\n",
    "\n",
    "    # Load data from files into DataFrames\n",
    "    mode1_file = os.path.join(data_dir, f'{key}_mode1.txt')\n",
    "    mode2_file = os.path.join(data_dir, f'{key}_mode2.txt')\n",
    "    \n",
    "    # Check the number of columns in the file and read accordingly\n",
    "    if len(pd.read_csv(mode1_file, sep='\\t', header=None).columns) == 2:\n",
    "        mode1_data = pd.read_csv(mode1_file, sep='\\t', header=None, names=['start', 'col4'])\n",
    "    else:\n",
    "        mode1_data = pd.read_csv(mode1_file, sep='\\t', header=None, names=['chr', 'start', 'end', 'col4'])\n",
    "\n",
    "    if len(pd.read_csv(mode2_file, sep='\\t', header=None).columns) == 2:\n",
    "        mode2_data = pd.read_csv(mode2_file, sep='\\t', header=None, names=['start', 'col4'])\n",
    "    else:\n",
    "        mode2_data = pd.read_csv(mode2_file, sep='\\t', header=None, names=['chr', 'start', 'end', 'col4'])\n",
    "\n",
    "    # Convert 'col4' to numeric, handling errors with 'coerce' to replace non-numeric values with NaN\n",
    "    mode1_data['col4'] = pd.to_numeric(mode1_data['col4'], errors='coerce')\n",
    "    mode2_data['col4'] = pd.to_numeric(mode2_data['col4'], errors='coerce')\n",
    "\n",
    "    # Remove rows with NaN values in 'col4'\n",
    "    mode1_data = mode1_data.dropna(subset=['col4'])\n",
    "    mode2_data = mode2_data.dropna(subset=['col4'])\n",
    "\n",
    "    # Create a combined DataFrame for both groups\n",
    "    combined_data = pd.concat([mode1_data, mode2_data], keys=['1', '2'])\n",
    "\n",
    "    # Create transparent box plots with customized colors\n",
    "    plt.figure(figsize=(10, 6))\n",
    "\n",
    "    # Define custom colors for the box plots and points\n",
    "    boxplot_colors = ['lavenderblush', 'deeppink']\n",
    "    point_colors = 'black'\n",
    "\n",
    "    # Create box plots with custom colors\n",
    "    b = sns.boxplot(data=combined_data, x=combined_data.index.get_level_values(0), y='col4', width=0.4, fliersize=0,\n",
    "                palette=boxplot_colors)\n",
    "\n",
    "    # Customize the plot\n",
    "    plt.xlabel('Mode')\n",
    "    plt.ylabel('')\n",
    "    \n",
    "    sns.despine(offset=5, trim=True)\n",
    "    b.set_title(f\"p-value = {p_value:.4f}\", fontsize=16)  # Use the p-value from the file_pairs list\n",
    "\n",
    "    # Manually add labels to box plots\n",
    "    ax = plt.gca()\n",
    "\n",
    "    plt.tight_layout\n",
    "    plt.savefig(f'{key}.png', dpi=300, bbox_inches='tight')\n",
    "    plt.close()"
   ]
  },
  {
   "cell_type": "code",
   "execution_count": null,
   "metadata": {},
   "outputs": [],
   "source": []
  }
 ],
 "metadata": {
  "kernelspec": {
   "display_name": "Python 3 (ipykernel)",
   "language": "python",
   "name": "python3"
  },
  "language_info": {
   "codemirror_mode": {
    "name": "ipython",
    "version": 3
   },
   "file_extension": ".py",
   "mimetype": "text/x-python",
   "name": "python",
   "nbconvert_exporter": "python",
   "pygments_lexer": "ipython3",
   "version": "3.11.7"
  }
 },
 "nbformat": 4,
 "nbformat_minor": 4
}
