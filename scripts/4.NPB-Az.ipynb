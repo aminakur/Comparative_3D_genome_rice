{
 "cells": [
  {
   "cell_type": "markdown",
   "metadata": {},
   "source": [
    "# 4. Analyzing TAD conservation with BLAST"
   ]
  },
  {
   "cell_type": "markdown",
   "metadata": {},
   "source": [
    "# Strategy 4\n",
    "## Detecting conserved TADs with SVs\n",
    "## Detecting split/merge events\n",
    "### Finding % identity of NPB TADs in Azucena\n",
    "1. Blasting all NPB TADs to azucena TADs with no min perc_ident or alignment rate, no max_target_seqs\n",
    "2. Extracting all hits per TAD (1 TAD - 1 target), summarizing, recording query coverage\n",
    "3. Identifying average/median query_cov, plotting their distribution"
   ]
  },
  {
   "cell_type": "code",
   "execution_count": 1,
   "metadata": {
    "collapsed": true,
    "jupyter": {
     "outputs_hidden": true
    }
   },
   "outputs": [
    {
     "name": "stdout",
     "output_type": "stream",
     "text": [
      "index file ../genomes/azucena.fna.fai not found, generating...\n",
      "index file ../genomes/IR64.fna.fai not found, generating...\n",
      "index file ../genomes/orufi.fna.fai not found, generating...\n",
      "index file ../genomes/omer.fna.fai not found, generating...\n"
     ]
    }
   ],
   "source": [
    "#1. Extracting TAD sequences to x_tads.fna\n",
    "module load bedtools/intel/2.29.2\n",
    "bedtools getfasta -fi ../genomes/NPB.fna -bed ../comparative_TADs_boundaries/NPB_TADs_ranked.bed -fo npb_tads.fna\n",
    "bedtools getfasta -fi ../genomes/azucena.fna -bed ../comparative_TADs_boundaries/az_TADs_5kb_two_tools_80.bed -fo az_tads.fna\n",
    "bedtools getfasta -fi ../genomes/IR64.fna -bed ../comparative_TADs_boundaries/IR64_TADs_5kb_two_tools_80.bed -fo ir64_tads.fna\n",
    "bedtools getfasta -fi ../genomes/orufi.fna -bed ../comparative_TADs_boundaries/oruf_TADs_5kb_two_tools_80.bed -fo oruf_tads.fna\n",
    "bedtools getfasta -fi ../genomes/omer.fna -bed ../comparative_TADs_boundaries/omer_TADs_5kb_two_tools_80.bed -fo omer_tads.fna"
   ]
  },
  {
   "cell_type": "code",
   "execution_count": 1,
   "metadata": {},
   "outputs": [
    {
     "name": "stdout",
     "output_type": "stream",
     "text": [
      "Submitted batch job 40677642\n"
     ]
    }
   ],
   "source": [
    "#2. npb_az_all_blast_results4.txt\n",
    "#query = npb\n",
    "#targets = az,ir64,oruf,omer\n",
    "cd ../Method_4/\n",
    "sbatch blast.sh"
   ]
  },
  {
   "cell_type": "code",
   "execution_count": 5,
   "metadata": {},
   "outputs": [],
   "source": [
    "#filter the results so that only TADs on the same chr in query and target remain, and the length of hsp alignment is minimum 5000\n",
    "import pandas as pd\n",
    "\n",
    "# Read the input file\n",
    "file_path = 'npb_az_all_blast_results4.txt'\n",
    "df = pd.read_table(file_path, header=None, names=['col1', 'col2', 'identity', 'length', 'mismatches', 'gap_openings', 'q_start', 'q_end', 's_start', 's_end', 'e_value', 'bit_score', 'alignment_length'])\n",
    "\n",
    "# Extract numbers after 'chr' in col1 and col2\n",
    "df['chr1_number'] = df['col1'].str.extract(r'chr(\\d+)')\n",
    "df['chr2_number'] = df['col2'].str.extract(r'chr(\\d+)')\n",
    "\n",
    "# Filter rows based on conditions\n",
    "filtered_df = df[(df['chr1_number'] == df['chr2_number']) & (df['length'] >= 5000)]\n",
    "\n",
    "# Drop the temporary columns\n",
    "filtered_df = filtered_df.drop(['chr1_number', 'chr2_number'], axis=1)\n",
    "\n",
    "# Save the filtered DataFrame to a new file\n",
    "filtered_file_path = 'npb_az_all_blast_results4_filtered.txt'\n",
    "filtered_df.to_csv(filtered_file_path, sep='\\t', index=False, header=False)"
   ]
  },
  {
   "cell_type": "code",
   "execution_count": 8,
   "metadata": {},
   "outputs": [],
   "source": [
    "#3 Per NPB_TAD, report all az_TADs and their cumulative coverages\n",
    "# output file structure: npb_TAD identifier, \n",
    "#                         az_TAD-n identifier\n",
    "#                         Qlen (col13) TAD length in NPB\n",
    "#                         cumulative Tlength (az_TAD-n length) = sum of col4 values per entry in col1+col2 of input file\n",
    "#                         percentage Tlen/Qlen\n",
    "                        \n",
    "import pandas as pd\n",
    "\n",
    "# Read the input file\n",
    "file_path = 'npb_az_all_blast_results4_filtered.txt'\n",
    "df = pd.read_table(file_path, header=None, names=['col1', 'col2', 'identity', 'length', 'mismatches', 'gap_openings', 'q_start', 'q_end', 's_start', 's_end', 'e_value', 'bit_score', 'alignment_length'])\n",
    "\n",
    "# Create a column for sorting based on the original order\n",
    "df['sort_order'] = range(len(df))\n",
    "\n",
    "# Group by col1 and col2, and calculate the sum of col4 for each group\n",
    "grouped_df = df.groupby(['col1', 'col2'], as_index=False)['length'].sum()\n",
    "\n",
    "# Merge with the original DataFrame to get the last col value\n",
    "summary_df = pd.merge(df[['col1', 'col2', 'alignment_length', 'sort_order']], grouped_df, on=['col1', 'col2'])\n",
    "\n",
    "# Select the first row of each group\n",
    "summary_df = summary_df.groupby(['col1', 'col2']).first().reset_index()\n",
    "\n",
    "# Sort the summary DataFrame based on the original order\n",
    "summary_df = summary_df.sort_values(by='sort_order').drop('sort_order', axis=1)\n",
    "\n",
    "# Calculate col5\n",
    "summary_df['col5'] = (summary_df['length'] / summary_df['alignment_length']) * 100\n",
    "\n",
    "# Save the summary DataFrame to a new file\n",
    "summary_file_path = 'npb_az_summary4.txt'\n",
    "summary_df.to_csv(summary_file_path, sep='\\t', index=False, header=False)"
   ]
  },
  {
   "cell_type": "code",
   "execution_count": 2,
   "metadata": {},
   "outputs": [],
   "source": [
    "#For each NPB_TAD, I will check all az_TADs \n",
    "#If the az_TAD-2 start is farther than 100kb from az_TAD1 end, it will be discarded\n",
    "#continue until all az_TADs processed"
   ]
  },
  {
   "cell_type": "code",
   "execution_count": 51,
   "metadata": {},
   "outputs": [
    {
     "name": "stdout",
     "output_type": "stream",
     "text": [
      "chr01:150000-210000: ['chr01:130000-195000']\n",
      "chr01:420000-525000: ['chr01:21820000-21915000', 'chr01:85000-130000', 'chr01:2740000-2805000', 'chr01:23985000-24035000', 'chr01:38075000-38180000', 'chr01:7105000-7185000', 'chr01:2805000-2940000', 'chr01:23630000-23725000', 'chr01:10245000-10295000', 'chr01:15870000-15990000']\n",
      "chr01:2640000-2695000: ['chr01:2740000-2805000', 'chr01:2805000-2940000']\n",
      "chr01:2695000-2810000: ['chr01:2805000-2940000']\n",
      "chr01:2890000-2965000: ['chr01:15870000-15990000', 'chr01:10295000-10400000', 'chr01:29350000-29450000', 'chr01:21820000-21915000', 'chr01:23985000-24035000']\n"
     ]
    }
   ],
   "source": [
    "#create a library (key = npb_tad, value = list of az_tads)\n",
    "def create_dict_from_file(file_path):\n",
    "    result_dict = {}\n",
    "\n",
    "    with open(file_path, 'r') as file:\n",
    "        for line in file:\n",
    "            parts = line.strip().split('\\t')\n",
    "            key = parts[0]\n",
    "            value = parts[1]\n",
    "\n",
    "            if key not in result_dict:\n",
    "                result_dict[key] = [value]\n",
    "            else:\n",
    "                result_dict[key].append(value)\n",
    "\n",
    "    return result_dict\n",
    "\n",
    "# Example usage\n",
    "file_path = 'npb_az_summary4.txt'\n",
    "result_dict = create_dict_from_file(file_path)\n",
    "\n",
    "# Print the first three key-value combinations\n",
    "count = 0\n",
    "for key, values in result_dict.items():\n",
    "    print(f\"{key}: {values}\")\n",
    "    count += 1\n",
    "    if count == 5:\n",
    "        break"
   ]
  },
  {
   "cell_type": "code",
   "execution_count": 59,
   "metadata": {},
   "outputs": [],
   "source": [
    "#create function to filter az_tads for each npb_tad, so that the az_tads are not farther than 100kb from each other\n",
    "def filter_values(dictionary):\n",
    "    filtered_dict = {}\n",
    "\n",
    "    for key, values in dictionary.items():\n",
    "        if len(values) == 1:\n",
    "            # If there is only one value, keep it as is\n",
    "            filtered_dict[key] = values\n",
    "        else:\n",
    "            # If there are multiple values, process them\n",
    "            filtered_values = [values[0]]  # Keep the first value\n",
    "    \n",
    "            for i in range(1, len(values)):\n",
    "                # Split each value by ':' and '-'\n",
    "                parts1 = values[i - 1].split(':')[-1].split('-')\n",
    "                parts1.insert(0, values[i - 1].split(':')[0])\n",
    "\n",
    "                parts2 = values[i].split(':')[-1].split('-')\n",
    "                parts2.insert(0, values[i].split(':')[0])\n",
    "                \n",
    "                # Compare the parts and apply the filtering conditions\n",
    "                if parts1[0] == parts2[0] and abs(int(parts2[1]) - int(parts1[2])) < 100000:\n",
    "                    filtered_values.append(values[i])\n",
    "                    \n",
    "            filtered_dict[key] = filtered_values\n",
    "\n",
    "    return filtered_dict"
   ]
  },
  {
   "cell_type": "code",
   "execution_count": 60,
   "metadata": {},
   "outputs": [
    {
     "name": "stdout",
     "output_type": "stream",
     "text": [
      "chr01:150000-210000: ['chr01:130000-195000']\n",
      "chr01:420000-525000: ['chr01:21820000-21915000']\n",
      "chr01:2640000-2695000: ['chr01:2740000-2805000', 'chr01:2805000-2940000']\n",
      "chr01:2695000-2810000: ['chr01:2805000-2940000']\n",
      "chr01:2890000-2965000: ['chr01:15870000-15990000']\n"
     ]
    }
   ],
   "source": [
    "# Assuming `result_dict` is the initial dictionary\n",
    "filtered_dict = filter_values(result_dict)\n",
    "\n",
    "# Print the first three key-value combinations\n",
    "count = 0\n",
    "for key, values in filtered_dict.items():\n",
    "    print(f\"{key}: {values}\")\n",
    "    count += 1\n",
    "    if count == 5:\n",
    "        break"
   ]
  },
  {
   "cell_type": "code",
   "execution_count": 1,
   "metadata": {},
   "outputs": [],
   "source": [
    "#calculate number of conserved TADs from npb_az_summary4_filtered.txt\n",
    "#conserved would be rows with unique entries in both col1 and col2\n",
    "import csv\n",
    "\n",
    "def save_conserved_rows(input_file, output_file):\n",
    "    col1_count = {}\n",
    "    col2_count = {}\n",
    "    conserved_rows = []\n",
    "\n",
    "    with open(input_file, 'r', newline='') as file:\n",
    "        reader = csv.reader(file, delimiter='\\t')\n",
    "        header = next(reader, None)  # Read the header if present\n",
    "        if header:\n",
    "            conserved_rows.append(header)\n",
    "\n",
    "        for row in reader:\n",
    "            col1_value = row[0]\n",
    "            col2_value = row[1]\n",
    "\n",
    "            # Check uniqueness in col1\n",
    "            if col1_value not in col1_count:\n",
    "                col1_count[col1_value] = 1\n",
    "            else:\n",
    "                col1_count[col1_value] += 1\n",
    "\n",
    "            # Check uniqueness in col2\n",
    "            if col2_value not in col2_count:\n",
    "                col2_count[col2_value] = 1\n",
    "            else:\n",
    "                col2_count[col2_value] += 1\n",
    "\n",
    "            # If both col1 and col2 are unique, add the row to conserved_rows\n",
    "            if col1_count[col1_value] == 1 and col2_count[col2_value] == 1:\n",
    "                conserved_rows.append(row)\n",
    "\n",
    "    # Write the conserved rows to the output file\n",
    "    with open(output_file, 'w', newline='') as output:\n",
    "        writer = csv.writer(output, delimiter='\\t')\n",
    "        writer.writerows(conserved_rows)\n",
    "\n",
    "# Example usage\n",
    "input_file = 'npb_az_summary4_filtered.txt'\n",
    "output_file = 'npb_az_conserved.txt'\n",
    "save_conserved_rows(input_file, output_file)"
   ]
  },
  {
   "cell_type": "code",
   "execution_count": 15,
   "metadata": {},
   "outputs": [
    {
     "name": "stdout",
     "output_type": "stream",
     "text": [
      "Mean coverage: 66.62\n",
      "Median coverage: 85.82\n",
      "Total conserved TADs: 621\n",
      "Coverage >= 50: 427 TADs\n",
      "Coverage >= 80: 352 TADs\n",
      "Coverage >= 90: 264 TADs\n",
      "Coverage >= 100: 55 TADs\n",
      "\n"
     ]
    }
   ],
   "source": [
    "### How many TADs are conserved NPB-Az\n",
    "# Read the data from the file\n",
    "data = pd.read_csv(\"npb_az_conserved.txt\", sep='\\t', header=None, names=['npb_tad', 'az_tad', 'npb_len', 'az_len', 'coverage'])\n",
    "\n",
    "    # Calculate and print mean coverage\n",
    "mean_coverage = data['coverage'].mean()\n",
    "print(f\"Mean coverage: {mean_coverage:.2f}\")\n",
    "\n",
    "    # Calculate and print median coverage\n",
    "median_coverage = data['coverage'].median()\n",
    "print(f\"Median coverage: {median_coverage:.2f}\")\n",
    "\n",
    "    # Calculate and print total number of rows\n",
    "total_rows = len(data)\n",
    "print(f\"Total conserved TADs: {total_rows}\")\n",
    "\n",
    "    # Calculate and print proportion of rows with coverage >= 50, 80, 90, 100\n",
    "coverage_above_50 = data[data['coverage'] >= 50]\n",
    "coverage_above_80 = data[data['coverage'] >= 80]\n",
    "coverage_above_90 = data[data['coverage'] >= 90]\n",
    "coverage_above_100 = data[data['coverage'] >= 100]\n",
    "    \n",
    "    # Calculate and print number of rows with coverage >= 50, 80, 90, 100\n",
    "print(f\"Coverage >= 50: {len(coverage_above_50)} TADs\")\n",
    "print(f\"Coverage >= 80: {len(coverage_above_80)} TADs\")\n",
    "print(f\"Coverage >= 90: {len(coverage_above_90)} TADs\")\n",
    "print(f\"Coverage >= 100: {len(coverage_above_100)} TADs\\n\")\n",
    "\n",
    "#compare with results from Method3\n",
    "# Coverage >= 50: 555 TADs\n",
    "# Coverage >= 80: 486 TADs\n",
    "# Coverage >= 90: 438 TADs\n",
    "# Coverage >= 100: 305 TADs\n",
    "#the difference is due to filtering: length of hsp alignment is minimum 5000 in Method4, any in Method3\n",
    "#I'm gonna use results of Method3 for conserved TADs annotation"
   ]
  },
  {
   "cell_type": "code",
   "execution_count": 8,
   "metadata": {},
   "outputs": [
    {
     "name": "stdout",
     "output_type": "stream",
     "text": [
      "Number of split events: 42\n"
     ]
    }
   ],
   "source": [
    "#detecting split events and saving to npb_az_splits.txt\n",
    "#col1=1, col2>=2, sum(col4)>=50\n",
    "\n",
    "import csv\n",
    "\n",
    "def detect_and_save_events(input_file, output_file):\n",
    "    # Load the input file into a list of lists\n",
    "    with open(input_file, 'r', newline='') as file:\n",
    "        reader = csv.reader(file, delimiter='\\t')\n",
    "        data = list(reader)\n",
    "\n",
    "    # Create a dictionary to store the count of unique strings from col1\n",
    "    col1_count = {}\n",
    "\n",
    "    # Create a list to store rows that satisfy the conditions\n",
    "    filtered_rows = []\n",
    "\n",
    "    # Iterate through the rows in the data\n",
    "    for row in data:\n",
    "        col1_value = row[0]  # Assuming col1 is at index 0\n",
    "        col2_value = row[1]  # Assuming col2 is at index 1\n",
    "        col4_value = int(row[3])  # Assuming col4 is at index 3\n",
    "\n",
    "        # Update col1_count dictionary\n",
    "        if col1_value not in col1_count:\n",
    "            col1_count[col1_value] = {col2_value}\n",
    "        else:\n",
    "            col1_count[col1_value].add(col2_value)\n",
    "\n",
    "        # Check conditions for detecting events\n",
    "        if len(col1_count[col1_value]) >= 2 and sum(int(row[3]) for row in data if row[0] == col1_value) >= 0:\n",
    "            filtered_rows.extend([row for row in data if row[0] == col1_value])\n",
    "\n",
    "    # Write the filtered rows to the output file\n",
    "    with open(output_file, 'w', newline='') as file:\n",
    "        writer = csv.writer(file, delimiter='\\t')\n",
    "        writer.writerows(filtered_rows)\n",
    "\n",
    "    # Return the number of events\n",
    "    num_events = sum(1 for col1_value, count in col1_count.items() if len(count) >= 2 and sum(int(row[3]) for row in data if row[0] == col1_value) >= 50)\n",
    "    return num_events\n",
    "\n",
    "# Example usage\n",
    "input_file = 'npb_az_summary4_filtered.txt'\n",
    "output_file = 'npb_az_splits.txt'\n",
    "num_events = detect_and_save_events(input_file, output_file)\n",
    "\n",
    "print(f\"Number of split events: {num_events}\")"
   ]
  },
  {
   "cell_type": "code",
   "execution_count": 9,
   "metadata": {},
   "outputs": [
    {
     "name": "stdout",
     "output_type": "stream",
     "text": [
      "Number of merge events (non-filtered for distance): 134\n"
     ]
    }
   ],
   "source": [
    "#detecting merge events and saving to npb_az_merges.txt\n",
    "#col1>=2, col2=1, sum(col4)>=50\n",
    "\n",
    "import csv\n",
    "\n",
    "def detect_and_save_events(input_file, output_file):\n",
    "    # Load the input file into a list of lists\n",
    "    with open(input_file, 'r', newline='') as file:\n",
    "        reader = csv.reader(file, delimiter='\\t')\n",
    "        data = list(reader)\n",
    "\n",
    "    # Create a dictionary to store the count of unique strings from col2\n",
    "    col2_count = {}\n",
    "\n",
    "    # Create a list to store rows that satisfy the conditions\n",
    "    filtered_rows = []\n",
    "\n",
    "    # Iterate through the rows in the data\n",
    "    for row in data:\n",
    "        col1_value = row[0]  # Assuming col1 is at index 0\n",
    "        col2_value = row[1]  # Assuming col2 is at index 1\n",
    "        col4_value = int(row[3])  # Assuming col4 is at index 3\n",
    "\n",
    "        # Update col2_count dictionary\n",
    "        if col2_value not in col2_count:\n",
    "            col2_count[col2_value] = {col1_value}\n",
    "        else:\n",
    "            col2_count[col2_value].add(col1_value)\n",
    "\n",
    "        # Check conditions for detecting events\n",
    "        if len(col2_count[col2_value]) >= 2 and sum(int(row[3]) for row in data if row[1] == col2_value) >= 0:\n",
    "            filtered_rows.extend([row for row in data if row[1] == col2_value])\n",
    "\n",
    "    # Write the filtered rows to the output file\n",
    "    with open(output_file, 'w', newline='') as file:\n",
    "        writer = csv.writer(file, delimiter='\\t')\n",
    "        writer.writerows(filtered_rows)\n",
    "\n",
    "    # Return the number of events\n",
    "    num_events = sum(1 for col2_value, count in col2_count.items() if len(count) >= 2 and sum(int(row[3]) for row in data if row[1] == col2_value) >= 50)\n",
    "    return num_events\n",
    "\n",
    "# Example usage\n",
    "input_file = 'npb_az_summary4_filtered.txt'\n",
    "output_file = 'npb_az_merges_draft.txt'\n",
    "num_events = detect_and_save_events(input_file, output_file)\n",
    "\n",
    "print(f\"Number of merge events (non-filtered for distance): {num_events}\")"
   ]
  },
  {
   "cell_type": "code",
   "execution_count": 16,
   "metadata": {},
   "outputs": [
    {
     "name": "stdout",
     "output_type": "stream",
     "text": [
      "chr01:2805000-2940000: ['chr01:2640000-2695000', 'chr01:2695000-2810000', 'chr01:14470000-14515000']\n",
      "chr01:9435000-9540000: ['chr01:9115000-9170000', 'chr01:9170000-9275000', 'chr01:34550000-34635000']\n",
      "chr01:5660000-5730000: ['chr01:5480000-5545000', 'chr01:10900000-10985000']\n"
     ]
    }
   ],
   "source": [
    "#filtering the merge events from npb_az_merges_draft.txt so that the distance between npb_tads is <=100kb\n",
    "#create a library (key = az_tad, value = list of npb_tads)\n",
    "def create_dict_from_file(file_path):\n",
    "    result_dict = {}\n",
    "\n",
    "    with open(file_path, 'r') as file:\n",
    "        for line in file:\n",
    "            parts = line.strip().split('\\t')\n",
    "            key = parts[1]\n",
    "            value = parts[0]\n",
    "\n",
    "            if key not in result_dict:\n",
    "                result_dict[key] = [value]\n",
    "            else:\n",
    "                # Add the value only if it's not already in the list\n",
    "                if value not in result_dict[key]:\n",
    "                    result_dict[key].append(value)\n",
    "\n",
    "    return result_dict\n",
    "\n",
    "# Example usage\n",
    "file_path = 'npb_az_merges_draft.txt'\n",
    "result_dict = create_dict_from_file(file_path)\n",
    "\n",
    "# Print the first three key-value combinations\n",
    "count = 0\n",
    "for key, values in result_dict.items():\n",
    "    print(f\"{key}: {values}\")\n",
    "    count += 1\n",
    "    if count == 3:\n",
    "        break"
   ]
  },
  {
   "cell_type": "code",
   "execution_count": 17,
   "metadata": {},
   "outputs": [
    {
     "name": "stdout",
     "output_type": "stream",
     "text": [
      "chr01:2805000-2940000: ['chr01:2640000-2695000', 'chr01:2695000-2810000']\n",
      "chr01:9435000-9540000: ['chr01:9115000-9170000', 'chr01:9170000-9275000']\n",
      "chr01:5660000-5730000: ['chr01:5480000-5545000']\n",
      "chr01:10475000-10545000: ['chr01:10195000-10265000']\n",
      "chr01:22885000-22960000: ['chr01:14835000-14995000', 'chr01:22260000-22335000']\n"
     ]
    }
   ],
   "source": [
    "#create function to filter npb_tads for each az_tad, so that the npb_tads are not farther than 100kb from each other\n",
    "def filter_values(dictionary):\n",
    "    filtered_dict = {}\n",
    "\n",
    "    for key, values in dictionary.items():\n",
    "        if len(values) == 1:\n",
    "            # If there is only one value, keep it as is\n",
    "            filtered_dict[key] = values\n",
    "        else:\n",
    "            # If there are multiple values, process them\n",
    "            filtered_values = [values[0]]  # Keep the first value\n",
    "    \n",
    "            for i in range(1, len(values)):\n",
    "                # Split each value by ':' and '-'\n",
    "                parts1 = values[i - 1].split(':')[-1].split('-')\n",
    "                parts1.insert(0, values[i - 1].split(':')[0])\n",
    "\n",
    "                parts2 = values[i].split(':')[-1].split('-')\n",
    "                parts2.insert(0, values[i].split(':')[0])\n",
    "                \n",
    "                # Compare the parts and apply the filtering conditions\n",
    "                if parts1[0] == parts2[0] and abs(int(parts2[1]) - int(parts1[2])) < 100000:\n",
    "                    filtered_values.append(values[i])\n",
    "                    \n",
    "            filtered_dict[key] = filtered_values\n",
    "\n",
    "    return filtered_dict\n",
    "\n",
    "# Assuming `result_dict` is the initial dictionary\n",
    "filtered_dict = filter_values(result_dict)\n",
    "\n",
    "# Print the first three key-value combinations\n",
    "count = 0\n",
    "for key, values in filtered_dict.items():\n",
    "    print(f\"{key}: {values}\")\n",
    "    count += 1\n",
    "    if count == 5:\n",
    "        break"
   ]
  },
  {
   "cell_type": "code",
   "execution_count": 19,
   "metadata": {},
   "outputs": [],
   "source": [
    "#create a npb_az_merges.txt from filtered_dict !!! this file does not represent merges only !!!\n",
    "#for each az_tad, I have npb_tads that it is split into\n",
    "#order of cols: npb_tad, az_tad, etc\n",
    "\n",
    "import csv\n",
    "\n",
    "# Load the contents of npb_az_merges_draft.txt into a list of lines\n",
    "with open('npb_az_merges_draft.txt', 'r') as file:\n",
    "    summary_lines = file.readlines()\n",
    "\n",
    "# Create a list to store the filtered lines\n",
    "filtered_lines = []\n",
    "\n",
    "# Iterate through the entries in the filtered_dict\n",
    "for key, values in filtered_dict.items():\n",
    "    # Iterate through the values for each key\n",
    "    for value in values:\n",
    "        # Check if the entry (key + '\\t' + value) is present in npb_az_merges_draft.txt\n",
    "        entry = f\"{value}\\t{key}\"\n",
    "        for line in summary_lines:\n",
    "            if entry + '\\t' in line:\n",
    "                # If the entry is found, add the entire row to the filtered lines list\n",
    "                filtered_lines.append(line.strip() + '\\n')  # Add a newline character\n",
    "                break  # Stop searching for the same entry in subsequent lines\n",
    "\n",
    "# Write the filtered lines to npb_az_summary4_filtered.txt\n",
    "with open('npb_az_merges.txt', 'w', newline='') as file:\n",
    "    file.writelines(filtered_lines)"
   ]
  },
  {
   "cell_type": "code",
   "execution_count": 3,
   "metadata": {},
   "outputs": [],
   "source": [
    "import csv\n",
    "from collections import Counter\n",
    "\n",
    "def extract_repeated_rows(input_file, output_file):\n",
    "    col2_counts = Counter()\n",
    "\n",
    "    # Read the file and count occurrences of values in col2\n",
    "    with open(input_file, 'r', newline='') as file:\n",
    "        reader = csv.reader(file, delimiter='\\t')\n",
    "        header = next(reader)  # Read and store the header\n",
    "        col2_index = header.index(\"Col2\") if \"Col2\" in header else 1\n",
    "\n",
    "        for row in reader:\n",
    "            col2_value = row[col2_index]\n",
    "            col2_counts[col2_value] += 1\n",
    "\n",
    "    # Identify values in col2 that are repeated more than once\n",
    "    repeated_values = {key for key, count in col2_counts.items() if count > 1}\n",
    "\n",
    "    # Write rows containing repeated values in col2 to the output file\n",
    "    with open(input_file, 'r', newline='') as file, open(output_file, 'w', newline='') as outfile:\n",
    "        reader = csv.reader(file, delimiter='\\t')\n",
    "        writer = csv.writer(outfile, delimiter='\\t')\n",
    "        writer.writerow(header)  # Write header\n",
    "\n",
    "        for row in reader:\n",
    "            col2_value = row[col2_index]\n",
    "            if col2_value in repeated_values:\n",
    "                writer.writerow(row)\n",
    "\n",
    "# Replace 'npb_az_merges.txt' and 'npb_az_merges_true.txt' with your actual file names\n",
    "input_file = 'npb_az_merges.txt'\n",
    "output_file = 'npb_az_merges_true.txt'\n",
    "extract_repeated_rows(input_file, output_file)"
   ]
  },
  {
   "cell_type": "code",
   "execution_count": 4,
   "metadata": {},
   "outputs": [],
   "source": [
    "#create file npb_az_merges_true with real merge events\n",
    "import csv\n",
    "\n",
    "def write_filtered_entries(input_file, output_file):\n",
    "    col2_entries = {}\n",
    "\n",
    "    with open(input_file, 'r', newline='') as file:\n",
    "        reader = csv.reader(file, delimiter='\\t')\n",
    "        next(reader)  # Skip header if present\n",
    "        for row in reader:\n",
    "            col1_value = row[0]  # Assuming col1 is at index 0\n",
    "            col2_value = row[1]  # Assuming col2 is at index 1\n",
    "\n",
    "            if col2_value not in col2_entries:\n",
    "                col2_entries[col2_value] = {col1_value}\n",
    "            else:\n",
    "                col2_entries[col2_value].add(col1_value)\n",
    "\n",
    "    # Write unique entries in col2 with two or more unique entries in col1 to the output file\n",
    "    with open(output_file, 'w', newline='') as outfile:\n",
    "        writer = csv.writer(outfile, delimiter='\\t')\n",
    "        writer.writerow([\"Col1\", \"Col2\"])  # Write header\n",
    "\n",
    "        for col2_value, col1_set in col2_entries.items():\n",
    "            if len(col1_set) >= 2:\n",
    "                for col1_value in col1_set:\n",
    "                    writer.writerow([col1_value, col2_value])\n",
    "\n",
    "input_file = 'npb_az_merges.txt'\n",
    "output_file = 'filtered_entries.txt'\n",
    "write_filtered_entries(input_file, output_file)"
   ]
  },
  {
   "cell_type": "code",
   "execution_count": 2,
   "metadata": {},
   "outputs": [
    {
     "name": "stdout",
     "output_type": "stream",
     "text": [
      "Number of merge events: 47\n"
     ]
    }
   ],
   "source": [
    "#calculate number of merge events (2+ npb_tads into 1 az_tad) filtered for distance (<=100kb)\n",
    "import csv\n",
    "\n",
    "def count_events(input_file):\n",
    "    col2_count = {}\n",
    "\n",
    "    with open(input_file, 'r', newline='') as file:\n",
    "        reader = csv.reader(file, delimiter='\\t')\n",
    "        next(reader)  # Skip header if present\n",
    "        for row in reader:\n",
    "            col1_value = row[0]  # Assuming col1 is at index 0\n",
    "            col2_value = row[1]  # Assuming col2 is at index 1\n",
    "\n",
    "            if col2_value not in col2_count:\n",
    "                col2_count[col2_value] = {col1_value}\n",
    "            else:\n",
    "                col2_count[col2_value].add(col1_value)\n",
    "\n",
    "    # Count the number of unique entries in col2 with two or more unique entries in col1\n",
    "    num_events = sum(1 for count in col2_count.values() if len(count) >= 2)\n",
    "\n",
    "    return num_events\n",
    "\n",
    "input_file = 'npb_az_merges.txt'\n",
    "num_events = count_events(input_file)\n",
    "\n",
    "print(f\"Number of merge events: {num_events}\")"
   ]
  },
  {
   "cell_type": "markdown",
   "metadata": {},
   "source": [
    "### Nipponbare-Azucena comparison\n",
    "1. How many split events happened? (1 NPB TAD split into 2/3/n Azucena TADs) 42\n",
    "2. How many merge events happened? (2/3/n NPB TADs merged into 1 Azucena TAD) 47 (merged TADs = 94)\n",
    "3. How many complex rearrangements happened? (Split+merge event) N/A\n",
    "4. How many NPB TADs remained conserved in Azucena (% conservation >=50) (Use info from Method 3, cov>=50%) 555"
   ]
  },
  {
   "cell_type": "code",
   "execution_count": null,
   "metadata": {},
   "outputs": [],
   "source": [
    "split event\n",
    "1 npb_tad = 2+ az_tads AND sum(Tlengths/Qlengths from last col)>=50\n",
    "#actually if sum>= 0 the results is the same\n",
    "merge event\n",
    "2+ npb_tad = 1 az_tad AND sum(Tlengths/Qlengths)>=50\n",
    "#actually if sum>= 0 the results is the same\n",
    "conserved\n",
    "1 npb_tad = 1 az_tad AND sum(Tlengths/Qlengths)>=50\n",
    "#took from the Method 3 results\n",
    "complex event\n",
    "how to define???"
   ]
  }
 ],
 "metadata": {
  "kernelspec": {
   "display_name": "Python 3",
   "language": "python",
   "name": "python3"
  },
  "language_info": {
   "codemirror_mode": {
    "name": "ipython",
    "version": 3
   },
   "file_extension": ".py",
   "mimetype": "text/x-python",
   "name": "python",
   "nbconvert_exporter": "python",
   "pygments_lexer": "ipython3",
   "version": "3.8.6"
  }
 },
 "nbformat": 4,
 "nbformat_minor": 4
}
