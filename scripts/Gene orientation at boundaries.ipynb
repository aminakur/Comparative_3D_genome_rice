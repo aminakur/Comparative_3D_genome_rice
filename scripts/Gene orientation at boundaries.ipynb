{
 "cells": [
  {
   "cell_type": "markdown",
   "metadata": {},
   "source": [
    "# Gene orientation at TAD boundaries genome-wide\n",
    "# 1.Finding pairs of genes that are closest to the TAD boundaries\n",
    "Gene file: azucena_genes.bed\n",
    "\n",
    "TADs (1kb resolution): /scratch/ak8725/az_mrg/hicexplorer_1kb_tads.bed\n",
    "this is essentially the same file as /scratch/ak8725/az_mrg/hicFindTADs/hicFindTADs2_out/az_mrg2_domains.bed\n",
    "\n",
    "TAD boundaries are here /scratch/ak8725/az_mrg/hicFindTADs/hicFindTADs2_out/az_mrg2_boundaries.bed"
   ]
  },
  {
   "cell_type": "code",
   "execution_count": 5,
   "metadata": {},
   "outputs": [],
   "source": [
    "sed -i 's/ /\\t/g' /scratch/ak8725/az_mrg/azucena_genes.bed"
   ]
  },
  {
   "cell_type": "code",
   "execution_count": 1,
   "metadata": {},
   "outputs": [
    {
     "name": "stdout",
     "output_type": "stream",
     "text": [
      "chr01\t72000\t84000\n",
      "chr01\t84000\t175000\n",
      "chr01\t175000\t246000\n",
      "chr01\t246000\t303000\n",
      "chr01\t303000\t317000\n",
      "chr01\t317000\t422000\n",
      "chr01\t422000\t467000\n",
      "chr01\t467000\t483000\n",
      "chr01\t483000\t494000\n",
      "chr01\t494000\t513000\n"
     ]
    }
   ],
   "source": [
    "head /scratch/ak8725/az_mrg/hicexplorer_1kb_tads.bed"
   ]
  },
  {
   "cell_type": "code",
   "execution_count": 6,
   "metadata": {},
   "outputs": [],
   "source": [
    "cut -f 1,2,3,4,6 /scratch/ak8725/az_mrg/azucena_genes.bed > /scratch/ak8725/az_mrg/az_genes.bed"
   ]
  },
  {
   "cell_type": "code",
   "execution_count": 4,
   "metadata": {},
   "outputs": [
    {
     "name": "stdout",
     "output_type": "stream",
     "text": [
      "chr01\t2325\t10183\tgene:OsAzu_01g0000010\t+\n",
      "chr01\t10736\t11801\tgene:OsAzu_01g0000020\t+\n",
      "chr01\t10737\t11793\tgene:OsAzu_01g0000030\t-\n",
      "chr01\t12076\t15281\tgene:OsAzu_01g0000040\t+\n",
      "chr01\t15657\t19273\tgene:OsAzu_01g0000050\t+\n",
      "chr01\t22199\t26348\tgene:OsAzu_01g0000060\t+\n",
      "chr01\t26494\t28061\tgene:OsAzu_01g0000070\t+\n",
      "chr01\t29224\t33894\tgene:OsAzu_01g0000080\t+\n",
      "chr01\t35014\t40593\tgene:OsAzu_01g0000090\t+\n",
      "chr01\t56572\t57695\tgene:OsAzu_01g0000100\t+\n"
     ]
    }
   ],
   "source": [
    "head /scratch/ak8725/az_mrg/azucena_genes.bed"
   ]
  },
  {
   "cell_type": "code",
   "execution_count": null,
   "metadata": {},
   "outputs": [],
   "source": [
    "#/scratch/ak8725/az_mrg/closest.sh\n",
    "\n",
    "#!/bin/bash\n",
    "#\n",
    "#SBATCH --nodes=1\n",
    "#SBATCH --ntasks-per-node=1\n",
    "#SBATCH --cpus-per-task=1\n",
    "#SBATCH --time=4:00:00\n",
    "#SBATCH --mem=32GB\n",
    "#SBATCH --mail-type=END,FAIL\n",
    "#SBATCH --mail-user=ak8725@nyu.edu\n",
    "\n",
    "module load bedtools/intel/2.29.2\n",
    "\n",
    "# define input files\n",
    "tads_file=\"/scratch/ak8725/az_mrg/hicexplorer_1kb_tads.bed\"\n",
    "genes_file=\"/scratch/ak8725/az_mrg/azucena_genes.bed\"\n",
    "\n",
    "# define output file\n",
    "output_file=\"closest_genes.bed\"\n",
    "\n",
    "# create header for output file\n",
    "echo -e \"chr\\tstart_tad\\tgene1\\tstart1\\tend1\\tstrand1\\tend_tad\\tgene2\\tstart2\\tend2\\tstrand2\" > $output_file\n",
    "\n",
    "# loop through each feature in tads.bed\n",
    "while read -r chr start_tad end_tad; do\n",
    "\n",
    "    echo \"Processing TAD: $chr $start_tad $end_tad\"\n",
    "\n",
    "    # find the closest gene to the start coordinate of the feature\n",
    "    gene1=$(bedtools closest -a <(echo -e \"$chr\\\\t$start_tad\\\\t$start_tad\" | bedtools sort -i -) -b $genes_file -d -t first | awk '{print $7}')\n",
    "\n",
    "    # find the closest gene to the end coordinate of the feature\n",
    "    gene2=$(bedtools closest -a <(echo -e \"$chr\\\\t$end_tad\\\\t$end_tad\" | bedtools sort -i -) -b $genes_file -d -t first | awk '{print $7}')\n",
    "\n",
    "    # if either gene1 or gene2 is empty, skip this TAD\n",
    "    if [[ -z $gene1 || -z $gene2 ]]; then\n",
    "        echo \"Could not find closest gene for TAD: $chr $start_tad $end_tad\"\n",
    "        continue\n",
    "    fi\n",
    "\n",
    "    # get the information for gene1, removing duplicates if present\n",
    "    gene1_info=$(grep -w $gene1 $genes_file | sort -u -k 4,4)\n",
    "    gene1_chr=$(echo $gene1_info | awk '{print $1}')\n",
    "    gene1_start=$(echo $gene1_info | awk '{print $2}')\n",
    "    gene1_end=$(echo $gene1_info | awk '{print $3}')\n",
    "    gene1_name=$(echo $gene1_info | awk '{print $4}' )\n",
    "    gene1_strand=$(echo $gene1_info | awk '{print $5}')\n",
    "    \n",
    "    # get the information for gene2, removing duplicates if present\n",
    "    gene2_info=$(grep -w $gene2 $genes_file | sort -u -k 4,4)\n",
    "    gene2_chr=$(echo $gene2_info | awk '{print $1}')\n",
    "    gene2_start=$(echo $gene2_info | awk '{print $2}')\n",
    "    gene2_end=$(echo $gene2_info | awk '{print $3}')\n",
    "    gene2_name=$(echo $gene2_info | awk '{print $4}' )\n",
    "    gene2_strand=$(echo $gene2_info | awk '{print $5}')\n",
    "\n",
    "    # print the output\n",
    "    echo -e \"$chr\\t$start_tad\\t$gene1_name\\t$gene1_start\\t$gene1_end\\t$gene1_strand\\t$gene2_name\\t$gene2_start\\t$gene2_end\\t$gene2_strand\" >> $output_file\n",
    "\n",
    "done < $tads_file"
   ]
  },
  {
   "cell_type": "code",
   "execution_count": 13,
   "metadata": {},
   "outputs": [
    {
     "name": "stdout",
     "output_type": "stream",
     "text": [
      "4651 genes_close_to_1kb_tads.bed\n"
     ]
    }
   ],
   "source": [
    "wc -l genes_close_to_1kb_tads.bed"
   ]
  },
  {
   "cell_type": "markdown",
   "metadata": {},
   "source": [
    "### Report how many gene pairs are convergent (+-), divergent (-+), none (++, --)"
   ]
  },
  {
   "cell_type": "code",
   "execution_count": 3,
   "metadata": {},
   "outputs": [
    {
     "name": "stdout",
     "output_type": "stream",
     "text": [
      "Number of TADs with convergent genes near/at boundaries = 1127\n",
      "Number of TADs with divergent genes near/at boundaries = 1128\n",
      "Number of TADs with genes in the same orientation near/at boundaries = 2395\n",
      "Both forward = 1247\n",
      "Both reverse = 1148\n"
     ]
    }
   ],
   "source": [
    "with open(\"/scratch/ak8725/az_mrg/genes_close_to_1kb_tads.bed\", \"r\") as f:\n",
    "    plus_minus = 0\n",
    "    minus_plus = 0\n",
    "    plus_plus = 0\n",
    "    minus_minus = 0\n",
    "    \n",
    "    for line in f:\n",
    "        line = line.strip().split(\"\\t\")\n",
    "        if line[5] == \"+\" and line[10] == \"-\":\n",
    "            plus_minus += 1\n",
    "        elif line[5] == \"-\" and line[10] == \"+\":\n",
    "            minus_plus += 1\n",
    "        elif line[5] == \"+\" and line[10] == \"+\":\n",
    "            plus_plus += 1\n",
    "        else:\n",
    "            minus_minus += 1\n",
    "\n",
    "print(\"Number of TADs with convergent genes near/at boundaries = {}\".format(plus_minus))\n",
    "print(\"Number of TADs with divergent genes near/at boundaries = {}\".format(minus_plus))\n",
    "print(\"Number of TADs with genes in the same orientation near/at boundaries = {}\".format(plus_plus + minus_minus))\n",
    "print(\"Both forward = {}\".format(plus_plus))\n",
    "print(\"Both reverse = {}\".format(minus_minus))"
   ]
  },
  {
   "cell_type": "code",
   "execution_count": 1,
   "metadata": {},
   "outputs": [],
   "source": [
    "module load bedtools/intel/2.29.2"
   ]
  },
  {
   "cell_type": "markdown",
   "metadata": {},
   "source": [
    "# Finding pairs of closest promoters to the TAD boundary"
   ]
  },
  {
   "cell_type": "code",
   "execution_count": 4,
   "metadata": {},
   "outputs": [
    {
     "name": "stdout",
     "output_type": "stream",
     "text": [
      "chr01\t2325\t10183\tgene:OsAzu_01g0000010\t+\n",
      "chr01\t10736\t11801\tgene:OsAzu_01g0000020\t+\n",
      "chr01\t10737\t11793\tgene:OsAzu_01g0000030\t-\n",
      "chr01\t12076\t15281\tgene:OsAzu_01g0000040\t+\n",
      "chr01\t15657\t19273\tgene:OsAzu_01g0000050\t+\n",
      "chr01\t22199\t26348\tgene:OsAzu_01g0000060\t+\n",
      "chr01\t26494\t28061\tgene:OsAzu_01g0000070\t+\n",
      "chr01\t29224\t33894\tgene:OsAzu_01g0000080\t+\n",
      "chr01\t35014\t40593\tgene:OsAzu_01g0000090\t+\n",
      "chr01\t56572\t57695\tgene:OsAzu_01g0000100\t+\n"
     ]
    }
   ],
   "source": [
    "head azucena_genes.bed"
   ]
  },
  {
   "cell_type": "code",
   "execution_count": 9,
   "metadata": {},
   "outputs": [],
   "source": [
    "awk '{if ($5 == \"+\") print $1, $2-1000, $2, $4, $5; else if ($5 == \"-\") print $1, $3, $3+1000, $4, $5;}' azucena_genes.bed > azucena_1kb_promoter+genes.bed"
   ]
  },
  {
   "cell_type": "code",
   "execution_count": 10,
   "metadata": {},
   "outputs": [],
   "source": [
    "sort -k1,1 -k2,2n -k3,3n azucena_1kb_promoter+genes.bed > temp.bed && mv temp.bed azucena_1kb_promoter+genes.bed"
   ]
  },
  {
   "cell_type": "code",
   "execution_count": 19,
   "metadata": {},
   "outputs": [],
   "source": [
    "sed -i 's/ /\\t/g' /scratch/ak8725/az_mrg/azucena_1kb_promoters_genes.bed"
   ]
  },
  {
   "cell_type": "code",
   "execution_count": 6,
   "metadata": {},
   "outputs": [],
   "source": [
    "mv azucena_1kb_promoter+genes.bed azucena_1kb_promoters_genes.bed"
   ]
  },
  {
   "cell_type": "code",
   "execution_count": 1,
   "metadata": {},
   "outputs": [
    {
     "ename": "SyntaxError",
     "evalue": "invalid syntax (<ipython-input-1-9f611e102aaa>, line 13)",
     "output_type": "error",
     "traceback": [
      "\u001b[0;36m  File \u001b[0;32m\"<ipython-input-1-9f611e102aaa>\"\u001b[0;36m, line \u001b[0;32m13\u001b[0m\n\u001b[0;31m    module load bedtools/intel/2.29.2\u001b[0m\n\u001b[0m           ^\u001b[0m\n\u001b[0;31mSyntaxError\u001b[0m\u001b[0;31m:\u001b[0m invalid syntax\n"
     ]
    }
   ],
   "source": [
    "#/scratch/ak8725/az_mrg/closest.sh\n",
    "\n",
    "#!/bin/bash\n",
    "#\n",
    "#SBATCH --nodes=1\n",
    "#SBATCH --ntasks-per-node=1\n",
    "#SBATCH --cpus-per-task=1\n",
    "#SBATCH --time=4:00:00\n",
    "#SBATCH --mem=32GB\n",
    "#SBATCH --mail-type=END,FAIL\n",
    "#SBATCH --mail-user=ak8725@nyu.edu\n",
    "\n",
    "module load bedtools/intel/2.29.2\n",
    "\n",
    "# define input files\n",
    "tads_file=\"/scratch/ak8725/az_mrg/hicexplorer_1kb_tads.bed\"\n",
    "genes_file=\"/scratch/ak8725/az_mrg/azucena_1kb_promoters_genes.bed\"\n",
    "\n",
    "# define output file\n",
    "output_file=\"promoters_close_to_1kb_tads.bed\"\n",
    "\n",
    "# create header for output file\n",
    "echo -e \"chr\\tstart_tad\\tgene1\\tstart1\\tend1\\tstrand1\\tend_tad\\tgene2\\tstart2\\tend2\\tstrand2\" > $output_file\n",
    "\n",
    "# loop through each feature in tads.bed\n",
    "while read -r chr start_tad end_tad; do\n",
    "\n",
    "    echo \"Processing TAD: $chr $start_tad $end_tad\"\n",
    "\n",
    "    # find the closest gene to the start coordinate of the feature\n",
    "    gene1=$(bedtools closest -a <(echo -e \"$chr\\\\t$start_tad\\\\t$start_tad\" | bedtools sort -i -) -b $genes_file -d -t first | awk '{print $7}')\n",
    "\n",
    "    # find the closest gene to the end coordinate of the feature\n",
    "    gene2=$(bedtools closest -a <(echo -e \"$chr\\\\t$end_tad\\\\t$end_tad\" | bedtools sort -i -) -b $genes_file -d -t first | awk '{print $7}')\n",
    "\n",
    "    # if either gene1 or gene2 is empty, skip this TAD\n",
    "    if [[ -z $gene1 || -z $gene2 ]]; then\n",
    "        echo \"Could not find closest gene for TAD: $chr $start_tad $end_tad\"\n",
    "        continue\n",
    "    fi\n",
    "\n",
    "    # get the information for gene1, removing duplicates if present\n",
    "    gene1_info=$(grep -w $gene1 $genes_file | sort -u -k 4,4)\n",
    "    gene1_chr=$(echo $gene1_info | awk '{print $1}')\n",
    "    gene1_start=$(echo $gene1_info | awk '{print $2}')\n",
    "    gene1_end=$(echo $gene1_info | awk '{print $3}')\n",
    "    gene1_name=$(echo $gene1_info | awk '{print $4}' )\n",
    "    gene1_strand=$(echo $gene1_info | awk '{print $5}')\n",
    "    \n",
    "    # get the information for gene2, removing duplicates if present\n",
    "    gene2_info=$(grep -w $gene2 $genes_file | sort -u -k 4,4)\n",
    "    gene2_chr=$(echo $gene2_info | awk '{print $1}')\n",
    "    gene2_start=$(echo $gene2_info | awk '{print $2}')\n",
    "    gene2_end=$(echo $gene2_info | awk '{print $3}')\n",
    "    gene2_name=$(echo $gene2_info | awk '{print $4}' )\n",
    "    gene2_strand=$(echo $gene2_info | awk '{print $5}')\n",
    "\n",
    "    # print the output\n",
    "    echo -e \"$chr\\t$start_tad\\t$gene1_name\\t$gene1_start\\t$gene1_end\\t$gene1_strand\\t$gene2_name\\t$gene2_start\\t$gene2_end\\t$gene2_strand\" >> $output_file\n",
    "\n",
    "done < $tads_file"
   ]
  },
  {
   "cell_type": "markdown",
   "metadata": {},
   "source": [
    "### Report how many promoter pairs are convergent (+-), divergent (-+), none (++, --)"
   ]
  },
  {
   "cell_type": "code",
   "execution_count": 2,
   "metadata": {},
   "outputs": [
    {
     "name": "stdout",
     "output_type": "stream",
     "text": [
      "Number of TADs with convergent promoters near/at boundaries = 1113\n",
      "Number of TADs with divergent promoters near/at boundaries = 1116\n",
      "Number of TADs with promoters in the same orientation near/at boundaries = 2422\n",
      "Both forward = 1272\n",
      "Both reverse = 1150\n"
     ]
    }
   ],
   "source": [
    "with open(\"/scratch/ak8725/az_mrg/promoters_close_to_1kb_tads.bed\", \"r\") as f:\n",
    "    plus_minus = 0\n",
    "    minus_plus = 0\n",
    "    plus_plus = 0\n",
    "    minus_minus = 0\n",
    "    \n",
    "    for line in f:\n",
    "        line = line.strip().split(\"\\t\")\n",
    "        if line[5] == \"+\" and line[10] == \"-\":\n",
    "            plus_minus += 1\n",
    "        elif line[5] == \"-\" and line[10] == \"+\":\n",
    "            minus_plus += 1\n",
    "        elif line[5] == \"+\" and line[10] == \"+\":\n",
    "            plus_plus += 1\n",
    "        else:\n",
    "            minus_minus += 1\n",
    "\n",
    "print(\"Number of TADs with convergent promoters near/at boundaries = {}\".format(plus_minus))\n",
    "print(\"Number of TADs with divergent promoters near/at boundaries = {}\".format(minus_plus))\n",
    "print(\"Number of TADs with promoters in the same orientation near/at boundaries = {}\".format(plus_plus + minus_minus))\n",
    "print(\"Both forward = {}\".format(plus_plus))\n",
    "print(\"Both reverse = {}\".format(minus_minus))"
   ]
  },
  {
   "cell_type": "code",
   "execution_count": 1,
   "metadata": {},
   "outputs": [],
   "source": [
    "cd ../az_mrg"
   ]
  },
  {
   "cell_type": "code",
   "execution_count": 12,
   "metadata": {},
   "outputs": [
    {
     "name": "stdout",
     "output_type": "stream",
     "text": [
      "chr\tstart_tad\tgene1\tstart1\tend1\tstrand1\tend_tad\tgene2\tstart2\tend2\tstrand2\n",
      "chr01\t72000\tgene:OsAzu_01g0000140\t71184\t72184\t+\t84000\tgene:OsAzu_01g0000160\t83753\t84753\t+\n",
      "chr01\t84000\tgene:OsAzu_01g0000160\t83753\t84753\t+\t175000\tgene:OsAzu_01g0000290\t174293\t175293\t+\n",
      "chr01\t175000\tgene:OsAzu_01g0000290\t174293\t175293\t+\t246000\tgene:OsAzu_01g0000390\t244874\t245874\t+\n",
      "chr01\t246000\tgene:OsAzu_01g0000390\t244874\t245874\t+\t303000\tgene:OsAzu_01g0000470\t303599\t304599\t+\n",
      "chr01\t303000\tgene:OsAzu_01g0000470\t303599\t304599\t+\t317000\tgene:OsAzu_01g0000500\t317218\t318218\t-\n",
      "chr01\t317000\tgene:OsAzu_01g0000500\t317218\t318218\t-\t422000\tgene:OsAzu_01g0000640\t421623\t422623\t+\n",
      "chr01\t422000\tgene:OsAzu_01g0000640\t421623\t422623\t+\t467000\tgene:OsAzu_01g0000680\t467701\t468701\t+\n",
      "chr01\t467000\tgene:OsAzu_01g0000680\t467701\t468701\t+\t483000\tgene:OsAzu_01g0000700\t482401\t483401\t+\n",
      "chr01\t483000\tgene:OsAzu_01g0000700\t482401\t483401\t+\t494000\tgene:OsAzu_01g0000710\t493334\t494334\t+\n"
     ]
    }
   ],
   "source": [
    "head promoters_close_to_1kb_tads.bed"
   ]
  },
  {
   "cell_type": "markdown",
   "metadata": {},
   "source": [
    "## Find pairs of promoters overlapping 1kb TAD boundaries"
   ]
  },
  {
   "cell_type": "code",
   "execution_count": 25,
   "metadata": {},
   "outputs": [
    {
     "name": "stdout",
     "output_type": "stream",
     "text": [
      "chr01\t72000\t84000\n",
      "chr01\t84000\t175000\n",
      "chr01\t175000\t246000\n",
      "chr01\t246000\t303000\n",
      "chr01\t303000\t317000\n",
      "chr01\t317000\t422000\n",
      "chr01\t422000\t467000\n",
      "chr01\t467000\t483000\n",
      "chr01\t483000\t494000\n",
      "chr01\t494000\t513000\n"
     ]
    }
   ],
   "source": [
    "head /scratch/ak8725/az_mrg/hicexplorer_1kb_tads.bed"
   ]
  },
  {
   "cell_type": "code",
   "execution_count": 24,
   "metadata": {},
   "outputs": [
    {
     "name": "stdout",
     "output_type": "stream",
     "text": [
      "chr01\t1325\t2325\tgene:OsAzu_01g0000010\t+\n",
      "chr01\t9736\t10736\tgene:OsAzu_01g0000020\t+\n",
      "chr01\t11076\t12076\tgene:OsAzu_01g0000040\t+\n",
      "chr01\t11793\t12793\tgene:OsAzu_01g0000030\t-\n",
      "chr01\t14657\t15657\tgene:OsAzu_01g0000050\t+\n",
      "chr01\t21199\t22199\tgene:OsAzu_01g0000060\t+\n",
      "chr01\t25494\t26494\tgene:OsAzu_01g0000070\t+\n",
      "chr01\t28224\t29224\tgene:OsAzu_01g0000080\t+\n",
      "chr01\t34014\t35014\tgene:OsAzu_01g0000090\t+\n",
      "chr01\t55572\t56572\tgene:OsAzu_01g0000100\t+\n"
     ]
    }
   ],
   "source": [
    "head /scratch/ak8725/az_mrg/azucena_1kb_promoters_genes.bed"
   ]
  },
  {
   "cell_type": "code",
   "execution_count": null,
   "metadata": {},
   "outputs": [],
   "source": [
    "#/scratch/ak8725/az_mrg/overlap.sh\n",
    "\n",
    "#!/bin/bash\n",
    "#\n",
    "#SBATCH --nodes=1\n",
    "#SBATCH --ntasks-per-node=1\n",
    "#SBATCH --cpus-per-task=1\n",
    "#SBATCH --time=4:00:00\n",
    "#SBATCH --mem=32GB\n",
    "#SBATCH --mail-type=END,FAIL\n",
    "#SBATCH --mail-user=ak8725@nyu.edu\n",
    "\n",
    "module load bedtools/intel/2.29.2\n",
    "\n",
    "# define input files\n",
    "tads_file=\"/scratch/ak8725/az_mrg/hicexplorer_1kb_tads.bed\"\n",
    "genes_file=\"/scratch/ak8725/az_mrg/azucena_1kb_promoters_genes.bed\"\n",
    "\n",
    "# define output file\n",
    "output_file=\"promoters_at_1kb_tads_boundaries.bed\"\n",
    "\n",
    "# create header for output file\n",
    "echo -e \"chr\\tstart_tad\\tgene1\\tstrand1\\tend_tad\\tgene2\\tstrand2\" > $output_file\n",
    "\n",
    "# loop through each feature in tads.bed\n",
    "while read -r chr start_tad end_tad; do\n",
    "\n",
    "    echo \"Processing TAD: $chr $start_tad $end_tad\"\n",
    "    \n",
    "    gene1=$(bedtools intersect -a <(echo -e \"$chr\\\\t$start_tad-500\\\\t$start_tad-500\" | bedtools sort -i -) -b $genes_file -wo | awk '{print $7}')\n",
    "    gene2=$(bedtools closest -a <(echo -e \"$chr\\\\t$end_tad-500\\\\t$end_tad+500\" | bedtools sort -i -) -b $genes_file -wo | awk '{print $7}')\n",
    "\n",
    "    if [[ -z $gene1 || -z $gene2 ]]; then\n",
    "        echo \"Could not find closest gene for TAD: $chr $start_tad $end_tad\"\n",
    "        continue\n",
    "    fi\n",
    "\n",
    "    gene1_info=$(grep -w $gene1 $genes_file | sort -u -k 4,4)\n",
    "    gene1_name=$(echo $gene1_info | awk '{print $4}' )\n",
    "    gene1_strand=$(echo $gene1_info | awk '{print $5}')\n",
    "\n",
    "    gene2_info=$(grep -w $gene2 $genes_file | sort -u -k 4,4)\n",
    "    gene2_name=$(echo $gene2_info | awk '{print $4}' )\n",
    "    gene2_strand=$(echo $gene2_info | awk '{print $5}')\n",
    "\n",
    "    echo -e \"$chr\\t$start_tad\\t$gene1_name\\t$gene1_strand\\t$gene2_name\\t$gene2_strand\" >> $output_file\n",
    "\n",
    "done < $tads_file"
   ]
  },
  {
   "cell_type": "code",
   "execution_count": 2,
   "metadata": {},
   "outputs": [
    {
     "name": "stdout",
     "output_type": "stream",
     "text": [
      "Number of TADs with convergent promoters at boundaries = 524\n",
      "Number of TADs with divergent promoters at boundaries = 496\n",
      "Number of TADs with promoters in the same orientation at boundaries = 1086\n",
      "Both forward = 579\n",
      "Both reverse = 507\n"
     ]
    }
   ],
   "source": [
    "#calculate how many promoter pairs are con/div/none\n",
    "with open(\"/scratch/ak8725/az_mrg/promoters_at_1kb_tads_boundaries.bed\", \"r\") as f:\n",
    "    plus_minus = 0\n",
    "    minus_plus = 0\n",
    "    plus_plus = 0\n",
    "    minus_minus = 0\n",
    "    \n",
    "    for line in f:\n",
    "        line = line.strip().split(\"\\t\")\n",
    "        if line[3] == \"+\" and line[5] == \"-\":\n",
    "            plus_minus += 1\n",
    "        elif line[3] == \"-\" and line[5] == \"+\":\n",
    "            minus_plus += 1\n",
    "        elif line[3] == \"+\" and line[5] == \"+\":\n",
    "            plus_plus += 1\n",
    "        else:\n",
    "            minus_minus += 1\n",
    "\n",
    "print(\"Number of TADs with convergent promoters at boundaries = {}\".format(plus_minus))\n",
    "print(\"Number of TADs with divergent promoters at boundaries = {}\".format(minus_plus))\n",
    "print(\"Number of TADs with promoters in the same orientation at boundaries = {}\".format(plus_plus + minus_minus))\n",
    "print(\"Both forward = {}\".format(plus_plus))\n",
    "print(\"Both reverse = {}\".format(minus_minus))"
   ]
  },
  {
   "cell_type": "code",
   "execution_count": 2,
   "metadata": {},
   "outputs": [
    {
     "name": "stdout",
     "output_type": "stream",
     "text": [
      "2106 promoters_at_1kb_tads_boundaries.bed\n"
     ]
    }
   ],
   "source": [
    "wc -l promoters_at_1kb_tads_boundaries.bed"
   ]
  },
  {
   "cell_type": "code",
   "execution_count": 3,
   "metadata": {},
   "outputs": [
    {
     "name": "stdout",
     "output_type": "stream",
     "text": [
      "chr\tstart_tad\tgene1\tstrand1\tend_tad\tgene2\tstrand2\n",
      "chr01\t72000\tgene:OsAzu_01g0000140\t+\tgene:OsAzu_01g0000160\t+\n",
      "chr01\t84000\tgene:OsAzu_01g0000160\t+\tgene:OsAzu_01g0000290\t+\n",
      "chr01\t175000\tgene:OsAzu_01g0000290\t+\tgene:OsAzu_01g0000390\t+\n",
      "chr01\t246000\tgene:OsAzu_01g0000390\t+\tgene:OsAzu_01g0000470\t+\n",
      "chr01\t317000\tgene:OsAzu_01g0000500\t-\tgene:OsAzu_01g0000640\t+\n",
      "chr01\t422000\tgene:OsAzu_01g0000640\t+\tgene:OsAzu_01g0000680\t+\n",
      "chr01\t483000\tgene:OsAzu_01g0000690\t-\tgene:OsAzu_01g0000710\t+\n",
      "chr01\t494000\tgene:OsAzu_01g0000710\t+\tgene:OsAzu_01g0000750\t-\n",
      "chr01\t513000\tgene:OsAzu_01g0000750\t-\tgene:OsAzu_01g0000810\t-\n"
     ]
    }
   ],
   "source": [
    "head promoters_at_1kb_tads_boundaries.bed"
   ]
  }
 ],
 "metadata": {
  "kernelspec": {
   "display_name": "Python 3 (ipykernel)",
   "language": "python",
   "name": "python3"
  },
  "language_info": {
   "codemirror_mode": {
    "name": "ipython",
    "version": 3
   },
   "file_extension": ".py",
   "mimetype": "text/x-python",
   "name": "python",
   "nbconvert_exporter": "python",
   "pygments_lexer": "ipython3",
   "version": "3.11.7"
  }
 },
 "nbformat": 4,
 "nbformat_minor": 4
}
