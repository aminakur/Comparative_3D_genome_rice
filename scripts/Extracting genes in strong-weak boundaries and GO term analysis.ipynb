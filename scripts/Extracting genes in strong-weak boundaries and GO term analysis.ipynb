{
 "cells": [
  {
   "cell_type": "markdown",
   "id": "258a355f-7979-4fe4-9add-17b9e68a2931",
   "metadata": {},
   "source": [
    "# Extracting genes in strong/weak boundaries and GO term analysis"
   ]
  },
  {
   "cell_type": "code",
   "execution_count": 9,
   "id": "6855cd3f-1ac4-47b4-913e-83f85391f28e",
   "metadata": {},
   "outputs": [
    {
     "name": "stdout",
     "output_type": "stream",
     "text": [
      "Extraction complete. Check output files:\n",
      "npb_genes_strong_boundaries.bed\n",
      "npb_genes_weak_boundaries.bed\n"
     ]
    },
    {
     "name": "stderr",
     "output_type": "stream",
     "text": [
      "***** WARNING: File /scratch/ak8725/az_mrg/tadBoundary_LowInsulation.bed has a record where naming convention (leading zero) is inconsistent with other files:\n",
      "chr10\t1622500\t1627500\n",
      "\n",
      "***** WARNING: File /scratch/ak8725/az_mrg/tadBoundary_LowInsulation.bed has a record where naming convention (leading zero) is inconsistent with other files:\n",
      "chr10\t1622500\t1627500\n",
      "\n",
      "***** WARNING: File /scratch/ak8725/az_mrg/tadBoundary_HighInsulation.bed has a record where naming convention (leading zero) is inconsistent with other files:\n",
      "chr10\t1567500\t1572500\n",
      "\n",
      "***** WARNING: File /scratch/ak8725/az_mrg/tadBoundary_HighInsulation.bed has a record where naming convention (leading zero) is inconsistent with other files:\n",
      "chr10\t1567500\t1572500\n",
      "\n"
     ]
    }
   ],
   "source": [
    "#extract gene names \n",
    "import pybedtools\n",
    "\n",
    "def extract_genes(boundary_file, gene_file, output_file):\n",
    "    # Load BED files as pybedtools objects\n",
    "    boundaries = pybedtools.BedTool(boundary_file)\n",
    "    genes = pybedtools.BedTool(gene_file)\n",
    "    \n",
    "    # Find intersections (genes overlapping with boundaries)\n",
    "    intersected_genes = genes.intersect(boundaries, wa=True)\n",
    "    \n",
    "    # Write only the 4th column (gene names) to output file\n",
    "    with open(output_file, 'w') as out:\n",
    "        for feature in intersected_genes:\n",
    "            out.write(feature[3] + '\\n')\n",
    "\n",
    "# File paths\n",
    "strong_boundaries = \"/scratch/ak8725/az_mrg/tadBoundary_LowInsulation.bed\"\n",
    "weak_boundaries = \"/scratch/ak8725/az_mrg/tadBoundary_HighInsulation.bed\"\n",
    "genes_file = \"/scratch/ak8725/annotations/IRGSP_genes.bed\"\n",
    "\n",
    "# Output files\n",
    "genes_strong_output = \"npb_genes_strong_boundaries.bed\"\n",
    "genes_weak_output = \"npb_genes_weak_boundaries.bed\"\n",
    "\n",
    "# Run extraction\n",
    "extract_genes(strong_boundaries, genes_file, genes_strong_output)\n",
    "extract_genes(weak_boundaries, genes_file, genes_weak_output)\n",
    "\n",
    "print(\"Extraction complete. Check output files:\")\n",
    "print(genes_strong_output)\n",
    "print(genes_weak_output)"
   ]
  },
  {
   "cell_type": "code",
   "execution_count": null,
   "id": "b039770f-9d3d-48f5-b132-1ceffca56833",
   "metadata": {},
   "outputs": [],
   "source": [
    "#GO terms analysis using g:Profiler\n",
    "#https://geneontology.org"
   ]
  }
 ],
 "metadata": {
  "kernelspec": {
   "display_name": "pybedtools",
   "language": "python",
   "name": "pybedtools"
  },
  "language_info": {
   "codemirror_mode": {
    "name": "ipython",
    "version": 3
   },
   "file_extension": ".py",
   "mimetype": "text/x-python",
   "name": "python",
   "nbconvert_exporter": "python",
   "pygments_lexer": "ipython3",
   "version": "3.12.6"
  }
 },
 "nbformat": 4,
 "nbformat_minor": 5
}
