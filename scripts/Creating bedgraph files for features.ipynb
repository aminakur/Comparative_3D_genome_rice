{
 "cells": [
  {
   "cell_type": "markdown",
   "metadata": {},
   "source": [
    "# Creating bedgraph files for different genomic/epigenomic features NPB"
   ]
  },
  {
   "cell_type": "markdown",
   "metadata": {},
   "source": [
    "# WGD-derived duplicated genes\n",
    "Duplicated genes dataset was downloaded from https://github.com/almeidasilvaf/polyploid_GRNs/tree/master<br>\n",
    "Publication https://doi.org/10.1093/molbev/msad141"
   ]
  },
  {
   "cell_type": "code",
   "execution_count": null,
   "metadata": {},
   "outputs": [],
   "source": [
    "#creating tsv file with info about each WGD/SSD derived duplicated gene (chr, start, end, name)"
   ]
  },
  {
   "cell_type": "code",
   "execution_count": 1,
   "metadata": {},
   "outputs": [
    {
     "name": "stdout",
     "output_type": "stream",
     "text": [
      "gene\ttype\tpeak\n",
      "Os01g0136850\tWGD\t1\n",
      "Os01g0169900\tWGD\t1\n",
      "Os01g0179300\tWGD\t1\n",
      "Os01g0180300\tWGD\t1\n",
      "Os01g0200700\tWGD\t1\n",
      "Os01g0218200\tWGD\t1\n",
      "Os01g0231000\tWGD\t1\n",
      "Os01g0285300\tWGD\t1\n",
      "Os01g0292200\tWGD\t1\n"
     ]
    }
   ],
   "source": [
    "!head /scratch/ak8725/annotations/duplicated_genes.tsv"
   ]
  },
  {
   "cell_type": "code",
   "execution_count": 26,
   "metadata": {
    "collapsed": true,
    "jupyter": {
     "outputs_hidden": true
    }
   },
   "outputs": [
    {
     "name": "stdout",
     "output_type": "stream",
     "text": [
      "chr01\tirgsp1_locus\tgene\t2983\t10815\t.\t+\t.\tID=Os01g0100100;Name=Os01g0100100;Note=RabGAP/TBC domain containing protein. (Os01t0100100-01);Transcript variants=Os01t0100100-01\n",
      "chr01\tirgsp1_locus\tgene\t11218\t12435\t.\t+\t.\tID=Os01g0100200;Name=Os01g0100200;Note=Conserved hypothetical protein. (Os01t0100200-01);Transcript variants=Os01t0100200-01\n",
      "chr01\tirgsp1_locus\tgene\t11372\t12284\t.\t-\t.\tID=Os01g0100300;Name=Os01g0100300;Note=Cytochrome P450 domain containing protein. (Os01t0100300-00);Transcript variants=Os01t0100300-00\n",
      "chr01\tirgsp1_locus\tgene\t12721\t15685\t.\t+\t.\tID=Os01g0100400;Name=Os01g0100400;Note=Similar to Pectinesterase-like protein. (Os01t0100400-01);Transcript variants=Os01t0100400-01\n",
      "chr01\tirgsp1_locus\tgene\t12808\t13978\t.\t-\t.\tID=Os01g0100466;Name=Os01g0100466;Note=Hypothetical protein. (Os01t0100466-00);Transcript variants=Os01t0100466-00\n",
      "chr01\tirgsp1_locus\tgene\t16399\t20144\t.\t+\t.\tID=Os01g0100500;Name=Os01g0100500;Note=Immunoglobulin-like domain containing protein. (Os01t0100500-01);Transcript variants=Os01t0100500-01\n",
      "chr01\tirgsp1_locus\tgene\t22841\t26892\t.\t+\t.\tID=Os01g0100600;Name=Os01g0100600;Note=Single-stranded nucleic acid binding R3H domain containing protein. (Os01t0100600-01);Transcript variants=Os01t0100600-01\n",
      "chr01\tirgsp1_locus\tgene\t25861\t26424\t.\t-\t.\tID=Os01g0100650;Name=Os01g0100650;Note=Hypothetical gene. (Os01t0100650-00);Transcript variants=Os01t0100650-00\n",
      "chr01\tirgsp1_locus\tgene\t27143\t28644\t.\t+\t.\tID=Os01g0100700;Name=Os01g0100700;Note=Similar to 40S ribosomal protein S5-1. (Os01t0100700-01);Transcript variants=Os01t0100700-01;Oryzabase Gene Symbol Synonym(s)=RPS5;Oryzabase Gene Name Synonym(s)=ribosomal protein S5%2C ribosomal protein small subunit 5\n",
      "chr01\tirgsp1_locus\tgene\t29818\t34453\t.\t+\t.\tID=Os01g0100800;Name=Os01g0100800;Note=Protein of unknown function DUF1664 family protein. (Os01t0100800-01);Transcript variants=Os01t0100800-01\n"
     ]
    }
   ],
   "source": [
    "!head  /scratch/ak8725/annotations/NPB_genes.gff"
   ]
  },
  {
   "cell_type": "code",
   "execution_count": 28,
   "metadata": {},
   "outputs": [],
   "source": [
    "!awk -F'\\t' 'BEGIN {OFS=\"\\t\"} {split($9, a, \";\"); split(a[1], b, \"=\"); print $1, $4, $5, b[2]}' /scratch/ak8725/annotations/NPB_genes.gff > IRGSP_genes.bed"
   ]
  },
  {
   "cell_type": "code",
   "execution_count": 29,
   "metadata": {},
   "outputs": [
    {
     "name": "stdout",
     "output_type": "stream",
     "text": [
      "chr01\t2983\t10815\tOs01g0100100\n",
      "chr01\t11218\t12435\tOs01g0100200\n",
      "chr01\t11372\t12284\tOs01g0100300\n",
      "chr01\t12721\t15685\tOs01g0100400\n",
      "chr01\t12808\t13978\tOs01g0100466\n",
      "chr01\t16399\t20144\tOs01g0100500\n",
      "chr01\t22841\t26892\tOs01g0100600\n",
      "chr01\t25861\t26424\tOs01g0100650\n",
      "chr01\t27143\t28644\tOs01g0100700\n",
      "chr01\t29818\t34453\tOs01g0100800\n"
     ]
    }
   ],
   "source": [
    "!head /scratch/ak8725/annotations/IRGSP_genes.bed"
   ]
  },
  {
   "cell_type": "code",
   "execution_count": 30,
   "metadata": {},
   "outputs": [
    {
     "name": "stdout",
     "output_type": "stream",
     "text": [
      "37828 /scratch/ak8725/annotations/IRGSP_genes.bed\n"
     ]
    }
   ],
   "source": [
    "!wc -l /scratch/ak8725/annotations/IRGSP_genes.bed"
   ]
  },
  {
   "cell_type": "code",
   "execution_count": 4,
   "metadata": {},
   "outputs": [],
   "source": [
    "awk 'NR>1 {print $1}' /scratch/ak8725/annotations/duplicated_genes.tsv | sort | uniq > gene_names.txt\n",
    "\n",
    "join -1 1 -2 4 -o 2.1,2.2,2.3,1.1,1.2 -t $'\\t' <(sort /scratch/ak8725/annotations/duplicated_genes.tsv) <(sort -t$'\\t' -k4,4 /scratch/ak8725/annotations/IRGSP_genes.bed) > /scratch/ak8725/annotations/modified_duplicated_genes.tsv\n",
    "\n",
    "sed -i '1i chr\\tstart\\tend\\tgene_name\\ttype' /scratch/ak8725/annotations/modified_duplicated_genes.tsv"
   ]
  },
  {
   "cell_type": "code",
   "execution_count": 5,
   "metadata": {},
   "outputs": [],
   "source": [
    "mv /scratch/ak8725/annotations/modified_duplicated_genes.tsv /scratch/ak8725/annotations/duplicated_genes.tsv"
   ]
  },
  {
   "cell_type": "code",
   "execution_count": 10,
   "metadata": {},
   "outputs": [],
   "source": [
    "#separate files for SSD and WGD genes\n",
    "awk -F'\\t' '$5 == \"WGD\" {OFS=\"\\t\"; print $1, $2, $3, $4}' /scratch/ak8725/annotations/duplicated_genes.tsv > /scratch/ak8725/annotations/WGD_genes.tsv\n",
    "awk -F'\\t' '$5 == \"SSD\" {OFS=\"\\t\"; print $1, $2, $3, $4}' /scratch/ak8725/annotations/duplicated_genes.tsv > /scratch/ak8725/annotations/SSD_genes.tsv"
   ]
  },
  {
   "cell_type": "code",
   "execution_count": 14,
   "metadata": {},
   "outputs": [],
   "source": [
    "cut -f 1,2,3 /scratch/ak8725/annotations/SSD_genes.tsv > SSD_genes.bed\n",
    "cut -f 1,2,3 /scratch/ak8725/annotations/WGD_genes.tsv > WGD_genes.bed"
   ]
  },
  {
   "cell_type": "code",
   "execution_count": 15,
   "metadata": {},
   "outputs": [
    {
     "name": "stdout",
     "output_type": "stream",
     "text": [
      "chr01\t2983\t10815\n",
      "chr01\t12721\t15685\n",
      "chr01\t29818\t34453\n",
      "chr01\t58658\t61090\n",
      "chr01\t82426\t84095\n",
      "chr01\t89763\t91521\n",
      "chr01\t139826\t141555\n",
      "chr01\t148085\t150568\n",
      "chr01\t151409\t156449\n",
      "chr01\t170798\t173144\n"
     ]
    }
   ],
   "source": [
    "head SSD_genes.bed"
   ]
  },
  {
   "cell_type": "code",
   "execution_count": 29,
   "metadata": {},
   "outputs": [],
   "source": [
    "mv WGD_genes.bed /scratch/ak8725/npb_feature_tracks"
   ]
  },
  {
   "cell_type": "markdown",
   "metadata": {},
   "source": [
    "# Gene coverage per 500bp"
   ]
  },
  {
   "cell_type": "code",
   "execution_count": 3,
   "metadata": {},
   "outputs": [],
   "source": [
    "awk 'BEGIN {OFS=\"\\t\"} {print $1, $4, $5}' NPB_genes.gff > NPB_genes.bed"
   ]
  },
  {
   "cell_type": "code",
   "execution_count": 5,
   "metadata": {},
   "outputs": [],
   "source": [
    "module load bedtools/intel/2.29.2"
   ]
  },
  {
   "cell_type": "code",
   "execution_count": 10,
   "metadata": {},
   "outputs": [],
   "source": [
    "bedtools makewindows -b /scratch/ak8725/NPB_new/map_generation/NPB_chr_coords.genome -w 500 > NPB_500bp_windows.bed"
   ]
  },
  {
   "cell_type": "code",
   "execution_count": 17,
   "metadata": {
    "collapsed": true,
    "jupyter": {
     "outputs_hidden": true
    }
   },
   "outputs": [
    {
     "name": "stdout",
     "output_type": "stream",
     "text": [
      "chr01\t2983\t10815\n",
      "chr01\t11218\t12435\n",
      "chr01\t11372\t12284\n",
      "chr01\t12721\t15685\n",
      "chr01\t12808\t13978\n",
      "chr01\t16399\t20144\n",
      "chr01\t22841\t26892\n",
      "chr01\t25861\t26424\n",
      "chr01\t27143\t28644\n",
      "chr01\t29818\t34453\n"
     ]
    }
   ],
   "source": [
    "head NPB_genes.bed"
   ]
  },
  {
   "cell_type": "code",
   "execution_count": 18,
   "metadata": {
    "collapsed": true,
    "jupyter": {
     "outputs_hidden": true
    }
   },
   "outputs": [
    {
     "name": "stdout",
     "output_type": "stream",
     "text": [
      "***** WARNING: File NPB_genes.bed has a record where naming convention (leading zero) is inconsistent with other files:\n",
      "chr10\t44902\t45692\n",
      "\n",
      "***** WARNING: File NPB_genes.bed has a record where naming convention (leading zero) is inconsistent with other files:\n",
      "chr10\t44902\t45692\n",
      "\n"
     ]
    }
   ],
   "source": [
    "bedtools intersect -a NPB_500bp_windows.bed -b NPB_genes.bed -wao > NPB_genes_in_windows.bed"
   ]
  },
  {
   "cell_type": "code",
   "execution_count": 26,
   "metadata": {
    "collapsed": true,
    "jupyter": {
     "outputs_hidden": true
    }
   },
   "outputs": [
    {
     "name": "stdout",
     "output_type": "stream",
     "text": [
      "chr01\t0\t500\t.\t-1\t-1\t0\n",
      "chr01\t500\t1000\t.\t-1\t-1\t0\n",
      "chr01\t1000\t1500\t.\t-1\t-1\t0\n",
      "chr01\t1500\t2000\t.\t-1\t-1\t0\n",
      "chr01\t2000\t2500\t.\t-1\t-1\t0\n",
      "chr01\t2500\t3000\tchr01\t2983\t10815\t17\n",
      "chr01\t3000\t3500\tchr01\t2983\t10815\t500\n",
      "chr01\t3500\t4000\tchr01\t2983\t10815\t500\n",
      "chr01\t4000\t4500\tchr01\t2983\t10815\t500\n",
      "chr01\t4500\t5000\tchr01\t2983\t10815\t500\n"
     ]
    }
   ],
   "source": [
    "head NPB_genes_in_windows.bed"
   ]
  },
  {
   "cell_type": "code",
   "execution_count": 14,
   "metadata": {},
   "outputs": [],
   "source": [
    "cut -f 1-3,10 NPB_te_in_windows.bed >  NPB_te_in_windows1.bed"
   ]
  },
  {
   "cell_type": "code",
   "execution_count": 22,
   "metadata": {},
   "outputs": [],
   "source": [
    "bedtools groupby -g 1,2,3 -c 7 -o sum -i NPB_genes_in_windows.bed > npb_genes_in_windows_grouped.bed"
   ]
  },
  {
   "cell_type": "code",
   "execution_count": 29,
   "metadata": {
    "collapsed": true,
    "jupyter": {
     "outputs_hidden": true
    }
   },
   "outputs": [
    {
     "name": "stdout",
     "output_type": "stream",
     "text": [
      "chr01 0 500 0\n",
      "chr01 500 1000 0\n",
      "chr01 1000 1500 0\n",
      "chr01 1500 2000 0\n",
      "chr01 2000 2500 0\n",
      "chr01 2500 3000 0.034\n",
      "chr01 3000 3500 1\n",
      "chr01 3500 4000 1\n",
      "chr01 4000 4500 1\n",
      "chr01 4500 5000 1\n"
     ]
    }
   ],
   "source": [
    "head npb_genes_in_windows_fr.bed"
   ]
  },
  {
   "cell_type": "code",
   "execution_count": 28,
   "metadata": {},
   "outputs": [],
   "source": [
    "awk '{ $4 = $4 / 500; print }' npb_genes_in_windows_grouped.bed > npb_genes_in_windows_fr.bed"
   ]
  },
  {
   "cell_type": "code",
   "execution_count": 30,
   "metadata": {},
   "outputs": [],
   "source": [
    "mv npb_genes_in_windows_fr.bed npb_genes_per_500bp.bedgraph"
   ]
  },
  {
   "cell_type": "code",
   "execution_count": 31,
   "metadata": {},
   "outputs": [],
   "source": [
    "mv npb_genes_per_500bp.bedgraph /scratch/ak8725/npb_feature_tracks"
   ]
  },
  {
   "cell_type": "markdown",
   "metadata": {},
   "source": [
    "# WGD/SSD gene coverage per 500bp"
   ]
  },
  {
   "cell_type": "code",
   "execution_count": 5,
   "metadata": {},
   "outputs": [],
   "source": [
    "module load bedtools/intel/2.29.2"
   ]
  },
  {
   "cell_type": "code",
   "execution_count": 43,
   "metadata": {},
   "outputs": [
    {
     "name": "stdout",
     "output_type": "stream",
     "text": [
      "chr01\t2983\t10815\n",
      "chr01\t12721\t15685\n",
      "chr01\t29818\t34453\n",
      "chr01\t58658\t61090\n",
      "chr01\t82426\t84095\n",
      "chr01\t89763\t91521\n",
      "chr01\t139826\t141555\n",
      "chr01\t148085\t150568\n",
      "chr01\t151409\t156449\n",
      "chr01\t170798\t173144\n"
     ]
    }
   ],
   "source": [
    "head /scratch/ak8725/npb_feature_tracks/SSD_genes.bed"
   ]
  },
  {
   "cell_type": "code",
   "execution_count": 37,
   "metadata": {},
   "outputs": [
    {
     "name": "stdout",
     "output_type": "stream",
     "text": [
      "***** WARNING: File /scratch/ak8725/npb_feature_tracks/WGD_genes.bed has a record where naming convention (leading zero) is inconsistent with other files:\n",
      "chr10\t655625\t658866\n",
      "\n",
      "***** WARNING: File /scratch/ak8725/npb_feature_tracks/WGD_genes.bed has a record where naming convention (leading zero) is inconsistent with other files:\n",
      "chr10\t655625\t658866\n",
      "\n",
      "***** WARNING: File /scratch/ak8725/npb_feature_tracks/SSD_genes.bed has a record where naming convention (leading zero) is inconsistent with other files:\n",
      "chr10\t100437\t103373\n",
      "\n",
      "***** WARNING: File /scratch/ak8725/npb_feature_tracks/SSD_genes.bed has a record where naming convention (leading zero) is inconsistent with other files:\n",
      "chr10\t100437\t103373\n",
      "\n"
     ]
    }
   ],
   "source": [
    "bedtools intersect -a NPB_500bp_windows.bed -b /scratch/ak8725/npb_feature_tracks/WGD_genes.bed -wao > WGD_genes_in_windows.bed\n",
    "bedtools intersect -a NPB_500bp_windows.bed -b /scratch/ak8725/npb_feature_tracks/SSD_genes.bed -wao > SSD_genes_in_windows.bed"
   ]
  },
  {
   "cell_type": "code",
   "execution_count": 38,
   "metadata": {},
   "outputs": [
    {
     "name": "stdout",
     "output_type": "stream",
     "text": [
      "chr01\t0\t500\t.\t-1\t-1\t0\n",
      "chr01\t500\t1000\t.\t-1\t-1\t0\n",
      "chr01\t1000\t1500\t.\t-1\t-1\t0\n",
      "chr01\t1500\t2000\t.\t-1\t-1\t0\n",
      "chr01\t2000\t2500\t.\t-1\t-1\t0\n",
      "chr01\t2500\t3000\tchr01\t2983\t10815\t17\n",
      "chr01\t3000\t3500\tchr01\t2983\t10815\t500\n",
      "chr01\t3500\t4000\tchr01\t2983\t10815\t500\n",
      "chr01\t4000\t4500\tchr01\t2983\t10815\t500\n",
      "chr01\t4500\t5000\tchr01\t2983\t10815\t500\n"
     ]
    }
   ],
   "source": [
    "head SSD_genes_in_windows.bed"
   ]
  },
  {
   "cell_type": "code",
   "execution_count": 39,
   "metadata": {},
   "outputs": [],
   "source": [
    "bedtools groupby -g 1,2,3 -c 7 -o sum -i WGD_genes_in_windows.bed > wgd_genes_in_windows_grouped.bed\n",
    "bedtools groupby -g 1,2,3 -c 7 -o sum -i SSD_genes_in_windows.bed > ssd_genes_in_windows_grouped.bed"
   ]
  },
  {
   "cell_type": "code",
   "execution_count": 42,
   "metadata": {},
   "outputs": [
    {
     "name": "stdout",
     "output_type": "stream",
     "text": [
      "chr01 0 500 0\n",
      "chr01 500 1000 0\n",
      "chr01 1000 1500 0\n",
      "chr01 1500 2000 0\n",
      "chr01 2000 2500 0\n",
      "chr01 2500 3000 0.034\n",
      "chr01 3000 3500 1\n",
      "chr01 3500 4000 1\n",
      "chr01 4000 4500 1\n",
      "chr01 4500 5000 1\n"
     ]
    }
   ],
   "source": [
    "head ssd_genes_in_windows_fr.bed"
   ]
  },
  {
   "cell_type": "code",
   "execution_count": 41,
   "metadata": {},
   "outputs": [],
   "source": [
    "awk '{ $4 = $4 / 500; print }' wgd_genes_in_windows_grouped.bed > wgd_genes_in_windows_fr.bed\n",
    "awk '{ $4 = $4 / 500; print }' ssd_genes_in_windows_grouped.bed > ssd_genes_in_windows_fr.bed"
   ]
  },
  {
   "cell_type": "code",
   "execution_count": 44,
   "metadata": {},
   "outputs": [],
   "source": [
    "mv wgd_genes_in_windows_fr.bed wgd_genes_per_500bp.bedgraph\n",
    "mv ssd_genes_in_windows_fr.bed ssd_genes_per_500bp.bedgraph"
   ]
  },
  {
   "cell_type": "code",
   "execution_count": 45,
   "metadata": {},
   "outputs": [],
   "source": [
    "mv wgd_genes_per_500bp.bedgraph /scratch/ak8725/npb_feature_tracks\n",
    "mv ssd_genes_per_500bp.bedgraph /scratch/ak8725/npb_feature_tracks"
   ]
  },
  {
   "cell_type": "markdown",
   "metadata": {},
   "source": [
    "# TIPs per 500bp"
   ]
  },
  {
   "cell_type": "code",
   "execution_count": 55,
   "metadata": {},
   "outputs": [
    {
     "name": "stdout",
     "output_type": "stream",
     "text": [
      "chr01\t28721\t28993\tOs0018_Wanderer;MITE/Tourist\tDeletion\t+\n",
      "chr01\t29279\t29541\tOs0297;DNAnona/MULE\tDeletion\t-\n",
      "chr01\t30291\t30685\tOs0348;DNAnona/MULE\tDeletion\t-\n",
      "chr01\t34521\t34753\tOs3327;MITE/Stow\tDeletion\t+\n",
      "chr01\t36249\t36255\tOs0086;DNAnona/MULE\tInsertion\t+\n",
      "chr01\t41392\t42226\tRufipogonTE_00004098;DNA/DTM\tDeletion\t+\n",
      "chr01\t43170\t58357\tOs0030_INT_RIRE2-int;LTR/Gypsy\tDeletion\t-\n",
      "chr01\t135647\t137462\tOs0310_LTR;LTR/Gypsy\tDeletion\t-\n",
      "chr01\t149128\t149133\tOs2066_LTR;LTR/TRIM\tInsertion\t-\n",
      "chr01\t156633\t164481\tOs0988_INT-int;LTR/Copia\tDeletion\t-\n"
     ]
    }
   ],
   "source": [
    "head /scratch/ak8725/SV-TIPs_from_Raúl_Castanera/SV_TIPs/Omer_TIPs.bed"
   ]
  },
  {
   "cell_type": "code",
   "execution_count": 73,
   "metadata": {},
   "outputs": [
    {
     "name": "stdout",
     "output_type": "stream",
     "text": [
      "8392 /scratch/ak8725/SV-TIPs_from_Raúl_Castanera/SV_TIPs/Omer_TIPs.bed\n",
      "6100 /scratch/ak8725/SV-TIPs_from_Raúl_Castanera/SV_TIPs/Omer_TIPs_del.bed\n",
      "2292 /scratch/ak8725/SV-TIPs_from_Raúl_Castanera/SV_TIPs/Omer_TIPs_ins.bed\n"
     ]
    }
   ],
   "source": [
    "wc -l /scratch/ak8725/SV-TIPs_from_Raúl_Castanera/SV_TIPs/Omer_TIPs.bed\n",
    "wc -l /scratch/ak8725/SV-TIPs_from_Raúl_Castanera/SV_TIPs/Omer_TIPs_del.bed\n",
    "wc -l /scratch/ak8725/SV-TIPs_from_Raúl_Castanera/SV_TIPs/Omer_TIPs_ins.bed"
   ]
  },
  {
   "cell_type": "code",
   "execution_count": 79,
   "metadata": {},
   "outputs": [],
   "source": [
    "cut -f 1,2,3 /scratch/ak8725/SV-TIPs_from_Raúl_Castanera/SV_TIPs/Omer_TIPs_del.bed > /scratch/ak8725/SV-TIPs_from_Raúl_Castanera/SV_TIPs/Omer_TIPs_del_coords.bed\n",
    "cut -f 1,2,3 /scratch/ak8725/SV-TIPs_from_Raúl_Castanera/SV_TIPs/Omer_TIPs_ins.bed > /scratch/ak8725/SV-TIPs_from_Raúl_Castanera/SV_TIPs/Omer_TIPs_ins_coords.bed\n",
    "cut -f 1,2,3 /scratch/ak8725/SV-TIPs_from_Raúl_Castanera/SV_TIPs/Omer_TIPs.bed > /scratch/ak8725/SV-TIPs_from_Raúl_Castanera/SV_TIPs/Omer_TIPs_coords.bed"
   ]
  },
  {
   "cell_type": "code",
   "execution_count": 80,
   "metadata": {},
   "outputs": [
    {
     "name": "stdout",
     "output_type": "stream",
     "text": [
      "***** WARNING: File /scratch/ak8725/SV-TIPs_from_Raúl_Castanera/SV_TIPs/Omer_TIPs_del_coords.bed has a record where naming convention (leading zero) is inconsistent with other files:\n",
      "chr10\t23315\t38327\n",
      "\n",
      "***** WARNING: File /scratch/ak8725/SV-TIPs_from_Raúl_Castanera/SV_TIPs/Omer_TIPs_del_coords.bed has a record where naming convention (leading zero) is inconsistent with other files:\n",
      "chr10\t23315\t38327\n",
      "\n",
      "***** WARNING: File /scratch/ak8725/SV-TIPs_from_Raúl_Castanera/SV_TIPs/Omer_TIPs_ins_coords.bed has a record where naming convention (leading zero) is inconsistent with other files:\n",
      "chr10\t99974\t99975\n",
      "\n",
      "***** WARNING: File /scratch/ak8725/SV-TIPs_from_Raúl_Castanera/SV_TIPs/Omer_TIPs_ins_coords.bed has a record where naming convention (leading zero) is inconsistent with other files:\n",
      "chr10\t99974\t99975\n",
      "\n",
      "***** WARNING: File /scratch/ak8725/SV-TIPs_from_Raúl_Castanera/SV_TIPs/Omer_TIPs_coords.bed has a record where naming convention (leading zero) is inconsistent with other files:\n",
      "chr10\t23315\t38327\n",
      "\n",
      "***** WARNING: File /scratch/ak8725/SV-TIPs_from_Raúl_Castanera/SV_TIPs/Omer_TIPs_coords.bed has a record where naming convention (leading zero) is inconsistent with other files:\n",
      "chr10\t23315\t38327\n",
      "\n"
     ]
    }
   ],
   "source": [
    "bedtools intersect -a NPB_500bp_windows.bed -b /scratch/ak8725/SV-TIPs_from_Raúl_Castanera/SV_TIPs/Omer_TIPs_del_coords.bed -wao > tips_del_in_windows.bed\n",
    "bedtools intersect -a NPB_500bp_windows.bed -b /scratch/ak8725/SV-TIPs_from_Raúl_Castanera/SV_TIPs/Omer_TIPs_ins_coords.bed -wao > tips_ins_in_windows.bed\n",
    "bedtools intersect -a NPB_500bp_windows.bed -b /scratch/ak8725/SV-TIPs_from_Raúl_Castanera/SV_TIPs/Omer_TIPs_coords.bed -wao > tips_in_windows.bed"
   ]
  },
  {
   "cell_type": "code",
   "execution_count": 81,
   "metadata": {},
   "outputs": [],
   "source": [
    "bedtools groupby -g 1,2,3 -c 7 -o sum -i tips_del_in_windows.bed > tips_del_in_windows_grouped.bed\n",
    "bedtools groupby -g 1,2,3 -c 7 -o sum -i tips_ins_in_windows.bed > tips_ins_in_windows_grouped.bed\n",
    "bedtools groupby -g 1,2,3 -c 7 -o sum -i tips_in_windows.bed > tips_in_windows_grouped.bed"
   ]
  },
  {
   "cell_type": "code",
   "execution_count": 82,
   "metadata": {},
   "outputs": [],
   "source": [
    "awk '{ $4 = $4 / 500; print }' tips_del_in_windows_grouped.bed > omer_tips_del_per_500bp.bedgraph\n",
    "awk '{ $4 = $4 / 500; print }' tips_ins_in_windows_grouped.bed > omer_tips_ins_per_500bp.bedgraph\n",
    "awk '{ $4 = $4 / 500; print }' tips_in_windows_grouped.bed > omer_tips_per_500bp.bedgraph"
   ]
  },
  {
   "cell_type": "code",
   "execution_count": 83,
   "metadata": {},
   "outputs": [],
   "source": [
    "mv omer_tips_del_per_500bp.bedgraph /scratch/ak8725/npb_feature_tracks\n",
    "mv omer_tips_ins_per_500bp.bedgraph /scratch/ak8725/npb_feature_tracks\n",
    "mv omer_tips_per_500bp.bedgraph /scratch/ak8725/npb_feature_tracks"
   ]
  },
  {
   "cell_type": "markdown",
   "metadata": {},
   "source": [
    "# GC content per 500bp"
   ]
  },
  {
   "cell_type": "code",
   "execution_count": 33,
   "metadata": {
    "collapsed": true,
    "jupyter": {
     "outputs_hidden": true
    }
   },
   "outputs": [
    {
     "name": "stdout",
     "output_type": "stream",
     "text": [
      "chr01\t43270923\n",
      "chr02\t35937250\n",
      "chr03\t36413819\n",
      "chr04\t35502694\n",
      "chr05\t29958434\n",
      "chr06\t31248787\n",
      "chr07\t29697621\n",
      "chr08\t28443022\n",
      "chr09\t23012720\n",
      "chr10\t23207287\n"
     ]
    }
   ],
   "source": [
    "head /scratch/ak8725/NPB_new/NPB.genome"
   ]
  },
  {
   "cell_type": "code",
   "execution_count": 36,
   "metadata": {},
   "outputs": [],
   "source": [
    "samtools faidx /scratch/ak8725/NPB_new/NPB.fna"
   ]
  },
  {
   "cell_type": "code",
   "execution_count": 42,
   "metadata": {},
   "outputs": [],
   "source": [
    "bedtools makewindows -g /scratch/ak8725/NPB_new/NPB.genome -w 500 | bedtools nuc -fi /scratch/ak8725/NPB_new/NPB.fna -bed - | cut -f 1,2,3,5 > GC_content.bed"
   ]
  },
  {
   "cell_type": "code",
   "execution_count": 11,
   "metadata": {},
   "outputs": [],
   "source": [
    "mv /scratch/ak8725/ipynb\\ scripts\\ and\\ plots/npb_GC_content_per_500bp.bedgraph /scratch/ak8725/npb_feature_tracks"
   ]
  },
  {
   "cell_type": "markdown",
   "metadata": {},
   "source": [
    "# SV breakpoint density per 500bp"
   ]
  },
  {
   "cell_type": "markdown",
   "metadata": {},
   "source": [
    "from SNP-Seek 3K RG Large Structural Variants release 1.0<br>\n",
    "https://snp-seek.irri.org/download.zul<br>\n",
    "Used del, dup, ins, inv<br>\n",
    "For deletions, start and end coordinates were used as breakpoints. For insertions, start coordinates were used as breakpoints."
   ]
  },
  {
   "cell_type": "markdown",
   "metadata": {},
   "source": [
    "I made separate .bedgraph files for breakpoints DEL, DUP, INS, INV<br>\n",
    "Then combined them using bedtools unionbedg"
   ]
  },
  {
   "cell_type": "code",
   "execution_count": 2,
   "metadata": {},
   "outputs": [],
   "source": [
    "cd /scratch/ak8725/SV_from_SNP_Seek"
   ]
  },
  {
   "cell_type": "code",
   "execution_count": 5,
   "metadata": {},
   "outputs": [
    {
     "name": "stdout",
     "output_type": "stream",
     "text": [
      "NB_DEL_mergesam_clustered.txt  azucena_dup_in_windows1.bed\n",
      "NB_DUP_mergesam_clustered.txt  azucena_ins.bedgraph\n",
      "NB_INS_mergesam_clustered.txt  azucena_ins_in_windows.bed\n",
      "NB_INV_mergesam_clustered.txt  azucena_ins_in_windows1.bed\n",
      "az_del.bed\t\t       azucena_inv.bedgraph\n",
      "az_dup.bed\t\t       azucena_inv_in_windows.bed\n",
      "az_ins.bed\t\t       azucena_inv_in_windows1.bed\n",
      "az_inv.bed\t\t       intersect.sh\n",
      "azucena_SV.bedgraph\t       npb_del.bed\n",
      "azucena_del.bedgraph\t       npb_dup.bed\n",
      "azucena_del_in_windows.bed     npb_ins.bed\n",
      "azucena_del_in_windows1.bed    npb_inv.bed\n",
      "azucena_dup.bedgraph\t       slurm-32747895.out\n",
      "azucena_dup_in_windows.bed\n"
     ]
    }
   ],
   "source": [
    "ls"
   ]
  },
  {
   "cell_type": "code",
   "execution_count": 3,
   "metadata": {},
   "outputs": [],
   "source": [
    "module load bedtools/intel/2.29.2"
   ]
  },
  {
   "cell_type": "code",
   "execution_count": 12,
   "metadata": {},
   "outputs": [],
   "source": [
    "bedtools makewindows -b /scratch/ak8725/NPB_new/NPB_chr_coords.genome -w 500 > NPB_500bp_windows.bed"
   ]
  },
  {
   "cell_type": "code",
   "execution_count": 9,
   "metadata": {},
   "outputs": [
    {
     "name": "stdout",
     "output_type": "stream",
     "text": [
      "chr01\t1045\t1046\n",
      "chr01\t1057\t1058\n",
      "chr01\t1045\t1046\n",
      "chr01\t1057\t1058\n",
      "chr01\t1045\t1046\n",
      "chr01\t1057\t1058\n",
      "chr01\t1058\t1059\n",
      "chr01\t1077\t1078\n",
      "chr01\t1058\t1059\n",
      "chr01\t1091\t1092\n"
     ]
    }
   ],
   "source": [
    "head npb_del.bed"
   ]
  },
  {
   "cell_type": "code",
   "execution_count": 23,
   "metadata": {},
   "outputs": [],
   "source": [
    "# ran intersect.sh\n",
    "# bedtools intersect -a NPB_500bp_windows.bed -b npb_del.bed -wao > NPB_del_in_windows.bed\n",
    "# bedtools intersect -a NPB_500bp_windows.bed -b npb_dup.bed -wao > NPB_dup_in_windows.bed\n",
    "# bedtools intersect -a NPB_500bp_windows.bed -b npb_ins.bed -wao > NPB_ins_in_windows.bed\n",
    "# bedtools intersect -a NPB_500bp_windows.bed -b npb_inv.bed -wao > NPB_inv_in_windows.bed"
   ]
  },
  {
   "cell_type": "code",
   "execution_count": 4,
   "metadata": {},
   "outputs": [
    {
     "name": "stdout",
     "output_type": "stream",
     "text": [
      "chr01\t0\t500\t.\t-1\t-1\t0\n",
      "chr01\t500\t1000\t.\t-1\t-1\t0\n",
      "chr01\t1000\t1500\tchr01\t1045\t1046\t1\n",
      "chr01\t1000\t1500\tchr01\t1057\t1058\t1\n",
      "chr01\t1000\t1500\tchr01\t1045\t1046\t1\n",
      "chr01\t1000\t1500\tchr01\t1057\t1058\t1\n",
      "chr01\t1000\t1500\tchr01\t1045\t1046\t1\n",
      "chr01\t1000\t1500\tchr01\t1057\t1058\t1\n",
      "chr01\t1000\t1500\tchr01\t1058\t1059\t1\n",
      "chr01\t1000\t1500\tchr01\t1077\t1078\t1\n"
     ]
    }
   ],
   "source": [
    "head NPB_del_in_windows.bed"
   ]
  },
  {
   "cell_type": "code",
   "execution_count": 11,
   "metadata": {},
   "outputs": [],
   "source": [
    "cut -f 1-3,7 NPB_del_in_windows.bed >  NPB_del_in_windows1.bed\n",
    "cut -f 1-3,7 NPB_dup_in_windows.bed >  NPB_dup_in_windows1.bed\n",
    "cut -f 1-3,7 NPB_ins_in_windows.bed >  NPB_ins_in_windows1.bed\n",
    "cut -f 1-3,7 NPB_inv_in_windows.bed >  NPB_inv_in_windows1.bed"
   ]
  },
  {
   "cell_type": "code",
   "execution_count": 12,
   "metadata": {
    "collapsed": true,
    "jupyter": {
     "outputs_hidden": true
    }
   },
   "outputs": [
    {
     "name": "stdout",
     "output_type": "stream",
     "text": [
      "chr01\t0\t500\t0\n",
      "chr01\t500\t1000\t0\n",
      "chr01\t1000\t1500\t1\n",
      "chr01\t1000\t1500\t1\n",
      "chr01\t1000\t1500\t1\n",
      "chr01\t1000\t1500\t1\n",
      "chr01\t1000\t1500\t1\n",
      "chr01\t1000\t1500\t1\n",
      "chr01\t1000\t1500\t1\n",
      "chr01\t1000\t1500\t1\n"
     ]
    }
   ],
   "source": [
    "head NPB_del_in_windows1.bed"
   ]
  },
  {
   "cell_type": "code",
   "execution_count": 13,
   "metadata": {},
   "outputs": [],
   "source": [
    "bedtools groupby -g 1,2,3 -c 4 -o sum -i NPB_del_in_windows1.bed > npb_del_in_windows_grouped.bed\n",
    "bedtools groupby -g 1,2,3 -c 4 -o sum -i NPB_dup_in_windows1.bed > npb_dup_in_windows_grouped.bed\n",
    "bedtools groupby -g 1,2,3 -c 4 -o sum -i NPB_ins_in_windows1.bed > npb_ins_in_windows_grouped.bed\n",
    "bedtools groupby -g 1,2,3 -c 4 -o sum -i NPB_inv_in_windows1.bed > npb_inv_in_windows_grouped.bed"
   ]
  },
  {
   "cell_type": "code",
   "execution_count": 47,
   "metadata": {
    "collapsed": true,
    "jupyter": {
     "outputs_hidden": true
    }
   },
   "outputs": [
    {
     "name": "stdout",
     "output_type": "stream",
     "text": [
      "chr01\t0\t500\t0\n",
      "chr01\t500\t1000\t0\n",
      "chr01\t1000\t1500\t0.164\n",
      "chr01\t1500\t2000\t0\n",
      "chr01\t2000\t2500\t0\n",
      "chr01\t2500\t3000\t0.004\n",
      "chr01\t3000\t3500\t0\n",
      "chr01\t3500\t4000\t0\n",
      "chr01\t4000\t4500\t0\n",
      "chr01\t4500\t5000\t0\n"
     ]
    }
   ],
   "source": [
    "head npb_del_per_500bp.bedgraph"
   ]
  },
  {
   "cell_type": "code",
   "execution_count": 44,
   "metadata": {},
   "outputs": [],
   "source": [
    "awk '{ $4 = $4 / 500; print }' npb_del_in_windows_grouped.bed > npb_del_in_windows_fr.bed\n",
    "awk '{ $4 = $4 / 500; print }' npb_dup_in_windows_grouped.bed > npb_dup_in_windows_fr.bed\n",
    "awk '{ $4 = $4 / 500; print }' npb_ins_in_windows_grouped.bed > npb_ins_in_windows_fr.bed\n",
    "awk '{ $4 = $4 / 500; print }' npb_inv_in_windows_grouped.bed > npb_inv_in_windows_fr.bed"
   ]
  },
  {
   "cell_type": "code",
   "execution_count": 45,
   "metadata": {},
   "outputs": [],
   "source": [
    "mv npb_del_in_windows_fr.bed npb_del_per_500bp.bedgraph\n",
    "mv npb_dup_in_windows_fr.bed npb_dup_per_500bp.bedgraph\n",
    "mv npb_ins_in_windows_fr.bed npb_ins_per_500bp.bedgraph\n",
    "mv npb_inv_in_windows_fr.bed npb_inv_per_500bp.bedgraph"
   ]
  },
  {
   "cell_type": "code",
   "execution_count": 48,
   "metadata": {},
   "outputs": [],
   "source": [
    "sed -i -e 's/\\s/\\t/g' npb_del_per_500bp.bedgraph\n",
    "sed -i -e 's/\\s/\\t/g' npb_dup_per_500bp.bedgraph\n",
    "sed -i -e 's/\\s/\\t/g' npb_ins_per_500bp.bedgraph\n",
    "sed -i -e 's/\\s/\\t/g' npb_inv_per_500bp.bedgraph"
   ]
  },
  {
   "cell_type": "code",
   "execution_count": 33,
   "metadata": {},
   "outputs": [],
   "source": [
    "mv npb_del_per_500bp.bedgraph /scratch/ak8725/npb_feature_tracks\n",
    "mv npb_dup_per_500bp.bedgraph /scratch/ak8725/npb_feature_tracks\n",
    "mv npb_ins_per_500bp.bedgraph /scratch/ak8725/npb_feature_tracks\n",
    "mv npb_inv_per_500bp.bedgraph /scratch/ak8725/npb_feature_tracks"
   ]
  },
  {
   "cell_type": "code",
   "execution_count": 49,
   "metadata": {},
   "outputs": [],
   "source": [
    "#group all SV breakpoints\n",
    "bedtools unionbedg -i npb_del_per_500bp.bedgraph npb_ins_per_500bp.bedgraph npb_inv_per_500bp.bedgraph npb_dup_per_500bp.bedgraph -filler 0 -scores sum > npb_sv_per_500bp.bedgraph"
   ]
  },
  {
   "cell_type": "code",
   "execution_count": 51,
   "metadata": {},
   "outputs": [],
   "source": [
    "awk '{print $1\"\\t\"$2\"\\t\"$3\"\\t\"$4+$5+$6+$7}' npb_sv_per_500bp.bedgraph > tmp_file && mv tmp_file npb_sv_per_500bp.bedgraph"
   ]
  },
  {
   "cell_type": "code",
   "execution_count": 53,
   "metadata": {},
   "outputs": [],
   "source": [
    "mv npb_sv_per_500bp.bedgraph /scratch/ak8725/npb_feature_tracks"
   ]
  },
  {
   "cell_type": "code",
   "execution_count": 52,
   "metadata": {},
   "outputs": [
    {
     "name": "stdout",
     "output_type": "stream",
     "text": [
      "chr01\t0\t500\t0\n",
      "chr01\t500\t1000\t0\n",
      "chr01\t1000\t1500\t0.39\n",
      "chr01\t1500\t2000\t0.002\n",
      "chr01\t2000\t2500\t0\n",
      "chr01\t2500\t3000\t0.118\n",
      "chr01\t3000\t3500\t0\n",
      "chr01\t3500\t4000\t0\n",
      "chr01\t4000\t4500\t0.008\n",
      "chr01\t4500\t5000\t0\n"
     ]
    }
   ],
   "source": [
    "head npb_sv_per_500bp.bedgraph"
   ]
  },
  {
   "cell_type": "markdown",
   "metadata": {},
   "source": [
    "# SNP per 500bp"
   ]
  },
  {
   "cell_type": "markdown",
   "metadata": {},
   "source": [
    "3K RG 29mio biallelic SNPs Dataset from SNP-Seek<br>\n",
    "Downloaded bim file"
   ]
  },
  {
   "cell_type": "code",
   "execution_count": 22,
   "metadata": {},
   "outputs": [
    {
     "name": "stdout",
     "output_type": "stream",
     "text": [
      "--2023-09-28 13:17:51--  https://s3.amazonaws.com/3kricegenome/reduced/NB_final_snp.bim.gz\n",
      "Resolving s3.amazonaws.com (s3.amazonaws.com)... 52.217.172.144, 52.216.130.5, 16.182.98.168, ...\n",
      "Connecting to s3.amazonaws.com (s3.amazonaws.com)|52.217.172.144|:443... connected.\n",
      "HTTP request sent, awaiting response... 200 OK\n",
      "Length: 182247184 (174M) [binary/octet-stream]\n",
      "Saving to: ‘NB_final_snp.bim.gz’\n",
      "\n",
      "NB_final_snp.bim.gz 100%[===================>] 173.80M  12.6MB/s    in 13s     \n",
      "\n",
      "2023-09-28 13:18:04 (13.7 MB/s) - ‘NB_final_snp.bim.gz’ saved [182247184/182247184]\n",
      "\n"
     ]
    }
   ],
   "source": [
    "!wget https://s3.amazonaws.com/3kricegenome/reduced/NB_final_snp.bim.gz"
   ]
  },
  {
   "cell_type": "code",
   "execution_count": 28,
   "metadata": {},
   "outputs": [
    {
     "name": "stdout",
     "output_type": "stream",
     "text": [
      "chr12\t27530771\t27530771\n",
      "chr12\t27530774\t27530774\n",
      "chr12\t27530798\t27530798\n",
      "chr12\t27530804\t27530804\n",
      "chr12\t27530805\t27530805\n",
      "chr12\t27530814\t27530814\n",
      "chr12\t27530827\t27530827\n",
      "chr12\t27530831\t27530831\n",
      "chr12\t27530844\t27530844\n",
      "chr12\t27530848\t27530848\n"
     ]
    }
   ],
   "source": [
    "!tail NB_final_snp.bed"
   ]
  },
  {
   "cell_type": "code",
   "execution_count": 26,
   "metadata": {},
   "outputs": [
    {
     "name": "stdout",
     "output_type": "stream",
     "text": [
      "Output file created successfully.\n"
     ]
    }
   ],
   "source": [
    "# Open the input .bim file\n",
    "with open('NB_final_snp.bim', 'r') as input_file:\n",
    "    # Open the output file for writing\n",
    "    with open('NB_final_snp.bed', 'w') as output_file:\n",
    "        # Iterate through each line in the input file\n",
    "        for line in input_file:\n",
    "            # Split the line into columns based on whitespace\n",
    "            columns = line.strip().split()\n",
    "            # Extract the values from the columns\n",
    "            col1_value = int(columns[0])\n",
    "            \n",
    "            # Handle values of 10, 11, and 12 in col1\n",
    "            if col1_value >= 10:\n",
    "                col1 = 'chr' + str(col1_value)\n",
    "            else:\n",
    "                col1 = 'chr' + str(col1_value).zfill(2)  # Format as 'chr01', 'chr02', etc.\n",
    "            \n",
    "            col2 = columns[3]\n",
    "            col3 = columns[3]\n",
    "            # Write the formatted columns to the output file\n",
    "            output_file.write(f'{col1}\\t{col2}\\t{col3}\\n')\n",
    "\n",
    "# Print a message to confirm the operation\n",
    "print('Output file created successfully.')"
   ]
  },
  {
   "cell_type": "code",
   "execution_count": 30,
   "metadata": {},
   "outputs": [],
   "source": [
    "!awk '{ $3 = $3 + 1; print }' NB_final_snp.bed > temp.bed && mv temp.bed NB_final_snp.bed"
   ]
  },
  {
   "cell_type": "code",
   "execution_count": 32,
   "metadata": {},
   "outputs": [],
   "source": [
    "#making file tab-delimited\n",
    "!sed -i -e 's/\\s/\\t/g' NB_final_snp.bed"
   ]
  },
  {
   "cell_type": "code",
   "execution_count": 33,
   "metadata": {},
   "outputs": [
    {
     "name": "stdout",
     "output_type": "stream",
     "text": [
      "chr01\t0\t500\t0\n",
      "chr01\t500\t1000\t0\n",
      "chr01\t1000\t1500\t1\n",
      "chr01\t1000\t1500\t1\n",
      "chr01\t1000\t1500\t1\n",
      "chr01\t1000\t1500\t1\n",
      "chr01\t1000\t1500\t1\n",
      "chr01\t1000\t1500\t1\n",
      "chr01\t1000\t1500\t1\n",
      "chr01\t1000\t1500\t1\n"
     ]
    }
   ],
   "source": [
    "!head NPB_snp_in_windows1.bed"
   ]
  },
  {
   "cell_type": "code",
   "execution_count": 60,
   "metadata": {},
   "outputs": [],
   "source": [
    "#ran intersect.sh\n",
    "# bedtools intersect -a NPB_500bp_windows.bed -b NB_final_snp.bed -wao > NPB_snp_in_windows.bed"
   ]
  },
  {
   "cell_type": "code",
   "execution_count": 4,
   "metadata": {},
   "outputs": [],
   "source": [
    "cut -f 1-3,7 NPB_snp_in_windows.bed >  NPB_snp_in_windows1.bed\n",
    "bedtools groupby -g 1,2,3 -c 4 -o sum -i NPB_snp_in_windows1.bed > npb_snp_in_windows_grouped.bed\n",
    "awk '{ $4 = $4 / 500; print }' npb_snp_in_windows_grouped.bed > npb_snp_in_windows_fr.bed\n",
    "mv npb_snp_in_windows_fr.bed npb_snp_per_500bp.bedgraph\n",
    "sed -i -e 's/\\s/\\t/g' npb_snp_per_500bp.bedgraph"
   ]
  },
  {
   "cell_type": "code",
   "execution_count": 7,
   "metadata": {},
   "outputs": [],
   "source": [
    "mv npb_snp_per_500bp.bedgraph /scratch/ak8725/npb_feature_tracks"
   ]
  },
  {
   "cell_type": "code",
   "execution_count": 6,
   "metadata": {},
   "outputs": [
    {
     "name": "stdout",
     "output_type": "stream",
     "text": [
      "chr12\t27527000\t27527500\t0.01\n",
      "chr12\t27527500\t27528000\t0.032\n",
      "chr12\t27528000\t27528500\t0.028\n",
      "chr12\t27528500\t27529000\t0.068\n",
      "chr12\t27529000\t27529500\t0.08\n",
      "chr12\t27529500\t27530000\t0.046\n",
      "chr12\t27530000\t27530500\t0.114\n",
      "chr12\t27530500\t27531000\t0.1\n",
      "chr12\t27531000\t27531500\t0\n",
      "chr12\t27531500\t27531856\t0\n"
     ]
    }
   ],
   "source": [
    "tail npb_snp_per_500bp.bedgraph"
   ]
  },
  {
   "cell_type": "code",
   "execution_count": 69,
   "metadata": {},
   "outputs": [],
   "source": [
    "bedtools groupby -g 1,2,3 -c 4 -o sum -i NPB_snp_in_windows1.bed > npb_snp_in_windows_grouped.bed"
   ]
  },
  {
   "cell_type": "code",
   "execution_count": 71,
   "metadata": {},
   "outputs": [
    {
     "name": "stdout",
     "output_type": "stream",
     "text": [
      "chr01\t0\t500\t0\n",
      "chr01\t500\t1000\t0\n",
      "chr01\t1000\t1500\t0\n",
      "chr01\t1500\t2000\t-1\n",
      "chr01\t2000\t2500\t-1\n",
      "chr01\t2500\t3000\t0\n",
      "chr01\t3000\t3500\t0\n",
      "chr01\t3500\t4000\t0\n",
      "chr01\t4000\t4500\t0\n",
      "chr01\t4500\t5000\t0\n"
     ]
    }
   ],
   "source": [
    "head npb_snp_in_windows_grouped.bed"
   ]
  },
  {
   "cell_type": "code",
   "execution_count": 44,
   "metadata": {},
   "outputs": [],
   "source": [
    "awk '{ $4 = $4 / 500; print }' npb_del_in_windows_grouped.bed > npb_del_in_windows_fr.bed\n",
    "awk '{ $4 = $4 / 500; print }' npb_dup_in_windows_grouped.bed > npb_dup_in_windows_fr.bed\n",
    "awk '{ $4 = $4 / 500; print }' npb_ins_in_windows_grouped.bed > npb_ins_in_windows_fr.bed\n",
    "awk '{ $4 = $4 / 500; print }' npb_inv_in_windows_grouped.bed > npb_inv_in_windows_fr.bed"
   ]
  },
  {
   "cell_type": "code",
   "execution_count": 45,
   "metadata": {},
   "outputs": [],
   "source": [
    "mv npb_del_in_windows_fr.bed npb_del_per_500bp.bedgraph\n",
    "mv npb_dup_in_windows_fr.bed npb_dup_per_500bp.bedgraph\n",
    "mv npb_ins_in_windows_fr.bed npb_ins_per_500bp.bedgraph\n",
    "mv npb_inv_in_windows_fr.bed npb_inv_per_500bp.bedgraph"
   ]
  },
  {
   "cell_type": "code",
   "execution_count": 48,
   "metadata": {},
   "outputs": [],
   "source": [
    "sed -i -e 's/\\s/\\t/g' npb_del_per_500bp.bedgraph\n",
    "sed -i -e 's/\\s/\\t/g' npb_dup_per_500bp.bedgraph\n",
    "sed -i -e 's/\\s/\\t/g' npb_ins_per_500bp.bedgraph\n",
    "sed -i -e 's/\\s/\\t/g' npb_inv_per_500bp.bedgraph"
   ]
  },
  {
   "cell_type": "code",
   "execution_count": 33,
   "metadata": {},
   "outputs": [],
   "source": [
    "mv npb_del_per_500bp.bedgraph /scratch/ak8725/npb_feature_tracks\n",
    "mv npb_dup_per_500bp.bedgraph /scratch/ak8725/npb_feature_tracks\n",
    "mv npb_ins_per_500bp.bedgraph /scratch/ak8725/npb_feature_tracks\n",
    "mv npb_inv_per_500bp.bedgraph /scratch/ak8725/npb_feature_tracks"
   ]
  },
  {
   "cell_type": "code",
   "execution_count": 49,
   "metadata": {},
   "outputs": [],
   "source": [
    "#group all SV breakpoints\n",
    "bedtools unionbedg -i npb_del_per_500bp.bedgraph npb_ins_per_500bp.bedgraph npb_inv_per_500bp.bedgraph npb_dup_per_500bp.bedgraph -filler 0 -scores sum > npb_sv_per_500bp.bedgraph"
   ]
  },
  {
   "cell_type": "code",
   "execution_count": 51,
   "metadata": {},
   "outputs": [],
   "source": [
    "awk '{print $1\"\\t\"$2\"\\t\"$3\"\\t\"$4+$5+$6+$7}' npb_sv_per_500bp.bedgraph > tmp_file && mv tmp_file npb_sv_per_500bp.bedgraph"
   ]
  },
  {
   "cell_type": "code",
   "execution_count": 53,
   "metadata": {},
   "outputs": [],
   "source": [
    "mv npb_sv_per_500bp.bedgraph /scratch/ak8725/npb_feature_tracks"
   ]
  },
  {
   "cell_type": "code",
   "execution_count": null,
   "metadata": {},
   "outputs": [],
   "source": [
    "NPB_snp_in_windows.bed"
   ]
  },
  {
   "cell_type": "markdown",
   "metadata": {},
   "source": [
    "# NPB TAD coverage per 500bp"
   ]
  },
  {
   "cell_type": "code",
   "execution_count": 4,
   "metadata": {},
   "outputs": [],
   "source": [
    "module load bedtools/intel/2.29.2"
   ]
  },
  {
   "cell_type": "code",
   "execution_count": 7,
   "metadata": {},
   "outputs": [
    {
     "name": "stdout",
     "output_type": "stream",
     "text": [
      "chr01\t150000\t210000\n",
      "chr01\t370000\t420000\n",
      "chr01\t420000\t525000\n",
      "chr01\t525000\t560000\n",
      "chr01\t1675000\t1765000\n",
      "chr01\t2000000\t2055000\n",
      "chr01\t2590000\t2640000\n",
      "chr01\t2640000\t2695000\n",
      "chr01\t2695000\t2810000\n",
      "chr01\t2810000\t2840000\n"
     ]
    }
   ],
   "source": [
    "head ../npb_feature_tracks/NPB_TADs_5kb_two_tools_80.bed"
   ]
  },
  {
   "cell_type": "code",
   "execution_count": 11,
   "metadata": {},
   "outputs": [
    {
     "name": "stdout",
     "output_type": "stream",
     "text": [
      "***** WARNING: File NPB_TADs_5kb_two_tools_80.bed has a record where naming convention (leading zero) is inconsistent with other files:\n",
      "chr10\t350000\t385000\n",
      "\n",
      "***** WARNING: File NPB_TADs_5kb_two_tools_80.bed has a record where naming convention (leading zero) is inconsistent with other files:\n",
      "chr10\t350000\t385000\n",
      "\n"
     ]
    }
   ],
   "source": [
    "cd ../npb_feature_tracks\n",
    "bedtools intersect -a NPB_500bp_windows.bed -b NPB_TADs_5kb_two_tools_80.bed -wao > tads_in_windows.bed"
   ]
  },
  {
   "cell_type": "code",
   "execution_count": 12,
   "metadata": {},
   "outputs": [
    {
     "name": "stdout",
     "output_type": "stream",
     "text": [
      "chr01\t0\t500\t.\t-1\t-1\t0\n",
      "chr01\t500\t1000\t.\t-1\t-1\t0\n",
      "chr01\t1000\t1500\t.\t-1\t-1\t0\n",
      "chr01\t1500\t2000\t.\t-1\t-1\t0\n",
      "chr01\t2000\t2500\t.\t-1\t-1\t0\n",
      "chr01\t2500\t3000\t.\t-1\t-1\t0\n",
      "chr01\t3000\t3500\t.\t-1\t-1\t0\n",
      "chr01\t3500\t4000\t.\t-1\t-1\t0\n",
      "chr01\t4000\t4500\t.\t-1\t-1\t0\n",
      "chr01\t4500\t5000\t.\t-1\t-1\t0\n"
     ]
    }
   ],
   "source": [
    "head tads_in_windows.bed"
   ]
  },
  {
   "cell_type": "code",
   "execution_count": 13,
   "metadata": {},
   "outputs": [],
   "source": [
    "bedtools groupby -g 1,2,3 -c 7 -o sum -i tads_in_windows.bed > tads_in_windows_grouped.bed"
   ]
  },
  {
   "cell_type": "code",
   "execution_count": 15,
   "metadata": {},
   "outputs": [
    {
     "name": "stdout",
     "output_type": "stream",
     "text": [
      "chr01 0 500 0\n",
      "chr01 500 1000 0\n",
      "chr01 1000 1500 0\n",
      "chr01 1500 2000 0\n",
      "chr01 2000 2500 0\n",
      "chr01 2500 3000 0\n",
      "chr01 3000 3500 0\n",
      "chr01 3500 4000 0\n",
      "chr01 4000 4500 0\n",
      "chr01 4500 5000 0\n"
     ]
    }
   ],
   "source": [
    "head tads_in_windows_fr.bed"
   ]
  },
  {
   "cell_type": "code",
   "execution_count": 14,
   "metadata": {},
   "outputs": [],
   "source": [
    "awk '{ $4 = $4 / 500; print }' tads_in_windows_grouped.bed > tads_in_windows_fr.bed"
   ]
  },
  {
   "cell_type": "code",
   "execution_count": 17,
   "metadata": {},
   "outputs": [],
   "source": [
    "mv tads_in_windows_fr.bed tads_per_500bp.bedgraph"
   ]
  },
  {
   "cell_type": "code",
   "execution_count": 3,
   "metadata": {},
   "outputs": [],
   "source": [
    "#making file tab-delimited\n",
    "cd ../npb_feature_tracks\n",
    "sed -i -e 's/\\s/\\t/g' tads_per_500bp.bedgraph"
   ]
  },
  {
   "cell_type": "markdown",
   "metadata": {},
   "source": [
    "# Calculating sequnce identity between regions of the two modes"
   ]
  },
  {
   "cell_type": "code",
   "execution_count": 2,
   "metadata": {},
   "outputs": [
    {
     "name": "stdout",
     "output_type": "stream",
     "text": [
      "New bedpe file /scratch/ak8725/chess/whole_lifted/500kb_250kb_all_regions/right.bedpe created.\n"
     ]
    }
   ],
   "source": [
    "#creating bedpe file with mode1/2 regions from NPB and Omer corresponding\n",
    "# Define input files\n",
    "mode1_bed_file = \"/scratch/ak8725/chess/whole_lifted/500kb_250kb_all_regions/right.bed\"\n",
    "npb_omer_pairs_bedpe_file = \"/scratch/ak8725/chess/whole_lifted/500kb_250kb_all_regions/NPB-Oruf_pairs.bedpe\"\n",
    "output_bedpe_file = \"/scratch/ak8725/chess/whole_lifted/500kb_250kb_all_regions/right.bedpe\"\n",
    "\n",
    "# Create a dictionary to store NPB-Omer pairs by region\n",
    "npb_omer_pairs = {}\n",
    "\n",
    "# Read NPB-Omer pairs into the dictionary\n",
    "with open(npb_omer_pairs_bedpe_file, \"r\") as npb_omer_pairs_bedpe_fh:\n",
    "    for line in npb_omer_pairs_bedpe_fh:\n",
    "        fields = line.strip().split(\"\\t\")\n",
    "        key = tuple(fields[0:3])\n",
    "        value = fields[3:6]\n",
    "        npb_omer_pairs[key] = value\n",
    "\n",
    "# Open the output bedpe file for writing\n",
    "with open(output_bedpe_file, \"w\") as output_fh:\n",
    "    # Read mode1.bed and write the new bedpe file\n",
    "    with open(mode1_bed_file, \"r\") as mode1_bed_fh:\n",
    "        for line in mode1_bed_fh:\n",
    "            fields = line.strip().split(\"\\t\")\n",
    "            region = tuple(fields)\n",
    "            if region in npb_omer_pairs:\n",
    "                npb_omer_values = npb_omer_pairs[region]\n",
    "                output_fh.write(\"\\t\".join(fields) + \"\\t\" + \"\\t\".join(npb_omer_values) + \"\\n\")\n",
    "\n",
    "print(f\"New bedpe file {output_bedpe_file} created.\")\n"
   ]
  },
  {
   "cell_type": "code",
   "execution_count": 104,
   "metadata": {},
   "outputs": [
    {
     "name": "stdout",
     "output_type": "stream",
     "text": [
      "16 /scratch/ak8725/chess/whole_lifted/500kb_250kb_25/NPB-Omer/mode1_filtered.bedpe\n",
      "49 /scratch/ak8725/chess/whole_lifted/500kb_250kb_25/NPB-Omer/mode2_filtered.bedpe\n"
     ]
    }
   ],
   "source": [
    "#filtered out regions >=1Mb, see Filtering regions.ipynb\n",
    "wc -l /scratch/ak8725/chess/whole_lifted/500kb_250kb_25/NPB-Omer/mode1_filtered.bedpe\n",
    "wc -l /scratch/ak8725/chess/whole_lifted/500kb_250kb_25/NPB-Omer/mode2_filtered.bedpe"
   ]
  },
  {
   "cell_type": "code",
   "execution_count": 8,
   "metadata": {},
   "outputs": [
    {
     "name": "stdout",
     "output_type": "stream",
     "text": [
      "FASTA sequences extracted and saved to output files.\n"
     ]
    }
   ],
   "source": [
    "#create fasta files with the mode sequences from npb and omer to compare them\n",
    "from Bio import SeqIO\n",
    "from Bio.SeqRecord import SeqRecord\n",
    "from Bio.Seq import Seq\n",
    "\n",
    "# Paths to genome FASTA files\n",
    "npb_genome_file = \"/scratch/ak8725/NPB_new/NPB.fna\"\n",
    "omer_genome_file = \"/scratch/ak8725/genomes/orufi.fna\"\n",
    "\n",
    "# Path to bedpe file\n",
    "bedpe_file = \"/scratch/ak8725/chess/whole_lifted/500kb_250kb_all_regions/right_filtered.bedpe\"\n",
    "\n",
    "# Output FASTA files\n",
    "output_npb_file = \"/scratch/ak8725/chess/whole_lifted/500kb_250kb_all_regions/right_npb.fasta\"\n",
    "output_omer_file = \"/scratch/ak8725/chess/whole_lifted/500kb_250kb_all_regions/right_oruf.fasta\"\n",
    "\n",
    "# Create dictionaries to store genome sequences\n",
    "npb_sequences = SeqIO.to_dict(SeqIO.parse(npb_genome_file, \"fasta\"))\n",
    "omer_sequences = SeqIO.to_dict(SeqIO.parse(omer_genome_file, \"fasta\"))\n",
    "\n",
    "# Open the bedpe file for reading\n",
    "with open(bedpe_file, \"r\") as bedpe_fh:\n",
    "\n",
    "    # Open output files for writing\n",
    "    with open(output_npb_file, \"w\") as npb_fh, open(output_omer_file, \"w\") as omer_fh:\n",
    "\n",
    "        # Initialize a counter for sequence headers\n",
    "        seq_counter = 1\n",
    "\n",
    "        for line in bedpe_fh:\n",
    "            fields = line.strip().split(\"\\t\")\n",
    "            chr_npb, start_npb, end_npb, chr_omer, start_omer, end_omer = fields[:6]\n",
    "\n",
    "            # Extract sequences from the dictionaries\n",
    "            npb_seq = npb_sequences[chr_npb][int(start_npb):int(end_npb)].seq\n",
    "            omer_seq = omer_sequences[chr_omer][int(start_omer):int(end_omer)].seq\n",
    "\n",
    "            # Create SeqRecord objects with headers\n",
    "            npb_record = SeqRecord(npb_seq, id=f\"seq{seq_counter}\", description=f\"Coordinates: {chr_npb}:{start_npb}-{end_npb}\")\n",
    "            omer_record = SeqRecord(omer_seq, id=f\"seq{seq_counter}\", description=f\"Coordinates: {chr_omer}:{start_omer}-{end_omer}\")\n",
    "\n",
    "            # Write SeqRecord objects to the output files\n",
    "            SeqIO.write(npb_record, npb_fh, \"fasta\")\n",
    "            SeqIO.write(omer_record, omer_fh, \"fasta\")\n",
    "\n",
    "            # Increment the sequence counter\n",
    "            seq_counter += 1\n",
    "\n",
    "print(\"FASTA sequences extracted and saved to output files.\")\n"
   ]
  },
  {
   "cell_type": "markdown",
   "metadata": {},
   "source": [
    "### Paiwise alignments of windows with emboss stretcher (global alignment)"
   ]
  },
  {
   "cell_type": "markdown",
   "metadata": {},
   "source": [
    "<b> Use script stretcher.sh <b>"
   ]
  },
  {
   "cell_type": "markdown",
   "metadata": {},
   "source": [
    "Output:<br>\n",
    "similarity_mode1.txt<br>\n",
    "similarity_mode2.txt"
   ]
  },
  {
   "cell_type": "markdown",
   "metadata": {},
   "source": [
    "# NLR genes"
   ]
  },
  {
   "cell_type": "code",
   "execution_count": 5,
   "metadata": {},
   "outputs": [],
   "source": [
    "grep 'NLR' ../annotations/Nipponbare_LRR-CR.gff > ../annotations/NLR.gff"
   ]
  },
  {
   "cell_type": "code",
   "execution_count": 9,
   "metadata": {},
   "outputs": [],
   "source": [
    "cut -f 2,3,4 ../annotations/domestication_genes.txt > ../annotations/domestication_genes.bed"
   ]
  },
  {
   "cell_type": "code",
   "execution_count": null,
   "metadata": {},
   "outputs": [],
   "source": []
  }
 ],
 "metadata": {
  "kernelspec": {
   "display_name": "Bash",
   "language": "bash",
   "name": "bash"
  },
  "language_info": {
   "codemirror_mode": "shell",
   "file_extension": ".sh",
   "mimetype": "text/x-sh",
   "name": "bash"
  }
 },
 "nbformat": 4,
 "nbformat_minor": 4
}
