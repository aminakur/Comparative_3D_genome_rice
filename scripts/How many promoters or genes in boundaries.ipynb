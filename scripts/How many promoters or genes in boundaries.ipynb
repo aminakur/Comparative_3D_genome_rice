{
 "cells": [
  {
   "cell_type": "markdown",
   "metadata": {},
   "source": [
    "# How many gene promoters are within TAD boundaries (any overlap counts)"
   ]
  },
  {
   "cell_type": "code",
   "execution_count": 8,
   "metadata": {},
   "outputs": [
    {
     "name": "stdout",
     "output_type": "stream",
     "text": [
      "/scratch/ak8725/az_mrg\n"
     ]
    }
   ],
   "source": [
    "cd ../az_mrg"
   ]
  },
  {
   "cell_type": "code",
   "execution_count": 52,
   "metadata": {},
   "outputs": [
    {
     "name": "stdout",
     "output_type": "stream",
     "text": [
      "3966 /scratch/ak8725/az_mrg/hicFindTADs/hicFindTADs13_out/az_5kb_boundaries.bed\n"
     ]
    }
   ],
   "source": [
    "wc -l /scratch/ak8725/az_mrg/hicFindTADs/hicFindTADs13_out/az_5kb_boundaries.bed"
   ]
  },
  {
   "cell_type": "code",
   "execution_count": 47,
   "metadata": {},
   "outputs": [
    {
     "name": "stdout",
     "output_type": "stream",
     "text": [
      "6432 /scratch/ak8725/az_mrg/hicFindTADs/hicFindTADs1_out/az_2kb_boundaries.bed\n"
     ]
    }
   ],
   "source": [
    "wc -l /scratch/ak8725/az_mrg/hicFindTADs/hicFindTADs1_out/az_2kb_boundaries.bed"
   ]
  },
  {
   "cell_type": "code",
   "execution_count": 49,
   "metadata": {},
   "outputs": [
    {
     "name": "stdout",
     "output_type": "stream",
     "text": [
      "4662 /scratch/ak8725/az_mrg/hicFindTADs/hicFindTADs2_out/az_1kb_boundaries.bed\n"
     ]
    }
   ],
   "source": [
    "wc -l /scratch/ak8725/az_mrg/hicFindTADs/hicFindTADs2_out/az_1kb_boundaries.bed"
   ]
  },
  {
   "cell_type": "code",
   "execution_count": 60,
   "metadata": {},
   "outputs": [
    {
     "name": "stdout",
     "output_type": "stream",
     "text": [
      "chr01\t2325\t10183\tgene:OsAzu_01g0000010\t+\n",
      "chr01\t10736\t11801\tgene:OsAzu_01g0000020\t+\n",
      "chr01\t10737\t11793\tgene:OsAzu_01g0000030\t-\n",
      "chr01\t12076\t15281\tgene:OsAzu_01g0000040\t+\n",
      "chr01\t15657\t19273\tgene:OsAzu_01g0000050\t+\n",
      "chr01\t22199\t26348\tgene:OsAzu_01g0000060\t+\n",
      "chr01\t26494\t28061\tgene:OsAzu_01g0000070\t+\n",
      "chr01\t29224\t33894\tgene:OsAzu_01g0000080\t+\n",
      "chr01\t35014\t40593\tgene:OsAzu_01g0000090\t+\n",
      "chr01\t56572\t57695\tgene:OsAzu_01g0000100\t+\n"
     ]
    }
   ],
   "source": [
    "head azucena_genes.bed"
   ]
  },
  {
   "cell_type": "code",
   "execution_count": 65,
   "metadata": {},
   "outputs": [],
   "source": [
    "awk '{if ($5 == \"+\") print $1, $2-1000, $2, $4; else if ($5 == \"-\") print $1, $3, $3+1000, $4;}' azucena_genes.bed > azucena_1kb_promoter.bed\n"
   ]
  },
  {
   "cell_type": "code",
   "execution_count": 5,
   "metadata": {},
   "outputs": [],
   "source": [
    "module load bedtools/intel/2.29.2"
   ]
  },
  {
   "cell_type": "code",
   "execution_count": 70,
   "metadata": {},
   "outputs": [
    {
     "name": "stdout",
     "output_type": "stream",
     "text": [
      "chr01\t1325\t2325\tgene:OsAzu_01g0000010\n",
      "chr01\t9736\t10736\tgene:OsAzu_01g0000020\n",
      "chr01\t11793\t12793\tgene:OsAzu_01g0000030\n",
      "chr01\t11076\t12076\tgene:OsAzu_01g0000040\n",
      "chr01\t14657\t15657\tgene:OsAzu_01g0000050\n",
      "chr01\t21199\t22199\tgene:OsAzu_01g0000060\n",
      "chr01\t25494\t26494\tgene:OsAzu_01g0000070\n",
      "chr01\t28224\t29224\tgene:OsAzu_01g0000080\n",
      "chr01\t34014\t35014\tgene:OsAzu_01g0000090\n",
      "chr01\t55572\t56572\tgene:OsAzu_01g0000100\n"
     ]
    }
   ],
   "source": [
    "head azucena_1kb_promoter.bed"
   ]
  },
  {
   "cell_type": "code",
   "execution_count": 69,
   "metadata": {},
   "outputs": [],
   "source": [
    "sed -i 's/ \\+/\\t/g' azucena_1kb_promoter.bed"
   ]
  },
  {
   "cell_type": "code",
   "execution_count": 6,
   "metadata": {},
   "outputs": [
    {
     "name": "stdout",
     "output_type": "stream",
     "text": [
      "***** WARNING: File azucena_1kb_promoter.bed has a record where naming convention (leading zero) is inconsistent with other files:\n",
      "chr10\t50143\t51143\tgene:OsAzu_10g0000010\n",
      "\n",
      "***** WARNING: File azucena_1kb_promoter.bed has a record where naming convention (leading zero) is inconsistent with other files:\n",
      "chr10\t50143\t51143\tgene:OsAzu_10g0000010\n",
      "\n"
     ]
    }
   ],
   "source": [
    "bedtools intersect -a boundaries_5kb_two_tools_intersect_80.bed -b azucena_1kb_promoter.bed -wo > promoters_at_5kb_boundaries_two_tools.bed"
   ]
  },
  {
   "cell_type": "code",
   "execution_count": 7,
   "metadata": {},
   "outputs": [
    {
     "name": "stdout",
     "output_type": "stream",
     "text": [
      "2414 boundaries_5kb_two_tools_intersect_80.bed\n"
     ]
    }
   ],
   "source": [
    "wc -l boundaries_5kb_two_tools_intersect_80.bed"
   ]
  },
  {
   "cell_type": "code",
   "execution_count": 119,
   "metadata": {},
   "outputs": [
    {
     "name": "stdout",
     "output_type": "stream",
     "text": [
      "chr01\t82500\t87500\tchr01\t83753\t84753\tgene:OsAzu_01g0000160\t1000\n",
      "chr01\t127500\t132500\tchr01\t128827\t129827\tgene:OsAzu_01g0000220\t1000\n",
      "chr01\t127500\t132500\tchr01\t131297\t132297\tgene:OsAzu_01g0000230\t1000\n",
      "chr01\t127500\t132500\tchr01\t128827\t129827\tgene:OsAzu_01g0000220\t1000\n",
      "chr01\t127500\t132500\tchr01\t131297\t132297\tgene:OsAzu_01g0000230\t1000\n",
      "chr01\t192500\t197500\tchr01\t193862\t194862\tgene:OsAzu_01g0000320\t1000\n",
      "chr01\t192500\t197500\tchr01\t193026\t194026\tgene:OsAzu_01g0000330\t1000\n",
      "chr01\t192500\t197500\tchr01\t193862\t194862\tgene:OsAzu_01g0000320\t1000\n",
      "chr01\t192500\t197500\tchr01\t193026\t194026\tgene:OsAzu_01g0000330\t1000\n",
      "chr01\t277500\t282500\tchr01\t276981\t277981\tgene:OsAzu_01g0000430\t481\n"
     ]
    }
   ],
   "source": [
    "head promoters_at_5kb_boundaries_two_tools.bed"
   ]
  },
  {
   "cell_type": "code",
   "execution_count": 6,
   "metadata": {},
   "outputs": [
    {
     "name": "stdout",
     "output_type": "stream",
     "text": [
      "Number of unique boundaries with promoter overlap: 2123\n"
     ]
    }
   ],
   "source": [
    "#how many boundaries have an overlap with promoters\n",
    "bed_file = \"/scratch/ak8725/az_mrg/promoters_at_1kb_boundaries.bed\"\n",
    "\n",
    "groups = set()\n",
    "\n",
    "with open(bed_file, \"r\") as f:\n",
    "    for line in f:\n",
    "        fields = line.strip().split(\"\\t\")\n",
    "        group = (fields[0], fields[1], fields[2])\n",
    "        groups.add(group)\n",
    "\n",
    "print(\"Number of unique boundaries with promoter overlap: {}\".format(len(groups)))\n"
   ]
  },
  {
   "cell_type": "code",
   "execution_count": 120,
   "metadata": {},
   "outputs": [],
   "source": [
    "awk '{if($NF!=0) print $7\"\\t\"$8}' promoters_at_5kb_boundaries_two_tools.bed > promoters_at_5kb_boundaries_two_tools_list.bed"
   ]
  },
  {
   "cell_type": "code",
   "execution_count": 121,
   "metadata": {},
   "outputs": [
    {
     "name": "stdout",
     "output_type": "stream",
     "text": [
      "gene:OsAzu_01g0000160\t1000\n",
      "gene:OsAzu_01g0000220\t1000\n",
      "gene:OsAzu_01g0000230\t1000\n",
      "gene:OsAzu_01g0000220\t1000\n",
      "gene:OsAzu_01g0000230\t1000\n",
      "gene:OsAzu_01g0000320\t1000\n",
      "gene:OsAzu_01g0000330\t1000\n",
      "gene:OsAzu_01g0000320\t1000\n",
      "gene:OsAzu_01g0000330\t1000\n",
      "gene:OsAzu_01g0000430\t481\n"
     ]
    }
   ],
   "source": [
    "head promoters_at_5kb_boundaries_two_tools_list.bed"
   ]
  },
  {
   "cell_type": "code",
   "execution_count": 122,
   "metadata": {},
   "outputs": [
    {
     "name": "stdout",
     "output_type": "stream",
     "text": [
      "1921\n"
     ]
    }
   ],
   "source": [
    "#how many unique gene promoters\n",
    "cut -f 1 promoters_at_5kb_boundaries_two_tools_list.bed | sort -u | wc -l"
   ]
  },
  {
   "cell_type": "code",
   "execution_count": 123,
   "metadata": {},
   "outputs": [
    {
     "name": "stdout",
     "output_type": "stream",
     "text": [
      "2574 promoters_at_5kb_boundaries_two_tools_list.bed\n"
     ]
    }
   ],
   "source": [
    "wc -l promoters_at_5kb_boundaries_two_tools_list.bed "
   ]
  },
  {
   "cell_type": "code",
   "execution_count": 74,
   "metadata": {},
   "outputs": [
    {
     "name": "stdout",
     "output_type": "stream",
     "text": [
      "chr01\t25000\t27000\tB00013\t0.119082992172\t.\tchr01\t25494\t26494\tgene:OsAzu_01g0000070\t1000\n",
      "chr01\t83000\t85000\tB00039\t0.190560036493\t.\tchr01\t83753\t84753\tgene:OsAzu_01g0000160\t1000\n",
      "chr01\t131000\t133000\tB00057\t-0.037365019428\t.\tchr01\t131297\t132297\tgene:OsAzu_01g0000230\t1000\n",
      "chr01\t193000\t195000\tB00087\t-0.068749395638\t.\tchr01\t193862\t194862\tgene:OsAzu_01g0000320\t1000\n",
      "chr01\t193000\t195000\tB00087\t-0.068749395638\t.\tchr01\t193026\t194026\tgene:OsAzu_01g0000330\t1000\n",
      "chr01\t211000\t213000\tB00096\t-0.074163146466\t.\tchr01\t210091\t211091\tgene:OsAzu_01g0000360\t91\n",
      "chr01\t405000\t407000\tB00189\t0.005657691068\t.\tchr01\t405486\t406486\tgene:OsAzu_01g0000610\t1000\n",
      "chr01\t405000\t407000\tB00189\t0.005657691068\t.\tchr01\t406527\t407527\tgene:OsAzu_01g0000620\t473\n",
      "chr01\t507000\t509000\tB00234\t-0.273921213995\t.\tchr01\t508373\t509373\tgene:OsAzu_01g0000740\t627\n",
      "chr01\t581000\t583000\tB00271\t-0.220311395381\t.\tchr01\t582256\t583256\tgene:OsAzu_01g0000890\t744\n"
     ]
    }
   ],
   "source": [
    "head /scratch/ak8725/az_mrg/promoters_at_2kb_boundaries.bed"
   ]
  },
  {
   "cell_type": "code",
   "execution_count": 93,
   "metadata": {},
   "outputs": [],
   "source": [
    "awk '{if($NF!=0) print $10\"\\t\"$11}' promoters_at_2kb_boundaries.bed > promoters_at_2kb_boundaries_list.bed"
   ]
  },
  {
   "cell_type": "code",
   "execution_count": 94,
   "metadata": {},
   "outputs": [
    {
     "name": "stdout",
     "output_type": "stream",
     "text": [
      "3723\n"
     ]
    }
   ],
   "source": [
    "cut -f 1 promoters_at_2kb_boundaries_list.bed | sort -u | wc -l"
   ]
  },
  {
   "cell_type": "code",
   "execution_count": 150,
   "metadata": {},
   "outputs": [
    {
     "name": "stdout",
     "output_type": "stream",
     "text": [
      "gene:OsAzu_01g0000070\t1000\n",
      "gene:OsAzu_01g0000160\t1000\n",
      "gene:OsAzu_01g0000230\t1000\n",
      "gene:OsAzu_01g0000320\t1000\n",
      "gene:OsAzu_01g0000330\t1000\n",
      "gene:OsAzu_01g0000360\t91\n",
      "gene:OsAzu_01g0000610\t1000\n",
      "gene:OsAzu_01g0000620\t473\n",
      "gene:OsAzu_01g0000740\t627\n",
      "gene:OsAzu_01g0000890\t744\n"
     ]
    }
   ],
   "source": [
    "head promoters_at_2kb_boundaries_list.bed"
   ]
  },
  {
   "cell_type": "code",
   "execution_count": 146,
   "metadata": {},
   "outputs": [
    {
     "name": "stdout",
     "output_type": "stream",
     "text": [
      "chr01\t82500\t87500\tchr01\t83753\t84753\tgene:OsAzu_01g0000160\t1000\n",
      "chr01\t127500\t132500\tchr01\t128827\t129827\tgene:OsAzu_01g0000220\t1000\n",
      "chr01\t127500\t132500\tchr01\t131297\t132297\tgene:OsAzu_01g0000230\t1000\n",
      "chr01\t127500\t132500\tchr01\t128827\t129827\tgene:OsAzu_01g0000220\t1000\n",
      "chr01\t127500\t132500\tchr01\t131297\t132297\tgene:OsAzu_01g0000230\t1000\n",
      "chr01\t192500\t197500\tchr01\t193862\t194862\tgene:OsAzu_01g0000320\t1000\n",
      "chr01\t192500\t197500\tchr01\t193026\t194026\tgene:OsAzu_01g0000330\t1000\n",
      "chr01\t192500\t197500\tchr01\t193862\t194862\tgene:OsAzu_01g0000320\t1000\n",
      "chr01\t192500\t197500\tchr01\t193026\t194026\tgene:OsAzu_01g0000330\t1000\n",
      "chr01\t277500\t282500\tchr01\t276981\t277981\tgene:OsAzu_01g0000430\t481\n"
     ]
    }
   ],
   "source": [
    "head /scratch/ak8725/az_mrg/promoters_at_5kb_boundaries_two_tools.bed"
   ]
  },
  {
   "cell_type": "code",
   "execution_count": 96,
   "metadata": {},
   "outputs": [],
   "source": [
    "awk '{if($NF!=0) print $10\"\\t\"$11}' promoters_at_5kb_boundaries.bed > promoters_at_5kb_boundaries_list.bed"
   ]
  },
  {
   "cell_type": "code",
   "execution_count": 97,
   "metadata": {},
   "outputs": [
    {
     "name": "stdout",
     "output_type": "stream",
     "text": [
      "3899\n"
     ]
    }
   ],
   "source": [
    "cut -f 1 promoters_at_5kb_boundaries_list.bed | sort -u | wc -l"
   ]
  },
  {
   "cell_type": "code",
   "execution_count": 99,
   "metadata": {},
   "outputs": [
    {
     "name": "stdout",
     "output_type": "stream",
     "text": [
      "3899 promoters_at_5kb_boundaries_list.bed\n"
     ]
    }
   ],
   "source": [
    "wc -l promoters_at_5kb_boundaries_list.bed"
   ]
  },
  {
   "cell_type": "code",
   "execution_count": 128,
   "metadata": {},
   "outputs": [
    {
     "name": "stdout",
     "output_type": "stream",
     "text": [
      "1861\n"
     ]
    }
   ],
   "source": [
    "#how many promoters are entirely within boundary (intersection = 1000)\n",
    "awk '$NF==1000{count++} END{print count}' promoters_at_5kb_boundaries_two_tools.bed"
   ]
  },
  {
   "cell_type": "code",
   "execution_count": 149,
   "metadata": {},
   "outputs": [
    {
     "name": "stdout",
     "output_type": "stream",
     "text": [
      "1380\n"
     ]
    }
   ],
   "source": [
    "#how many unique gene promoters are entirely within boundary (intersection = 1000)\n",
    "awk '$NF == 1000 {print $7}' promoters_at_5kb_boundaries_two_tools.bed | sort -u | wc -l"
   ]
  },
  {
   "cell_type": "code",
   "execution_count": null,
   "metadata": {},
   "outputs": [],
   "source": [
    "#extracting gene names for GO term enrichment analysis with RGI\n"
   ]
  },
  {
   "cell_type": "code",
   "execution_count": 152,
   "metadata": {},
   "outputs": [
    {
     "name": "stdout",
     "output_type": "stream",
     "text": [
      "chr01\t82500\t87500\tB00016\t-0.007672963698\t.\tchr01\t83753\t84753\tgene:OsAzu_01g0000160\t1000\n",
      "chr01\t127500\t132500\tB00022\t-0.377922725545\t.\tchr01\t128827\t129827\tgene:OsAzu_01g0000220\t1000\n",
      "chr01\t127500\t132500\tB00022\t-0.377922725545\t.\tchr01\t131297\t132297\tgene:OsAzu_01g0000230\t1000\n",
      "chr01\t192500\t197500\tB00035\t-0.218382684448\t.\tchr01\t193862\t194862\tgene:OsAzu_01g0000320\t1000\n",
      "chr01\t192500\t197500\tB00035\t-0.218382684448\t.\tchr01\t193026\t194026\tgene:OsAzu_01g0000330\t1000\n",
      "chr01\t277500\t282500\tB00051\t-0.276713853333\t.\tchr01\t276981\t277981\tgene:OsAzu_01g0000430\t481\n",
      "chr01\t402500\t407500\tB00076\t-0.115406958244\t.\tchr01\t405486\t406486\tgene:OsAzu_01g0000610\t1000\n",
      "chr01\t402500\t407500\tB00076\t-0.115406958244\t.\tchr01\t406527\t407527\tgene:OsAzu_01g0000620\t973\n",
      "chr01\t507500\t512500\tB00095\t-0.459206610974\t.\tchr01\t508373\t509373\tgene:OsAzu_01g0000740\t1000\n",
      "chr01\t622500\t627500\tB00118\t-0.550562843776\t.\tchr01\t624040\t625040\tgene:OsAzu_01g0000960\t1000\n"
     ]
    }
   ],
   "source": [
    "head  promoters_at_5kb_boundaries.bed"
   ]
  },
  {
   "cell_type": "code",
   "execution_count": 161,
   "metadata": {},
   "outputs": [],
   "source": [
    "awk '{print $10}' promoters_at_5kb_boundaries.bed | sort | uniq > promoters_at_5kb_boundaries_GO.txt"
   ]
  },
  {
   "cell_type": "code",
   "execution_count": 163,
   "metadata": {},
   "outputs": [
    {
     "name": "stdout",
     "output_type": "stream",
     "text": [
      "3899 promoters_at_5kb_boundaries_GO.txt\n"
     ]
    }
   ],
   "source": [
    "wc -l promoters_at_5kb_boundaries_GO.txt"
   ]
  },
  {
   "cell_type": "code",
   "execution_count": 164,
   "metadata": {},
   "outputs": [],
   "source": [
    "awk '{print $10}' promoters_at_2kb_boundaries.bed | sort | uniq > promoters_at_2kb_boundaries_GO.txt"
   ]
  },
  {
   "cell_type": "code",
   "execution_count": 166,
   "metadata": {},
   "outputs": [],
   "source": [
    "awk '{print $10}' promoters_at_1kb_boundaries.bed | sort | uniq > promoters_at_1kb_boundaries_GO.txt"
   ]
  },
  {
   "cell_type": "code",
   "execution_count": 168,
   "metadata": {},
   "outputs": [],
   "source": [
    "awk '{print $7}' promoters_at_5kb_boundaries_two_tools.bed | sort | uniq > promoters_at_5kb_boundaries_two_tools_GO.txt"
   ]
  },
  {
   "cell_type": "code",
   "execution_count": 176,
   "metadata": {},
   "outputs": [
    {
     "name": "stdout",
     "output_type": "stream",
     "text": [
      "2206 promoters_at_2kb_boundaries_two_tools_GO.txt\n"
     ]
    }
   ],
   "source": [
    "wc -l promoters_at_2kb_boundaries_two_tools_GO.txt"
   ]
  },
  {
   "cell_type": "code",
   "execution_count": 172,
   "metadata": {},
   "outputs": [],
   "source": [
    "awk '{print $7}' promoters_at_2kb_boundaries_two_tools.bed | sort | uniq > promoters_at_2kb_boundaries_two_tools_GO.txt"
   ]
  },
  {
   "cell_type": "code",
   "execution_count": null,
   "metadata": {},
   "outputs": [],
   "source": [
    "#lists of gene names which promoters overlap boundaries\n",
    "/scratch/ak8725/az_mrg/promoters_at_2kb_boundaries_GO.txt\n",
    "/scratch/ak8725/az_mrg/promoters_at_1kb_boundaries_GO.txt\n",
    "/scratch/ak8725/az_mrg/promoters_at_2kb_boundaries_two_tools_GO.txt\n",
    "/scratch/ak8725/az_mrg/promoters_at_5kb_boundaries_two_tools_GO.txt"
   ]
  },
  {
   "cell_type": "markdown",
   "metadata": {},
   "source": [
    "## Quantifying Promoter Overlap with Genomic Regions  Randomly Designated as Boundaries"
   ]
  },
  {
   "cell_type": "code",
   "execution_count": 7,
   "metadata": {},
   "outputs": [
    {
     "ename": "SyntaxError",
     "evalue": "invalid syntax (<ipython-input-7-8c88a6a4bf5f>, line 1)",
     "output_type": "error",
     "traceback": [
      "\u001b[0;36m  File \u001b[0;32m\"<ipython-input-7-8c88a6a4bf5f>\"\u001b[0;36m, line \u001b[0;32m1\u001b[0m\n\u001b[0;31m    module load bedtools/intel/2.29.2\u001b[0m\n\u001b[0m           ^\u001b[0m\n\u001b[0;31mSyntaxError\u001b[0m\u001b[0;31m:\u001b[0m invalid syntax\n"
     ]
    }
   ],
   "source": [
    "module load bedtools/intel/2.29.2"
   ]
  },
  {
   "cell_type": "code",
   "execution_count": 185,
   "metadata": {},
   "outputs": [],
   "source": [
    "#finding random TAD boundaries in the genome\n",
    "bedtools shuffle -i boundaries_2kb_two_tools_intersect_80.bed -g azucena.chrom.sizes_TRUE -noOverlapping > random_2kb_boundaries_two_tools.bed"
   ]
  },
  {
   "cell_type": "code",
   "execution_count": 181,
   "metadata": {},
   "outputs": [
    {
     "name": "stdout",
     "output_type": "stream",
     "text": [
      "chr01\t281831\t282831\tB00065\t0.118303686824\t.\n",
      "chr04\t18636394\t18637394\tB00077\t-0.220582454764\t.\n",
      "chr03\t1253610\t1254610\tB00151\t0.068491605502\t.\n",
      "chr03\t4163011\t4164011\tB00222\t0.111921474297\t.\n",
      "chr04\t21468188\t21469188\tB00270\t-0.130352591732\t.\n",
      "chr08\t5214192\t5215192\tB00284\t0.025218289872\t.\n",
      "chr07\t20527167\t20528167\tB00386\t-0.126028470159\t.\n",
      "chr03\t21128720\t21129720\tB00418\t-0.191001059176\t.\n",
      "chr02\t26541339\t26542339\tB00434\t-0.203591428374\t.\n",
      "chr06\t249207\t250207\tB00445\t-0.072317785790\t.\n"
     ]
    }
   ],
   "source": [
    "head random_1kb_boundaries.bed"
   ]
  },
  {
   "cell_type": "code",
   "execution_count": 187,
   "metadata": {},
   "outputs": [
    {
     "name": "stdout",
     "output_type": "stream",
     "text": [
      "4662 random_1kb_boundaries.bed\n",
      "6432 random_2kb_boundaries.bed\n",
      "3966 random_5kb_boundaries.bed\n",
      "4948 random_2kb_boundaries_two_tools.bed\n",
      "2414 random_5kb_boundaries_two_tools.bed\n"
     ]
    }
   ],
   "source": [
    "#all random boundaries files\n",
    "wc -l random_1kb_boundaries.bed\n",
    "wc -l random_2kb_boundaries.bed\n",
    "wc -l random_5kb_boundaries.bed\n",
    "wc -l random_2kb_boundaries_two_tools.bed\n",
    "wc -l random_5kb_boundaries_two_tools.bed"
   ]
  },
  {
   "cell_type": "code",
   "execution_count": 186,
   "metadata": {
    "collapsed": true,
    "jupyter": {
     "outputs_hidden": true
    }
   },
   "outputs": [
    {
     "name": "stdout",
     "output_type": "stream",
     "text": [
      "***** WARNING: File azucena_1kb_promoter.bed has a record where naming convention (leading zero) is inconsistent with other files:\n",
      "chr10\t50143\t51143\tgene:OsAzu_10g0000010\n",
      "\n",
      "***** WARNING: File azucena_1kb_promoter.bed has a record where naming convention (leading zero) is inconsistent with other files:\n",
      "chr10\t50143\t51143\tgene:OsAzu_10g0000010\n",
      "\n",
      "***** WARNING: File azucena_1kb_promoter.bed has a record where naming convention (leading zero) is inconsistent with other files:\n",
      "chr10\t50143\t51143\tgene:OsAzu_10g0000010\n",
      "\n",
      "***** WARNING: File azucena_1kb_promoter.bed has a record where naming convention (leading zero) is inconsistent with other files:\n",
      "chr10\t50143\t51143\tgene:OsAzu_10g0000010\n",
      "\n",
      "***** WARNING: File azucena_1kb_promoter.bed has a record where naming convention (leading zero) is inconsistent with other files:\n",
      "chr10\t50143\t51143\tgene:OsAzu_10g0000010\n",
      "\n",
      "***** WARNING: File azucena_1kb_promoter.bed has a record where naming convention (leading zero) is inconsistent with other files:\n",
      "chr10\t50143\t51143\tgene:OsAzu_10g0000010\n",
      "\n",
      "***** WARNING: File azucena_1kb_promoter.bed has a record where naming convention (leading zero) is inconsistent with other files:\n",
      "chr10\t50143\t51143\tgene:OsAzu_10g0000010\n",
      "\n",
      "***** WARNING: File azucena_1kb_promoter.bed has a record where naming convention (leading zero) is inconsistent with other files:\n",
      "chr10\t50143\t51143\tgene:OsAzu_10g0000010\n",
      "\n",
      "***** WARNING: File azucena_1kb_promoter.bed has a record where naming convention (leading zero) is inconsistent with other files:\n",
      "chr10\t50143\t51143\tgene:OsAzu_10g0000010\n",
      "\n",
      "***** WARNING: File azucena_1kb_promoter.bed has a record where naming convention (leading zero) is inconsistent with other files:\n",
      "chr10\t50143\t51143\tgene:OsAzu_10g0000010\n",
      "\n"
     ]
    }
   ],
   "source": [
    "#finding 1kb promoters that overlap with random boundaries (any overlap counts)\n",
    "bedtools intersect -a random_1kb_boundaries.bed -b azucena_1kb_promoter.bed -wo > promoters_at_random_1kb_boundaries.bed\n",
    "bedtools intersect -a random_2kb_boundaries.bed -b azucena_1kb_promoter.bed -wo > promoters_at_random_2kb_boundaries.bed\n",
    "bedtools intersect -a random_5kb_boundaries.bed -b azucena_1kb_promoter.bed -wo > promoters_at_random_5kb_boundaries.bed\n",
    "bedtools intersect -a random_2kb_boundaries_two_tools.bed -b azucena_1kb_promoter.bed -wo > promoters_at_random_2kb_boundaries_two_tools.bed\n",
    "bedtools intersect -a random_5kb_boundaries_two_tools.bed -b azucena_1kb_promoter.bed -wo > promoters_at_random_5kb_boundaries_two_tools.bed"
   ]
  },
  {
   "cell_type": "code",
   "execution_count": 13,
   "metadata": {},
   "outputs": [
    {
     "name": "stdout",
     "output_type": "stream",
     "text": [
      "Number of unique random boundaries with promoter overlap: 1333\n"
     ]
    }
   ],
   "source": [
    "#how many random boundaries have an overlap with promoters\n",
    "bed_file = \"/scratch/ak8725/az_mrg/promoters_at_random_2kb_boundaries_two_tools.bed\"\n",
    "\n",
    "groups = set()\n",
    "\n",
    "with open(bed_file, \"r\") as f:\n",
    "    for line in f:\n",
    "        fields = line.strip().split(\"\\t\")\n",
    "        group = (fields[0], fields[1], fields[2])\n",
    "        groups.add(group)\n",
    "\n",
    "print(\"Number of unique random boundaries with promoter overlap: {}\".format(len(groups)))\n"
   ]
  },
  {
   "cell_type": "code",
   "execution_count": 188,
   "metadata": {},
   "outputs": [
    {
     "name": "stdout",
     "output_type": "stream",
     "text": [
      "879 promoters_at_random_1kb_boundaries.bed\n",
      "2245 promoters_at_random_2kb_boundaries.bed\n",
      "2532 promoters_at_random_5kb_boundaries.bed\n",
      "1494 promoters_at_random_2kb_boundaries_two_tools.bed\n",
      "1375 promoters_at_random_5kb_boundaries_two_tools.bed\n"
     ]
    }
   ],
   "source": [
    "#how many times promoter overlaps with random boundary (non-unique)\n",
    "wc -l promoters_at_random_1kb_boundaries.bed\n",
    "wc -l promoters_at_random_2kb_boundaries.bed\n",
    "wc -l promoters_at_random_5kb_boundaries.bed\n",
    "wc -l promoters_at_random_2kb_boundaries_two_tools.bed\n",
    "wc -l promoters_at_random_5kb_boundaries_two_tools.bed"
   ]
  },
  {
   "cell_type": "code",
   "execution_count": 189,
   "metadata": {},
   "outputs": [
    {
     "name": "stdout",
     "output_type": "stream",
     "text": [
      "2382 promoters_at_1kb_boundaries.bed\n",
      "3723 promoters_at_2kb_boundaries.bed\n",
      "3899 promoters_at_5kb_boundaries.bed\n",
      "3035 promoters_at_2kb_boundaries_two_tools.bed\n",
      "2574 promoters_at_5kb_boundaries_two_tools.bed\n"
     ]
    }
   ],
   "source": [
    "#how many times promoter overlaps with real boundary (non-unique)\n",
    "wc -l promoters_at_1kb_boundaries.bed\n",
    "wc -l promoters_at_2kb_boundaries.bed\n",
    "wc -l promoters_at_5kb_boundaries.bed\n",
    "wc -l promoters_at_2kb_boundaries_two_tools.bed\n",
    "wc -l promoters_at_5kb_boundaries_two_tools.bed"
   ]
  },
  {
   "cell_type": "code",
   "execution_count": 9,
   "metadata": {},
   "outputs": [
    {
     "name": "stdout",
     "output_type": "stream",
     "text": [
      "Odds ratio:  4.496290641278965\n",
      "p-value: 4.95e-240\n"
     ]
    }
   ],
   "source": [
    "#testing the significance using fisher's exact test\n",
    "from scipy.stats import fisher_exact\n",
    "\n",
    "# create the contingency table\n",
    "obs = [[2382, 2280], [879, 3783]]\n",
    "\n",
    "# perform the Fisher's exact test\n",
    "odds_ratio, p_value = fisher_exact(obs)\n",
    "\n",
    "print(\"Odds ratio: \", odds_ratio)\n",
    "print(\"p-value: {:.2e}\".format(p_value))"
   ]
  },
  {
   "cell_type": "code",
   "execution_count": 8,
   "metadata": {},
   "outputs": [
    {
     "name": "stdout",
     "output_type": "stream",
     "text": [
      "Chi-squared value:  1063.9072371197185\n",
      "p-value: 2.31e-233\n"
     ]
    }
   ],
   "source": [
    "from scipy.stats import chi2_contingency\n",
    "\n",
    "# create the contingency table\n",
    "obs = [[2382, 2280], [879, 3783]]\n",
    "\n",
    "# perform the chi-squared test\n",
    "chi2, p_value, dof, expected = chi2_contingency(obs)\n",
    "\n",
    "print(\"Chi-squared value: \", chi2)\n",
    "# print the p-value in scientific notation with one digit after the decimal point\n",
    "print(\"p-value: {:.2e}\".format(p_value))"
   ]
  },
  {
   "cell_type": "code",
   "execution_count": 17,
   "metadata": {},
   "outputs": [
    {
     "name": "stdout",
     "output_type": "stream",
     "text": [
      "p-value: 1.45e-100\n"
     ]
    }
   ],
   "source": [
    "from scipy.stats import binom_test\n",
    "\n",
    "# define the number of trials (total number of boundaries) and the number of successes (number of promoters)\n",
    "n = 4948\n",
    "k = 2206\n",
    "\n",
    "# define the null hypothesis probability of success (probability of being a promoter in the control dataset)\n",
    "p = 1494/n\n",
    "\n",
    "# perform the binomial test\n",
    "p_value = binom_test(k, n, p)\n",
    "print(\"p-value: {:.2e}\".format(p_value))"
   ]
  },
  {
   "cell_type": "markdown",
   "metadata": {},
   "source": [
    "All promoter enrichments are statistically significant!"
   ]
  },
  {
   "cell_type": "code",
   "execution_count": 3,
   "metadata": {
    "scrolled": true
   },
   "outputs": [
    {
     "data": {
      "image/png": "[encoded data removed]",
      "text/plain": [
       "<Figure size 640x480 with 1 Axes>"
      ]
     },
     "metadata": {},
     "output_type": "display_data"
    }
   ],
   "source": [
    "#plotting the percentage of promoter-boundaries in all boundaries\n",
    "import matplotlib.pyplot as plt\n",
    "\n",
    "# Example data\n",
    "labels = ['Non-overlapping', 'Overlapping promoters']\n",
    "sizes = [45.5, 54.5]\n",
    "\n",
    "# Create pie chart\n",
    "fig, ax = plt.subplots()\n",
    "ax.pie(sizes, labels=labels, autopct='%1.1f%%', colors = [\"rosybrown\", \"plum\"])\n",
    "\n",
    "# Add title\n",
    "ax.set_title(\"Azucena TAD boundaries\")\n",
    "\n",
    "plt.savefig(\"/scratch/ak8725/figs/promoter-boundaries-pie-chart.png\", dpi = 400)\n",
    "\n",
    "# Show the plot\n",
    "plt.show()"
   ]
  },
  {
   "cell_type": "markdown",
   "metadata": {},
   "source": [
    "# How many genes are within NPB TAD boundaries (any overlap counts) - for Sonia, 2/5kb resolution"
   ]
  },
  {
   "cell_type": "code",
   "execution_count": 34,
   "metadata": {
    "scrolled": true
   },
   "outputs": [
    {
     "name": "stdout",
     "output_type": "stream",
     "text": [
      "chr01\t61000\t63000\n",
      "chr01\t149000\t151000\n",
      "chr01\t211000\t213000\n",
      "chr01\t229000\t231000\n",
      "chr01\t331000\t333000\n",
      "chr01\t371000\t373000\n",
      "chr01\t419000\t421000\n",
      "chr01\t523000\t525000\n",
      "chr01\t561000\t563000\n",
      "chr01\t583000\t585000\n"
     ]
    }
   ],
   "source": [
    "!head /scratch/ak8725/NPB_new/TADs_boundaries/NPB_boundaries_2kb_two_tools_80.bed"
   ]
  },
  {
   "cell_type": "code",
   "execution_count": 2,
   "metadata": {
    "scrolled": true
   },
   "outputs": [
    {
     "name": "stdout",
     "output_type": "stream",
     "text": [
      "chr01\t2983\t10815\tOs01g0100100\t1\t+\n",
      "chr01\t11218\t12435\tOs01g0100200\t1\t+\n",
      "chr01\t11372\t12284\tOs01g0100300\t1\t-\n",
      "chr01\t12721\t15685\tOs01g0100400\t1\t+\n",
      "chr01\t12808\t13978\tOs01g0100466\t1\t-\n",
      "chr01\t16399\t20144\tOs01g0100500\t1\t+\n",
      "chr01\t22841\t26892\tOs01g0100600\t1\t+\n",
      "chr01\t25861\t26424\tOs01g0100650\t1\t-\n",
      "chr01\t27143\t28644\tOs01g0100700\t1\t+\n",
      "chr01\t29818\t34453\tOs01g0100800\t1\t+\n"
     ]
    }
   ],
   "source": [
    "!head /scratch/ak8725/annotations/npb_genes6.bed"
   ]
  },
  {
   "cell_type": "code",
   "execution_count": 25,
   "metadata": {},
   "outputs": [],
   "source": [
    "!awk '{print $1 \"\\t\" $2 \"\\t\" $3 \"\\t\" $4}' \"/scratch/ak8725/annotations/npb_genes6.bed\" > \"/scratch/ak8725/annotations/npb_genes4.bed\""
   ]
  },
  {
   "cell_type": "code",
   "execution_count": 26,
   "metadata": {},
   "outputs": [],
   "source": [
    "!module load bedtools/intel/2.29.2"
   ]
  },
  {
   "cell_type": "code",
   "execution_count": 35,
   "metadata": {},
   "outputs": [
    {
     "name": "stdout",
     "output_type": "stream",
     "text": [
      "/bin/bash: line 1: bedtools: command not found\n"
     ]
    }
   ],
   "source": [
    "!bedtools intersect -a /scratch/ak8725/NPB_new/TADs_boundaries/NPB_boundaries_5kb_two_tools_80.bed -b /scratch/ak8725/annotations/npb_genes4.bed -wo > /scratch/ak8725/NPB_new/TADs_boundaries/genes_at_2kb_npb_boundaries.bed"
   ]
  },
  {
   "cell_type": "code",
   "execution_count": 36,
   "metadata": {},
   "outputs": [
    {
     "name": "stdout",
     "output_type": "stream",
     "text": [
      "3516 /scratch/ak8725/NPB_new/TADs_boundaries/genes_at_2kb_npb_boundaries.bed\n"
     ]
    }
   ],
   "source": [
    "!wc -l /scratch/ak8725/NPB_new/TADs_boundaries/genes_at_2kb_npb_boundaries.bed"
   ]
  },
  {
   "cell_type": "code",
   "execution_count": 37,
   "metadata": {},
   "outputs": [
    {
     "name": "stdout",
     "output_type": "stream",
     "text": [
      "chr01\t61000\t63000\tchr01\t58658\t61090\tOs01g0101150\t90\n",
      "chr01\t61000\t63000\tchr01\t60091\t61086\tOs01g0101175\t86\n",
      "chr01\t61000\t63000\tchr01\t62060\t65537\tOs01g0101200\t940\n",
      "chr01\t149000\t151000\tchr01\t148085\t150568\tOs01g0102700\t1568\n",
      "chr01\t211000\t213000\tchr01\t209771\t214173\tOs01g0104100\t2000\n",
      "chr01\t229000\t231000\tchr01\t226897\t229301\tOs01g0104400\t301\n",
      "chr01\t331000\t333000\tchr01\t331382\t332345\tOs01g0106500\t963\n",
      "chr01\t331000\t333000\tchr01\t332667\t333689\tOs01g0106600\t333\n",
      "chr01\t371000\t373000\tchr01\t371831\t374412\tOs01g0106800\t1169\n",
      "chr01\t371000\t373000\tchr01\t335708\t371194\tOs01g0106700\t194\n"
     ]
    }
   ],
   "source": [
    "!head /scratch/ak8725/NPB_new/TADs_boundaries/genes_at_2kb_npb_boundaries.bed"
   ]
  },
  {
   "cell_type": "code",
   "execution_count": 38,
   "metadata": {},
   "outputs": [],
   "source": [
    "!awk '{if($NF!=0) print $7}' /scratch/ak8725/NPB_new/TADs_boundaries/genes_at_2kb_npb_boundaries.bed > /scratch/ak8725/NPB_new/TADs_boundaries/gene_list_at_2kb_npb_boundaries.bed"
   ]
  },
  {
   "cell_type": "code",
   "execution_count": 39,
   "metadata": {},
   "outputs": [
    {
     "name": "stdout",
     "output_type": "stream",
     "text": [
      "Os01g0101150\n",
      "Os01g0101175\n",
      "Os01g0101200\n",
      "Os01g0102700\n",
      "Os01g0104100\n",
      "Os01g0104400\n",
      "Os01g0106500\n",
      "Os01g0106600\n",
      "Os01g0106800\n",
      "Os01g0106700\n"
     ]
    }
   ],
   "source": [
    "!head /scratch/ak8725/NPB_new/TADs_boundaries/gene_list_at_2kb_npb_boundaries.bed"
   ]
  },
  {
   "cell_type": "code",
   "execution_count": 33,
   "metadata": {},
   "outputs": [
    {
     "name": "stdout",
     "output_type": "stream",
     "text": [
      "1779\n"
     ]
    }
   ],
   "source": [
    "#how many unique genes\n",
    "!cut -f 1 /scratch/ak8725/NPB_new/TADs_boundaries/gene_list_at_5kb_npb_boundaries.bed | sort -u | wc -l"
   ]
  }
 ],
 "metadata": {
  "kernelspec": {
   "display_name": "Python 3 (ipykernel)",
   "language": "python",
   "name": "python3"
  },
  "language_info": {
   "codemirror_mode": {
    "name": "ipython",
    "version": 3
   },
   "file_extension": ".py",
   "mimetype": "text/x-python",
   "name": "python",
   "nbconvert_exporter": "python",
   "pygments_lexer": "ipython3",
   "version": "3.11.7"
  }
 },
 "nbformat": 4,
 "nbformat_minor": 4
}
