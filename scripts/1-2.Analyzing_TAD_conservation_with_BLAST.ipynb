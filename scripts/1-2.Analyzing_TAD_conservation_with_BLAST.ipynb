{
 "cells": [
  {
   "cell_type": "markdown",
   "metadata": {},
   "source": [
    "# 1-2. Analyzing TAD conservation with BLAST\n",
    "Strategies 1 and 2"
   ]
  },
  {
   "cell_type": "markdown",
   "metadata": {},
   "source": [
    "## Strategy 1\n",
    "### Conservation based on BLAST hits is lower than based on lifting over the coordinates of TADs<br>\n",
    "### NPB-Azucena\n",
    "NPB-Az 398 conserved TADs based on liftOver<br>\n",
    "       293(of 501) conserved TADs based on BLAST\n",
    "1. Extracting sequences of 1425 NPB TADs<br>\n",
    "2. Blasting each TAD (npb query) to subject genome<br>\n",
    "3. If blasted successfully, write this TAD to npb-x-blasted.fna<br>"
   ]
  },
  {
   "cell_type": "code",
   "execution_count": 1,
   "metadata": {},
   "outputs": [],
   "source": [
    "#1. Extracting NPB TAD sequences to npb_tads.fna\n",
    "module load bedtools/intel/2.29.2\n",
    "bedtools getfasta -fi ../genomes/NPB.fna -bed ../comparative_TADs_boundaries/NPB_TADs_ranked.bed -fo npb_tads.fna"
   ]
  },
  {
   "cell_type": "code",
   "execution_count": 4,
   "metadata": {},
   "outputs": [],
   "source": [
    "#2. Blasting all NPB TADs to azucena genome -> npb-az-blast_results.txt\n",
    "#min identity = 80, min alignment rate = 80\n",
    "module load  blast+/2.13.0"
   ]
  },
  {
   "cell_type": "code",
   "execution_count": 37,
   "metadata": {},
   "outputs": [
    {
     "name": "stdout",
     "output_type": "stream",
     "text": [
      "\n"
     ]
    }
   ],
   "source": [
    "blastn -query npb_tads.fna -subject ../genomes/azucena.fna -out blast_results.txt -outfmt \"6 qseqid sseqid pident length mismatch gapopen qstart qend sstart send evalue bitscore qlen\" -qcov_hsp_perc 80 -perc_identity 80"
   ]
  },
  {
   "cell_type": "code",
   "execution_count": 34,
   "metadata": {},
   "outputs": [
    {
     "name": "stdout",
     "output_type": "stream",
     "text": [
      "501 npb_az_blast_results.txt\n"
     ]
    }
   ],
   "source": [
    "#how many tads are blasted between NPB and Az?\n",
    "wc -l npb_az_blast_results.txt"
   ]
  },
  {
   "cell_type": "code",
   "execution_count": 16,
   "metadata": {},
   "outputs": [
    {
     "name": "stderr",
     "output_type": "stream",
     "text": [
      "***** WARNING: File az_TADs_temp.bed has a record where naming convention (leading zero) is inconsistent with other files:\n",
      "chr10\t1570000\t1625000\n",
      "\n",
      "***** WARNING: File az_TADs_temp.bed has a record where naming convention (leading zero) is inconsistent with other files:\n",
      "chr10\t1570000\t1625000\n",
      "\n"
     ]
    },
    {
     "data": {
      "text/plain": [
       "<BedTool(npb_az_cons_tads.txt)>"
      ]
     },
     "execution_count": 16,
     "metadata": {},
     "output_type": "execute_result"
    }
   ],
   "source": [
    "#find how many of those blast hits overlap any TADs in az\n",
    "#any overlap of the hit region (sstart-send) with any Az TAD is a conserved TAD\n",
    "# Specify your input files and columns\n",
    "blast_results_file = 'npb_az_blast_results.txt'\n",
    "az_TADs_file = '../az_mrg/TADs_boundaries/az_TADs_5kb_two_tools_80.bed'\n",
    "blast_col_indices = [1, 8, 9]  # Columns for npb_az_blast_results.txt (0-based)\n",
    "az_TADs_col_indices = [0, 1, 2]  # Columns for az_TADs_5kb_two_tools_80.bed (0-based)\n",
    "\n",
    "# Extract the specified columns from the input files\n",
    "blast_columns = []\n",
    "with open(blast_results_file, 'r') as blast_file:\n",
    "    for line in blast_file:\n",
    "        parts = line.strip().split('\\t')\n",
    "        col1 = parts[blast_col_indices[0]]\n",
    "        col2 = parts[blast_col_indices[1]]\n",
    "        col3 = parts[blast_col_indices[2]]\n",
    "        if int(col2) > int(col3):  # Check if col2 is greater than col3\n",
    "            col2, col3 = col3, col2  # Swap values if needed\n",
    "        extracted_data = [col1, col2, col3]\n",
    "        blast_columns.append(extracted_data)\n",
    "\n",
    "az_TADs_columns = []\n",
    "with open(az_TADs_file, 'r') as az_TADs_file:\n",
    "    for line in az_TADs_file:\n",
    "        parts = line.strip().split('\\t')\n",
    "        extracted_data = [parts[i] for i in az_TADs_col_indices]\n",
    "        az_TADs_columns.append(extracted_data)\n",
    "\n",
    "# Create temporary files for the extracted columns\n",
    "blast_temp_file = 'blast_temp.txt'\n",
    "az_TADs_temp_file = 'az_TADs_temp.bed'\n",
    "\n",
    "with open(blast_temp_file, 'w') as blast_temp:\n",
    "    for col_data in blast_columns:\n",
    "        blast_temp.write('\\t'.join(col_data) + '\\n')\n",
    "\n",
    "with open(az_TADs_temp_file, 'w') as az_TADs_temp:\n",
    "    for col_data in az_TADs_columns:\n",
    "        az_TADs_temp.write('\\t'.join(col_data) + '\\n')\n",
    "\n",
    "import pybedtools\n",
    "\n",
    "# Load your input BED files\n",
    "blast_temp_bed = pybedtools.BedTool(blast_temp_file)\n",
    "az_TADs_temp_bed = pybedtools.BedTool(az_TADs_temp_file)\n",
    "\n",
    "# Perform the intersection\n",
    "intersection = blast_temp_bed.intersect(az_TADs_temp_bed, wb=True)\n",
    "\n",
    "# Save the results to a file\n",
    "intersection.saveas('npb_az_cons_tads.txt')"
   ]
  },
  {
   "cell_type": "code",
   "execution_count": 19,
   "metadata": {},
   "outputs": [],
   "source": [
    "#how many unique az tads are conserved in npb based on blast hits\n",
    "# Read the input file npb_az_cons_tads.txt\n",
    "input_file = 'npb_az_cons_tads.txt'\n",
    "\n",
    "# Create a set to store unique combinations\n",
    "unique_combinations = set()\n",
    "\n",
    "# Read the file and extract unique combinations\n",
    "with open(input_file, 'r') as file:\n",
    "    for line in file:\n",
    "        parts = line.strip().split('\\t')\n",
    "        combination = (parts[3], parts[4], parts[5])\n",
    "        unique_combinations.add(combination)\n",
    "\n",
    "# Sort the unique combinations by columns 1, 2, and 3\n",
    "sorted_combinations = sorted(unique_combinations, key=lambda x: (x[0], int(x[1]), int(x[2])))\n",
    "\n",
    "# Write sorted unique combinations to a new file\n",
    "output_file = 'az_tads_conserved_npb.txt'\n",
    "with open(output_file, 'w') as file:\n",
    "    for combination in sorted_combinations:\n",
    "        file.write('\\t'.join(combination) + '\\n')"
   ]
  },
  {
   "cell_type": "code",
   "execution_count": 21,
   "metadata": {},
   "outputs": [
    {
     "name": "stdout",
     "output_type": "stream",
     "text": [
      "293 az_tads_conserved_npb.txt\n"
     ]
    }
   ],
   "source": [
    "#how many of those blast hits are also TADs within Az?\n",
    "#this file contains azucena-based coordinates of TADs conserved in NPB and Azucena\n",
    "!wc -l az_tads_conserved_npb.txt"
   ]
  },
  {
   "cell_type": "markdown",
   "metadata": {},
   "source": [
    "# Strategy 2\n",
    "# NPB-Azucena\n",
    "## Finding % identity of NPB TADs in Azucena\n",
    "1. Blasting all NPB TADs to azucena genome with no min perc_ident or alignment rate\n",
    "2. Extracting the top hit per TAD and recording it's alignment rate\n",
    "3. Identifying average/median al_rate, plotting al_rates distribution"
   ]
  },
  {
   "cell_type": "code",
   "execution_count": 17,
   "metadata": {},
   "outputs": [
    {
     "name": "stdout",
     "output_type": "stream",
     "text": [
      "Submitted batch job 39231539\n"
     ]
    }
   ],
   "source": [
    "#1. npb_az_all_blast_results.txt\n",
    "sbatch blast.sh"
   ]
  },
  {
   "cell_type": "code",
   "execution_count": 3,
   "metadata": {},
   "outputs": [],
   "source": [
    "#calculating query coverage per hsp for every TAD and saving to npb_az_query_cov.txt\n",
    "blast_output_file = 'npb_az_all_blast_results.txt'\n",
    "# Define the output file\n",
    "output_file = 'npb_az_query_cov.txt'\n",
    "\n",
    "# Create a function to calculate query coverage per HSP\n",
    "def calculate_query_coverage(hsp_length, query_length):\n",
    "    return (hsp_length / query_length) * 100\n",
    "\n",
    "# Open the BLAST output file and create the output file\n",
    "with open(blast_output_file, 'r') as blast_file, open(output_file, 'w') as output:\n",
    "    for line in blast_file:\n",
    "        parts = line.strip().split('\\t')\n",
    "        # Extract the string from the first column\n",
    "        blast_string = parts[0]\n",
    "        # Extract HSP length\n",
    "        hsp_length = int(parts[3])\n",
    "        # Extract query length (the last column in your case)\n",
    "        query_length = int(parts[-1])\n",
    "        # Extract values from col9 and col10\n",
    "        col3 = parts[8]\n",
    "        col4 = parts[9]\n",
    "        # Calculate query coverage per HSP\n",
    "        query_coverage = calculate_query_coverage(hsp_length, query_length)\n",
    "        # Write results to the output file\n",
    "        output.write(f'{blast_string}\\t{query_coverage:.2f}\\t{col3}\\t{col4}\\n')"
   ]
  },
  {
   "cell_type": "code",
   "execution_count": 11,
   "metadata": {},
   "outputs": [
    {
     "name": "stdout",
     "output_type": "stream",
     "text": [
      "File updated in-place.\n"
     ]
    }
   ],
   "source": [
    "#add column with chromosome\n",
    "# Load your input BED file\n",
    "input_file = 'npb_az_query_cov.txt'\n",
    "\n",
    "# Create a temporary file to store the modified content\n",
    "temp_file = 'npb_az_query_cov_temp.txt'\n",
    "\n",
    "# Process the HSPs and update the file in-place\n",
    "with open(input_file, 'r') as input, open(temp_file, 'w') as temp:\n",
    "    for line in input:\n",
    "        parts = line.strip().split('\\t')\n",
    "        chrom = parts[0]\n",
    "        col3 = chrom.split(\":\")[0]  # Extract the string before ':'\n",
    "        modified_line = f'{chrom}\\t{parts[1]}\\t{col3}\\t{parts[2]}\\t{parts[3]}\\n'\n",
    "        temp.write(modified_line)\n",
    "\n",
    "# Rename the temporary file to replace the original file\n",
    "import os\n",
    "os.replace(temp_file, input_file)\n",
    "\n",
    "print('File updated in-place.')"
   ]
  },
  {
   "cell_type": "code",
   "execution_count": null,
   "metadata": {},
   "outputs": [],
   "source": [
    "#file structure: \n",
    "    col1 - TAD coordinates in NPB\n",
    "    col2 - percentage of query coverage (hsp/query)\n",
    "    col3 - azucena chromosome\n",
    "    col4 - azucena start coordinate of the aligned block\n",
    "    col5 - azucena end coordinate of the aligned block\n",
    "    col6 - is azucena block overlapping azucena TAD or not"
   ]
  },
  {
   "cell_type": "code",
   "execution_count": 5,
   "metadata": {},
   "outputs": [
    {
     "name": "stdout",
     "output_type": "stream",
     "text": [
      "Average Coverage: 62.76\n",
      "Median Coverage: 61.59\n"
     ]
    }
   ],
   "source": [
    "import statistics\n",
    "\n",
    "# Read the file and extract coverage values\n",
    "coverage_values = []\n",
    "with open('npb_az_query_cov.txt', 'r') as file:\n",
    "    for line in file:\n",
    "        parts = line.strip().split('\\t')\n",
    "        coverage = float(parts[1])\n",
    "        coverage_values.append(coverage)\n",
    "\n",
    "# Calculate the average and median values\n",
    "average_coverage = statistics.mean(coverage_values)\n",
    "median_coverage = statistics.median(coverage_values)\n",
    "\n",
    "# Print the results\n",
    "print(f'Average Coverage: {average_coverage:.2f}')\n",
    "print(f'Median Coverage: {median_coverage:.2f}')"
   ]
  },
  {
   "cell_type": "markdown",
   "metadata": {},
   "source": [
    "## Finding which of NPB TADs are conserved in azucena (are hsps intersecting azucena TADs?)"
   ]
  },
  {
   "cell_type": "code",
   "execution_count": 54,
   "metadata": {},
   "outputs": [
    {
     "name": "stderr",
     "output_type": "stream",
     "text": [
      "/state/partition1/job-39230452/ipykernel_3298413/2739106157.py:22: FutureWarning: Support for multi-dimensional indexing (e.g. `obj[:, None]`) is deprecated and will be removed in a future version.  Convert to a numpy array before indexing instead.\n",
      "  swapped_values = np.where(mask[:, None], case1_values, case2_values)\n",
      "***** WARNING: File /state/partition1/job-39230452/pybedtools.cd32a9u9.tmp has a record where naming convention (leading zero) is inconsistent with other files:\n",
      "chr10\t1570000\t1625000\n",
      "\n",
      "***** WARNING: File /state/partition1/job-39230452/pybedtools.cd32a9u9.tmp has a record where naming convention (leading zero) is inconsistent with other files:\n",
      "chr10\t1570000\t1625000\n",
      "\n"
     ]
    }
   ],
   "source": [
    "import pybedtools\n",
    "import pandas as pd\n",
    "import numpy as np \n",
    "\n",
    "# Load the TADs\n",
    "tads_bed = pybedtools.BedTool('../az_mrg/TADs_boundaries/az_TADs_5kb_two_tools_80.bed').cut(range(3))\n",
    "\n",
    "# Read the HSPs data from npb_az_query_cov.txt as a DataFrame\n",
    "hsps_df = pd.read_csv('npb_az_query_cov.txt', sep='\\t', header=None)\n",
    "\n",
    "# Create a new DataFrame with only the required columns (col3, col4, and col5)\n",
    "selected_cols = hsps_df.iloc[:, [2, 3, 4]]\n",
    "\n",
    "# Identify rows where col3 > col4\n",
    "mask = selected_cols.iloc[:, 1] > selected_cols.iloc[:, 2]\n",
    "\n",
    "# Create arrays for the two cases\n",
    "case1_values = selected_cols.iloc[:, [0, 2, 1]].values\n",
    "case2_values = selected_cols.iloc[:, [0, 1, 2]].values\n",
    "\n",
    "# Use np.where to select values based on the mask\n",
    "swapped_values = np.where(mask[:, None], case1_values, case2_values)\n",
    "\n",
    "# Assign swapped values to the DataFrame\n",
    "selected_cols = pd.DataFrame(swapped_values, columns=[2, 3, 4])\n",
    "\n",
    "# Convert the selected DataFrame to a BedTool\n",
    "hsps_bed = pybedtools.BedTool.from_dataframe(selected_cols, sep='\\t')\n",
    "\n",
    "# Perform the intersection and mark HSPs as 'TAD' or 'nonTAD'\n",
    "intersection = hsps_bed.intersect(tads_bed, u=True)\n",
    "\n",
    "# Initialize a dictionary to store the HSP status\n",
    "hsp_status = {}\n",
    "\n",
    "# Iterate through the intersection\n",
    "for hsp in intersection:\n",
    "    chrom = hsp.chrom\n",
    "    start = hsp.start\n",
    "    end = hsp.end\n",
    "\n",
    "    # Create a unique key for each HSP based on coordinates\n",
    "    hsp_key = f'{chrom}:{start}-{end}'\n",
    "\n",
    "    # Mark the HSP as 'TAD'\n",
    "    hsp_status[hsp_key] = 'TAD'\n",
    "\n",
    "# Create a list to store modified lines\n",
    "modified_lines = []\n",
    "\n",
    "# Iterate through npb_az_query_cov.txt and modify the lines\n",
    "with open('npb_az_query_cov.txt', 'r') as infile:\n",
    "    for line in infile:\n",
    "        fields = line.strip().split('\\t')\n",
    "        chrom = fields[2]\n",
    "        start = int(fields[3])\n",
    "        end = int(fields[4])\n",
    "\n",
    "        # Create a unique key for each entry in npb_az_query_cov.txt based on coordinates\n",
    "        entry_key = f'{chrom}:{start}-{end}'\n",
    "\n",
    "        # Check if the entry_key exists in the HSP status\n",
    "        if entry_key in hsp_status:\n",
    "            # If it exists, mark it as 'TAD' in col6\n",
    "            fields.append('TAD')\n",
    "        else:\n",
    "            # If it doesn't exist, mark it as 'nonTAD' in col6\n",
    "            fields.append('nonTAD')\n",
    "\n",
    "        # Append the modified line to the list\n",
    "        modified_lines.append('\\t'.join(fields))\n",
    "\n",
    "# Write the modified lines back to npb_az_query_cov.txt\n",
    "with open('npb_az_query_cov.txt', 'w') as outfile:\n",
    "    outfile.write('\\n'.join(modified_lines))"
   ]
  },
  {
   "cell_type": "code",
   "execution_count": null,
   "metadata": {},
   "outputs": [],
   "source": [
    "#npb_az_query_cov.txt file structure: \n",
    "    col1 - TAD coordinates in NPB\n",
    "    col2 - percentage of query coverage (hsp/query)\n",
    "    col3 - azucena chromosome\n",
    "    col4 - azucena start coordinate of the aligned block\n",
    "    col5 - azucena end coordinate of the aligned block\n",
    "    col6 - is azucena block overlapping azucena TAD or nonTAD"
   ]
  },
  {
   "cell_type": "code",
   "execution_count": 56,
   "metadata": {},
   "outputs": [
    {
     "name": "stdout",
     "output_type": "stream",
     "text": [
      "TAD count: 635\n",
      "nonTAD count: 790\n",
      "Mean coverage for TAD: 67.82212598425197\n",
      "Median coverage for TAD: 67.83\n",
      "Mean coverage for nonTAD: 58.68464556962025\n",
      "Median coverage for nonTAD: 53.8\n"
     ]
    }
   ],
   "source": [
    "from statistics import mean, median\n",
    "\n",
    "# Initialize counters and lists for 'TAD' and 'nonTAD'\n",
    "tad_count = 0\n",
    "nontad_count = 0\n",
    "tad_coverage = []\n",
    "nontad_coverage = []\n",
    "\n",
    "# Iterate through the lines in the file\n",
    "with open('npb_az_query_cov.txt', 'r') as infile:\n",
    "    for line in infile:\n",
    "        fields = line.strip().split('\\t')\n",
    "        col6 = fields[5]\n",
    "        col2 = float(fields[1])  # Convert col2 to float\n",
    "\n",
    "        # Check the value in col6 and update the counts and lists\n",
    "        if col6 == 'TAD':\n",
    "            tad_count += 1\n",
    "            tad_coverage.append(col2)\n",
    "        elif col6 == 'nonTAD':\n",
    "            nontad_count += 1\n",
    "            nontad_coverage.append(col2)\n",
    "\n",
    "# Calculate and print counts\n",
    "print(\"TAD count:\", tad_count)\n",
    "print(\"nonTAD count:\", nontad_count)\n",
    "\n",
    "# Calculate and print mean and median for 'TAD' group\n",
    "if tad_count > 0:\n",
    "    print(\"Mean coverage for TAD:\", mean(tad_coverage))\n",
    "    print(\"Median coverage for TAD:\", median(tad_coverage))\n",
    "else:\n",
    "    print(\"No rows with 'TAD' in col6\")\n",
    "\n",
    "# Calculate and print mean and median for 'nonTAD' group\n",
    "if nontad_count > 0:\n",
    "    print(\"Mean coverage for nonTAD:\", mean(nontad_coverage))\n",
    "    print(\"Median coverage for nonTAD:\", median(nontad_coverage))\n",
    "else:\n",
    "    print(\"No rows with 'nonTAD' in col6\")"
   ]
  },
  {
   "cell_type": "markdown",
   "metadata": {},
   "source": [
    "# NPB-omer\n",
    "## Finding % identity of NPB TADs in OMer\n",
    "1. Blasting all NPB TADs to omer genome with no min perc_ident or alignment rate\n",
    "2. Extracting the top hit per TAD and recording it's alignment rate\n",
    "3. Identifying average/median al_rate, plotting al_rates distribution"
   ]
  },
  {
   "cell_type": "code",
   "execution_count": 1,
   "metadata": {},
   "outputs": [
    {
     "name": "stdout",
     "output_type": "stream",
     "text": [
      "Submitted batch job 39267742\n"
     ]
    }
   ],
   "source": [
    "#1. npb_ir64_all_blast_results.txt\n",
    "sbatch blast.sh"
   ]
  },
  {
   "cell_type": "code",
   "execution_count": 8,
   "metadata": {},
   "outputs": [],
   "source": [
    "#calculating query coverage per hsp for every TAD and saving to npb_az_query_cov.txt\n",
    "blast_output_file = 'npb_omer_all_blast_results.txt'\n",
    "# Define the output file\n",
    "output_file = 'npb_omer_query_cov.txt'\n",
    "\n",
    "# Create a function to calculate query coverage per HSP\n",
    "def calculate_query_coverage(hsp_length, query_length):\n",
    "    return (hsp_length / query_length) * 100\n",
    "\n",
    "# Open the BLAST output file and create the output file\n",
    "with open(blast_output_file, 'r') as blast_file, open(output_file, 'w') as output:\n",
    "    for line in blast_file:\n",
    "        parts = line.strip().split('\\t')\n",
    "        # Extract the string from the first column\n",
    "        blast_string = parts[0]\n",
    "        # Extract HSP length\n",
    "        hsp_length = int(parts[3])\n",
    "        # Extract query length (the last column in your case)\n",
    "        query_length = int(parts[-1])\n",
    "        # Extract values from col9 and col10\n",
    "        col3 = parts[8]\n",
    "        col4 = parts[9]\n",
    "        # Calculate query coverage per HSP\n",
    "        query_coverage = calculate_query_coverage(hsp_length, query_length)\n",
    "        # Write results to the output file\n",
    "        output.write(f'{blast_string}\\t{query_coverage:.2f}\\t{col3}\\t{col4}\\n')"
   ]
  },
  {
   "cell_type": "code",
   "execution_count": 9,
   "metadata": {},
   "outputs": [
    {
     "name": "stdout",
     "output_type": "stream",
     "text": [
      "File updated in-place.\n"
     ]
    }
   ],
   "source": [
    "#add column with chromosome\n",
    "# Load your input BED file\n",
    "input_file = 'npb_omer_query_cov.txt'\n",
    "\n",
    "# Create a temporary file to store the modified content\n",
    "temp_file = 'npb_omer_query_cov_temp.txt'\n",
    "\n",
    "# Process the HSPs and update the file in-place\n",
    "with open(input_file, 'r') as input, open(temp_file, 'w') as temp:\n",
    "    for line in input:\n",
    "        parts = line.strip().split('\\t')\n",
    "        chrom = parts[0]\n",
    "        col3 = chrom.split(\":\")[0]  # Extract the string before ':'\n",
    "        modified_line = f'{chrom}\\t{parts[1]}\\t{col3}\\t{parts[2]}\\t{parts[3]}\\n'\n",
    "        temp.write(modified_line)\n",
    "\n",
    "# Rename the temporary file to replace the original file\n",
    "import os\n",
    "os.replace(temp_file, input_file)\n",
    "\n",
    "print('File updated in-place.')"
   ]
  },
  {
   "cell_type": "code",
   "execution_count": null,
   "metadata": {},
   "outputs": [],
   "source": [
    "#file structure: \n",
    "    col1 - TAD coordinates in NPB\n",
    "    col2 - percentage of query coverage (hsp/query)\n",
    "    col3 - azucena chromosome\n",
    "    col4 - azucena start coordinate of the aligned block\n",
    "    col5 - azucena end coordinate of the aligned block\n",
    "    col6 - is azucena block overlapping azucena TAD or not"
   ]
  },
  {
   "cell_type": "code",
   "execution_count": 10,
   "metadata": {},
   "outputs": [
    {
     "name": "stdout",
     "output_type": "stream",
     "text": [
      "Average Coverage: 13.73\n",
      "Median Coverage: 12.02\n"
     ]
    }
   ],
   "source": [
    "import statistics\n",
    "\n",
    "# Read the file and extract coverage values\n",
    "coverage_values = []\n",
    "with open('npb_omer_query_cov.txt', 'r') as file:\n",
    "    for line in file:\n",
    "        parts = line.strip().split('\\t')\n",
    "        coverage = float(parts[1])\n",
    "        coverage_values.append(coverage)\n",
    "\n",
    "# Calculate the average and median values\n",
    "average_coverage = statistics.mean(coverage_values)\n",
    "median_coverage = statistics.median(coverage_values)\n",
    "\n",
    "# Print the results\n",
    "print(f'Average Coverage: {average_coverage:.2f}')\n",
    "print(f'Median Coverage: {median_coverage:.2f}')"
   ]
  },
  {
   "cell_type": "markdown",
   "metadata": {},
   "source": [
    "## Finding which of NPB TADs are conserved in omer (are hsps intersecting omer TADs?)"
   ]
  },
  {
   "cell_type": "code",
   "execution_count": 11,
   "metadata": {},
   "outputs": [
    {
     "name": "stderr",
     "output_type": "stream",
     "text": [
      "/state/partition1/job-39303177/ipykernel_3717904/779158512.py:22: FutureWarning: Support for multi-dimensional indexing (e.g. `obj[:, None]`) is deprecated and will be removed in a future version.  Convert to a numpy array before indexing instead.\n",
      "  swapped_values = np.where(mask[:, None], case1_values, case2_values)\n",
      "***** WARNING: File /state/partition1/job-39303177/pybedtools.42k_0hdd.tmp has a record where naming convention (leading zero) is inconsistent with other files:\n",
      "chr10\t2055000\t2110000\n",
      "\n",
      "***** WARNING: File /state/partition1/job-39303177/pybedtools.42k_0hdd.tmp has a record where naming convention (leading zero) is inconsistent with other files:\n",
      "chr10\t2055000\t2110000\n",
      "\n"
     ]
    }
   ],
   "source": [
    "import pybedtools\n",
    "import pandas as pd\n",
    "import numpy as np \n",
    "\n",
    "# Load the TADs\n",
    "tads_bed = pybedtools.BedTool('../omer_mrg/TADs_boundaries/omer_TADs_5kb_two_tools_80.bed').cut(range(3))\n",
    "\n",
    "# Read the HSPs data from npb_az_query_cov.txt as a DataFrame\n",
    "hsps_df = pd.read_csv('npb_omer_query_cov.txt', sep='\\t', header=None)\n",
    "\n",
    "# Create a new DataFrame with only the required columns (col3, col4, and col5)\n",
    "selected_cols = hsps_df.iloc[:, [2, 3, 4]]\n",
    "\n",
    "# Identify rows where col3 > col4\n",
    "mask = selected_cols.iloc[:, 1] > selected_cols.iloc[:, 2]\n",
    "\n",
    "# Create arrays for the two cases\n",
    "case1_values = selected_cols.iloc[:, [0, 2, 1]].values\n",
    "case2_values = selected_cols.iloc[:, [0, 1, 2]].values\n",
    "\n",
    "# Use np.where to select values based on the mask\n",
    "swapped_values = np.where(mask[:, None], case1_values, case2_values)\n",
    "\n",
    "# Assign swapped values to the DataFrame\n",
    "selected_cols = pd.DataFrame(swapped_values, columns=[2, 3, 4])\n",
    "\n",
    "# Convert the selected DataFrame to a BedTool\n",
    "hsps_bed = pybedtools.BedTool.from_dataframe(selected_cols, sep='\\t')\n",
    "\n",
    "# Perform the intersection and mark HSPs as 'TAD' or 'nonTAD'\n",
    "intersection = hsps_bed.intersect(tads_bed, u=True)\n",
    "\n",
    "# Initialize a dictionary to store the HSP status\n",
    "hsp_status = {}\n",
    "\n",
    "# Iterate through the intersection\n",
    "for hsp in intersection:\n",
    "    chrom = hsp.chrom\n",
    "    start = hsp.start\n",
    "    end = hsp.end\n",
    "\n",
    "    # Create a unique key for each HSP based on coordinates\n",
    "    hsp_key = f'{chrom}:{start}-{end}'\n",
    "\n",
    "    # Mark the HSP as 'TAD'\n",
    "    hsp_status[hsp_key] = 'TAD'\n",
    "\n",
    "# Create a list to store modified lines\n",
    "modified_lines = []\n",
    "\n",
    "# Iterate through npb_az_query_cov.txt and modify the lines\n",
    "with open('npb_omer_query_cov.txt', 'r') as infile:\n",
    "    for line in infile:\n",
    "        fields = line.strip().split('\\t')\n",
    "        chrom = fields[2]\n",
    "        start = int(fields[3])\n",
    "        end = int(fields[4])\n",
    "\n",
    "        # Create a unique key for each entry in npb_az_query_cov.txt based on coordinates\n",
    "        entry_key = f'{chrom}:{start}-{end}'\n",
    "\n",
    "        # Check if the entry_key exists in the HSP status\n",
    "        if entry_key in hsp_status:\n",
    "            # If it exists, mark it as 'TAD' in col6\n",
    "            fields.append('TAD')\n",
    "        else:\n",
    "            # If it doesn't exist, mark it as 'nonTAD' in col6\n",
    "            fields.append('nonTAD')\n",
    "\n",
    "        # Append the modified line to the list\n",
    "        modified_lines.append('\\t'.join(fields))\n",
    "\n",
    "# Write the modified lines back to npb_az_query_cov.txt\n",
    "with open('npb_omer_query_cov.txt', 'w') as outfile:\n",
    "    outfile.write('\\n'.join(modified_lines))"
   ]
  },
  {
   "cell_type": "code",
   "execution_count": null,
   "metadata": {},
   "outputs": [],
   "source": [
    "#npb_az_query_cov.txt file structure: \n",
    "    col1 - TAD coordinates in NPB\n",
    "    col2 - percentage of query coverage (hsp/query)\n",
    "    col3 - azucena chromosome\n",
    "    col4 - azucena start coordinate of the aligned block\n",
    "    col5 - azucena end coordinate of the aligned block\n",
    "    col6 - is azucena block overlapping azucena TAD or nonTAD"
   ]
  },
  {
   "cell_type": "code",
   "execution_count": 12,
   "metadata": {},
   "outputs": [
    {
     "name": "stdout",
     "output_type": "stream",
     "text": [
      "TAD count: 417\n",
      "nonTAD count: 1008\n",
      "Mean coverage for TAD: 14.002086330935251\n",
      "Median coverage for TAD: 12.29\n",
      "Mean coverage for nonTAD: 13.615525793650793\n",
      "Median coverage for nonTAD: 11.93\n"
     ]
    }
   ],
   "source": [
    "from statistics import mean, median\n",
    "\n",
    "# Initialize counters and lists for 'TAD' and 'nonTAD'\n",
    "tad_count = 0\n",
    "nontad_count = 0\n",
    "tad_coverage = []\n",
    "nontad_coverage = []\n",
    "\n",
    "# Iterate through the lines in the file\n",
    "with open('npb_omer_query_cov.txt', 'r') as infile:\n",
    "    for line in infile:\n",
    "        fields = line.strip().split('\\t')\n",
    "        col6 = fields[5]\n",
    "        col2 = float(fields[1])  # Convert col2 to float\n",
    "\n",
    "        # Check the value in col6 and update the counts and lists\n",
    "        if col6 == 'TAD':\n",
    "            tad_count += 1\n",
    "            tad_coverage.append(col2)\n",
    "        elif col6 == 'nonTAD':\n",
    "            nontad_count += 1\n",
    "            nontad_coverage.append(col2)\n",
    "\n",
    "# Calculate and print counts\n",
    "print(\"TAD count:\", tad_count)\n",
    "print(\"nonTAD count:\", nontad_count)\n",
    "\n",
    "# Calculate and print mean and median for 'TAD' group\n",
    "if tad_count > 0:\n",
    "    print(\"Mean coverage for TAD:\", mean(tad_coverage))\n",
    "    print(\"Median coverage for TAD:\", median(tad_coverage))\n",
    "else:\n",
    "    print(\"No rows with 'TAD' in col6\")\n",
    "\n",
    "# Calculate and print mean and median for 'nonTAD' group\n",
    "if nontad_count > 0:\n",
    "    print(\"Mean coverage for nonTAD:\", mean(nontad_coverage))\n",
    "    print(\"Median coverage for nonTAD:\", median(nontad_coverage))\n",
    "else:\n",
    "    print(\"No rows with 'nonTAD' in col6\")"
   ]
  },
  {
   "cell_type": "markdown",
   "metadata": {},
   "source": [
    "# Plot distributions of query_coverages for TADs conserved between NPB-X"
   ]
  },
  {
   "cell_type": "code",
   "execution_count": 7,
   "metadata": {},
   "outputs": [
    {
     "data": {
      "image/png": "[encoded data removed]",
      "text/plain": [
       "<Figure size 720x432 with 1 Axes>"
      ]
     },
     "metadata": {},
     "output_type": "display_data"
    }
   ],
   "source": [
    "import pandas as pd\n",
    "import seaborn as sns\n",
    "import matplotlib.pyplot as plt\n",
    "\n",
    "# List of file names\n",
    "file_names = [\n",
    "    'npb_az_query_cov.txt',\n",
    "    'npb_ir64_query_cov.txt',\n",
    "    'npb_oruf_query_cov.txt',\n",
    "    'npb_omer_query_cov.txt'\n",
    "]\n",
    "\n",
    "# List of color names\n",
    "colors = ['blue', 'red', 'green', 'purple']\n",
    "\n",
    "# List of custom legend labels\n",
    "labels = ['Nipponbare-Azucena', 'Nipponbare-IR64', 'Nipponbare-O.rufipogon', 'Nipponbare-O.meridionalis']\n",
    "\n",
    "# Set the style for the plot\n",
    "sns.set_style(\"whitegrid\")\n",
    "\n",
    "# Create subplots to plot all KDE plots on the same graph\n",
    "fig, ax = plt.subplots(figsize=(10,6))\n",
    "\n",
    "# Loop through each file and plot KDE with custom color and label\n",
    "for file_name, color, label in zip(file_names, colors, labels):\n",
    "    # Read the data from the file\n",
    "    data = pd.read_csv(file_name, sep='\\t', header=None, names=['col1', 'col2', 'col3', 'col4', 'col5', 'col6'])\n",
    "    \n",
    "    # Filter the data to keep only rows with 'TAD' in col6\n",
    "    tad_data = data[data['col6'] == 'TAD']\n",
    "    \n",
    "    # Create a KDE plot for column 2 in the 'TAD' data with custom color and label\n",
    "    sns.kdeplot(data=tad_data, x='col2', ax=ax, color=color, label=label)\n",
    "\n",
    "# Add labels and a legend\n",
    "plt.xlabel('Coverage, %')\n",
    "plt.title('Conserved TADs coverage in pairwise comparisons\\n BLAST results not allowing SVs')\n",
    "plt.ylabel('Density')\n",
    "plt.legend()\n",
    "\n",
    "# Show the plot\n",
    "plt.show()"
   ]
  },
  {
   "cell_type": "markdown",
   "metadata": {},
   "source": [
    "# Identifying TADs conserved between NPB-az-IR64 (O.sativa-specific)\n",
    "Take rows from npb_az_query_cov.txt and npb_ir64_query_cov.txt with 'TAD' in col6<br>\n",
    "Any query_coverage counts"
   ]
  },
  {
   "cell_type": "code",
   "execution_count": 18,
   "metadata": {},
   "outputs": [
    {
     "name": "stdout",
     "output_type": "stream",
     "text": [
      "291 NPB-az-ir64.txt\n"
     ]
    }
   ],
   "source": [
    "import pandas as pd\n",
    "\n",
    "# Read data from npb_az_query_cov.txt and npb_ir64_query_cov.txt\n",
    "az_data = pd.read_csv('npb_az_query_cov.txt', sep='\\t', header=None, names=['col1', 'col2', 'col3', 'col4', 'col5', 'col6'])\n",
    "ir64_data = pd.read_csv('npb_ir64_query_cov.txt', sep='\\t', header=None, names=['col1', 'col2', 'col3', 'col4', 'col5', 'col6'])\n",
    "\n",
    "# Filter rows with 'TAD' in col6 in both DataFrames\n",
    "filtered_az = az_data[(az_data['col6'] == 'TAD')]\n",
    "filtered_ir64 = ir64_data[(ir64_data['col6'] == 'TAD')]\n",
    "\n",
    "# Merge the filtered DataFrames on col1\n",
    "merged_data = pd.merge(filtered_az, filtered_ir64, on='col1', how='inner')\n",
    "\n",
    "# Create the new DataFrame with selected columns\n",
    "result = merged_data[['col1', 'col2_x', 'col2_y', 'col6_x']]\n",
    "\n",
    "# Rename the columns\n",
    "result.columns = ['col1', 'col2', 'col3', 'col4']\n",
    "\n",
    "# Write the result to a new file\n",
    "result.to_csv('NPB-az-ir64.txt', sep='\\t', header=False, index=False)\n",
    "\n",
    "!wc -l NPB-az-ir64.txt"
   ]
  },
  {
   "cell_type": "code",
   "execution_count": null,
   "metadata": {},
   "outputs": [],
   "source": [
    "NPB-az-ir64.txt file structure:\n",
    "    col1 - TAD coordinates in NPB\n",
    "    col2 - query coverage of NPB TAD by the azucena sequence (blast-based)\n",
    "    col3 - query coverage of NPB TAD by the ir64 sequence (blast-based)\n",
    "    col4 - TAD"
   ]
  },
  {
   "cell_type": "markdown",
   "metadata": {},
   "source": [
    "# Identifying TADs conserved between NPB-az-oruf\n",
    "Any query_coverage counts"
   ]
  },
  {
   "cell_type": "code",
   "execution_count": 19,
   "metadata": {},
   "outputs": [
    {
     "name": "stdout",
     "output_type": "stream",
     "text": [
      "280 NPB-az-oruf.txt\n"
     ]
    }
   ],
   "source": [
    "import pandas as pd\n",
    "\n",
    "# Read data from npb_az_query_cov.txt and npb_ir64_query_cov.txt\n",
    "az_data = pd.read_csv('npb_az_query_cov.txt', sep='\\t', header=None, names=['col1', 'col2', 'col3', 'col4', 'col5', 'col6'])\n",
    "ir64_data = pd.read_csv('npb_oruf_query_cov.txt', sep='\\t', header=None, names=['col1', 'col2', 'col3', 'col4', 'col5', 'col6'])\n",
    "\n",
    "# Filter rows with 'TAD' in col6 in both DataFrames\n",
    "filtered_az = az_data[(az_data['col6'] == 'TAD')]\n",
    "filtered_ir64 = ir64_data[(ir64_data['col6'] == 'TAD')]\n",
    "\n",
    "# Merge the filtered DataFrames on col1\n",
    "merged_data = pd.merge(filtered_az, filtered_ir64, on='col1', how='inner')\n",
    "\n",
    "# Create the new DataFrame with selected columns\n",
    "result = merged_data[['col1', 'col2_x', 'col2_y', 'col6_x']]\n",
    "\n",
    "# Rename the columns\n",
    "result.columns = ['col1', 'col2', 'col3', 'col4']\n",
    "\n",
    "# Write the result to a new file\n",
    "result.to_csv('NPB-az-oruf.txt', sep='\\t', header=False, index=False)\n",
    "\n",
    "!wc -l NPB-az-oruf.txt"
   ]
  },
  {
   "cell_type": "code",
   "execution_count": null,
   "metadata": {},
   "outputs": [],
   "source": [
    "NPB-az-ir64.txt file structure:\n",
    "    col1 - TAD coordinates in NPB\n",
    "    col2 - query coverage of NPB TAD by the azucena sequence (blast-based)\n",
    "    col3 - query coverage of NPB TAD by the oruf sequence (blast-based)\n",
    "    col4 - TAD"
   ]
  },
  {
   "cell_type": "markdown",
   "metadata": {},
   "source": [
    "# Identifying TADs conserved between NPB-az-oruf-IR64\n",
    "Any query_coverage counts"
   ]
  },
  {
   "cell_type": "code",
   "execution_count": 21,
   "metadata": {},
   "outputs": [
    {
     "name": "stdout",
     "output_type": "stream",
     "text": [
      "137 NPB-az-oruf-ir64.txt\n"
     ]
    }
   ],
   "source": [
    "import pandas as pd\n",
    "\n",
    "# Read data from npb_az_query_cov.txt and npb_ir64_query_cov.txt\n",
    "az_data = pd.read_csv('NPB-az-oruf.txt', sep='\\t', header=None, names=['col1', 'col2', 'col3', 'col4'])\n",
    "ir64_data = pd.read_csv('npb_ir64_query_cov.txt', sep='\\t', header=None, names=['col1', 'col2', 'col3', 'col4', 'col5', 'col6'])\n",
    "\n",
    "# Filter rows with 'TAD' in col6 in both DataFrames\n",
    "filtered_az = az_data[(az_data['col4'] == 'TAD')]\n",
    "filtered_ir64 = ir64_data[(ir64_data['col6'] == 'TAD')]\n",
    "\n",
    "# Merge the filtered DataFrames on col1\n",
    "merged_data = pd.merge(filtered_az, filtered_ir64, on='col1', how='inner')\n",
    "\n",
    "# Create the new DataFrame with selected columns\n",
    "result = merged_data[['col1', 'col2_x', 'col3_x', 'col2_y', 'col4_x']]\n",
    "\n",
    "# Rename the columns\n",
    "result.columns = ['col1', 'col2', 'col3', 'col4', 'col5']\n",
    "\n",
    "# Write the result to a new file\n",
    "result.to_csv('NPB-az-oruf-ir64.txt', sep='\\t', header=False, index=False)\n",
    "\n",
    "!wc -l NPB-az-oruf-ir64.txt"
   ]
  },
  {
   "cell_type": "code",
   "execution_count": null,
   "metadata": {},
   "outputs": [],
   "source": [
    "NPB-az-ir64.txt file structure:\n",
    "    col1 - TAD coordinates in NPB\n",
    "    col2 - query coverage of NPB TAD by the azucena sequence (blast-based)\n",
    "    col3 - query coverage of NPB TAD by the oruf sequence (blast-based)\n",
    "    col4 - query coverage of NPB TAD by the ir64 sequence (blast-based)\n",
    "    col5 - TAD"
   ]
  },
  {
   "cell_type": "markdown",
   "metadata": {},
   "source": [
    "# Identifying TADs conserved between NPB-az-oruf-IR64-omer\n",
    "Any query_coverage counts"
   ]
  },
  {
   "cell_type": "code",
   "execution_count": 22,
   "metadata": {},
   "outputs": [
    {
     "name": "stdout",
     "output_type": "stream",
     "text": [
      "54 NPB-az-oruf-ir64-omer.txt\n"
     ]
    }
   ],
   "source": [
    "import pandas as pd\n",
    "\n",
    "# Read data from npb_az_query_cov.txt and npb_ir64_query_cov.txt\n",
    "az_data = pd.read_csv('NPB-az-oruf-ir64.txt', sep='\\t', header=None, names=['col1', 'col2', 'col3', 'col4', 'col5'])\n",
    "ir64_data = pd.read_csv('npb_omer_query_cov.txt', sep='\\t', header=None, names=['col1', 'col2', 'col3', 'col4', 'col5', 'col6'])\n",
    "\n",
    "# Filter rows with 'TAD' in col6 in both DataFrames\n",
    "filtered_az = az_data[(az_data['col5'] == 'TAD')]\n",
    "filtered_ir64 = ir64_data[(ir64_data['col6'] == 'TAD')]\n",
    "\n",
    "# Merge the filtered DataFrames on col1\n",
    "merged_data = pd.merge(filtered_az, filtered_ir64, on='col1', how='inner')\n",
    "\n",
    "# Create the new DataFrame with selected columns\n",
    "result = merged_data[['col1', 'col2_x', 'col3_x', 'col4_x', 'col2_y', 'col5_x']]\n",
    "\n",
    "# Rename the columns\n",
    "result.columns = ['col1', 'col2', 'col3', 'col4', 'col5', 'col6']\n",
    "\n",
    "# Write the result to a new file\n",
    "result.to_csv('NPB-az-oruf-ir64-omer.txt', sep='\\t', header=False, index=False)\n",
    "\n",
    "!wc -l NPB-az-oruf-ir64-omer.txt"
   ]
  },
  {
   "cell_type": "code",
   "execution_count": null,
   "metadata": {},
   "outputs": [],
   "source": [
    "#split the col1 into chr,start,end of TAD\n",
    "with open('NPB-az-oruf-ir64-omer.txt', 'r') as file:\n",
    "    lines = file.readlines()\n",
    "\n",
    "# Split each line by ':' and '-' and create three columns separated by tabs\n",
    "lines = ['\\t'.join([part.strip() for part in line.strip().replace('-', ':').split(':')]) for line in lines]\n",
    "\n",
    "# Sort the lines by the first, second, and third columns\n",
    "def custom_sort(line):\n",
    "    cols = line.split('\\t')\n",
    "    col1 = cols[0].strip()\n",
    "    col1_number = int(col1[3:])  # Extract the numeric part of col1 (e.g., \"01\" from \"chr01\")\n",
    "    return col1_number, col1, cols[1], cols[2]\n",
    "\n",
    "lines.sort(key=custom_sort)\n",
    "\n",
    "# Write the sorted content back to the file\n",
    "with open('NPB-specific.txt', 'w') as file:\n",
    "    for line in lines:\n",
    "        file.write(line + '\\n')"
   ]
  },
  {
   "cell_type": "code",
   "execution_count": null,
   "metadata": {},
   "outputs": [],
   "source": [
    "NPB-az-ir64.txt file structure:\n",
    "    col1 - TAD coordinates in NPB\n",
    "    col2 - query coverage of NPB TAD by the azucena sequence (blast-based)\n",
    "    col3 - query coverage of NPB TAD by the oruf sequence (blast-based)\n",
    "    col4 - query coverage of NPB TAD by the ir64 sequence (blast-based)\n",
    "    col5 - query coverage of NPB TAD by the omer sequence (blast-based)\n",
    "    col6 - TAD"
   ]
  },
  {
   "cell_type": "markdown",
   "metadata": {},
   "source": [
    "# Identifying NPB-specific TADs"
   ]
  },
  {
   "cell_type": "code",
   "execution_count": 34,
   "metadata": {},
   "outputs": [
    {
     "name": "stdout",
     "output_type": "stream",
     "text": [
      "296 NPB-specific.txt\n"
     ]
    }
   ],
   "source": [
    "import pandas as pd\n",
    "\n",
    "# Define the list of file names\n",
    "file_names = ['npb_az_query_cov.txt', 'npb_ir64_query_cov.txt', 'npb_oruf_query_cov.txt', 'npb_omer_query_cov.txt']\n",
    "\n",
    "# Create a dictionary to store DataFrames for each file\n",
    "data_frames = {}\n",
    "\n",
    "# Load each file into a DataFrame and store it in the dictionary\n",
    "for file_name in file_names:\n",
    "    data_frames[file_name] = pd.read_csv(file_name, sep='\\t', header=None, names=['col1', 'col2', 'col3', 'col4', 'col5', 'col6'])\n",
    "\n",
    "# Initialize a set to store common 'col1' values\n",
    "common_col1_values = None\n",
    "\n",
    "# Iterate through the DataFrames and find common 'nonTAD' rows\n",
    "for file_name in file_names:\n",
    "    current_df = data_frames[file_name]\n",
    "    nonTAD_rows = current_df[(current_df['col6'] == 'nonTAD')]\n",
    "\n",
    "    if common_col1_values is None:\n",
    "        common_col1_values = set(nonTAD_rows['col1'])\n",
    "    else:\n",
    "        common_col1_values &= set(nonTAD_rows['col1'])\n",
    "\n",
    "# Write the common 'nonTAD' col1 values to the output file 'NPB-specific.txt'\n",
    "with open('NPB-specific.txt', 'w') as output_file:\n",
    "    for col1_value in common_col1_values:\n",
    "        output_file.write(f\"{col1_value}\\n\")\n",
    "!wc -l NPB-specific.txt"
   ]
  },
  {
   "cell_type": "code",
   "execution_count": 54,
   "metadata": {},
   "outputs": [],
   "source": [
    "#extracting NPB coordinates of TADs from txt files to bed (used same code for other groups)\n",
    "\n",
    "# Read the content of the original file\n",
    "with open('npb_az_query_cov.txt', 'r') as file:\n",
    "    lines = file.readlines()\n",
    "\n",
    "# Filter and process lines with 'TAD' in the last column\n",
    "processed_lines = [\n",
    "    '\\t'.join(line.strip().split(':')[:3]).replace('-', '\\t')\n",
    "    for line in lines\n",
    "    if line.strip().split('\\t')[-1] == 'TAD'  # Only process lines with 'TAD' in the last column\n",
    "]\n",
    "\n",
    "# Write the processed content to the new file npb-az.bed\n",
    "with open('npb-az.bed', 'w') as file:\n",
    "    for line in processed_lines:\n",
    "        first_three_columns = line.split('\\t')[:3]  # Extract only the first three columns\n",
    "        file.write('\\t'.join(first_three_columns) + '\\n')"
   ]
  },
  {
   "cell_type": "code",
   "execution_count": 8,
   "metadata": {},
   "outputs": [],
   "source": [
    "#sorting .bed files\n",
    "# Read the content of the file into a list of lines\n",
    "with open('group6.bed', 'r') as file:\n",
    "    lines = file.readlines()\n",
    "\n",
    "# Define a custom sort key function\n",
    "def custom_sort(line):\n",
    "    parts = line.split('\\t')\n",
    "    col1 = parts[0]\n",
    "    col2 = int(parts[1])\n",
    "    col3 = int(parts[2])\n",
    "    col1_number = int(col1[3:])  # Extract the numeric part of col1 (e.g., \"01\" from \"chr01\")\n",
    "    return (col1_number, col2, col3)\n",
    "\n",
    "# Sort the lines using the custom sort key function\n",
    "lines.sort(key=custom_sort)\n",
    "\n",
    "# Write the sorted content back to the file\n",
    "with open('group6.bed', 'w') as file:\n",
    "    for line in lines:\n",
    "        file.write(line)"
   ]
  },
  {
   "cell_type": "markdown",
   "metadata": {},
   "source": [
    "# Analyzing characteristics of different groups (.bed files)\n",
    "    Group 1 = NPB-specific\n",
    "    Group 2 = NPB-az conserved (Japonica-specific)\n",
    "        Group 3 = NPB-az-ir64 conserved (O.sativa-specific)\n",
    "    Group 4 = NPB-az-oruf\n",
    "    Group 5 = NPB-az-oruf-ir64\n",
    "    Group 6 = NPB-az-oruf-ir64-omer"
   ]
  },
  {
   "cell_type": "markdown",
   "metadata": {},
   "source": [
    "##### Filenames\n",
    "    NPB-specific group1.bed\n",
    "    npb-az group2.bed\n",
    "            npb-az-ir64 group3.bed\n",
    "    npb-az-oruf group4.bed\n",
    "    npb-az-oruf-ir64 group5.bed\n",
    "    npb-az-oruf-ir64-omer group6.bed"
   ]
  },
  {
   "cell_type": "markdown",
   "metadata": {},
   "source": [
    "### Mean TAD length per group\n",
    "NS"
   ]
  },
  {
   "cell_type": "code",
   "execution_count": 12,
   "metadata": {},
   "outputs": [
    {
     "data": {
      "image/png": "[encoded data removed]",
      "text/plain": [
       "<Figure size 432x288 with 1 Axes>"
      ]
     },
     "metadata": {
      "needs_background": "light"
     },
     "output_type": "display_data"
    }
   ],
   "source": [
    "import pandas as pd\n",
    "import matplotlib.pyplot as plt\n",
    "\n",
    "# Initialize an empty dictionary to store TAD lengths for each group\n",
    "tad_lengths = {}\n",
    "\n",
    "# Process all five input files\n",
    "for x in range(1, 7):\n",
    "    filename = f\"group{x}.bed\"\n",
    "    df = pd.read_csv(filename, sep='\\t', header=None, names=[\"chr_tad\", \"start_tad\", \"end_tad\", \"ignore_col\"])\n",
    "\n",
    "    # Calculate TAD lengths for the current group (omit the 'ignore_col' column)\n",
    "    group_name = f\"{x}\"\n",
    "    tad_lengths[group_name] = df[\"end_tad\"] - df[\"start_tad\"]\n",
    "\n",
    "# Create a list of TAD length values for each group\n",
    "tad_length_values = list(tad_lengths.values())\n",
    "\n",
    "# Create vertical boxplots with outliers not shown\n",
    "plt.boxplot(tad_length_values, vert=True, showfliers=False, medianprops={'color': 'black'})\n",
    "plt.xlabel(\"Groups\")\n",
    "plt.xticks(range(1, 7), tad_lengths.keys())\n",
    "plt.ylabel(\"Mean TAD Length\")\n",
    "plt.title(\"Mean TAD Length per Group\")\n",
    "plt.show()"
   ]
  },
  {
   "cell_type": "code",
   "execution_count": 1,
   "metadata": {},
   "outputs": [
    {
     "name": "stdout",
     "output_type": "stream",
     "text": [
      "Mean TAD Lengths:\n",
      "group1: 74915.54\n",
      "group2: 66539.37\n",
      "group3: 63608.25\n",
      "group4: 61348.21\n",
      "group5: 59543.80\n",
      "group6: 58611.11\n",
      "Bonferroni-Adjusted P-Values:\n",
      "group1 vs. group2: adjusted p-value = 0.1223\n",
      "group1 vs. group3: adjusted p-value = 0.0353\n",
      "group1 vs. group4: adjusted p-value = 0.0016\n",
      "group1 vs. group5: adjusted p-value = 0.0058\n",
      "group1 vs. group6: adjusted p-value = 0.0723\n",
      "group2 vs. group3: adjusted p-value = 1.0000\n",
      "group2 vs. group4: adjusted p-value = 0.6261\n",
      "group2 vs. group5: adjusted p-value = 0.6703\n",
      "group2 vs. group6: adjusted p-value = 1.0000\n",
      "group3 vs. group4: adjusted p-value = 1.0000\n",
      "group3 vs. group5: adjusted p-value = 1.0000\n",
      "group3 vs. group6: adjusted p-value = 1.0000\n",
      "group4 vs. group5: adjusted p-value = 1.0000\n",
      "group4 vs. group6: adjusted p-value = 1.0000\n",
      "group5 vs. group6: adjusted p-value = 1.0000\n"
     ]
    }
   ],
   "source": [
    "import pandas as pd\n",
    "\n",
    "# Load the data from the five NPB_TADs_x.bed files (x=1-5)\n",
    "data = {}\n",
    "for x in range(1, 7):\n",
    "    filename = f\"group{x}.bed\"\n",
    "    df = pd.read_csv(filename, sep='\\t', header=None, names=[\"chr\", \"start\", \"end\", \"group\"])\n",
    "    data[f\"group{x}\"] = df\n",
    "\n",
    "# Calculate the mean TAD length per group\n",
    "mean_lengths = {}\n",
    "for x in range(1, 7):\n",
    "    group_name = f\"group{x}\"\n",
    "    mean_length = data[group_name][\"end\"].mean() - data[group_name][\"start\"].mean()\n",
    "    mean_lengths[group_name] = mean_length\n",
    "\n",
    "print(\"Mean TAD Lengths:\")\n",
    "for group_name, mean_length in mean_lengths.items():\n",
    "    print(f\"{group_name}: {mean_length:.2f}\")\n",
    "\n",
    "from itertools import combinations\n",
    "from scipy.stats import ranksums\n",
    "import statsmodels.stats.multitest as multi\n",
    "\n",
    "# Perform Wilcoxon rank-sum tests for pairwise group comparisons\n",
    "p_values = {}\n",
    "for group1, group2 in combinations(mean_lengths.keys(), 2):\n",
    "    p_value = ranksums(data[group1][\"end\"] - data[group1][\"start\"], data[group2][\"end\"] - data[group2][\"start\"]).pvalue\n",
    "    comparison = f\"{group1} vs. {group2}\"\n",
    "    p_values[comparison] = p_value\n",
    "\n",
    "# Perform multiple comparisons adjustment using Bonferroni correction\n",
    "adjusted_p_values = multi.multipletests(list(p_values.values()), method='bonferroni')[1]\n",
    "\n",
    "# Map comparison labels to adjusted p-values\n",
    "comparison_to_adjusted_p_value = {list(p_values.keys())[i]: adjusted_p_values[i] for i in range(len(p_values))}\n",
    "\n",
    "# Print the adjusted p-values for pairwise group comparisons\n",
    "print(\"Bonferroni-Adjusted P-Values:\")\n",
    "for comparison, adjusted_p_value in comparison_to_adjusted_p_value.items():\n",
    "    print(f\"{comparison}: adjusted p-value = {adjusted_p_value:.4f}\")"
   ]
  },
  {
   "cell_type": "markdown",
   "metadata": {},
   "source": [
    "### Mean gene coverage"
   ]
  },
  {
   "cell_type": "code",
   "execution_count": 1,
   "metadata": {
    "collapsed": true,
    "jupyter": {
     "outputs_hidden": true
    }
   },
   "outputs": [
    {
     "name": "stderr",
     "output_type": "stream",
     "text": [
      "***** WARNING: File /state/partition1/job-39303177/pybedtools.tbk_ytec.tmp has a record where naming convention (leading zero) is inconsistent with other files:\n",
      "chr10\t350000\t385000\n",
      "\n",
      "***** WARNING: File /state/partition1/job-39303177/pybedtools.tbk_ytec.tmp has a record where naming convention (leading zero) is inconsistent with other files:\n",
      "chr10\t350000\t385000\n",
      "\n",
      "***** WARNING: File /state/partition1/job-39303177/pybedtools.rpk6293d.tmp has a record where naming convention (leading zero) is inconsistent with other files:\n",
      "chr10\t1195000\t1230000\n",
      "\n",
      "***** WARNING: File /state/partition1/job-39303177/pybedtools.rpk6293d.tmp has a record where naming convention (leading zero) is inconsistent with other files:\n",
      "chr10\t1195000\t1230000\n",
      "\n",
      "***** WARNING: File /state/partition1/job-39303177/pybedtools.pgio8omo.tmp has a record where naming convention (leading zero) is inconsistent with other files:\n",
      "chr10\t1195000\t1230000\n",
      "\n",
      "***** WARNING: File /state/partition1/job-39303177/pybedtools.pgio8omo.tmp has a record where naming convention (leading zero) is inconsistent with other files:\n",
      "chr10\t1195000\t1230000\n",
      "\n",
      "***** WARNING: File /state/partition1/job-39303177/pybedtools.cdpmczy2.tmp has a record where naming convention (leading zero) is inconsistent with other files:\n",
      "chr10\t11190000\t11250000\n",
      "\n",
      "***** WARNING: File /state/partition1/job-39303177/pybedtools.cdpmczy2.tmp has a record where naming convention (leading zero) is inconsistent with other files:\n",
      "chr10\t11190000\t11250000\n",
      "\n",
      "***** WARNING: File /state/partition1/job-39303177/pybedtools.5ec1u3rj.tmp has a record where naming convention (leading zero) is inconsistent with other files:\n",
      "chr10\t11190000\t11250000\n",
      "\n",
      "***** WARNING: File /state/partition1/job-39303177/pybedtools.5ec1u3rj.tmp has a record where naming convention (leading zero) is inconsistent with other files:\n",
      "chr10\t11190000\t11250000\n",
      "\n",
      "***** WARNING: File /state/partition1/job-39303177/pybedtools.gwd_4_wz.tmp has a record where naming convention (leading zero) is inconsistent with other files:\n",
      "chr10\t11190000\t11250000\n",
      "\n",
      "***** WARNING: File /state/partition1/job-39303177/pybedtools.gwd_4_wz.tmp has a record where naming convention (leading zero) is inconsistent with other files:\n",
      "chr10\t11190000\t11250000\n",
      "\n"
     ]
    }
   ],
   "source": [
    "#calculate mean gene coverage per tad per group\n",
    "\n",
    "import pybedtools\n",
    "\n",
    "# Process all five input files\n",
    "for x in range(1, 7):\n",
    "    # Define the paths to your input files\n",
    "    npb_tads_path = f\"group{x}.bed\"\n",
    "    exp_data_path = \"../npb_feature_tracks/npb_genes_per_500bp.bedgraph\"\n",
    "\n",
    "    # Load the BED files into BedTool objects and exclude the 4th column\n",
    "    npb_tads = pybedtools.BedTool(npb_tads_path).cut(range(3))\n",
    "    exp_data = pybedtools.BedTool(exp_data_path)\n",
    "\n",
    "    # Use the .map method to calculate the mean expression per TAD\n",
    "    result = npb_tads.map(exp_data, c=4, o='mean')\n",
    "\n",
    "    # Create a list to store the results\n",
    "    results = []\n",
    "\n",
    "    # Iterate through the result and retrieve the mean expression per TAD\n",
    "    for interval in result:\n",
    "        chrom = interval.fields[0]\n",
    "        start = int(interval.fields[1])\n",
    "        end = int(interval.fields[2])\n",
    "        mean_expression = float(interval.fields[3]) if interval.fields[3] != \".\" else 0.0  # Handle missing values\n",
    "        results.append((chrom, start, end, mean_expression))\n",
    "\n",
    "    # Write the results to the te_x.bed file\n",
    "    output_file = f\"genes_{x}.bed\"\n",
    "    with open(output_file, \"w\") as f:\n",
    "        for result in results:\n",
    "            f.write(f\"{result[0]}\\t{result[1]}\\t{result[2]}\\t{result[3]}\\n\")"
   ]
  },
  {
   "cell_type": "code",
   "execution_count": 1,
   "metadata": {
    "collapsed": true,
    "jupyter": {
     "outputs_hidden": true
    }
   },
   "outputs": [
    {
     "name": "stdout",
     "output_type": "stream",
     "text": [
      "There is a significant difference between the groups (te_x.bed files).\n",
      "P-value for genes_1 vs. genes_2: 0.0000\n",
      "P-value for genes_1 vs. genes_3: 0.0000\n",
      "P-value for genes_1 vs. genes_4: 0.0000\n",
      "P-value for genes_1 vs. genes_5: 0.0000\n",
      "P-value for genes_1 vs. genes_6: 0.0000\n",
      "P-value for genes_2 vs. genes_3: 0.1273\n",
      "P-value for genes_2 vs. genes_4: 0.4210\n",
      "P-value for genes_2 vs. genes_5: 0.0467\n",
      "P-value for genes_2 vs. genes_6: 0.0316\n",
      "P-value for genes_3 vs. genes_4: 0.5546\n",
      "P-value for genes_3 vs. genes_5: 0.4271\n",
      "P-value for genes_3 vs. genes_6: 0.1653\n",
      "P-value for genes_4 vs. genes_5: 0.2182\n",
      "P-value for genes_4 vs. genes_6: 0.0968\n",
      "P-value for genes_5 vs. genes_6: 0.4463\n",
      "Adjusted P-values for Pairwise Comparisons:\n",
      "genes_1 vs. genes_2: Adjusted P-Value=0.0000\n",
      "genes_1 vs. genes_3: Adjusted P-Value=0.0000\n",
      "genes_1 vs. genes_4: Adjusted P-Value=0.0000\n",
      "genes_1 vs. genes_5: Adjusted P-Value=0.0000\n",
      "genes_1 vs. genes_6: Adjusted P-Value=0.0000\n",
      "genes_2 vs. genes_3: Adjusted P-Value=0.2121\n",
      "genes_2 vs. genes_4: Adjusted P-Value=0.4782\n",
      "genes_2 vs. genes_5: Adjusted P-Value=0.1000\n",
      "genes_2 vs. genes_6: Adjusted P-Value=0.0789\n",
      "genes_3 vs. genes_4: Adjusted P-Value=0.5546\n",
      "genes_3 vs. genes_5: Adjusted P-Value=0.4782\n",
      "genes_3 vs. genes_6: Adjusted P-Value=0.2479\n",
      "genes_4 vs. genes_5: Adjusted P-Value=0.2975\n",
      "genes_4 vs. genes_6: Adjusted P-Value=0.1814\n",
      "genes_5 vs. genes_6: Adjusted P-Value=0.4782\n"
     ]
    }
   ],
   "source": [
    "import pandas as pd\n",
    "from scipy.stats import ranksums\n",
    "from scipy.stats import kruskal\n",
    "from statsmodels.stats.multitest import multipletests\n",
    "import itertools\n",
    "\n",
    "# Load the data from the genes_x.bed files into a DataFrame (one for each x)\n",
    "data = {}\n",
    "for x in range(1, 7):\n",
    "    filename = f\"genes_{x}.bed\"\n",
    "    df = pd.read_csv(filename, sep='\\t', header=None, names=[\"chr_tad\", \"start_tad\", \"end_tad\", \"mean_exp_per_tad\"])\n",
    "    data[f\"genes_{x}\"] = df[\"mean_exp_per_tad\"]\n",
    "\n",
    "# Perform Kruskal-Wallis test\n",
    "statistic, p_value = kruskal(data[\"genes_1\"], data[\"genes_2\"], data[\"genes_3\"], data[\"genes_4\"], data[\"genes_5\"])\n",
    "\n",
    "if p_value < 0.05:\n",
    "    print(\"There is a significant difference between the groups (te_x.bed files).\")\n",
    "\n",
    "# Initialize an empty list to store group names\n",
    "group_names = [f\"genes_{i}\" for i in range(1, 7)]\n",
    "\n",
    "# Initialize an empty list to store p-values\n",
    "p_values = []\n",
    "\n",
    "# Perform Wilcoxon rank sum tests for all pairwise comparisons\n",
    "for group1, group2 in itertools.combinations(group_names, 2):\n",
    "    # Perform the Wilcoxon rank sum test\n",
    "    stat, p = ranksums(data[group1], data[group2])\n",
    "    p_values.append(p)\n",
    "    print(f\"P-value for {group1} vs. {group2}: {p:.4f}\")\n",
    "\n",
    "# Adjust p-values using the Benjamini-Hochberg procedure\n",
    "adjusted_p_values = multipletests(p_values, method='fdr_bh')[1]\n",
    "\n",
    "# Print adjusted p-values and significance groups for all pairwise comparisons\n",
    "print(\"Adjusted P-values for Pairwise Comparisons:\")\n",
    "for (adjusted_p, (group1, group2)) in zip(adjusted_p_values, itertools.combinations(group_names, 2)):\n",
    "    comparison = f\"{group1} vs. {group2}\"\n",
    "    print(f\"{comparison}: Adjusted P-Value={adjusted_p:.4f}\")"
   ]
  },
  {
   "cell_type": "code",
   "execution_count": 2,
   "metadata": {},
   "outputs": [
    {
     "data": {
      "image/png": "[encoded data removed]",
      "text/plain": [
       "<Figure size 1000x600 with 1 Axes>"
      ]
     },
     "metadata": {},
     "output_type": "display_data"
    }
   ],
   "source": [
    "#plot results\n",
    "\n",
    "import pandas as pd\n",
    "import matplotlib.pyplot as plt\n",
    "\n",
    "# Create a dictionary to map group names to significance groups\n",
    "significance_mapping = {\n",
    "    \"1\": \"a\",\n",
    "    \"2\": \"b\",\n",
    "    \"3\": \"b\",\n",
    "    \"4\": \"b\",\n",
    "    \"5\": \"b\",\n",
    "    \"6\": \"b\"\n",
    "}\n",
    "\n",
    "# Load the data from your files\n",
    "data = {}\n",
    "for group in range(1, 7):\n",
    "    filename = f\"genes_{group}.bed\"\n",
    "    df = pd.read_csv(filename, sep='\\t', header=None, names=[\"chr\", \"start\", \"end\", \"mean_exp\"])\n",
    "    data[f\"{group}\"] = df[\"mean_exp\"]\n",
    "\n",
    "# Create a DataFrame with the loaded data\n",
    "df = pd.DataFrame(data)\n",
    "\n",
    "# Create a list of group labels with significance groups\n",
    "group_labels = [f\"{group} ({significance_mapping[group]})\" for group in df.columns]\n",
    "\n",
    "# Plot boxplots with group labels\n",
    "plt.figure(figsize=(10, 6))\n",
    "boxprops = dict(linewidth=1.5, color=\"black\")\n",
    "medianprops = dict(linewidth=1.5, color=\"black\")\n",
    "capprops = dict(linewidth=1.5, color=\"black\")\n",
    "whiskerprops = dict(linewidth=1.5, color=\"black\")\n",
    "\n",
    "bp = df.boxplot(column=[f\"{i}\" for i in range(1, 7)], showfliers=False,\n",
    "                boxprops=boxprops, medianprops=medianprops,\n",
    "                capprops=capprops, whiskerprops=whiskerprops)\n",
    "\n",
    "# Set the x-axis tick labels\n",
    "plt.xticks(range(1, len(df.columns) + 1), group_labels)\n",
    "\n",
    "plt.xlabel(\"Groups\")\n",
    "plt.ylabel(\"Gene coverage per 500bp\")\n",
    "plt.title(\"Gene coverage per 500bp\")\n",
    "plt.savefig(\"genes_groups.png\", dpi=300)\n",
    "\n",
    "plt.show()"
   ]
  },
  {
   "cell_type": "markdown",
   "metadata": {},
   "source": [
    "### Mean gene expression"
   ]
  },
  {
   "cell_type": "code",
   "execution_count": 1,
   "metadata": {},
   "outputs": [
    {
     "name": "stderr",
     "output_type": "stream",
     "text": [
      "***** WARNING: File /state/partition1/job-39303177/pybedtools.orgb66d3.tmp has a record where naming convention (leading zero) is inconsistent with other files:\n",
      "chr10\t350000\t385000\n",
      "\n",
      "***** WARNING: File /state/partition1/job-39303177/pybedtools.orgb66d3.tmp has a record where naming convention (leading zero) is inconsistent with other files:\n",
      "chr10\t350000\t385000\n",
      "\n",
      "***** WARNING: File /state/partition1/job-39303177/pybedtools.0hf2g0q2.tmp has a record where naming convention (leading zero) is inconsistent with other files:\n",
      "chr10\t1195000\t1230000\n",
      "\n",
      "***** WARNING: File /state/partition1/job-39303177/pybedtools.0hf2g0q2.tmp has a record where naming convention (leading zero) is inconsistent with other files:\n",
      "chr10\t1195000\t1230000\n",
      "\n",
      "***** WARNING: File /state/partition1/job-39303177/pybedtools.zb7s7a1a.tmp has a record where naming convention (leading zero) is inconsistent with other files:\n",
      "chr10\t1195000\t1230000\n",
      "\n",
      "***** WARNING: File /state/partition1/job-39303177/pybedtools.zb7s7a1a.tmp has a record where naming convention (leading zero) is inconsistent with other files:\n",
      "chr10\t1195000\t1230000\n",
      "\n",
      "***** WARNING: File /state/partition1/job-39303177/pybedtools.u6zude77.tmp has a record where naming convention (leading zero) is inconsistent with other files:\n",
      "chr10\t11190000\t11250000\n",
      "\n",
      "***** WARNING: File /state/partition1/job-39303177/pybedtools.u6zude77.tmp has a record where naming convention (leading zero) is inconsistent with other files:\n",
      "chr10\t11190000\t11250000\n",
      "\n",
      "***** WARNING: File /state/partition1/job-39303177/pybedtools.4aq1dn9v.tmp has a record where naming convention (leading zero) is inconsistent with other files:\n",
      "chr10\t11190000\t11250000\n",
      "\n",
      "***** WARNING: File /state/partition1/job-39303177/pybedtools.4aq1dn9v.tmp has a record where naming convention (leading zero) is inconsistent with other files:\n",
      "chr10\t11190000\t11250000\n",
      "\n",
      "***** WARNING: File /state/partition1/job-39303177/pybedtools.b1j_h1s5.tmp has a record where naming convention (leading zero) is inconsistent with other files:\n",
      "chr10\t11190000\t11250000\n",
      "\n",
      "***** WARNING: File /state/partition1/job-39303177/pybedtools.b1j_h1s5.tmp has a record where naming convention (leading zero) is inconsistent with other files:\n",
      "chr10\t11190000\t11250000\n",
      "\n"
     ]
    }
   ],
   "source": [
    "#calculate mean te coverage per tad per group\n",
    "\n",
    "import pybedtools\n",
    "\n",
    "# Process all five input files\n",
    "for x in range(1, 7):\n",
    "    # Define the paths to your input files\n",
    "    npb_tads_path = f\"group{x}.bed\"\n",
    "    exp_data_path = \"../expression/Nip_field2017_Normal.bed\"\n",
    "\n",
    "    # Load the BED files into BedTool objects and exclude the 4th column\n",
    "    npb_tads = pybedtools.BedTool(npb_tads_path).cut(range(3))\n",
    "    exp_data = pybedtools.BedTool(exp_data_path)\n",
    "\n",
    "    # Use the .map method to calculate the mean expression per TAD\n",
    "    result = npb_tads.map(exp_data, c=4, o='mean')\n",
    "\n",
    "    # Create a list to store the results\n",
    "    results = []\n",
    "\n",
    "    # Iterate through the result and retrieve the mean expression per TAD\n",
    "    for interval in result:\n",
    "        chrom = interval.fields[0]\n",
    "        start = int(interval.fields[1])\n",
    "        end = int(interval.fields[2])\n",
    "        mean_expression = float(interval.fields[3]) if interval.fields[3] != \".\" else 0.0  # Handle missing values\n",
    "        results.append((chrom, start, end, mean_expression))\n",
    "\n",
    "    # Write the results to the te_x.bed file\n",
    "    output_file = f\"exp_{x}.bed\"\n",
    "    with open(output_file, \"w\") as f:\n",
    "        for result in results:\n",
    "            f.write(f\"{result[0]}\\t{result[1]}\\t{result[2]}\\t{result[3]}\\n\")"
   ]
  },
  {
   "cell_type": "code",
   "execution_count": 1,
   "metadata": {},
   "outputs": [
    {
     "name": "stdout",
     "output_type": "stream",
     "text": [
      "P-value for exp_1 vs. exp_2: 0.2132\n",
      "P-value for exp_1 vs. exp_3: 0.1888\n",
      "P-value for exp_1 vs. exp_4: 0.0364\n",
      "P-value for exp_1 vs. exp_5: 0.1257\n",
      "P-value for exp_1 vs. exp_6: 0.5053\n",
      "P-value for exp_2 vs. exp_3: 0.7724\n",
      "P-value for exp_2 vs. exp_4: 0.2163\n",
      "P-value for exp_2 vs. exp_5: 0.4546\n",
      "P-value for exp_2 vs. exp_6: 0.9449\n",
      "P-value for exp_3 vs. exp_4: 0.4173\n",
      "P-value for exp_3 vs. exp_5: 0.6393\n",
      "P-value for exp_3 vs. exp_6: 0.9420\n",
      "P-value for exp_4 vs. exp_5: 0.8671\n",
      "P-value for exp_4 vs. exp_6: 0.5970\n",
      "P-value for exp_5 vs. exp_6: 0.6905\n",
      "Adjusted P-values for Pairwise Comparisons:\n",
      "exp_1 vs. exp_2: Adjusted P-Value=0.6489\n",
      "exp_1 vs. exp_3: Adjusted P-Value=0.6489\n",
      "exp_1 vs. exp_4: Adjusted P-Value=0.5457\n",
      "exp_1 vs. exp_5: Adjusted P-Value=0.6489\n",
      "exp_1 vs. exp_6: Adjusted P-Value=0.9416\n",
      "exp_2 vs. exp_3: Adjusted P-Value=0.9449\n",
      "exp_2 vs. exp_4: Adjusted P-Value=0.6489\n",
      "exp_2 vs. exp_5: Adjusted P-Value=0.9416\n",
      "exp_2 vs. exp_6: Adjusted P-Value=0.9449\n",
      "exp_3 vs. exp_4: Adjusted P-Value=0.9416\n",
      "exp_3 vs. exp_5: Adjusted P-Value=0.9416\n",
      "exp_3 vs. exp_6: Adjusted P-Value=0.9449\n",
      "exp_4 vs. exp_5: Adjusted P-Value=0.9449\n",
      "exp_4 vs. exp_6: Adjusted P-Value=0.9416\n",
      "exp_5 vs. exp_6: Adjusted P-Value=0.9416\n"
     ]
    }
   ],
   "source": [
    "import pandas as pd\n",
    "from scipy.stats import ranksums\n",
    "from scipy.stats import kruskal\n",
    "from statsmodels.stats.multitest import multipletests\n",
    "import itertools\n",
    "\n",
    "# Load the data from the genes_x.bed files into a DataFrame (one for each x)\n",
    "data = {}\n",
    "for x in range(1, 7):\n",
    "    filename = f\"exp_{x}.bed\"\n",
    "    df = pd.read_csv(filename, sep='\\t', header=None, names=[\"chr_tad\", \"start_tad\", \"end_tad\", \"mean_exp_per_tad\"])\n",
    "    data[f\"exp_{x}\"] = df[\"mean_exp_per_tad\"]\n",
    "\n",
    "# Perform Kruskal-Wallis test\n",
    "statistic, p_value = kruskal(data[\"exp_1\"], data[\"exp_2\"], data[\"exp_3\"], data[\"exp_4\"], data[\"exp_5\"])\n",
    "\n",
    "if p_value < 0.05:\n",
    "    print(\"There is a significant difference between the groups (te_x.bed files).\")\n",
    "\n",
    "# Initialize an empty list to store group names\n",
    "group_names = [f\"exp_{i}\" for i in range(1, 7)]\n",
    "\n",
    "# Initialize an empty list to store p-values\n",
    "p_values = []\n",
    "\n",
    "# Perform Wilcoxon rank sum tests for all pairwise comparisons\n",
    "for group1, group2 in itertools.combinations(group_names, 2):\n",
    "    # Perform the Wilcoxon rank sum test\n",
    "    stat, p = ranksums(data[group1], data[group2])\n",
    "    p_values.append(p)\n",
    "    print(f\"P-value for {group1} vs. {group2}: {p:.4f}\")\n",
    "\n",
    "# Adjust p-values using the Benjamini-Hochberg procedure\n",
    "adjusted_p_values = multipletests(p_values, method='fdr_bh')[1]\n",
    "\n",
    "# Print adjusted p-values and significance groups for all pairwise comparisons\n",
    "print(\"Adjusted P-values for Pairwise Comparisons:\")\n",
    "for (adjusted_p, (group1, group2)) in zip(adjusted_p_values, itertools.combinations(group_names, 2)):\n",
    "    comparison = f\"{group1} vs. {group2}\"\n",
    "    print(f\"{comparison}: Adjusted P-Value={adjusted_p:.4f}\")"
   ]
  },
  {
   "cell_type": "code",
   "execution_count": 2,
   "metadata": {},
   "outputs": [
    {
     "name": "stdout",
     "output_type": "stream",
     "text": [
      "P-value for exp_1 vs. exp_2: 0.2132\n",
      "P-value for exp_1 vs. exp_3: 0.1888\n",
      "P-value for exp_1 vs. exp_4: 0.0364\n",
      "P-value for exp_1 vs. exp_5: 0.1257\n",
      "P-value for exp_1 vs. exp_6: 0.5053\n",
      "P-value for exp_2 vs. exp_3: 0.7724\n",
      "P-value for exp_2 vs. exp_4: 0.2163\n",
      "P-value for exp_2 vs. exp_5: 0.4546\n",
      "P-value for exp_2 vs. exp_6: 0.9449\n",
      "P-value for exp_3 vs. exp_4: 0.4173\n",
      "P-value for exp_3 vs. exp_5: 0.6393\n",
      "P-value for exp_3 vs. exp_6: 0.9420\n",
      "P-value for exp_4 vs. exp_5: 0.8671\n",
      "P-value for exp_4 vs. exp_6: 0.5970\n",
      "P-value for exp_5 vs. exp_6: 0.6905\n",
      "Sample Classification:\n",
      "exp_1: b\n",
      "exp_2: b\n",
      "exp_3: c\n",
      "exp_4: b\n",
      "exp_5: a\n",
      "exp_6: a\n"
     ]
    },
    {
     "name": "stderr",
     "output_type": "stream",
     "text": [
      "<ipython-input-2-1b6bbd8ed040>:38: ClusterWarning: scipy.cluster: The symmetric non-negative hollow observation matrix looks suspiciously like an uncondensed distance matrix\n",
      "  linkage_matrix = linkage(distance_matrix, method='average')\n"
     ]
    }
   ],
   "source": [
    "#clustering of samples into significance groups\n",
    "\n",
    "import pandas as pd\n",
    "from scipy.stats import ranksums\n",
    "from scipy.stats import kruskal\n",
    "from statsmodels.stats.multitest import multipletests\n",
    "import itertools\n",
    "from scipy.cluster.hierarchy import linkage, fcluster\n",
    "import numpy as np\n",
    "\n",
    "# Load the data from the genes_x.bed files into a DataFrame (one for each x)\n",
    "data = {}\n",
    "for x in range(1, 7):\n",
    "    filename = f\"exp_{x}.bed\"\n",
    "    df = pd.read_csv(filename, sep='\\t', header=None, names=[\"chr_tad\", \"start_tad\", \"end_tad\", \"mean_exp_per_tad\"])\n",
    "    data[f\"exp_{x}\"] = df[\"mean_exp_per_tad\"]\n",
    "\n",
    "# Initialize an empty list to store group names\n",
    "group_names = [f\"exp_{i}\" for i in range(1, 7)]\n",
    "\n",
    "# Initialize an empty list to store p-values\n",
    "p_values = []\n",
    "\n",
    "# Perform Wilcoxon rank sum tests for all pairwise comparisons\n",
    "for group1, group2 in itertools.combinations(group_names, 2):\n",
    "    # Perform the Wilcoxon rank sum test\n",
    "    stat, p = ranksums(data[group1], data[group2])\n",
    "    p_values.append(p)\n",
    "    print(f\"P-value for {group1} vs. {group2}: {p:.4f}\")\n",
    "\n",
    "# Adjust p-values using the Benjamini-Hochberg procedure\n",
    "adjusted_p_values = multipletests(p_values, method='fdr_bh')[1]\n",
    "\n",
    "# Create a pairwise distance matrix based on adjusted p-values\n",
    "distance_matrix = np.abs(np.subtract.outer(adjusted_p_values, adjusted_p_values))\n",
    "\n",
    "# Perform hierarchical clustering\n",
    "linkage_matrix = linkage(distance_matrix, method='average')\n",
    "\n",
    "# Determine the number of clusters (significance groups)\n",
    "num_clusters = 3  # You can adjust the number of clusters as needed\n",
    "\n",
    "# Perform clustering to classify samples into significance groups\n",
    "cluster_assignments = fcluster(linkage_matrix, num_clusters, criterion='maxclust')\n",
    "\n",
    "# Map cluster assignments to letters (a, b, c, etc.)\n",
    "cluster_letters = [chr(ord('a') + cluster - 1) for cluster in cluster_assignments]\n",
    "\n",
    "# Print the classification results\n",
    "print(\"Sample Classification:\")\n",
    "for i, group in enumerate(group_names):\n",
    "    print(f\"{group}: {cluster_letters[i]}\")"
   ]
  },
  {
   "cell_type": "code",
   "execution_count": 4,
   "metadata": {},
   "outputs": [
    {
     "data": {
      "image/png": "[encoded data removed]",
      "text/plain": [
       "<Figure size 720x432 with 1 Axes>"
      ]
     },
     "metadata": {
      "needs_background": "light"
     },
     "output_type": "display_data"
    }
   ],
   "source": [
    "#plot results\n",
    "\n",
    "import pandas as pd\n",
    "import matplotlib.pyplot as plt\n",
    "\n",
    "# Create a dictionary to map group names to significance groups\n",
    "significance_mapping = {\n",
    "    \"1\": \"a\",\n",
    "    \"2\": \"a\",\n",
    "    \"3\": \"a\",\n",
    "    \"4\": \"a\",\n",
    "    \"5\": \"a\",\n",
    "    \"6\": \"a\"\n",
    "}\n",
    "\n",
    "# Load the data from your files\n",
    "data = {}\n",
    "for group in range(1, 7):\n",
    "    filename = f\"exp_{group}.bed\"\n",
    "    df = pd.read_csv(filename, sep='\\t', header=None, names=[\"chr\", \"start\", \"end\", \"mean_exp\"])\n",
    "    data[f\"{group}\"] = df[\"mean_exp\"]\n",
    "\n",
    "# Create a DataFrame with the loaded data\n",
    "df = pd.DataFrame(data)\n",
    "\n",
    "# Create a list of group labels with significance groups\n",
    "group_labels = [f\"{group} ({significance_mapping[group]})\" for group in df.columns]\n",
    "\n",
    "# Plot boxplots with group labels\n",
    "plt.figure(figsize=(10, 6))\n",
    "boxprops = dict(linewidth=1.5, color=\"black\")\n",
    "medianprops = dict(linewidth=1.5, color=\"black\")\n",
    "capprops = dict(linewidth=1.5, color=\"black\")\n",
    "whiskerprops = dict(linewidth=1.5, color=\"black\")\n",
    "\n",
    "bp = df.boxplot(column=[f\"{i}\" for i in range(1, 7)], showfliers=False,\n",
    "                boxprops=boxprops, medianprops=medianprops,\n",
    "                capprops=capprops, whiskerprops=whiskerprops)\n",
    "\n",
    "# Set the x-axis tick labels\n",
    "plt.xticks(range(1, len(df.columns) + 1), group_labels)\n",
    "\n",
    "plt.xlabel(\"Groups\")\n",
    "plt.ylabel(\"Mean expression\")\n",
    "plt.title(\"Mean gene expression\")\n",
    "plt.savefig(\"exp_groups.png\", dpi=300)\n",
    "\n",
    "plt.show()"
   ]
  },
  {
   "cell_type": "code",
   "execution_count": null,
   "metadata": {},
   "outputs": [],
   "source": []
  }
 ],
 "metadata": {
  "kernelspec": {
   "display_name": "Python 3 (ipykernel)",
   "language": "python",
   "name": "python3"
  },
  "language_info": {
   "codemirror_mode": {
    "name": "ipython",
    "version": 3
   },
   "file_extension": ".py",
   "mimetype": "text/x-python",
   "name": "python",
   "nbconvert_exporter": "python",
   "pygments_lexer": "ipython3",
   "version": "3.11.7"
  }
 },
 "nbformat": 4,
 "nbformat_minor": 4
}
