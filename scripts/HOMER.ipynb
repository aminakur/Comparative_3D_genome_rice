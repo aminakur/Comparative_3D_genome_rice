{
 "cells": [
  {
   "cell_type": "markdown",
   "metadata": {},
   "source": [
    "# HOMER for finding motifs enriched at TAD boundaries"
   ]
  },
  {
   "cell_type": "code",
   "execution_count": 2,
   "metadata": {},
   "outputs": [],
   "source": [
    "#module load homer/4.11"
   ]
  },
  {
   "cell_type": "markdown",
   "metadata": {},
   "source": [
    "# 80% two tools overlap boudaries motif enrichment"
   ]
  },
  {
   "cell_type": "markdown",
   "metadata": {},
   "source": [
    "### Input files:<br>\n",
    "/scratch/ak8725/az_mrg/boundaries_unique_5kb_80_homer.bed<br>\n",
    "/scratch/ak8725/az_mrg/boundaries_unique_2kb_80_homer.bed<br>\n",
    "\n",
    "Genome file:<br>\n",
    "/scratch/ak8725/az_mrg/azucena.fna"
   ]
  },
  {
   "cell_type": "markdown",
   "metadata": {},
   "source": [
    "See presentation \"Micro-C analysis April 2023\""
   ]
  },
  {
   "cell_type": "markdown",
   "metadata": {},
   "source": [
    "findMotifsGenome.pl \\<input\\> /scratch/ak8725/az_mrg/azucena.fna homer -size given -len 10 -p 4"
   ]
  },
  {
   "cell_type": "markdown",
   "metadata": {},
   "source": [
    "## Unmasked genome file used for background"
   ]
  },
  {
   "cell_type": "markdown",
   "metadata": {},
   "source": [
    "### Output files are in /scratch/ak8725/HOMER<br>\n",
    "homer_5kb_80<br>\n",
    "homer_cotton_5kb_80<br>\n",
    "homer_2kb_80<br>\n",
    "homer_cotton_2kb_80"
   ]
  },
  {
   "cell_type": "markdown",
   "metadata": {},
   "source": [
    "Parameters used:\n",
    "1. -len 10 -size given\n",
    "2. \"cotton\": -len 8,10,12 (default) -size 200 #from cotton paper"
   ]
  },
  {
   "cell_type": "markdown",
   "metadata": {},
   "source": [
    "## Masked genome used as background (azucena - boundaries_80_2kb - boundaries_80_5kb)\n",
    "### Creating background .bed file with 50000 5kb sequences"
   ]
  },
  {
   "cell_type": "code",
   "execution_count": 1,
   "metadata": {},
   "outputs": [],
   "source": [
    "import random\n",
    "\n",
    "# Read in the boundaries1.bed and boundaries2.bed files and store the coordinates in a list of tuples\n",
    "boundaries = []\n",
    "with open('/scratch/ak8725/az_mrg/boundaries_unique_5kb_80_homer.bed', 'r') as f:\n",
    "    for line in f:\n",
    "        fields = line.strip().split('\\t')\n",
    "        chrom = fields[0]\n",
    "        start = int(fields[1])\n",
    "        end = int(fields[2])\n",
    "        boundaries.append((chrom, start, end))\n",
    "        \n",
    "with open('/scratch/ak8725/az_mrg/boundaries_unique_2kb_80_homer.bed', 'r') as f:\n",
    "    for line in f:\n",
    "        fields = line.strip().split('\\t')\n",
    "        chrom = fields[0]\n",
    "        start = int(fields[1])\n",
    "        end = int(fields[2])\n",
    "        boundaries.append((chrom, start, end))\n",
    "\n",
    "# Get the length of each chromosome\n",
    "chrom_lengths = {}\n",
    "with open('/scratch/ak8725/az_mrg/azucena.fna', 'r') as f:\n",
    "    chrom = None\n",
    "    for line in f:\n",
    "        if line.startswith('>'):\n",
    "            chrom = line.strip()[1:]\n",
    "            chrom_lengths[chrom] = 0\n",
    "        else:\n",
    "            chrom_lengths[chrom] += len(line.strip())\n",
    "\n",
    "# Generate a list of possible 5kb sequences that don't overlap with any of the boundaries\n",
    "possible_seqs = []\n",
    "for chrom, length in chrom_lengths.items():\n",
    "    for i in range(length // 5000):\n",
    "        start = i * 5000\n",
    "        end = (i + 1) * 5000\n",
    "        if all((chrom, start, end) not in b for b in boundaries):\n",
    "            possible_seqs.append((chrom, start, end))\n",
    "\n",
    "# Choose 5kb sequences randomly from the list of possible sequences\n",
    "num_seqs = 50000 # set the number of sequences you want\n",
    "chosen_seqs = random.sample(possible_seqs, num_seqs)\n",
    "\n",
    "# Write the chosen sequences to a new .bed file\n",
    "with open('homer_background_seqs.bed', 'w') as f:\n",
    "    for seq in chosen_seqs:\n",
    "        f.write('\\t'.join([seq[0], str(seq[1]), str(seq[2])]) + '\\n')"
   ]
  },
  {
   "cell_type": "code",
   "execution_count": 28,
   "metadata": {},
   "outputs": [
    {
     "name": "stdout",
     "output_type": "stream",
     "text": [
      "chr02\t24030000\t24035000\n",
      "chr12\t18525000\t18530000\n",
      "chr05\t18180000\t18185000\n",
      "chr02\t12540000\t12545000\n",
      "chr02\t20740000\t20745000\n",
      "chr09\t20465000\t20470000\n",
      "chr01\t41380000\t41385000\n",
      "chr11\t2965000\t2970000\n",
      "chr01\t17955000\t17960000\n",
      "chr09\t3210000\t3215000\n"
     ]
    }
   ],
   "source": [
    "head /scratch/ak8725/az_mrg/HOMER/homer_background_seqs.bed"
   ]
  },
  {
   "cell_type": "markdown",
   "metadata": {},
   "source": [
    "Now, use these background sequences to run Homer with two sets of parameters\n",
    "1. -len 10 -size given\n",
    "2. \"cotton\": -len 8,10,12 (default) -size 200 #from cotton paper"
   ]
  },
  {
   "cell_type": "markdown",
   "metadata": {},
   "source": [
    "## boundaries_unique_2kb_80_homer.bed"
   ]
  },
  {
   "cell_type": "markdown",
   "metadata": {},
   "source": [
    "## boundaries_unique_5kb_80_homer.bed"
   ]
  },
  {
   "cell_type": "markdown",
   "metadata": {},
   "source": [
    "1 \n",
    "findMotifsGenome.pl \\<input\\> /scratch/ak8725/az_mrg/azucena.fna -size given -len 10 -p 8 -bg /scratch/ak8725/az_mrg/HOMER/homer_background_seqs.bed \\\n",
    "\n",
    "2.\n",
    "findMotifsGenome.pl \\<input\\> /scratch/ak8725/az_mrg/azucena.fna -size given -size 200 -p 8 -bg /scratch/ak8725/az_mrg/HOMER/homer_background_seqs.bed \\"
   ]
  },
  {
   "cell_type": "markdown",
   "metadata": {},
   "source": [
    "### Output files are in /scratch/ak8725/HOMER<br>\n",
    "homer_5kb_80_bg<br>\n",
    "homer_cotton_5kb_80_bg<br>\n",
    "homer_2kb_80_bg<br>\n",
    "homer_cotton_2kb_80_bg"
   ]
  },
  {
   "cell_type": "code",
   "execution_count": 32,
   "metadata": {},
   "outputs": [
    {
     "name": "stdout",
     "output_type": "stream",
     "text": [
      "Submitted batch job 31939715\n",
      "Submitted batch job 31939716\n"
     ]
    }
   ],
   "source": [
    "sbatch homer5-cotton.sh\n",
    "sbatch homer2-cotton.sh"
   ]
  },
  {
   "cell_type": "markdown",
   "metadata": {},
   "source": [
    "# HiCExplorer boundaries motif enrichment"
   ]
  },
  {
   "cell_type": "markdown",
   "metadata": {},
   "source": [
    "Input files: <br>\n",
    "az_mrg/hicFindTADs/hicFindTADs2_out/az_1kb_boundaries.bed\n",
    "az_mrg/hicFindTADs/hicFindTADs1_out/az_2kb_boundaries.bed\n",
    "az_mrg/hicFindTADs/hicFindTADs13_out/az_5kb_boundaries.bed"
   ]
  },
  {
   "cell_type": "markdown",
   "metadata": {},
   "source": [
    "### Creating backgorund bed file with 50000 5kb sequences from masked Azucena genome (no 1kb/2kb/5kb boundaries)"
   ]
  },
  {
   "cell_type": "code",
   "execution_count": 4,
   "metadata": {},
   "outputs": [],
   "source": [
    "import random\n",
    "\n",
    "# Read in the boundaries1.bed and boundaries2.bed files and store the coordinates in a list of tuples\n",
    "boundaries = []\n",
    "with open('/scratch/ak8725/az_mrg/hicFindTADs/hicFindTADs2_out/az_1kb_boundaries.bed', 'r') as f:\n",
    "    for line in f:\n",
    "        fields = line.strip().split('\\t')\n",
    "        chrom = fields[0]\n",
    "        start = int(fields[1])\n",
    "        end = int(fields[2])\n",
    "        boundaries.append((chrom, start, end))\n",
    "        \n",
    "with open('/scratch/ak8725/az_mrg/hicFindTADs/hicFindTADs1_out/az_2kb_boundaries.bed', 'r') as f:\n",
    "    for line in f:\n",
    "        fields = line.strip().split('\\t')\n",
    "        chrom = fields[0]\n",
    "        start = int(fields[1])\n",
    "        end = int(fields[2])\n",
    "        boundaries.append((chrom, start, end))\n",
    "\n",
    "with open('/scratch/ak8725/az_mrg/hicFindTADs/hicFindTADs13_out/az_5kb_boundaries.bed', 'r') as f:\n",
    "    for line in f:\n",
    "        fields = line.strip().split('\\t')\n",
    "        chrom = fields[0]\n",
    "        start = int(fields[1])\n",
    "        end = int(fields[2])\n",
    "        boundaries.append((chrom, start, end))\n",
    "\n",
    "# Get the length of each chromosome\n",
    "chrom_lengths = {}\n",
    "with open('/scratch/ak8725/az_mrg/azucena.fna', 'r') as f:\n",
    "    chrom = None\n",
    "    for line in f:\n",
    "        if line.startswith('>'):\n",
    "            chrom = line.strip()[1:]\n",
    "            chrom_lengths[chrom] = 0\n",
    "        else:\n",
    "            chrom_lengths[chrom] += len(line.strip())\n",
    "\n",
    "# Generate a list of possible 1kb sequences that don't overlap with any of the boundaries\n",
    "possible_seqs = []\n",
    "for chrom, length in chrom_lengths.items():\n",
    "    for i in range(length // 5000):\n",
    "        start = i * 5000\n",
    "        end = (i + 1) * 5000\n",
    "        if all((chrom, start, end) not in b for b in boundaries):\n",
    "            possible_seqs.append((chrom, start, end))\n",
    "\n",
    "# Choose 5kb sequences randomly from the list of possible sequences\n",
    "num_seqs = 50000 # set the number of sequences you want\n",
    "chosen_seqs = random.sample(possible_seqs, num_seqs)\n",
    "\n",
    "# Write the chosen sequences to a new .bed file\n",
    "with open('/scratch/ak8725/az_mrg/HOMER/homer_hicexp_background_seqs.bed', 'w') as f:\n",
    "    for seq in chosen_seqs:\n",
    "        f.write('\\t'.join([seq[0], str(seq[1]), str(seq[2])]) + '\\n')"
   ]
  },
  {
   "cell_type": "code",
   "execution_count": 11,
   "metadata": {},
   "outputs": [
    {
     "name": "stdout",
     "output_type": "stream",
     "text": [
      "chr01 \t1785000\t1790000\n",
      "chr05 \t13665000\t13670000\n",
      "chr09 \t22560000\t22565000\n",
      "chr08 \t13880000\t13885000\n",
      "chr12 \t23175000\t23180000\n",
      "chr03 \t11175000\t11180000\n",
      "chr01 \t4010000\t4015000\n",
      "chr04 \t16105000\t16110000\n",
      "chr12 \t17005000\t17010000\n",
      "chr07 \t23035000\t23040000\n"
     ]
    }
   ],
   "source": [
    "#background sequences for all HiCExplorer boundaries\n",
    "!head /scratch/ak8725/az_mrg/HOMER/homer_hicexp_background_seqs.bed"
   ]
  },
  {
   "cell_type": "code",
   "execution_count": 12,
   "metadata": {},
   "outputs": [
    {
     "name": "stdout",
     "output_type": "stream",
     "text": [
      "chr01\t71500\t72500\tB00065\t0.118303686824\t.\n",
      "chr01\t83500\t84500\tB00077\t-0.220582454764\t.\n",
      "chr01\t174500\t175500\tB00151\t0.068491605502\t.\n",
      "chr01\t245500\t246500\tB00222\t0.111921474297\t.\n",
      "chr01\t302500\t303500\tB00270\t-0.130352591732\t.\n",
      "chr01\t316500\t317500\tB00284\t0.025218289872\t.\n",
      "chr01\t421500\t422500\tB00386\t-0.126028470159\t.\n",
      "chr01\t466500\t467500\tB00418\t-0.191001059176\t.\n",
      "chr01\t482500\t483500\tB00434\t-0.203591428374\t.\n",
      "chr01\t493500\t494500\tB00445\t-0.072317785790\t.\n"
     ]
    }
   ],
   "source": [
    "!head ../az_mrg/hicFindTADs/hicFindTADs2_out/az_1kb_boundaries.bed"
   ]
  },
  {
   "cell_type": "code",
   "execution_count": 8,
   "metadata": {
    "collapsed": true,
    "jupyter": {
     "outputs_hidden": true
    }
   },
   "outputs": [
    {
     "name": "stdout",
     "output_type": "stream",
     "text": [
      "sbatch: error: Unable to open file az_mrg/HOMER/homer.sh\n"
     ]
    },
    {
     "ename": "",
     "evalue": "1",
     "output_type": "error",
     "traceback": []
    }
   ],
   "source": [
    "sbatch az_mrg/HOMER/homer.sh"
   ]
  },
  {
   "cell_type": "markdown",
   "metadata": {},
   "source": [
    "Output folders:<br>\n",
    "hicexp_1kb<br>\n",
    "hicexp_2kb<br>\n",
    "hicexp_5kb"
   ]
  },
  {
   "cell_type": "code",
   "execution_count": null,
   "metadata": {},
   "outputs": [],
   "source": []
  }
 ],
 "metadata": {
  "kernelspec": {
   "display_name": "Bash",
   "language": "bash",
   "name": "bash"
  },
  "language_info": {
   "codemirror_mode": "shell",
   "file_extension": ".sh",
   "mimetype": "text/x-sh",
   "name": "bash"
  }
 },
 "nbformat": 4,
 "nbformat_minor": 4
}
