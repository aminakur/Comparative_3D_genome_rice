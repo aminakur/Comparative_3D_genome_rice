{
 "cells": [
  {
   "cell_type": "markdown",
   "metadata": {},
   "source": [
    "# 1. Creating individual chromosome .fna files "
   ]
  },
  {
   "cell_type": "code",
   "execution_count": 9,
   "metadata": {},
   "outputs": [
    {
     "name": "stdout",
     "output_type": "stream",
     "text": [
      "Chromosome .fna files created in the 'NPB' folder.\n"
     ]
    }
   ],
   "source": [
    "import os\n",
    "\n",
    "# Read the genome.fna file\n",
    "with open('/scratch/ak8725/genomes/omer.fna', 'r') as genome_file:\n",
    "    genome_data = genome_file.read()\n",
    "\n",
    "# Split the data into chromosome sequences\n",
    "chromosome_data = genome_data.split('>chr')[1:]\n",
    "\n",
    "# Create a directory named \"genome\" if it doesn't exist\n",
    "output_dir = 'omer'\n",
    "if not os.path.exists(output_dir):\n",
    "    os.makedirs(output_dir)\n",
    "\n",
    "# Iterate through chromosome sequences and create individual .fna files\n",
    "for idx, chromosome in enumerate(chromosome_data, start=1):\n",
    "    chr_name, chr_seq = chromosome.strip().split('\\n', 1)\n",
    "    chr_name = 'chr' + chr_name\n",
    "    output_file_path = os.path.join(output_dir, f'{chr_name}.fna')\n",
    "    \n",
    "    with open(output_file_path, 'w') as output_file:\n",
    "        output_file.write('>' + chr_name + '\\n' + chr_seq.replace(\"\\n\", \"\") + '\\n')\n",
    "\n",
    "print(\"Chromosome .fna files created in the 'NPB' folder.\")"
   ]
  },
  {
   "cell_type": "markdown",
   "metadata": {},
   "source": [
    "# 2.Running mummer, gnuplot and converting .ps into .png format with combined output. Visualization of collinearity with dotplots."
   ]
  },
  {
   "cell_type": "markdown",
   "metadata": {},
   "source": [
    "dotplot.sh"
   ]
  },
  {
   "cell_type": "markdown",
   "metadata": {},
   "source": [
    "# 3. Chromosomes are mostly collinear, but there are large inversions. List of large rearrangements."
   ]
  },
  {
   "cell_type": "markdown",
   "metadata": {},
   "source": [
    "1. NPB-Azucena <br>\n",
    "Big inversion on chr06 <br>\n",
    "Small inversions on chr08, 10 <br>\n",
    "2. NPB-IR64\n",
    "Big inversion on chr06\n",
    "Small inversion on chr03, 04\n",
    "3. NPB-Oruf\n",
    "None\n",
    "4. NPB-Omer\n",
    "Big deletion on chr03\n",
    "Smaller deletions on chr09,11,12\n",
    "Translocation on chr01\n",
    "Big inversion on chr06\n",
    "Medium inversions on chr04,08\n",
    "Small inversions on chr07,08,09"
   ]
  },
  {
   "cell_type": "markdown",
   "metadata": {},
   "source": [
    "# 4. Extracting large inversion/deletion coordinates"
   ]
  },
  {
   "cell_type": "code",
   "execution_count": 2,
   "metadata": {},
   "outputs": [],
   "source": [
    "module load perl/intel/5.32.0\n",
    "module load mummer/intel/4.0.0rc1"
   ]
  },
  {
   "cell_type": "code",
   "execution_count": 38,
   "metadata": {},
   "outputs": [],
   "source": [
    "#filter delta file\n",
    "delta-filter -m -i 90 -l 100 ./azucena-oruf_alignments/chr06.delta > ./azucena-IR64_alignments/chr06_filtered.delta\n",
    "#convert delta file into .coords file\n",
    "show-coords -Trd ./azucena-oruf_alignments/chr06_filtered.delta > ./azucena-IR64_alignments/chr06_filtered.coords\n",
    "#look into .coords file and identify blocks with -1 in the FRM column"
   ]
  },
  {
   "cell_type": "code",
   "execution_count": null,
   "metadata": {},
   "outputs": [],
   "source": [
    "All large SVs (>1Mb) NPB reference\n",
    "\n",
    "1. NPB-Azucena chr06 big inversion\n",
    "NPB_start NPB_end NPB_len\n",
    "13128249 17658324 4530075\n",
    "Az_start Az_end Az_len\n",
    "12842206 17423283 4581077\n",
    "\n",
    "2. NPB-IR64 chr06 big inversion\n",
    "NPB_start NPB_end NPB_len\n",
    "13128253 17622992 4494739\n",
    "IR64_start IR64_end IR64_len\n",
    "13008568 18811934 5803366\n",
    "\n",
    "3. NPB-Omer chr06 big inversion\n",
    "NPB_start NPB_end NPB_len\n",
    "13165645 17609896 4444251\n",
    "Omer_start Omer_end Omer_len\n",
    "13176625 18256583 5079958\n",
    "\n",
    "NPB-Omer chr03 big deletion\n",
    "NPB_start NPB_end NPB_len\n",
    "14412722 19546404 5133682\n",
    "Omer_start Omer_end Omer_len\n",
    "14198686 20351089 6152403\n",
    "\n",
    "NPB-Omer chr04 medium inversion\n",
    "NPB_start NPB_end NPB_len\n",
    "8308641 11571420 3262779\n",
    "Omer_start Omer_end Omer_len\n",
    "7621185 10316473 2695288\n",
    "\n",
    "NPB-Omer chr08 medium inversion\n",
    "NPB_start NPB_end NPB_len\n",
    "14330528 16788836 2458308\n",
    "Omer_start Omer_end Omer_len\n",
    "13981377 16505581 2524204\n",
    "\n",
    "Examples of medium SVs (0.5 - 1Mb). This is not all!\n",
    "\n",
    "NPB-Omer chr07 small inversion\n",
    "NPB_start NPB_end NPB_len\n",
    "9978246 10802734 824488\n",
    "Omer_start Omer_end Omer_len\n",
    "10072297 10973644 901347\n",
    "\n",
    "NPB-Omer chr07 small inversion\n",
    "NPB_start NPB_end NPB_len\n",
    "11479500 11987767 508267\n",
    "Omer_start Omer_end Omer_len\n",
    "13183561 13841980 658419"
   ]
  }
 ],
 "metadata": {
  "kernelspec": {
   "display_name": "Bash",
   "language": "bash",
   "name": "bash"
  },
  "language_info": {
   "codemirror_mode": "shell",
   "file_extension": ".sh",
   "mimetype": "text/x-sh",
   "name": "bash"
  }
 },
 "nbformat": 4,
 "nbformat_minor": 4
}
