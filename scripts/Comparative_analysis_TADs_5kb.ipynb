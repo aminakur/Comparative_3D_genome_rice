{
 "cells": [
  {
   "cell_type": "markdown",
   "metadata": {},
   "source": [
    "# TADs at 5kb resolution comparative analysis"
   ]
  },
  {
   "cell_type": "markdown",
   "metadata": {},
   "source": [
    "Using TADs 5kb called by intersecting two tools (80%) from maps:<br>\n",
    "*resolution = max map resolution calculated by hicres<br>\n",
    "Number of TADs = number of lifted-over TADs to NPB\n",
    "1. az_mrg, resolution: 1421. Number of TADs 1187<br>\n",
    "2. NPB_new,  resolution: 1484. Number of TADs 1425<br>\n",
    "3. IR64_new,  resolution: 1302. Number of TADs 1352<br>\n",
    "4. ruf_mrg,  resolution: 1030. Number of TADs 1112<br>\n",
    "5. omer_mrg,  resolution: 4155. Number of TADs 1072<br>"
   ]
  },
  {
   "cell_type": "code",
   "execution_count": 1,
   "metadata": {},
   "outputs": [],
   "source": [
    "import os\n",
    "os.chdir('/scratch/ak8725/comparative_TADs_boundaries/')"
   ]
  },
  {
   "cell_type": "code",
   "execution_count": 1,
   "metadata": {},
   "outputs": [],
   "source": [
    "#making TAD files 3-column from 9-column and saving them to /comparative_TADs_boundaries\n",
    "cd ../comparative_TADs_boundaries\n",
    "# awk -F'\\t' '{OFS=\"\\t\"; print $1, $2, $3}' ../az_mrg/TADs_boundaries/az_TADs_5kb_two_tools_80.bed > ../comparative_TADs_boundaries/az_TADs_5kb_two_tools_80.bed\n",
    "awk -F'\\t' '{OFS=\"\\t\"; print $1, $2, $3}' ../NPB_new/TADs_boundaries/NPB_TADs_5kb_two_tools_80.bed > ../comparative_TADs_boundaries/NPB_TADs_5kb_two_tools_80.bed\n",
    "# awk -F'\\t' '{OFS=\"\\t\"; print $1, $2, $3}' ../IR64_new/TADs_boundaries/IR64_TADs_5kb_two_tools_80.bed > ../comparative_TADs_boundaries/IR64_TADs_5kb_two_tools_80.bed\n",
    "# awk -F'\\t' '{OFS=\"\\t\"; print $1, $2, $3}' ../oruf_mrg/TADs_boundaries/ruf_TADs_5kb_two_tools_80.bed > ../comparative_TADs_boundaries/oruf_TADs_5kb_two_tools_80.bed\n",
    "# awk -F'\\t' '{OFS=\"\\t\"; print $1, $2, $3}' ../omer_mrg/TADs_boundaries/omer_TADs_5kb_two_tools_80.bed > ../comparative_TADs_boundaries/omer_TADs_5kb_two_tools_80.bed"
   ]
  },
  {
   "cell_type": "code",
   "execution_count": 3,
   "metadata": {},
   "outputs": [
    {
     "name": "stdout",
     "output_type": "stream",
     "text": [
      "Reading liftover chains\n",
      "Mapping coordinates\n",
      "Reading liftover chains\n",
      "Mapping coordinates\n",
      "Reading liftover chains\n",
      "Mapping coordinates\n",
      "Reading liftover chains\n",
      "Mapping coordinates\n"
     ]
    }
   ],
   "source": [
    "#lifting over coordinates of all 5kb 80% TADs to NPB\n",
    "#To be successfully lifted over, features in one species require a 20% minimum ratio of bases (−minMatch= 0.20) for body\n",
    "#and one-third for boundary (−minMatch = 0.33) to be remapped in the other species\n",
    "cd ../comparative_TADs_boundaries\n",
    "/share/apps/kent/385/liftOver -minMatch=0.2 az_TADs_5kb_two_tools_80.bed ../liftOver/chain_files_for_TADs/az_NPB.over.chain az_to_npb_converted_5kb_tads.bed az_npb_unmapped\n",
    "/share/apps/kent/385/liftOver -minMatch=0.2 IR64_TADs_5kb_two_tools_80.bed ../liftOver/chain_files_for_TADs/IR64_NPB.over.chain IR64_to_npb_converted_5kb_tads.bed IR64_npb_unmapped\n",
    "/share/apps/kent/385/liftOver -minMatch=0.2 oruf_TADs_5kb_two_tools_80.bed ../liftOver/chain_files_for_TADs/oruf_NPB.over.chain ruf_to_npb_converted_5kb_tads.bed ruf_npb_unmapped\n",
    "/share/apps/kent/385/liftOver -minMatch=0.2 omer_TADs_5kb_two_tools_80.bed ../liftOver/chain_files_for_TADs/omer_NPB.over.chain omer_to_npb_converted_5kb_tads.bed omer_npb_unmapped"
   ]
  },
  {
   "cell_type": "code",
   "execution_count": 4,
   "metadata": {},
   "outputs": [
    {
     "name": "stdout",
     "output_type": "stream",
     "text": [
      "1187 omer_TADs_5kb_two_tools_80.bed\n",
      "1072 omer_to_npb_converted_5kb_tads.bed\n",
      "230 omer_npb_unmapped\n"
     ]
    }
   ],
   "source": [
    "wc -l omer_TADs_5kb_two_tools_80.bed\n",
    "wc -l omer_to_npb_converted_5kb_tads.bed \n",
    "wc -l omer_npb_unmapped"
   ]
  },
  {
   "cell_type": "code",
   "execution_count": 108,
   "metadata": {},
   "outputs": [
    {
     "name": "stdout",
     "output_type": "stream",
     "text": [
      ".98342\n",
      ".97196\n",
      ".97117\n",
      ".90311\n"
     ]
    }
   ],
   "source": [
    "# % TADs retained after liftover of 1207 NPB TADs\n",
    "npb = \n",
    "az=$(echo \"scale=5; 1187/1207\" | bc); echo $az\n",
    "ir64=$(echo \"scale=5; 1352/1391\" | bc); echo $ir64\n",
    "ruf=$(echo \"scale=5; 1112/1145\" | bc); echo $ruf\n",
    "ruf=$(echo \"scale=5; 1072/1187\" | bc); echo $ruf\n",
    "npb=1425"
   ]
  },
  {
   "cell_type": "code",
   "execution_count": null,
   "metadata": {},
   "outputs": [],
   "source": [
    "Conserved TAD bodies were de-termined using BEDTools intersect with the parameters: -f 0.8 -r, \n",
    "which requires at least 80% reciprocal overlap in the corre-sponding intervals in both species. \n",
    "We used the larger ofthe two estimates ofshared TADs across the species as the conserved domain \n",
    "count (to be conservative), and divided this by the sum ofthe conserved \n",
    "and species-specific domains identified in order to assess conser- vation."
   ]
  },
  {
   "cell_type": "code",
   "execution_count": null,
   "metadata": {},
   "outputs": [],
   "source": [
    "#from literature\n",
    "We analyzed boundary conservation using bedtools intersect–c, considering any overlap\n",
    "as indication ofconservation (i.e. even a single base pair overlap ofboundaries meant \n",
    "a bound-ary was classified as conserved)."
   ]
  },
  {
   "cell_type": "code",
   "execution_count": 1,
   "metadata": {},
   "outputs": [
    {
     "name": "stdout",
     "output_type": "stream",
     "text": [
      "Number of intervals in NPB_az_IR64_common.bed: 161\n"
     ]
    },
    {
     "name": "stderr",
     "output_type": "stream",
     "text": [
      "***** WARNING: File IR64_to_npb_converted_5kb_tads.bed has a record where naming convention (leading zero) is inconsistent with other files:\n",
      "chr10\t981343\t1057150\n",
      "\n",
      "***** WARNING: File IR64_to_npb_converted_5kb_tads.bed has a record where naming convention (leading zero) is inconsistent with other files:\n",
      "chr10\t981343\t1057150\n",
      "\n"
     ]
    }
   ],
   "source": [
    "#finding TADs conserved between species pairwise\n",
    "#saving coordinates like they are in the Azucena file\n",
    "import os\n",
    "os.chdir('/scratch/ak8725/comparative_TADs_boundaries/')\n",
    "\n",
    "import pybedtools\n",
    "\n",
    "# Load the BED files\n",
    "npb_bed = pybedtools.BedTool(\"NPB_az_common.bed\")\n",
    "az_bed = pybedtools.BedTool(\"IR64_to_npb_converted_5kb_tads.bed\")\n",
    "\n",
    "# Find reciprocally overlapping regions with at least 80% overlap\n",
    "overlap = npb_bed.intersect(az_bed, f=0.8, r=True, wa=True)\n",
    "\n",
    "# Initialize a list to store the overlapping intervals\n",
    "common_tads = []\n",
    "\n",
    "# Iterate through overlapping regions and save the intervals from `npb_bed`\n",
    "for interval in overlap:\n",
    "    chrom = interval.chrom\n",
    "    start = interval.start\n",
    "    end = interval.end\n",
    "\n",
    "    common_tads.append((chrom, start, end))\n",
    "\n",
    "# Save the coordinates of the common TADs to a new file\n",
    "output_filename = \"NPB_az_IR64_common.bed\"\n",
    "with open(output_filename, \"w\") as output_file:\n",
    "    for chrom, start, end in common_tads:\n",
    "        output_file.write(f\"{chrom}\\t{start}\\t{end}\\n\")\n",
    "\n",
    "# Count and print the number of intervals in the output file\n",
    "num_intervals = len(common_tads)\n",
    "print(f\"Number of intervals in {output_filename}: {num_intervals}\")"
   ]
  },
  {
   "cell_type": "code",
   "execution_count": null,
   "metadata": {},
   "outputs": [],
   "source": [
    "#number of TADs conserved between pairs, at least 80% feature overlap\n",
    "NPB-az 398\n",
    "NPB-IR64 375\n",
    "NPB-ruf 303\n",
    "NPB-omer 196\n",
    "\n",
    "az-IR64 \n",
    "az-oruf \n",
    "az-omer \n",
    "IR64-oruf \n",
    "IR64-omer \n",
    "oruf-omer \n",
    "\n",
    "NPB-az-IR64-ruf-omer 22\n",
    "NPB-az-IR64-ruf 73\n",
    "NPB-az-IR64 158"
   ]
  },
  {
   "cell_type": "code",
   "execution_count": null,
   "metadata": {},
   "outputs": [],
   "source": [
    "#number of TADs conserved between pairs, at least 50% feature overlap\n",
    "NPB-az 487\n",
    "NPB-IR64 478\n",
    "NPB-ruf 418\n",
    "NPB-omer 350\n",
    "\n",
    "az-IR64 \n",
    "az-oruf \n",
    "az-omer \n",
    "IR64-oruf \n",
    "IR64-omer \n",
    "oruf-omer \n",
    "\n",
    "NPB-az-IR64-ruf-omer 40\n",
    "NPB-az-IR64-ruf 98\n",
    "NPB-az-IR64 206"
   ]
  },
  {
   "cell_type": "code",
   "execution_count": null,
   "metadata": {},
   "outputs": [],
   "source": [
    "#from literature\n",
    "We used our orthologous TAD presence/absence matrix to rank each D. melanogaster TAD\n",
    "based on its level of conservation among the 11 species in our matrix, where a ranking of 1 represents \n",
    "a TAD that is only present in D. melanogaster and a ranking of 11 represents \n",
    "a TAD that has been conserved since the common ancestor of the melanogaster group."
   ]
  },
  {
   "cell_type": "markdown",
   "metadata": {},
   "source": [
    "## Assigning TADs to conservation groups"
   ]
  },
  {
   "cell_type": "code",
   "execution_count": 2,
   "metadata": {},
   "outputs": [],
   "source": [
    "#adding score of 1 to each TAD in NPB\n",
    "cd ../comparative_TADs_boundaries\n",
    "awk 'BEGIN{OFS=\"\\t\"} {$4=1; print}' NPB_TADs_5kb_two_tools_80.bed > temp.bed\n",
    "mv temp.bed NPB_TADs_5kb_two_tools_80.bed"
   ]
  },
  {
   "cell_type": "code",
   "execution_count": 1,
   "metadata": {
    "collapsed": true,
    "jupyter": {
     "outputs_hidden": true
    }
   },
   "outputs": [
    {
     "ename": "SyntaxError",
     "evalue": "invalid syntax (4190387318.py, line 1)",
     "output_type": "error",
     "traceback": [
      "\u001b[0;36m  Cell \u001b[0;32mIn[1], line 1\u001b[0;36m\u001b[0m\n\u001b[0;31m    I assigned TADs to 5 groups, based on the number of species each TAD is conserved in\u001b[0m\n\u001b[0m      ^\u001b[0m\n\u001b[0;31mSyntaxError\u001b[0m\u001b[0;31m:\u001b[0m invalid syntax\n"
     ]
    }
   ],
   "source": [
    "I assigned TADs to 5 groups, based on the number of species each TAD is conserved in\n",
    "I did pairwise NPB-X comparisons to assess conservation of at least 80%\n",
    "1. NPB specific\n",
    "2. Japonica specific (NPB+az)\n",
    "3. NPB+az+ruf\n",
    "4. NPB+az+tuf+IR64\n",
    "4. NPB+az+ruf+IR64+omer"
   ]
  },
  {
   "cell_type": "code",
   "execution_count": 16,
   "metadata": {},
   "outputs": [
    {
     "name": "stdout",
     "output_type": "stream",
     "text": [
      "Number of col4 values incremented by 1: 196\n"
     ]
    }
   ],
   "source": [
    "#identify tads shared npb-az\n",
    "import os\n",
    "os.chdir('/scratch/ak8725/comparative_TADs_boundaries/')\n",
    "\n",
    "# Initialize a set to store the common TAD coordinates\n",
    "common_tads = set()\n",
    "\n",
    "# Read the NPB_az_common_TADs.bed file to extract coordinates\n",
    "with open(\"NPB_omer_common.bed\", \"r\") as common_file:\n",
    "    for line in common_file:\n",
    "        fields = line.strip().split(\"\\t\")\n",
    "        if len(fields) >= 3:\n",
    "            coordinates = tuple(fields[:3])\n",
    "            common_tads.add(coordinates)\n",
    "\n",
    "# Initialize a counter to keep track of incremented values\n",
    "count = 0\n",
    "\n",
    "# Read the NPB_TADs_5kb_two_tools_80.bed file and create a temporary list to store updated lines\n",
    "updated_lines = []\n",
    "\n",
    "with open(\"NPB_TADs.bed\", \"r\") as npb_file:\n",
    "    for line in npb_file:\n",
    "        fields = line.strip().split(\"\\t\")\n",
    "        if len(fields) >= 4:\n",
    "            coordinates = tuple(fields[:3])\n",
    "            if coordinates in common_tads:\n",
    "                # Check if the coordinates are in common_tads\n",
    "                # If found, increment col4 by 1 and update the line\n",
    "                fields[3] = str(int(fields[3]) + 1)\n",
    "                count += 1\n",
    "            updated_lines.append(\"\\t\".join(fields))\n",
    "\n",
    "# Write the updated lines back to the NPB_TADs_5kb_two_tools_80.bed file\n",
    "with open(\"NPB_TADs.bed\", \"w\") as npb_file:\n",
    "    npb_file.writelines(\"\\n\".join(updated_lines))\n",
    "\n",
    "print(f\"Number of col4 values incremented by 1: {count}\")"
   ]
  },
  {
   "cell_type": "code",
   "execution_count": null,
   "metadata": {},
   "outputs": [],
   "source": [
    "Now I have a list of TADs ranked by their conservation status in NPB_TADs_ranked.bed"
   ]
  },
  {
   "cell_type": "code",
   "execution_count": 1,
   "metadata": {},
   "outputs": [],
   "source": [
    "#creating .bed files with NPB TAD groups\n",
    "import os\n",
    "os.chdir('/scratch/ak8725/comparative_TADs_boundaries/')\n",
    "# Define the input file\n",
    "input_file = \"NPB_TADs_ranked.bed\"\n",
    "\n",
    "# Create a dictionary to store the output file handles\n",
    "output_files = {}\n",
    "\n",
    "# Open the input file and read its lines\n",
    "with open(input_file, \"r\") as infile:\n",
    "    for line in infile:\n",
    "        parts = line.strip().split(\"\\t\")\n",
    "        if len(parts) == 4:\n",
    "            # Extract the number from the last column\n",
    "            number = int(parts[3])\n",
    "            \n",
    "            # Define the output file name based on the number\n",
    "            output_file_name = f\"NPB_TADs_{number}.bed\"\n",
    "            \n",
    "            # Check if the output file for this number already exists in the dictionary\n",
    "            # If not, create a new file and add it to the dictionary\n",
    "            if number not in output_files:\n",
    "                output_files[number] = open(output_file_name, \"w\")\n",
    "            \n",
    "            # Write the line to the corresponding output file\n",
    "            output_files[number].write(line)\n",
    "\n",
    "# Close all output files\n",
    "for file in output_files.values():\n",
    "    file.close()"
   ]
  },
  {
   "cell_type": "code",
   "execution_count": 5,
   "metadata": {},
   "outputs": [
    {
     "name": "stdout",
     "output_type": "stream",
     "text": [
      "643 NPB_TADs_1.bed\n",
      "438 NPB_TADs_2.bed\n",
      "221 NPB_TADs_3.bed\n",
      "98 NPB_TADs_4.bed\n",
      "24 NPB_TADs_5.bed\n"
     ]
    }
   ],
   "source": [
    "!wc -l NPB_TADs_1.bed\n",
    "!wc -l NPB_TADs_2.bed\n",
    "!wc -l NPB_TADs_3.bed\n",
    "!wc -l NPB_TADs_4.bed\n",
    "!wc -l NPB_TADs_5.bed"
   ]
  },
  {
   "cell_type": "code",
   "execution_count": 3,
   "metadata": {},
   "outputs": [
    {
     "name": "stdout",
     "output_type": "stream",
     "text": [
      "chr01\t1675000\t1765000\t1\n",
      "chr01\t2000000\t2055000\t1\n",
      "chr01\t2810000\t2840000\t1\n",
      "chr01\t2840000\t2890000\t1\n",
      "chr01\t2890000\t2965000\t1\n",
      "chr01\t2965000\t3050000\t1\n",
      "chr01\t3050000\t3090000\t1\n",
      "chr01\t3695000\t3745000\t1\n",
      "chr01\t4760000\t4800000\t1\n",
      "chr01\t5985000\t6025000\t1\n"
     ]
    }
   ],
   "source": [
    "head NPB_TADs_1.bed"
   ]
  },
  {
   "cell_type": "markdown",
   "metadata": {},
   "source": [
    "# Analyzing enrichment for specific genes/features between 5 orthology groups"
   ]
  },
  {
   "cell_type": "code",
   "execution_count": null,
   "metadata": {},
   "outputs": [],
   "source": [
    "Enrichment for different gene categories:\n",
    "Number of genes per TAD - done\n",
    "All\n",
    "WGD\n",
    "SSD\n",
    "NLR\n",
    "Domestication genes\n",
    "\n",
    "Coverage\n",
    "SV breakpoints \n",
    "SNP\n",
    "TE\n",
    "PhastCons - can only do for azucena\n",
    "Rho - can only do for azucena\n",
    "GC\n",
    "Gene exp (RNA-seq) - done"
   ]
  },
  {
   "cell_type": "code",
   "execution_count": null,
   "metadata": {},
   "outputs": [],
   "source": [
    "#finding number of specific genes per TAD (any overlap with TAD of gene body counts)\n",
    "genes_X.bed #IRGSP_genes.bed\n",
    "wgd_X.bed contains number of wgd genes per tad in orthogroup X\n",
    "ssd_X.bed\n",
    "nlr_X.bed\n",
    "dom_X.bed #domestication genes"
   ]
  },
  {
   "cell_type": "code",
   "execution_count": 21,
   "metadata": {
    "collapsed": true,
    "jupyter": {
     "outputs_hidden": true
    }
   },
   "outputs": [
    {
     "name": "stderr",
     "output_type": "stream",
     "text": [
      "***** WARNING: File ../expression/Nip_field2017_Normal.bed has a record where naming convention (leading zero) is inconsistent with other files:\n",
      "chr10\t37136\t37535\t0\n",
      "\n",
      "***** WARNING: File ../expression/Nip_field2017_Normal.bed has a record where naming convention (leading zero) is inconsistent with other files:\n",
      "chr10\t37136\t37535\t0\n",
      "\n",
      "***** WARNING: File ../expression/Nip_field2017_Normal.bed has a record where naming convention (leading zero) is inconsistent with other files:\n",
      "chr10\t37136\t37535\t0\n",
      "\n",
      "***** WARNING: File ../expression/Nip_field2017_Normal.bed has a record where naming convention (leading zero) is inconsistent with other files:\n",
      "chr10\t37136\t37535\t0\n",
      "\n",
      "***** WARNING: File ../expression/Nip_field2017_Normal.bed has a record where naming convention (leading zero) is inconsistent with other files:\n",
      "chr10\t37136\t37535\t0\n",
      "\n",
      "***** WARNING: File ../expression/Nip_field2017_Normal.bed has a record where naming convention (leading zero) is inconsistent with other files:\n",
      "chr10\t37136\t37535\t0\n",
      "\n",
      "***** WARNING: File ../expression/Nip_field2017_Normal.bed has a record where naming convention (leading zero) is inconsistent with other files:\n",
      "chr10\t37136\t37535\t0\n",
      "\n",
      "***** WARNING: File ../expression/Nip_field2017_Normal.bed has a record where naming convention (leading zero) is inconsistent with other files:\n",
      "chr10\t37136\t37535\t0\n",
      "\n",
      "***** WARNING: File ../expression/Nip_field2017_Normal.bed has a record where naming convention (leading zero) is inconsistent with other files:\n",
      "chr10\t37136\t37535\t0\n",
      "\n",
      "***** WARNING: File ../expression/Nip_field2017_Normal.bed has a record where naming convention (leading zero) is inconsistent with other files:\n",
      "chr10\t37136\t37535\t0\n",
      "\n"
     ]
    }
   ],
   "source": [
    "import pybedtools\n",
    "\n",
    "# Process all five input files\n",
    "for x in range(1, 6):\n",
    "    # Define the paths to your input files\n",
    "    npb_tads_path = f\"NPB_TADs_{x}.bed\"\n",
    "    exp_data_path = \"../expression/Nip_field2017_Normal.bed\"\n",
    "\n",
    "    # Load the BED files into BedTool objects\n",
    "    npb_tads = pybedtools.BedTool(npb_tads_path)\n",
    "    exp_data = pybedtools.BedTool(exp_data_path)\n",
    "\n",
    "    # Perform a \"coverage\" operation to associate expression values with TADs\n",
    "    # The -mean option calculates the mean of the scores (expression values) in the overlapping regions\n",
    "    result = npb_tads.coverage(exp_data, mean=True)\n",
    "\n",
    "    # Create a list to store the results\n",
    "    results = []\n",
    "\n",
    "    # Iterate through the result and calculate the mean expression per TAD\n",
    "    for interval in result:\n",
    "        chrom_tad = interval.chrom\n",
    "        start_tad = interval.start\n",
    "        end_tad = interval.end\n",
    "        mean_exp = float(interval.fields[4]) if interval.fields[4] != \".\" else 0.0  # Handle missing values\n",
    "        results.append((chrom_tad, start_tad, end_tad, mean_exp))\n",
    "\n",
    "    # Write the results to the exp_x.bed file\n",
    "    output_file = f\"exp_{x}.bed\"\n",
    "    with open(output_file, \"w\") as f:\n",
    "        for result in results:\n",
    "            f.write(f\"{result[0]}\\t{result[1]}\\t{result[2]}\\t{result[3]}\\n\")"
   ]
  },
  {
   "cell_type": "code",
   "execution_count": null,
   "metadata": {},
   "outputs": [],
   "source": [
    "#from Mode and tempo paper\n",
    "Compact letter display: the Wilcoxon rank sum tests were performed for all pairwise comparisons between chro- matin states. \n",
    "Two-sided Wilcoxon rank sum tests were used to compare LogSD between conservation classes and resulting p values were corrected\n",
    "using the Benjamini–Hochberg procedure.\n"
   ]
  },
  {
   "cell_type": "code",
   "execution_count": null,
   "metadata": {},
   "outputs": [],
   "source": [
    "The Kruskal-Wallis test is a non-parametric test used to determine if there are statistically significant differences between three or more groups.\n",
    "\n",
    "Here's a high-level overview of how you can approach this:\n",
    "\n",
    "Combine the data from all five files into a single dataset.\n",
    "Perform the Kruskal-Wallis test to assess whether there are statistically significant differences \n",
    "in the number of genes per TAD between the five groups.\n",
    "If the Kruskal-Wallis test indicates that there are significant differences, you can perform \n",
    "post hoc tests (e.g., Dunn's test or pairwise Wilcoxon rank-sum tests with multiple testing correction)\n",
    "to identify which specific group(s) differ from the others."
   ]
  },
  {
   "cell_type": "code",
   "execution_count": 28,
   "metadata": {},
   "outputs": [
    {
     "name": "stdout",
     "output_type": "stream",
     "text": [
      "No significant differences in the number of genes per TAD between the groups.\n"
     ]
    }
   ],
   "source": [
    "import pandas as pd\n",
    "from scipy.stats import kruskal\n",
    "\n",
    "# Load the data from all five files into a single DataFrame\n",
    "data = {}\n",
    "for group in range(1, 6):\n",
    "    filename = f\"nlr_{group}.bed\"\n",
    "    df = pd.read_csv(filename, sep='\\t', header=None, names=[\"chr\", \"start\", \"end\", \"number_of_genes\"])\n",
    "    data[f\"group_{group}\"] = df[\"number_of_genes\"]  # Extract the number_of_genes column\n",
    "\n",
    "# Create a DataFrame with the loaded data\n",
    "df = pd.DataFrame(data)\n",
    "\n",
    "# Perform the Kruskal-Wallis test on the \"number_of_genes\" column\n",
    "statistic, p_value = kruskal(df[\"group_1\"], df[\"group_2\"], df[\"group_3\"], df[\"group_4\"], df[\"group_5\"])\n",
    "\n",
    "# Check the p-value for significance\n",
    "if p_value < 0.05:  # You can adjust the significance level (alpha) as needed\n",
    "    print(\"There are significant differences in the number of genes per TAD between the groups.\")\n",
    "else:\n",
    "    print(\"No significant differences in the number of genes per TAD between the groups.\")"
   ]
  },
  {
   "cell_type": "code",
   "execution_count": null,
   "metadata": {},
   "outputs": [],
   "source": [
    "Are there significant differences between the groups in the number of genes per TAD?\n",
    "All genes NO\n",
    "WGD genes NO\n",
    "SSD genes NO\n",
    "NLR genes NO\n",
    "Domesticated genes NO\n",
    "\n",
    "Are there significant differences in TAD length between groups?\n",
    "No\n",
    "\n",
    "Are there significant differences in gene coverage per 500bp between groups?\n",
    "Yes\n",
    "\n",
    "Are there significant differences in median gene expression (Nip2017 RNA-seq) per TAD between groups?\n",
    "no\n",
    "\n",
    "Are there significant differences in GC content per TAD between groups?\n",
    "no\n",
    "\n",
    "Are there significant differences in TE content per TAD between groups?\n",
    "yes\n",
    "\n",
    "Are there significant differences in SV breakpoints content per TAD between groups?\n",
    "no\n",
    "\n",
    "Are there significant differences in SNP content per TAD between groups?\n",
    "no"
   ]
  },
  {
   "cell_type": "code",
   "execution_count": null,
   "metadata": {},
   "outputs": [],
   "source": [
    "Are there significant differences between the groups in the absolute number of genes normalized by TAD count?"
   ]
  },
  {
   "cell_type": "code",
   "execution_count": 9,
   "metadata": {},
   "outputs": [
    {
     "data": {
      "image/png": "[encoded data removed]",
      "text/plain": [
       "<Figure size 432x288 with 1 Axes>"
      ]
     },
     "metadata": {
      "needs_background": "light"
     },
     "output_type": "display_data"
    }
   ],
   "source": [
    "import pandas as pd\n",
    "import matplotlib.pyplot as plt\n",
    "\n",
    "# Initialize an empty dictionary to store TAD lengths for each group\n",
    "tad_lengths = {}\n",
    "\n",
    "# Process all five input files\n",
    "for x in range(1, 6):\n",
    "    filename = f\"NPB_TADs_{x}.bed\"\n",
    "    df = pd.read_csv(filename, sep='\\t', header=None, names=[\"chr_tad\", \"start_tad\", \"end_tad\", \"ignore_col\"])\n",
    "\n",
    "    # Calculate TAD lengths for the current group (omit the 'ignore_col' column)\n",
    "    group_name = f\"Group {x}\"\n",
    "    tad_lengths[group_name] = df[\"end_tad\"] - df[\"start_tad\"]\n",
    "\n",
    "# Create a list of TAD length values for each group\n",
    "tad_length_values = list(tad_lengths.values())\n",
    "\n",
    "# Create vertical boxplots with outliers not shown\n",
    "plt.boxplot(tad_length_values, vert=True, showfliers=False)\n",
    "plt.xlabel(\"Groups\")\n",
    "plt.xticks(range(1, 6), tad_lengths.keys())\n",
    "plt.ylabel(\"Mean TAD Length\")\n",
    "plt.title(\"Mean TAD Length per Group\")\n",
    "plt.show()\n"
   ]
  },
  {
   "cell_type": "code",
   "execution_count": 14,
   "metadata": {},
   "outputs": [
    {
     "name": "stdout",
     "output_type": "stream",
     "text": [
      "Mean TAD Lengths:\n",
      "NPB_TADs_1: 74327.37\n",
      "NPB_TADs_2: 68156.39\n",
      "NPB_TADs_3: 64020.27\n",
      "NPB_TADs_4: 58596.94\n",
      "NPB_TADs_5: 59791.67\n",
      "Wilcoxon Rank-Sum Test Results:\n",
      "NPB_TADs_1 vs. NPB_TADs_2: p-value = 0.1581\n",
      "NPB_TADs_1 vs. NPB_TADs_3: p-value = 0.0362\n",
      "NPB_TADs_1 vs. NPB_TADs_4: p-value = 0.0015\n",
      "NPB_TADs_1 vs. NPB_TADs_5: p-value = 0.1153\n",
      "NPB_TADs_2 vs. NPB_TADs_3: p-value = 0.3566\n",
      "NPB_TADs_2 vs. NPB_TADs_4: p-value = 0.0107\n",
      "NPB_TADs_2 vs. NPB_TADs_5: p-value = 0.1911\n",
      "NPB_TADs_3 vs. NPB_TADs_4: p-value = 0.0586\n",
      "NPB_TADs_3 vs. NPB_TADs_5: p-value = 0.3089\n",
      "NPB_TADs_4 vs. NPB_TADs_5: p-value = 0.9974\n"
     ]
    }
   ],
   "source": [
    "import pandas as pd\n",
    "\n",
    "# Load the data from the five NPB_TADs_x.bed files (x=1-5)\n",
    "data = {}\n",
    "for x in range(1, 6):\n",
    "    filename = f\"NPB_TADs_{x}.bed\"\n",
    "    df = pd.read_csv(filename, sep='\\t', header=None, names=[\"chr\", \"start\", \"end\", \"group\"])\n",
    "    data[f\"NPB_TADs_{x}\"] = df\n",
    "\n",
    "# Calculate the mean TAD length per group\n",
    "mean_lengths = {}\n",
    "for x in range(1, 6):\n",
    "    group_name = f\"NPB_TADs_{x}\"\n",
    "    mean_length = data[group_name][\"end\"].mean() - data[group_name][\"start\"].mean()\n",
    "    mean_lengths[group_name] = mean_length\n",
    "\n",
    "print(\"Mean TAD Lengths:\")\n",
    "for group_name, mean_length in mean_lengths.items():\n",
    "    print(f\"{group_name}: {mean_length:.2f}\")\n",
    "\n",
    "from itertools import combinations\n",
    "from scipy.stats import ranksums\n",
    "\n",
    "# Perform Wilcoxon rank-sum tests for pairwise group comparisons\n",
    "p_values = {}\n",
    "for group1, group2 in combinations(mean_lengths.keys(), 2):\n",
    "    p_value = ranksums(data[group1][\"end\"] - data[group1][\"start\"], data[group2][\"end\"] - data[group2][\"start\"]).pvalue\n",
    "    comparison = f\"{group1} vs. {group2}\"\n",
    "    p_values[comparison] = p_value\n",
    "\n",
    "# Print the p-values for pairwise group comparisons\n",
    "print(\"Wilcoxon Rank-Sum Test Results:\")\n",
    "for comparison, p_value in p_values.items():\n",
    "    print(f\"{comparison}: p-value = {p_value:.4f}\")\n"
   ]
  },
  {
   "cell_type": "code",
   "execution_count": null,
   "metadata": {},
   "outputs": [],
   "source": [
    "#analyzing mean expression per TAD for each group\n",
    "1. calculate mean gene expression per TAD in NPB_TADs_X.bed\n",
    "2. compare 5 groups using kr-w test\n",
    "3. If the overall test is significant (i.e., there are differences between groups), for k-r\n",
    "perform post-hoc tests to determine which specific pairs of groups are different.\n",
    "4. Plot the exp data for each group"
   ]
  },
  {
   "cell_type": "code",
   "execution_count": 19,
   "metadata": {},
   "outputs": [],
   "source": [
    "!sed -i 's/ /<TAB>/g' ../npb_feature_tracks/npb_sv_per_500bp.bedgraph"
   ]
  },
  {
   "cell_type": "code",
   "execution_count": 1,
   "metadata": {},
   "outputs": [
    {
     "name": "stderr",
     "output_type": "stream",
     "text": [
      "***** WARNING: File /state/partition1/job-46813626/pybedtools.yxg10eul.tmp has a record where naming convention (leading zero) is inconsistent with other files:\n",
      "chr10\t350000\t385000\n",
      "\n",
      "***** WARNING: File /state/partition1/job-46813626/pybedtools.yxg10eul.tmp has a record where naming convention (leading zero) is inconsistent with other files:\n",
      "chr10\t350000\t385000\n",
      "\n",
      "***** WARNING: File /state/partition1/job-46813626/pybedtools.67lxywqa.tmp has a record where naming convention (leading zero) is inconsistent with other files:\n",
      "chr10\t567500\t680000\n",
      "\n",
      "***** WARNING: File /state/partition1/job-46813626/pybedtools.67lxywqa.tmp has a record where naming convention (leading zero) is inconsistent with other files:\n",
      "chr10\t567500\t680000\n",
      "\n",
      "***** WARNING: File /state/partition1/job-46813626/pybedtools.vr8etgwo.tmp has a record where naming convention (leading zero) is inconsistent with other files:\n",
      "chr10\t14480000\t14555000\n",
      "\n",
      "***** WARNING: File /state/partition1/job-46813626/pybedtools.vr8etgwo.tmp has a record where naming convention (leading zero) is inconsistent with other files:\n",
      "chr10\t14480000\t14555000\n",
      "\n",
      "***** WARNING: File /state/partition1/job-46813626/pybedtools.epfse9tq.tmp has a record where naming convention (leading zero) is inconsistent with other files:\n",
      "chr10\t11190000\t11250000\n",
      "\n",
      "***** WARNING: File /state/partition1/job-46813626/pybedtools.epfse9tq.tmp has a record where naming convention (leading zero) is inconsistent with other files:\n",
      "chr10\t11190000\t11250000\n",
      "\n",
      "***** WARNING: File /state/partition1/job-46813626/pybedtools.olcgcvdo.tmp has a record where naming convention (leading zero) is inconsistent with other files:\n",
      "chr11\t19580000\t19630000\n",
      "\n",
      "***** WARNING: File /state/partition1/job-46813626/pybedtools.olcgcvdo.tmp has a record where naming convention (leading zero) is inconsistent with other files:\n",
      "chr11\t19580000\t19630000\n",
      "\n"
     ]
    }
   ],
   "source": [
    "#calculate mean gene coverage per tad per group\n",
    "import os\n",
    "os.chdir('/scratch/ak8725/comparative_TADs_boundaries_liftover_analysis/')\n",
    "\n",
    "import pybedtools\n",
    "\n",
    "# Process all five input files\n",
    "for x in range(1, 6):\n",
    "    # Define the paths to your input files\n",
    "    npb_tads_path = f\"NPB_TADs_{x}.bed\"\n",
    "    exp_data_path = \"../npb_feature_tracks/npb_genes_per_500bp.bedgraph\"\n",
    "\n",
    "    # Load the BED files into BedTool objects and exclude the 4th column\n",
    "    npb_tads = pybedtools.BedTool(npb_tads_path).cut(range(3))\n",
    "    exp_data = pybedtools.BedTool(exp_data_path)\n",
    "\n",
    "    # Use the .map method to calculate the mean expression per TAD\n",
    "    result = npb_tads.map(exp_data, c=4, o='mean')\n",
    "\n",
    "    # Create a list to store the results\n",
    "    results = []\n",
    "\n",
    "    # Iterate through the result and retrieve the mean expression per TAD\n",
    "    for interval in result:\n",
    "        chrom = interval.fields[0]\n",
    "        start = int(interval.fields[1])\n",
    "        end = int(interval.fields[2])\n",
    "        mean_expression = float(interval.fields[3]) if interval.fields[3] != \".\" else 0.0  # Handle missing values\n",
    "        results.append((chrom, start, end, mean_expression))\n",
    "\n",
    "    # Write the results to the te_x.bed file\n",
    "    output_file = f\"genes_{x}.bed\"\n",
    "    with open(output_file, \"w\") as f:\n",
    "        for result in results:\n",
    "            f.write(f\"{result[0]}\\t{result[1]}\\t{result[2]}\\t{result[3]}\\n\")"
   ]
  },
  {
   "cell_type": "code",
   "execution_count": 2,
   "metadata": {},
   "outputs": [
    {
     "name": "stdout",
     "output_type": "stream",
     "text": [
      "There is a significant difference between the groups (exp_x.bed files).\n",
      "P-value for genes_1 vs. genes_2: 0.0009\n",
      "P-value for genes_1 vs. genes_3: 0.0000\n",
      "P-value for genes_1 vs. genes_4: 0.0028\n",
      "P-value for genes_1 vs. genes_5: 0.0123\n",
      "P-value for genes_2 vs. genes_3: 0.0609\n",
      "P-value for genes_2 vs. genes_4: 0.2872\n",
      "P-value for genes_2 vs. genes_5: 0.1199\n",
      "P-value for genes_3 vs. genes_4: 0.7561\n",
      "P-value for genes_3 vs. genes_5: 0.3928\n",
      "P-value for genes_4 vs. genes_5: 0.3988\n",
      "Adjusted P-values and Significance Groups for Pairwise Comparisons:\n",
      "genes_1 vs. genes_3: Adjusted P-Value=0.0000, Significance Group=a\n",
      "genes_1 vs. genes_2: Adjusted P-Value=0.0043, Significance Group=a\n",
      "genes_1 vs. genes_4: Adjusted P-Value=0.0093, Significance Group=a\n",
      "genes_1 vs. genes_5: Adjusted P-Value=0.0307, Significance Group=a\n",
      "genes_2 vs. genes_2: Adjusted P-Value=0.1218, Significance Group=a\n",
      "genes_2 vs. genes_4: Adjusted P-Value=0.1998, Significance Group=b\n",
      "genes_2 vs. genes_3: Adjusted P-Value=0.4103, Significance Group=c\n",
      "genes_3 vs. genes_2: Adjusted P-Value=0.4431, Significance Group=d\n",
      "genes_3 vs. genes_3: Adjusted P-Value=0.4431, Significance Group=e\n",
      "genes_2 vs. genes_5: Adjusted P-Value=0.7561, Significance Group=f\n"
     ]
    }
   ],
   "source": [
    "import os\n",
    "os.chdir('/scratch/ak8725/comparative_TADs_boundaries_liftover_analysis/')\n",
    "\n",
    "import pandas as pd\n",
    "from scipy.stats import ranksums\n",
    "from scipy.stats import kruskal\n",
    "from statsmodels.stats.multitest import multipletests\n",
    "\n",
    "# Load the data from the snp_x.bed files into a DataFrame (one for each x)\n",
    "data = {}\n",
    "for x in range(1, 6):\n",
    "    filename = f\"genes_{x}.bed\"\n",
    "    df = pd.read_csv(filename, sep='\\t', header=None, names=[\"chr_tad\", \"start_tad\", \"end_tad\", \"mean_exp_per_tad\"])\n",
    "    data[f\"genes_{x}\"] = df[\"mean_exp_per_tad\"]\n",
    "\n",
    "# Perform Kruskal-Wallis test\n",
    "statistic, p_value = kruskal(data[\"genes_1\"], data[\"genes_2\"], data[\"genes_3\"], data[\"genes_4\"], data[\"genes_5\"])\n",
    "\n",
    "if p_value < 0.05:\n",
    "    print(\"There is a significant difference between the groups (exp_x.bed files).\")\n",
    "\n",
    "    # Perform Wilcoxon rank sum tests for all pairwise comparisons\n",
    "    p_values = []\n",
    "\n",
    "    for i in range(5):\n",
    "        for j in range(i + 1, 5):\n",
    "            group1_name = f\"genes_{i+1}\"\n",
    "            group2_name = f\"genes_{j+1}\"\n",
    "            group1 = data[group1_name]\n",
    "            group2 = data[group2_name]\n",
    "\n",
    "            # Perform the Wilcoxon rank sum test\n",
    "            stat, p = ranksums(group1, group2)\n",
    "            p_values.append(p)\n",
    "            print(f\"P-value for {group1_name} vs. {group2_name}: {p:.4f}\")\n",
    "\n",
    "    # Adjust p-values using the Benjamini-Hochberg procedure\n",
    "    adjusted_p_values = multipletests(p_values, method='fdr_bh')[1]\n",
    "\n",
    "    # Create significance groups based on the adjusted p-values\n",
    "    sorted_comparisons = sorted(list(zip(adjusted_p_values, range(len(adjusted_p_values)))))\n",
    "    significance_mapping = {}\n",
    "    current_group = 'a'\n",
    "    for (adjusted_p, idx) in sorted_comparisons:\n",
    "        comparison = f\"genes_{idx // 4 + 1} vs. genes_{idx % 4 + 2}\"\n",
    "        significance_mapping[comparison] = current_group\n",
    "        if adjusted_p >= 0.05:\n",
    "            current_group = chr(ord(current_group) + 1)\n",
    "\n",
    "    # Print adjusted p-values and significance groups for all pairwise comparisons\n",
    "    print(\"Adjusted P-values and Significance Groups for Pairwise Comparisons:\")\n",
    "    for (adjusted_p, idx) in sorted_comparisons:\n",
    "        comparison = f\"genes_{idx // 4 + 1} vs. genes_{idx % 4 + 2}\"\n",
    "        group1_name = f\"genes_{idx // 4 + 1}\"\n",
    "        group2_name = f\"genes_{idx % 4 + 2}\"\n",
    "        print(f\"{comparison}: Adjusted P-Value={adjusted_p:.4f}, Significance Group={significance_mapping[comparison]}\")"
   ]
  },
  {
   "cell_type": "code",
   "execution_count": 1,
   "metadata": {},
   "outputs": [
    {
     "data": {
      "image/png": "[encoded data removed]",
      "text/plain": [
       "<Figure size 1000x600 with 1 Axes>"
      ]
     },
     "metadata": {},
     "output_type": "display_data"
    }
   ],
   "source": [
    "#plot results\n",
    "import pandas as pd\n",
    "import matplotlib.pyplot as plt\n",
    "import seaborn as sns\n",
    "\n",
    "# Create a dictionary to map group names to significance groups\n",
    "significance_mapping = {\n",
    "    \"1\": \"a\",\n",
    "    \"2\": \"b\",\n",
    "    \"3\": \"b\",\n",
    "    \"4\": \"b\",\n",
    "    \"5\": \"b\"\n",
    "}\n",
    "\n",
    "# Load the data from your files\n",
    "data = {}\n",
    "for group in range(1, 6):\n",
    "    filename = f\"genes_{group}.bed\"\n",
    "    df = pd.read_csv(filename, sep='\\t', header=None, names=[\"chr\", \"start\", \"end\", \"mean_exp\"])\n",
    "    data[f\"{group}\"] = df[\"mean_exp\"]\n",
    "\n",
    "# Create a DataFrame with the loaded data\n",
    "df = pd.DataFrame(data)\n",
    "\n",
    "# Convert the DataFrame to long format for Seaborn\n",
    "df_long = df.melt(var_name='Group', value_name='Mean Expression')\n",
    "\n",
    "# Map groups to significance labels\n",
    "df_long['Significance'] = df_long['Group'].map(significance_mapping)\n",
    "\n",
    "# Create a list of group labels with significance groups\n",
    "group_labels = [f\"{group} ({significance_mapping[group]})\" for group in df.columns]\n",
    "\n",
    "# Define a custom color palette with shades of salmon\n",
    "colors = sns.color_palette(\"light:#FF6347\", 5)  # \"light:#FF6347\" gives desaturated red shades\n",
    "\n",
    "# Plot boxplots with seaborn\n",
    "plt.figure(figsize=(10, 6))\n",
    "\n",
    "# Create a boxplot\n",
    "ax = sns.boxplot(x='Group', y='Mean Expression', data=df_long, palette=colors, showfliers=False, medianprops=dict(color='black', linewidth=2.5))\n",
    "sns.despine(offset=5, trim=True)\n",
    "\n",
    "# Set the x-tick labels to include significance groups\n",
    "ax.set_xticklabels(group_labels)\n",
    "\n",
    "# Remove the grid lines\n",
    "ax.grid(False)\n",
    "# Remove the y-axis label\n",
    "ax.set_ylabel('')\n",
    "\n",
    "# Set the title\n",
    "plt.title(\"Gene density\", fontsize=14)\n",
    "\n",
    "# Save the plot to an image file\n",
    "plt.savefig(\"/scratch/ak8725/figs/figS8B-1.pdf\")\n",
    "\n",
    "# Display the plot\n",
    "plt.show()"
   ]
  },
  {
   "cell_type": "code",
   "execution_count": 1,
   "metadata": {},
   "outputs": [
    {
     "name": "stderr",
     "output_type": "stream",
     "text": [
      "***** WARNING: File /state/partition1/job-46813626/pybedtools.tgsr2h5v.tmp has a record where naming convention (leading zero) is inconsistent with other files:\n",
      "chr10\t350000\t385000\n",
      "\n",
      "***** WARNING: File /state/partition1/job-46813626/pybedtools.tgsr2h5v.tmp has a record where naming convention (leading zero) is inconsistent with other files:\n",
      "chr10\t350000\t385000\n",
      "\n",
      "***** WARNING: File /state/partition1/job-46813626/pybedtools.ua74mcxi.tmp has a record where naming convention (leading zero) is inconsistent with other files:\n",
      "chr10\t567500\t680000\n",
      "\n",
      "***** WARNING: File /state/partition1/job-46813626/pybedtools.ua74mcxi.tmp has a record where naming convention (leading zero) is inconsistent with other files:\n",
      "chr10\t567500\t680000\n",
      "\n",
      "***** WARNING: File /state/partition1/job-46813626/pybedtools.yfouzlmy.tmp has a record where naming convention (leading zero) is inconsistent with other files:\n",
      "chr10\t14480000\t14555000\n",
      "\n",
      "***** WARNING: File /state/partition1/job-46813626/pybedtools.yfouzlmy.tmp has a record where naming convention (leading zero) is inconsistent with other files:\n",
      "chr10\t14480000\t14555000\n",
      "\n",
      "***** WARNING: File /state/partition1/job-46813626/pybedtools.dxoc3ozb.tmp has a record where naming convention (leading zero) is inconsistent with other files:\n",
      "chr10\t11190000\t11250000\n",
      "\n",
      "***** WARNING: File /state/partition1/job-46813626/pybedtools.dxoc3ozb.tmp has a record where naming convention (leading zero) is inconsistent with other files:\n",
      "chr10\t11190000\t11250000\n",
      "\n",
      "***** WARNING: File /state/partition1/job-46813626/pybedtools.dwxnmghp.tmp has a record where naming convention (leading zero) is inconsistent with other files:\n",
      "chr11\t19580000\t19630000\n",
      "\n",
      "***** WARNING: File /state/partition1/job-46813626/pybedtools.dwxnmghp.tmp has a record where naming convention (leading zero) is inconsistent with other files:\n",
      "chr11\t19580000\t19630000\n",
      "\n"
     ]
    }
   ],
   "source": [
    "#calculate mean te coverage per tad per group\n",
    "import os\n",
    "os.chdir('/scratch/ak8725/comparative_TADs_boundaries_liftover_analysis/')\n",
    "\n",
    "import pybedtools\n",
    "\n",
    "# Process all five input files\n",
    "for x in range(1, 6):\n",
    "    # Define the paths to your input files\n",
    "    npb_tads_path = f\"NPB_TADs_{x}.bed\"\n",
    "    exp_data_path = \"../npb_feature_tracks/npb_te_per_500bp.bedgraph\"\n",
    "\n",
    "    # Load the BED files into BedTool objects and exclude the 4th column\n",
    "    npb_tads = pybedtools.BedTool(npb_tads_path).cut(range(3))\n",
    "    exp_data = pybedtools.BedTool(exp_data_path)\n",
    "\n",
    "    # Use the .map method to calculate the mean expression per TAD\n",
    "    result = npb_tads.map(exp_data, c=4, o='mean')\n",
    "\n",
    "    # Create a list to store the results\n",
    "    results = []\n",
    "\n",
    "    # Iterate through the result and retrieve the mean expression per TAD\n",
    "    for interval in result:\n",
    "        chrom = interval.fields[0]\n",
    "        start = int(interval.fields[1])\n",
    "        end = int(interval.fields[2])\n",
    "        mean_expression = float(interval.fields[3]) if interval.fields[3] != \".\" else 0.0  # Handle missing values\n",
    "        results.append((chrom, start, end, mean_expression))\n",
    "\n",
    "    # Write the results to the te_x.bed file\n",
    "    output_file = f\"te_{x}.bed\"\n",
    "    with open(output_file, \"w\") as f:\n",
    "        for result in results:\n",
    "            f.write(f\"{result[0]}\\t{result[1]}\\t{result[2]}\\t{result[3]}\\n\")"
   ]
  },
  {
   "cell_type": "code",
   "execution_count": 1,
   "metadata": {},
   "outputs": [
    {
     "name": "stdout",
     "output_type": "stream",
     "text": [
      "There is a significant difference between the groups (exp_x.bed files).\n",
      "P-value for te_1 vs. te_2: 0.0000\n",
      "P-value for te_1 vs. te_3: 0.0000\n",
      "P-value for te_1 vs. te_4: 0.0000\n",
      "P-value for te_1 vs. te_5: 0.0006\n",
      "P-value for te_2 vs. te_3: 0.0004\n",
      "P-value for te_2 vs. te_4: 0.0009\n",
      "P-value for te_2 vs. te_5: 0.0159\n",
      "P-value for te_3 vs. te_4: 0.7112\n",
      "P-value for te_3 vs. te_5: 0.2626\n",
      "P-value for te_4 vs. te_5: 0.3405\n",
      "Adjusted P-values and Significance Groups for Pairwise Comparisons:\n",
      "te_1 vs. te_3: Adjusted P-Value=0.0000, Significance Group=a\n",
      "te_1 vs. te_4: Adjusted P-Value=0.0000, Significance Group=a\n",
      "te_1 vs. te_2: Adjusted P-Value=0.0001, Significance Group=a\n",
      "te_2 vs. te_2: Adjusted P-Value=0.0009, Significance Group=a\n",
      "te_1 vs. te_5: Adjusted P-Value=0.0011, Significance Group=a\n",
      "te_2 vs. te_3: Adjusted P-Value=0.0015, Significance Group=a\n",
      "te_2 vs. te_4: Adjusted P-Value=0.0228, Significance Group=a\n",
      "te_3 vs. te_2: Adjusted P-Value=0.3282, Significance Group=a\n",
      "te_3 vs. te_3: Adjusted P-Value=0.3783, Significance Group=b\n",
      "te_2 vs. te_5: Adjusted P-Value=0.7112, Significance Group=c\n"
     ]
    }
   ],
   "source": [
    "import os\n",
    "os.chdir('/scratch/ak8725/comparative_TADs_boundaries_liftover_analysis/')\n",
    "\n",
    "import pandas as pd\n",
    "from scipy.stats import ranksums\n",
    "from scipy.stats import kruskal\n",
    "from statsmodels.stats.multitest import multipletests\n",
    "\n",
    "# Load the data from the snp_x.bed files into a DataFrame (one for each x)\n",
    "data = {}\n",
    "for x in range(1, 6):\n",
    "    filename = f\"te_{x}.bed\"\n",
    "    df = pd.read_csv(filename, sep='\\t', header=None, names=[\"chr_tad\", \"start_tad\", \"end_tad\", \"mean_exp_per_tad\"])\n",
    "    data[f\"te_{x}\"] = df[\"mean_exp_per_tad\"]\n",
    "\n",
    "# Perform Kruskal-Wallis test\n",
    "statistic, p_value = kruskal(data[\"te_1\"], data[\"te_2\"], data[\"te_3\"], data[\"te_4\"], data[\"te_5\"])\n",
    "\n",
    "if p_value < 0.05:\n",
    "    print(\"There is a significant difference between the groups (exp_x.bed files).\")\n",
    "\n",
    "    # Perform Wilcoxon rank sum tests for all pairwise comparisons\n",
    "    p_values = []\n",
    "\n",
    "    for i in range(5):\n",
    "        for j in range(i + 1, 5):\n",
    "            group1_name = f\"te_{i+1}\"\n",
    "            group2_name = f\"te_{j+1}\"\n",
    "            group1 = data[group1_name]\n",
    "            group2 = data[group2_name]\n",
    "\n",
    "            # Perform the Wilcoxon rank sum test\n",
    "            stat, p = ranksums(group1, group2)\n",
    "            p_values.append(p)\n",
    "            print(f\"P-value for {group1_name} vs. {group2_name}: {p:.4f}\")\n",
    "\n",
    "    # Adjust p-values using the Benjamini-Hochberg procedure\n",
    "    adjusted_p_values = multipletests(p_values, method='fdr_bh')[1]\n",
    "\n",
    "    # Create significance groups based on the adjusted p-values\n",
    "    sorted_comparisons = sorted(list(zip(adjusted_p_values, range(len(adjusted_p_values)))))\n",
    "    significance_mapping = {}\n",
    "    current_group = 'a'\n",
    "    for (adjusted_p, idx) in sorted_comparisons:\n",
    "        comparison = f\"te_{idx // 4 + 1} vs. te_{idx % 4 + 2}\"\n",
    "        significance_mapping[comparison] = current_group\n",
    "        if adjusted_p >= 0.05:\n",
    "            current_group = chr(ord(current_group) + 1)\n",
    "\n",
    "    # Print adjusted p-values and significance groups for all pairwise comparisons\n",
    "    print(\"Adjusted P-values and Significance Groups for Pairwise Comparisons:\")\n",
    "    for (adjusted_p, idx) in sorted_comparisons:\n",
    "        comparison = f\"te_{idx // 4 + 1} vs. te_{idx % 4 + 2}\"\n",
    "        group1_name = f\"te_{idx // 4 + 1}\"\n",
    "        group2_name = f\"te_{idx % 4 + 2}\"\n",
    "        print(f\"{comparison}: Adjusted P-Value={adjusted_p:.4f}, Significance Group={significance_mapping[comparison]}\")"
   ]
  },
  {
   "cell_type": "code",
   "execution_count": 3,
   "metadata": {},
   "outputs": [
    {
     "data": {
      "image/png": "[encoded data removed]",
      "text/plain": [
       "<Figure size 1000x600 with 1 Axes>"
      ]
     },
     "metadata": {},
     "output_type": "display_data"
    }
   ],
   "source": [
    "#plot results\n",
    "import pandas as pd\n",
    "import matplotlib.pyplot as plt\n",
    "import seaborn as sns\n",
    "\n",
    "# Create a dictionary to map group names to significance groups\n",
    "significance_mapping = {\n",
    "    \"1\": \"a\",\n",
    "    \"2\": \"b\",\n",
    "    \"3\": \"c\",\n",
    "    \"4\": \"c\",\n",
    "    \"5\": \"c\"\n",
    "}\n",
    "\n",
    "# Load the data from your files\n",
    "data = {}\n",
    "for group in range(1, 6):\n",
    "    filename = f\"te_{group}.bed\"\n",
    "    df = pd.read_csv(filename, sep='\\t', header=None, names=[\"chr\", \"start\", \"end\", \"mean_exp\"])\n",
    "    data[f\"{group}\"] = df[\"mean_exp\"]\n",
    "\n",
    "# Create a DataFrame with the loaded data\n",
    "df = pd.DataFrame(data)\n",
    "\n",
    "# Convert the DataFrame to long format for Seaborn\n",
    "df_long = df.melt(var_name='Group', value_name='Mean Expression')\n",
    "\n",
    "# Map groups to significance labels\n",
    "df_long['Significance'] = df_long['Group'].map(significance_mapping)\n",
    "\n",
    "# Create a list of group labels with significance groups\n",
    "group_labels = [f\"{group} ({significance_mapping[group]})\" for group in df.columns]\n",
    "\n",
    "# Define a custom color palette with shades of salmon\n",
    "colors = sns.color_palette(\"light:#FF6347\", 5)  # \"light:#FF6347\" gives desaturated red shades\n",
    "\n",
    "# Plot boxplots with seaborn\n",
    "plt.figure(figsize=(10, 6))\n",
    "\n",
    "# Create a boxplot\n",
    "ax = sns.boxplot(x='Group', y='Mean Expression', data=df_long, palette=colors, showfliers=False, medianprops=dict(color='black', linewidth=2.5))\n",
    "sns.despine(offset=5, trim=True)\n",
    "\n",
    "# Set the x-tick labels to include significance groups\n",
    "ax.set_xticklabels(group_labels)\n",
    "\n",
    "# Remove the grid lines\n",
    "ax.grid(False)\n",
    "# Remove the y-axis label\n",
    "ax.set_ylabel('')\n",
    "\n",
    "# Set the title\n",
    "plt.title(\"TE density\", fontsize=14)\n",
    "\n",
    "# Save the plot to an image file\n",
    "plt.savefig(\"/scratch/ak8725/figs/fig8B-2.pdf\")\n",
    "\n",
    "# Display the plot\n",
    "plt.show()"
   ]
  },
  {
   "cell_type": "code",
   "execution_count": 13,
   "metadata": {
    "collapsed": true,
    "jupyter": {
     "outputs_hidden": true
    }
   },
   "outputs": [
    {
     "name": "stdout",
     "output_type": "stream",
     "text": [
      "Total number of NLR genes that intersect with NPB_TADs_1.bed: 17\n",
      "Total number of NLR genes that intersect with NPB_TADs_2.bed: 20\n",
      "Total number of NLR genes that intersect with NPB_TADs_3.bed: 6\n",
      "Total number of NLR genes that intersect with NPB_TADs_4.bed: 7\n",
      "Total number of NLR genes that intersect with NPB_TADs_5.bed: 2\n"
     ]
    },
    {
     "name": "stderr",
     "output_type": "stream",
     "text": [
      "***** WARNING: File ../annotations/domestication_genes.bed has a record where naming convention (leading zero) is inconsistent with other files:\n",
      "chr10\t13512627\t13516105\n",
      "\n",
      "***** WARNING: File ../annotations/domestication_genes.bed has a record where naming convention (leading zero) is inconsistent with other files:\n",
      "chr10\t13512627\t13516105\n",
      "\n",
      "***** WARNING: File ../annotations/domestication_genes.bed has a record where naming convention (leading zero) is inconsistent with other files:\n",
      "chr10\t13512627\t13516105\n",
      "\n",
      "***** WARNING: File ../annotations/domestication_genes.bed has a record where naming convention (leading zero) is inconsistent with other files:\n",
      "chr10\t13512627\t13516105\n",
      "\n",
      "***** WARNING: File ../annotations/domestication_genes.bed has a record where naming convention (leading zero) is inconsistent with other files:\n",
      "chr10\t13512627\t13516105\n",
      "\n",
      "***** WARNING: File ../annotations/domestication_genes.bed has a record where naming convention (leading zero) is inconsistent with other files:\n",
      "chr10\t13512627\t13516105\n",
      "\n",
      "***** WARNING: File ../annotations/domestication_genes.bed has a record where naming convention (leading zero) is inconsistent with other files:\n",
      "chr10\t13512627\t13516105\n",
      "\n",
      "***** WARNING: File ../annotations/domestication_genes.bed has a record where naming convention (leading zero) is inconsistent with other files:\n",
      "chr10\t13512627\t13516105\n",
      "\n",
      "***** WARNING: File ../annotations/domestication_genes.bed has a record where naming convention (leading zero) is inconsistent with other files:\n",
      "chr10\t13512627\t13516105\n",
      "\n",
      "***** WARNING: File ../annotations/domestication_genes.bed has a record where naming convention (leading zero) is inconsistent with other files:\n",
      "chr10\t13512627\t13516105\n",
      "\n"
     ]
    }
   ],
   "source": [
    "import pybedtools\n",
    "\n",
    "# Load the BED files\n",
    "npb_tads1 = pybedtools.BedTool(\"NPB_TADs_1.bed\")\n",
    "npb_tads2 = pybedtools.BedTool(\"NPB_TADs_2.bed\")\n",
    "npb_tads3 = pybedtools.BedTool(\"NPB_TADs_3.bed\")\n",
    "npb_tads4 = pybedtools.BedTool(\"NPB_TADs_4.bed\")\n",
    "npb_tads5 = pybedtools.BedTool(\"NPB_TADs_5.bed\")\n",
    "nlr_genes = pybedtools.BedTool(\"../annotations/domestication_genes.bed\")\n",
    "\n",
    "# Use the intersect method at the BedTool level to find overlaps\n",
    "# The \"c\" option will count the number of hits from B in each interval from A\n",
    "overlap1 = npb_tads1.intersect(nlr_genes, c=True)\n",
    "overlap2 = npb_tads2.intersect(nlr_genes, c=True)\n",
    "overlap3 = npb_tads3.intersect(nlr_genes, c=True)\n",
    "overlap4 = npb_tads4.intersect(nlr_genes, c=True)\n",
    "overlap5 = npb_tads5.intersect(nlr_genes, c=True)\n",
    "\n",
    "# Calculate the total number of overlapping NLR genes\n",
    "total_overlap_count1 = sum(int(interval[-1]) for interval in overlap1)\n",
    "total_overlap_count2 = sum(int(interval[-1]) for interval in overlap2)\n",
    "total_overlap_count3 = sum(int(interval[-1]) for interval in overlap3)\n",
    "total_overlap_count4 = sum(int(interval[-1]) for interval in overlap4)\n",
    "total_overlap_count5 = sum(int(interval[-1]) for interval in overlap5)\n",
    "\n",
    "# Print the result\n",
    "print(f\"Total number of NLR genes that intersect with NPB_TADs_1.bed: {total_overlap_count1}\")\n",
    "print(f\"Total number of NLR genes that intersect with NPB_TADs_2.bed: {total_overlap_count2}\")\n",
    "print(f\"Total number of NLR genes that intersect with NPB_TADs_3.bed: {total_overlap_count3}\")\n",
    "print(f\"Total number of NLR genes that intersect with NPB_TADs_4.bed: {total_overlap_count4}\")\n",
    "print(f\"Total number of NLR genes that intersect with NPB_TADs_5.bed: {total_overlap_count5}\")"
   ]
  },
  {
   "cell_type": "markdown",
   "metadata": {},
   "source": [
    "## Domestication genes\n",
    "From https://doi.org/10.1038/s41477-023-01476-z (Nat Plants 2023)"
   ]
  },
  {
   "cell_type": "code",
   "execution_count": null,
   "metadata": {},
   "outputs": [],
   "source": [
    "Supplementary Table 15. List of 192 domestication relevant genes in rice. \n",
    "These genes were determined based on (i) they have been identified in rice with their functions \n",
    "being characterized and (ii) they belong to the PSGs (i.e., the genes that exhibited signature of \n",
    "selection in both japonica and indica) identified in this study."
   ]
  },
  {
   "cell_type": "code",
   "execution_count": null,
   "metadata": {},
   "outputs": [],
   "source": [
    "From Kou et al., 2020\n",
    "Finally, given the consensus that domestication genes were introgressed into indica from japonica \n",
    "(Choi and Purugganan 2018a), a previous study remarked that domestication genes \n",
    "should be enriched in regions of low divergence between the two cultivars (Huang et al. 2012)."
   ]
  },
  {
   "cell_type": "markdown",
   "metadata": {},
   "source": [
    "## Extract specific/not-specific TADs (for Sonia's project)"
   ]
  },
  {
   "cell_type": "code",
   "execution_count": null,
   "metadata": {},
   "outputs": [],
   "source": [
    "NPB_TADs_2.bed = japonica TADs (NPB+az)"
   ]
  },
  {
   "cell_type": "code",
   "execution_count": 20,
   "metadata": {},
   "outputs": [
    {
     "name": "stdout",
     "output_type": "stream",
     "text": [
      "Operation complete. Result saved to not_japonica_tads.bed\n"
     ]
    },
    {
     "name": "stderr",
     "output_type": "stream",
     "text": [
      "***** WARNING: File japonica_tads.bed has a record where naming convention (leading zero) is inconsistent with other files:\n",
      "chr10\t567500\t680000\n",
      "\n",
      "***** WARNING: File japonica_tads.bed has a record where naming convention (leading zero) is inconsistent with other files:\n",
      "chr10\t567500\t680000\n",
      "\n"
     ]
    }
   ],
   "source": [
    "from pybedtools import BedTool\n",
    "\n",
    "def subtract_bed_files(input_bed, subtract_bed, output_bed):\n",
    "    # Load BED files\n",
    "    input_bedtool = BedTool(input_bed)\n",
    "    subtract_bedtool = BedTool(subtract_bed)\n",
    "\n",
    "    # Perform subtraction\n",
    "    result_bedtool = input_bedtool.subtract(subtract_bedtool)\n",
    "\n",
    "    # Save the result to a new file\n",
    "    result_bedtool.saveas(output_bed)\n",
    "\n",
    "if __name__ == \"__main__\":\n",
    "    # Specify input and output file paths\n",
    "    input_bed_file = \"NPB_TADs.bed\"\n",
    "    subtract_bed_file = \"japonica_tads.bed\"\n",
    "    output_bed_file = \"not_japonica_tads.bed\"\n",
    "\n",
    "    # Perform the subtraction\n",
    "    subtract_bed_files(input_bed_file, subtract_bed_file, output_bed_file)\n",
    "\n",
    "    print(f\"Operation complete. Result saved to {output_bed_file}\")"
   ]
  }
 ],
 "metadata": {
  "kernelspec": {
   "display_name": "Python 3 (ipykernel)",
   "language": "python",
   "name": "python3"
  },
  "language_info": {
   "codemirror_mode": {
    "name": "ipython",
    "version": 3
   },
   "file_extension": ".py",
   "mimetype": "text/x-python",
   "name": "python",
   "nbconvert_exporter": "python",
   "pygments_lexer": "ipython3",
   "version": "3.11.7"
  }
 },
 "nbformat": 4,
 "nbformat_minor": 4
}
